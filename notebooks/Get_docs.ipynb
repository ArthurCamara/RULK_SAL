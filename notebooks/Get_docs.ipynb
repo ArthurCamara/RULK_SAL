{
 "cells": [
  {
   "cell_type": "code",
   "execution_count": 30,
   "id": "4c640223-d73e-4802-b491-962bcc02eb21",
   "metadata": {},
   "outputs": [],
   "source": [
    "import json\n",
    "import urllib.parse\n",
    "from pprint import pprint\n",
    "\n",
    "import redis\n",
    "from tqdm.auto import tqdm\n",
    "from collections import defaultdict\n",
    "\n",
    "db = redis.Redis(host=\"localhost\", port=6379, db=1)"
   ]
  },
  {
   "cell_type": "code",
   "execution_count": 2,
   "id": "36bb5535-3449-4669-b4db-8c09845697bc",
   "metadata": {},
   "outputs": [],
   "source": [
    "dataset = json.load(open(\"../data/logs_with_position.json\"))"
   ]
  },
  {
   "cell_type": "code",
   "execution_count": 33,
   "id": "c6144d36-e29e-4be5-9e1c-b7d961423298",
   "metadata": {
    "tags": []
   },
   "outputs": [
    {
     "data": {
      "application/vnd.jupyter.widget-view+json": {
       "model_id": "4ef15a38a55540e99b523c2e8af85192",
       "version_major": 2,
       "version_minor": 0
      },
      "text/plain": [
       "  0%|          | 0/127 [00:00<?, ?it/s]"
      ]
     },
     "metadata": {},
     "output_type": "display_data"
    }
   ],
   "source": [
    "all_docs = {}\n",
    "missing_docs = set()\n",
    "for u in tqdm(dataset):\n",
    "    for x in u[\"clicks\"]:\n",
    "\n",
    "        url = x[\"url\"]\n",
    "        if url in all_docs or url in missing_docs:\n",
    "            continue\n",
    "        if not db.exists(url):\n",
    "            missing_docs.add(url)\n",
    "            continue\n",
    "        doc_text = db.get(url)\n",
    "\n",
    "        all_docs[url] = doc_text"
   ]
  },
  {
   "cell_type": "code",
   "execution_count": 6,
   "id": "5d38950a-744c-4165-bbdb-75d7a6228cf3",
   "metadata": {},
   "outputs": [],
   "source": [
    "with open(\"../data/missing_docs.txt\", \"w\") as outf:\n",
    "    for u in missing_docs:\n",
    "        outf.write(f\"{u}\\n\")\n",
    "\n",
    "with open(\"../data/clicked_docs.tsv\", \"w\") as outf:\n",
    "    for (k, v) in tqdm(all_docs.items()):\n",
    "        text = v.decode()\n",
    "        clean_text = text.replace(\"[SEPREDIS]\", \" \").replace(\"\\n\", \" \").replace(\"\\t\", \" \")\n",
    "        outf.write(f\"{k}\\t{clean_text}\\n\")"
   ]
  },
  {
   "cell_type": "code",
   "execution_count": 22,
   "id": "c820e0fb-f0cb-4afa-bfd4-19f723909514",
   "metadata": {},
   "outputs": [
    {
     "data": {
      "application/vnd.jupyter.widget-view+json": {
       "model_id": "cd32924eb7664fbe8c45f5757234e428",
       "version_major": 2,
       "version_minor": 0
      },
      "text/plain": [
       "  0%|          | 0/1081 [00:00<?, ?it/s]"
      ]
     },
     "metadata": {},
     "output_type": "display_data"
    }
   ],
   "source": [
    "with open(\"../data/clicked_docs.tsv\", \"w\") as outf:\n",
    "    for (k, v) in tqdm(all_docs.items()):\n",
    "        text = v.decode()\n",
    "        clean_text = text.replace(\"[SEPREDIS]\", \" \").replace(\"\\n\", \" \").replace(\"\\t\", \" \")\n",
    "        outf.write(f\"{k}\\t{clean_text}\\n\")"
   ]
  },
  {
   "cell_type": "code",
   "execution_count": 74,
   "id": "f527b762-1830-4b24-86f6-5e6a3688725b",
   "metadata": {},
   "outputs": [],
   "source": [
    "topic_texts = {urllib.parse.quote(x[\"topic_title\"]): [] for x in dataset}\n",
    "\n",
    "for line in open(\"../data/all_paragraphs.tsv\"):\n",
    "    title, text = line.strip().split(\"\\t\", maxsplit=1)\n",
    "    topic = title.split(\"/\")[0]\n",
    "    if topic not in topic_texts.keys():\n",
    "        continue\n",
    "    topic_texts[topic].append(text)"
   ]
  },
  {
   "cell_type": "code",
   "execution_count": 80,
   "id": "05b14bac-c862-458a-a44b-b0afd4fa8396",
   "metadata": {},
   "outputs": [],
   "source": [
    "with open(\"../data/wikipedia_texts.tsv\", 'w') as outf:\n",
    "    for k, v in topic_texts.items():\n",
    "        text = \" \".join(v)\n",
    "        outf.write(f\"{k}\\t{text}\")\n"
   ]
  },
  {
   "cell_type": "code",
   "execution_count": 75,
   "id": "d2ff0bd2-4a65-4700-816c-0b56ea5ad8b3",
   "metadata": {},
   "outputs": [
    {
     "data": {
      "text/plain": [
       "[17, 10, 12, 3, 36, 10, 11]"
      ]
     },
     "execution_count": 75,
     "metadata": {},
     "output_type": "execute_result"
    }
   ],
   "source": [
    "[len(x) for x in topic_texts.values()]"
   ]
  }
 ],
 "metadata": {
  "kernelspec": {
   "display_name": "DESIRES",
   "language": "python",
   "name": "desires"
  },
  "language_info": {
   "codemirror_mode": {
    "name": "ipython",
    "version": 3
   },
   "file_extension": ".py",
   "mimetype": "text/x-python",
   "name": "python",
   "nbconvert_exporter": "python",
   "pygments_lexer": "ipython3",
   "version": "3.9.5"
  },
  "widgets": {
   "application/vnd.jupyter.widget-state+json": {
    "state": {
     "05fec2be1ff149aaa71e1f8ec4baadfb": {
      "model_module": "@jupyter-widgets/base",
      "model_module_version": "1.2.0",
      "model_name": "LayoutModel",
      "state": {}
     },
     "19538df4da944047b16fc18c50760c54": {
      "model_module": "@jupyter-widgets/controls",
      "model_module_version": "1.5.0",
      "model_name": "ProgressStyleModel",
      "state": {
       "description_width": ""
      }
     },
     "22fe80f0ee9345b9bb35582d5d616c4f": {
      "model_module": "@jupyter-widgets/controls",
      "model_module_version": "1.5.0",
      "model_name": "DescriptionStyleModel",
      "state": {
       "description_width": ""
      }
     },
     "235654a98aaa44cfba6569b4c31127bd": {
      "model_module": "@jupyter-widgets/controls",
      "model_module_version": "1.5.0",
      "model_name": "DescriptionStyleModel",
      "state": {
       "description_width": ""
      }
     },
     "2aa4a17055f840cba288540c4df24e6d": {
      "model_module": "@jupyter-widgets/base",
      "model_module_version": "1.2.0",
      "model_name": "LayoutModel",
      "state": {}
     },
     "363250528c5b496d979644364409cb24": {
      "model_module": "@jupyter-widgets/controls",
      "model_module_version": "1.5.0",
      "model_name": "DescriptionStyleModel",
      "state": {
       "description_width": ""
      }
     },
     "3e6ce9ad6dd54e5aa86d9db2e274aaa6": {
      "model_module": "@jupyter-widgets/controls",
      "model_module_version": "1.5.0",
      "model_name": "ProgressStyleModel",
      "state": {
       "description_width": ""
      }
     },
     "4ef15a38a55540e99b523c2e8af85192": {
      "model_module": "@jupyter-widgets/controls",
      "model_module_version": "1.5.0",
      "model_name": "HBoxModel",
      "state": {
       "children": [
        "IPY_MODEL_6e3eea80481146d98c8689bc3afcfb78",
        "IPY_MODEL_e8b58c76893c4732aec3e405130eb50d",
        "IPY_MODEL_a973f9381abc43ab8b123ea03a99dd52"
       ],
       "layout": "IPY_MODEL_dfdbbe8a1b3348eea49ffe3de18f0518"
      }
     },
     "4f67361ba5aa4cc68575d2ab87b52d62": {
      "model_module": "@jupyter-widgets/controls",
      "model_module_version": "1.5.0",
      "model_name": "HTMLModel",
      "state": {
       "layout": "IPY_MODEL_05fec2be1ff149aaa71e1f8ec4baadfb",
       "style": "IPY_MODEL_78941b4160d84ef2a8e577b820f71082",
       "value": " 127/127 [00:33&lt;00:00,  4.80it/s]"
      }
     },
     "4face05438414b9cb0aa4f7081897bfb": {
      "model_module": "@jupyter-widgets/controls",
      "model_module_version": "1.5.0",
      "model_name": "FloatProgressModel",
      "state": {
       "bar_style": "success",
       "layout": "IPY_MODEL_d5dc5ba8d66f48c5bba9edc6f01ba36f",
       "max": 127,
       "style": "IPY_MODEL_8c774ad43ecc4a28b316ab3f0aed49c6",
       "value": 127
      }
     },
     "52d5ff9f677b43549840af76c4a95394": {
      "model_module": "@jupyter-widgets/controls",
      "model_module_version": "1.5.0",
      "model_name": "DescriptionStyleModel",
      "state": {
       "description_width": ""
      }
     },
     "595c40dde2ea4172beb3b2aa285ee1d7": {
      "model_module": "@jupyter-widgets/controls",
      "model_module_version": "1.5.0",
      "model_name": "HTMLModel",
      "state": {
       "layout": "IPY_MODEL_b5e396aea73747ec863b5e1b1c53bcc5",
       "style": "IPY_MODEL_e15ef42e47a2434aa849189a8cbf325b",
       "value": "100%"
      }
     },
     "5cae225d65644190a08d97487e00cd6d": {
      "model_module": "@jupyter-widgets/base",
      "model_module_version": "1.2.0",
      "model_name": "LayoutModel",
      "state": {}
     },
     "61ffe9ab255248878e9ac7b1a446f546": {
      "model_module": "@jupyter-widgets/controls",
      "model_module_version": "1.5.0",
      "model_name": "FloatProgressModel",
      "state": {
       "bar_style": "success",
       "layout": "IPY_MODEL_8ba11417c2e84417b69706af9976e147",
       "max": 1081,
       "style": "IPY_MODEL_19538df4da944047b16fc18c50760c54",
       "value": 1081
      }
     },
     "683ee6ec14b4496591fe9371a412c112": {
      "model_module": "@jupyter-widgets/base",
      "model_module_version": "1.2.0",
      "model_name": "LayoutModel",
      "state": {}
     },
     "6e3eea80481146d98c8689bc3afcfb78": {
      "model_module": "@jupyter-widgets/controls",
      "model_module_version": "1.5.0",
      "model_name": "HTMLModel",
      "state": {
       "layout": "IPY_MODEL_5cae225d65644190a08d97487e00cd6d",
       "style": "IPY_MODEL_22fe80f0ee9345b9bb35582d5d616c4f",
       "value": "100%"
      }
     },
     "78941b4160d84ef2a8e577b820f71082": {
      "model_module": "@jupyter-widgets/controls",
      "model_module_version": "1.5.0",
      "model_name": "DescriptionStyleModel",
      "state": {
       "description_width": ""
      }
     },
     "79c4f8915e354a7cb9beb2a8fe853fab": {
      "model_module": "@jupyter-widgets/base",
      "model_module_version": "1.2.0",
      "model_name": "LayoutModel",
      "state": {}
     },
     "7cf9b7e8456244f4913cffeb3618321f": {
      "model_module": "@jupyter-widgets/controls",
      "model_module_version": "1.5.0",
      "model_name": "HBoxModel",
      "state": {
       "children": [
        "IPY_MODEL_595c40dde2ea4172beb3b2aa285ee1d7",
        "IPY_MODEL_4face05438414b9cb0aa4f7081897bfb",
        "IPY_MODEL_4f67361ba5aa4cc68575d2ab87b52d62"
       ],
       "layout": "IPY_MODEL_79c4f8915e354a7cb9beb2a8fe853fab"
      }
     },
     "8ba11417c2e84417b69706af9976e147": {
      "model_module": "@jupyter-widgets/base",
      "model_module_version": "1.2.0",
      "model_name": "LayoutModel",
      "state": {}
     },
     "8c774ad43ecc4a28b316ab3f0aed49c6": {
      "model_module": "@jupyter-widgets/controls",
      "model_module_version": "1.5.0",
      "model_name": "ProgressStyleModel",
      "state": {
       "description_width": ""
      }
     },
     "a49d87a3afe447f4a9328cf8b0af17ad": {
      "model_module": "@jupyter-widgets/base",
      "model_module_version": "1.2.0",
      "model_name": "LayoutModel",
      "state": {}
     },
     "a973f9381abc43ab8b123ea03a99dd52": {
      "model_module": "@jupyter-widgets/controls",
      "model_module_version": "1.5.0",
      "model_name": "HTMLModel",
      "state": {
       "layout": "IPY_MODEL_e2827f1f9e2344149f6f041a34a0a76d",
       "style": "IPY_MODEL_363250528c5b496d979644364409cb24",
       "value": " 127/127 [00:38&lt;00:00,  4.53it/s]"
      }
     },
     "afaa66205e094e94aff8f5bff16b879e": {
      "model_module": "@jupyter-widgets/controls",
      "model_module_version": "1.5.0",
      "model_name": "HTMLModel",
      "state": {
       "layout": "IPY_MODEL_a49d87a3afe447f4a9328cf8b0af17ad",
       "style": "IPY_MODEL_235654a98aaa44cfba6569b4c31127bd",
       "value": " 1081/1081 [00:00&lt;00:00, 34335.02it/s]"
      }
     },
     "b5e396aea73747ec863b5e1b1c53bcc5": {
      "model_module": "@jupyter-widgets/base",
      "model_module_version": "1.2.0",
      "model_name": "LayoutModel",
      "state": {}
     },
     "bf8371dee81b4447bc77cbf7a9ed042f": {
      "model_module": "@jupyter-widgets/base",
      "model_module_version": "1.2.0",
      "model_name": "LayoutModel",
      "state": {}
     },
     "cd32924eb7664fbe8c45f5757234e428": {
      "model_module": "@jupyter-widgets/controls",
      "model_module_version": "1.5.0",
      "model_name": "HBoxModel",
      "state": {
       "children": [
        "IPY_MODEL_f7b645167cde4d2da10b99e5c29e7ceb",
        "IPY_MODEL_61ffe9ab255248878e9ac7b1a446f546",
        "IPY_MODEL_afaa66205e094e94aff8f5bff16b879e"
       ],
       "layout": "IPY_MODEL_2aa4a17055f840cba288540c4df24e6d"
      }
     },
     "d5dc5ba8d66f48c5bba9edc6f01ba36f": {
      "model_module": "@jupyter-widgets/base",
      "model_module_version": "1.2.0",
      "model_name": "LayoutModel",
      "state": {}
     },
     "dfdbbe8a1b3348eea49ffe3de18f0518": {
      "model_module": "@jupyter-widgets/base",
      "model_module_version": "1.2.0",
      "model_name": "LayoutModel",
      "state": {}
     },
     "e15ef42e47a2434aa849189a8cbf325b": {
      "model_module": "@jupyter-widgets/controls",
      "model_module_version": "1.5.0",
      "model_name": "DescriptionStyleModel",
      "state": {
       "description_width": ""
      }
     },
     "e2827f1f9e2344149f6f041a34a0a76d": {
      "model_module": "@jupyter-widgets/base",
      "model_module_version": "1.2.0",
      "model_name": "LayoutModel",
      "state": {}
     },
     "e8b58c76893c4732aec3e405130eb50d": {
      "model_module": "@jupyter-widgets/controls",
      "model_module_version": "1.5.0",
      "model_name": "FloatProgressModel",
      "state": {
       "bar_style": "success",
       "layout": "IPY_MODEL_683ee6ec14b4496591fe9371a412c112",
       "max": 127,
       "style": "IPY_MODEL_3e6ce9ad6dd54e5aa86d9db2e274aaa6",
       "value": 127
      }
     },
     "f7b645167cde4d2da10b99e5c29e7ceb": {
      "model_module": "@jupyter-widgets/controls",
      "model_module_version": "1.5.0",
      "model_name": "HTMLModel",
      "state": {
       "layout": "IPY_MODEL_bf8371dee81b4447bc77cbf7a9ed042f",
       "style": "IPY_MODEL_52d5ff9f677b43549840af76c4a95394",
       "value": "100%"
      }
     }
    },
    "version_major": 2,
    "version_minor": 0
   }
  }
 },
 "nbformat": 4,
 "nbformat_minor": 5
}
