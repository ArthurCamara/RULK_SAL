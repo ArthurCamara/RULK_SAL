{
 "cells": [
  {
   "cell_type": "code",
   "execution_count": 2,
   "id": "4c640223-d73e-4802-b491-962bcc02eb21",
   "metadata": {},
   "outputs": [],
   "source": [
    "import json\n",
    "import urllib.parse\n",
    "from pprint import pprint\n",
    "\n",
    "import redis\n",
    "from tqdm.auto import tqdm\n",
    "from collections import defaultdict\n",
    "\n",
    "db = redis.Redis(host=\"localhost\", port=6379, db=1)"
   ]
  },
  {
   "cell_type": "code",
   "execution_count": 3,
   "id": "36bb5535-3449-4669-b4db-8c09845697bc",
   "metadata": {},
   "outputs": [],
   "source": [
    "dataset = json.load(open(\"../data/logs_with_position.json\"))"
   ]
  },
  {
   "cell_type": "code",
   "execution_count": 33,
   "id": "c6144d36-e29e-4be5-9e1c-b7d961423298",
   "metadata": {
    "tags": []
   },
   "outputs": [
    {
     "data": {
      "application/vnd.jupyter.widget-view+json": {
       "model_id": "4ef15a38a55540e99b523c2e8af85192",
       "version_major": 2,
       "version_minor": 0
      },
      "text/plain": [
       "  0%|          | 0/127 [00:00<?, ?it/s]"
      ]
     },
     "metadata": {},
     "output_type": "display_data"
    }
   ],
   "source": [
    "all_docs = {}\n",
    "missing_docs = set()\n",
    "for u in tqdm(dataset):\n",
    "    for x in u[\"clicks\"]:\n",
    "\n",
    "        url = x[\"url\"]\n",
    "        if url in all_docs or url in missing_docs:\n",
    "            continue\n",
    "        if not db.exists(url):\n",
    "            missing_docs.add(url)\n",
    "            continue\n",
    "        doc_text = db.get(url)\n",
    "\n",
    "        all_docs[url] = doc_text"
   ]
  },
  {
   "cell_type": "code",
   "execution_count": 6,
   "id": "5d38950a-744c-4165-bbdb-75d7a6228cf3",
   "metadata": {},
   "outputs": [],
   "source": [
    "with open(\"../data/missing_docs.txt\", \"w\") as outf:\n",
    "    for u in missing_docs:\n",
    "        outf.write(f\"{u}\\n\")\n",
    "\n",
    "with open(\"../data/clicked_docs.tsv\", \"w\") as outf:\n",
    "    for (k, v) in tqdm(all_docs.items()):\n",
    "        text = v.decode()\n",
    "        clean_text = text.replace(\"[SEPREDIS]\", \" \").replace(\"\\n\", \" \").replace(\"\\t\", \" \")\n",
    "        outf.write(f\"{k}\\t{clean_text}\\n\")"
   ]
  },
  {
   "cell_type": "code",
   "execution_count": 22,
   "id": "c820e0fb-f0cb-4afa-bfd4-19f723909514",
   "metadata": {},
   "outputs": [
    {
     "data": {
      "application/vnd.jupyter.widget-view+json": {
       "model_id": "cd32924eb7664fbe8c45f5757234e428",
       "version_major": 2,
       "version_minor": 0
      },
      "text/plain": [
       "  0%|          | 0/1081 [00:00<?, ?it/s]"
      ]
     },
     "metadata": {},
     "output_type": "display_data"
    }
   ],
   "source": [
    "with open(\"../data/clicked_docs.tsv\", \"w\") as outf:\n",
    "    for (k, v) in tqdm(all_docs.items()):\n",
    "        text = v.decode()\n",
    "        clean_text = text.replace(\"[SEPREDIS]\", \" \").replace(\"\\n\", \" \").replace(\"\\t\", \" \")\n",
    "        outf.write(f\"{k}\\t{clean_text}\\n\")"
   ]
  },
  {
   "cell_type": "code",
   "execution_count": 74,
   "id": "f527b762-1830-4b24-86f6-5e6a3688725b",
   "metadata": {},
   "outputs": [],
   "source": [
    "topic_texts = {urllib.parse.quote(x[\"topic_title\"]): [] for x in dataset}\n",
    "\n",
    "for line in open(\"../data/all_paragraphs.tsv\"):\n",
    "    title, text = line.strip().split(\"\\t\", maxsplit=1)\n",
    "    topic = title.split(\"/\")[0]\n",
    "    if topic not in topic_texts.keys():\n",
    "        continue\n",
    "    topic_texts[topic].append(text)"
   ]
  },
  {
   "cell_type": "code",
   "execution_count": 1,
   "id": "05b14bac-c862-458a-a44b-b0afd4fa8396",
   "metadata": {},
   "outputs": [
    {
     "ename": "NameError",
     "evalue": "name 'topic_texts' is not defined",
     "output_type": "error",
     "traceback": [
      "\u001b[0;31m---------------------------------------------------------------------------\u001b[0m",
      "\u001b[0;31mNameError\u001b[0m                                 Traceback (most recent call last)",
      "Input \u001b[0;32mIn [1]\u001b[0m, in \u001b[0;36m<cell line: 1>\u001b[0;34m()\u001b[0m\n\u001b[1;32m      1\u001b[0m \u001b[38;5;28;01mwith\u001b[39;00m \u001b[38;5;28mopen\u001b[39m(\u001b[38;5;124m\"\u001b[39m\u001b[38;5;124m../data/wikipedia_texts.tsv\u001b[39m\u001b[38;5;124m\"\u001b[39m, \u001b[38;5;124m\"\u001b[39m\u001b[38;5;124mw\u001b[39m\u001b[38;5;124m\"\u001b[39m) \u001b[38;5;28;01mas\u001b[39;00m outf:\n\u001b[0;32m----> 2\u001b[0m     \u001b[38;5;28;01mfor\u001b[39;00m k, v \u001b[38;5;129;01min\u001b[39;00m \u001b[43mtopic_texts\u001b[49m\u001b[38;5;241m.\u001b[39mitems():\n\u001b[1;32m      3\u001b[0m         text \u001b[38;5;241m=\u001b[39m \u001b[38;5;124m\"\u001b[39m\u001b[38;5;124m \u001b[39m\u001b[38;5;124m\"\u001b[39m\u001b[38;5;241m.\u001b[39mjoin(v)\n\u001b[1;32m      4\u001b[0m         outf\u001b[38;5;241m.\u001b[39mwrite(\u001b[38;5;124mf\u001b[39m\u001b[38;5;124m\"\u001b[39m\u001b[38;5;132;01m{\u001b[39;00mk\u001b[38;5;132;01m}\u001b[39;00m\u001b[38;5;130;01m\\t\u001b[39;00m\u001b[38;5;132;01m{\u001b[39;00mtext\u001b[38;5;132;01m}\u001b[39;00m\u001b[38;5;130;01m\\n\u001b[39;00m\u001b[38;5;124m\"\u001b[39m)\n",
      "\u001b[0;31mNameError\u001b[0m: name 'topic_texts' is not defined"
     ]
    }
   ],
   "source": [
    "with open(\"../data/wikipedia_texts.tsv\", \"w\") as outf:\n",
    "    for k, v in topic_texts.items():\n",
    "        text = \" \".join(v)\n",
    "        outf.write(f\"{k}\\t{text}\\n\")"
   ]
  },
  {
   "cell_type": "code",
   "execution_count": 75,
   "id": "d2ff0bd2-4a65-4700-816c-0b56ea5ad8b3",
   "metadata": {},
   "outputs": [
    {
     "data": {
      "text/plain": [
       "[17, 10, 12, 3, 36, 10, 11]"
      ]
     },
     "execution_count": 75,
     "metadata": {},
     "output_type": "execute_result"
    }
   ],
   "source": [
    "[len(x) for x in topic_texts.values()]"
   ]
  }
 ],
 "metadata": {
  "kernelspec": {
   "display_name": "DESIRES",
   "language": "python",
   "name": "desires"
  },
  "language_info": {
   "codemirror_mode": {
    "name": "ipython",
    "version": 3
   },
   "file_extension": ".py",
   "mimetype": "text/x-python",
   "name": "python",
   "nbconvert_exporter": "python",
   "pygments_lexer": "ipython3",
   "version": "3.9.5"
  },
  "widgets": {
   "application/vnd.jupyter.widget-state+json": {
    "state": {},
    "version_major": 2,
    "version_minor": 0
   }
  }
 },
 "nbformat": 4,
 "nbformat_minor": 5
}
