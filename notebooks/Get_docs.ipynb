{
 "cells": [
  {
   "cell_type": "code",
   "execution_count": 1,
   "id": "4c640223-d73e-4802-b491-962bcc02eb21",
   "metadata": {},
   "outputs": [],
   "source": [
    "import json\n",
    "from pprint import pprint\n",
    "\n",
    "import redis\n",
    "from tqdm.auto import tqdm\n",
    "\n",
    "db = redis.Redis(host=\"localhost\", port=6379, db=1)"
   ]
  },
  {
   "cell_type": "code",
   "execution_count": 2,
   "id": "36bb5535-3449-4669-b4db-8c09845697bc",
   "metadata": {},
   "outputs": [],
   "source": [
    "dataset = json.load(open(\"../data/logs_with_position.json\"))"
   ]
  },
  {
   "cell_type": "code",
   "execution_count": 3,
   "id": "c6144d36-e29e-4be5-9e1c-b7d961423298",
   "metadata": {
    "tags": []
   },
   "outputs": [
    {
     "data": {
      "application/vnd.jupyter.widget-view+json": {
       "model_id": "7cf9b7e8456244f4913cffeb3618321f",
       "version_major": 2,
       "version_minor": 0
      },
      "text/plain": [
       "  0%|          | 0/127 [00:00<?, ?it/s]"
      ]
     },
     "metadata": {},
     "output_type": "display_data"
    },
    {
     "name": "stdout",
     "output_type": "stream",
     "text": [
      "'missed doc https://www.aboutibs.org/ibs-diet.html'\n",
      "('missed doc '\n",
      " 'https://www.differencebetween.com/difference-between-metaethics-and-normative-ethics/')\n",
      "'missed doc http://www.c14dating.com/frac.html'\n",
      "'missed doc http://www.c14dating.com/pret.html'\n",
      "'missed doc https://hmo-ealing.uk/united-states-subprime-mortgage-crisis/'\n",
      "'missed doc https://en.scio.pw/Subprime_mortgage_crisis'\n",
      "'missed doc https://enacademic.com/dic.nsf/enwiki/11272120'\n",
      "('missed doc '\n",
      " 'https://irritable-bowel-syndrome-forum.com/irritable-bowel-syndrome-treatment-wikipedia/')\n",
      "'missed doc https://www.wikiyy.com/en/Subprime_mortgage_crisis'\n",
      "'missed doc https://megsmenopause.com/2020/01/29/ibs/'\n",
      "('missed doc '\n",
      " 'https://www.managedcaremag.com/archives/2016/2/economic-evaluation-linaclotide-treatment-adult-patients-chronic-idiopathic')\n",
      "'missed doc https://www.teachengineering.org/lessons/view/uoh_genetic_lesson01'\n",
      "('missed doc '\n",
      " 'https://knowgenetics.org/introduction-to-genetically-modified-organisms-gmos/')\n",
      "('missed doc '\n",
      " 'https://www.higherrockeducation.org/glossary-of-terms/business-cycle')\n",
      "('missed doc '\n",
      " 'http://www.businessdictionary.com/definition/gross-domestic-product-GDP.html')\n",
      "'missed doc http://www.businessdictionary.com/definition/subprime-crisis.html'\n",
      "('missed doc '\n",
      " 'https://dealbook.nytimes.com/2010/08/25/the-subprime-mortgage-crisis-on-trial/')\n",
      "'missed doc https://mycourthistory.com/the-subprime-mortgage-crisis/'\n",
      "('missed doc '\n",
      " 'https://www.who.int/foodsafety/areas_work/food-technology/faq-genetically-modified-food/en/')\n",
      "'missed doc http://www.businessdictionary.com/definition/ethics.html'\n",
      "'missed doc https://ethics.sc.gov/'\n",
      "'missed doc http://www.c14dating.com/corr.html'\n",
      "('missed doc '\n",
      " 'https://www.audiologycharlotte.com/2020/02/24/how-hearing-loss-is-becoming-a-problem-for-millennials/')\n",
      "'missed doc https://www.mdpi.com/1660-4601/17/4/1201/htm'\n",
      "'missed doc http://users.conwaycorp.net/virtus/page1/PPE/cycle.htm'\n",
      "('missed doc '\n",
      " 'https://www.cambridge.org/core/journals/radiocarbon/article/marine-reservoir-effects-deduced-from-14c-dates-on-pottery-residues-bones-and-molluskan-shells-from-the-hamanaka-2-archaeological-site-rebun-island-hokkaido-japan/63A4FA5D221DCCC5C6F2E030EDC65C38/core-reader')\n"
     ]
    }
   ],
   "source": [
    "all_docs = {}\n",
    "missing_docs = set()\n",
    "for u in tqdm(dataset):\n",
    "    for x in u[\"clicks\"]:\n",
    "\n",
    "        url = x[\"url\"]\n",
    "        if url in all_docs or url in missing_docs:\n",
    "            continue\n",
    "        if not db.exists(url):\n",
    "            pprint(f\"missed doc {url}\")\n",
    "            missing_docs.add(url)\n",
    "            continue\n",
    "        doc_text = db.get(url)\n",
    "\n",
    "        all_docs[url] = doc_text"
   ]
  },
  {
   "cell_type": "code",
   "execution_count": 6,
   "id": "5d38950a-744c-4165-bbdb-75d7a6228cf3",
   "metadata": {},
   "outputs": [],
   "source": [
    "with open(\"../data/missing_docs.txt\", \"w\") as outf:\n",
    "    for u in missing_docs:\n",
    "        outf.write(f\"{u}\\n\")"
   ]
  },
  {
   "cell_type": "code",
   "execution_count": 22,
   "id": "c820e0fb-f0cb-4afa-bfd4-19f723909514",
   "metadata": {},
   "outputs": [
    {
     "data": {
      "application/vnd.jupyter.widget-view+json": {
       "model_id": "cd32924eb7664fbe8c45f5757234e428",
       "version_major": 2,
       "version_minor": 0
      },
      "text/plain": [
       "  0%|          | 0/1081 [00:00<?, ?it/s]"
      ]
     },
     "metadata": {},
     "output_type": "display_data"
    }
   ],
   "source": [
    "with open(\"../data/clicked_docs.tsv\", \"w\") as outf:\n",
    "    for (k, v) in tqdm(all_docs.items()):\n",
    "        text = v.decode()\n",
    "        clean_text = text.replace(\"[SEPREDIS]\", \" \").replace(\"\\n\", \" \").replace(\"\\t\", \" \")\n",
    "        outf.write(f\"{k}\\t{clean_text}\\n\")"
   ]
  },
  {
   "cell_type": "code",
   "execution_count": null,
   "id": "d7f54563-afb7-44b0-b3ea-7c543f21523f",
   "metadata": {},
   "outputs": [],
   "source": []
  }
 ],
 "metadata": {
  "kernelspec": {
   "display_name": "DESIRES",
   "language": "python",
   "name": "desires"
  },
  "language_info": {
   "codemirror_mode": {
    "name": "ipython",
    "version": 3
   },
   "file_extension": ".py",
   "mimetype": "text/x-python",
   "name": "python",
   "nbconvert_exporter": "python",
   "pygments_lexer": "ipython3",
   "version": "3.9.5"
  },
  "widgets": {
   "application/vnd.jupyter.widget-state+json": {
    "state": {
     "05fec2be1ff149aaa71e1f8ec4baadfb": {
      "model_module": "@jupyter-widgets/base",
      "model_module_version": "1.2.0",
      "model_name": "LayoutModel",
      "state": {}
     },
     "19538df4da944047b16fc18c50760c54": {
      "model_module": "@jupyter-widgets/controls",
      "model_module_version": "1.5.0",
      "model_name": "ProgressStyleModel",
      "state": {
       "description_width": ""
      }
     },
     "235654a98aaa44cfba6569b4c31127bd": {
      "model_module": "@jupyter-widgets/controls",
      "model_module_version": "1.5.0",
      "model_name": "DescriptionStyleModel",
      "state": {
       "description_width": ""
      }
     },
     "2aa4a17055f840cba288540c4df24e6d": {
      "model_module": "@jupyter-widgets/base",
      "model_module_version": "1.2.0",
      "model_name": "LayoutModel",
      "state": {}
     },
     "4f67361ba5aa4cc68575d2ab87b52d62": {
      "model_module": "@jupyter-widgets/controls",
      "model_module_version": "1.5.0",
      "model_name": "HTMLModel",
      "state": {
       "layout": "IPY_MODEL_05fec2be1ff149aaa71e1f8ec4baadfb",
       "style": "IPY_MODEL_78941b4160d84ef2a8e577b820f71082",
       "value": " 127/127 [00:33&lt;00:00,  4.80it/s]"
      }
     },
     "4face05438414b9cb0aa4f7081897bfb": {
      "model_module": "@jupyter-widgets/controls",
      "model_module_version": "1.5.0",
      "model_name": "FloatProgressModel",
      "state": {
       "bar_style": "success",
       "layout": "IPY_MODEL_d5dc5ba8d66f48c5bba9edc6f01ba36f",
       "max": 127,
       "style": "IPY_MODEL_8c774ad43ecc4a28b316ab3f0aed49c6",
       "value": 127
      }
     },
     "52d5ff9f677b43549840af76c4a95394": {
      "model_module": "@jupyter-widgets/controls",
      "model_module_version": "1.5.0",
      "model_name": "DescriptionStyleModel",
      "state": {
       "description_width": ""
      }
     },
     "595c40dde2ea4172beb3b2aa285ee1d7": {
      "model_module": "@jupyter-widgets/controls",
      "model_module_version": "1.5.0",
      "model_name": "HTMLModel",
      "state": {
       "layout": "IPY_MODEL_b5e396aea73747ec863b5e1b1c53bcc5",
       "style": "IPY_MODEL_e15ef42e47a2434aa849189a8cbf325b",
       "value": "100%"
      }
     },
     "61ffe9ab255248878e9ac7b1a446f546": {
      "model_module": "@jupyter-widgets/controls",
      "model_module_version": "1.5.0",
      "model_name": "FloatProgressModel",
      "state": {
       "bar_style": "success",
       "layout": "IPY_MODEL_8ba11417c2e84417b69706af9976e147",
       "max": 1081,
       "style": "IPY_MODEL_19538df4da944047b16fc18c50760c54",
       "value": 1081
      }
     },
     "78941b4160d84ef2a8e577b820f71082": {
      "model_module": "@jupyter-widgets/controls",
      "model_module_version": "1.5.0",
      "model_name": "DescriptionStyleModel",
      "state": {
       "description_width": ""
      }
     },
     "79c4f8915e354a7cb9beb2a8fe853fab": {
      "model_module": "@jupyter-widgets/base",
      "model_module_version": "1.2.0",
      "model_name": "LayoutModel",
      "state": {}
     },
     "7cf9b7e8456244f4913cffeb3618321f": {
      "model_module": "@jupyter-widgets/controls",
      "model_module_version": "1.5.0",
      "model_name": "HBoxModel",
      "state": {
       "children": [
        "IPY_MODEL_595c40dde2ea4172beb3b2aa285ee1d7",
        "IPY_MODEL_4face05438414b9cb0aa4f7081897bfb",
        "IPY_MODEL_4f67361ba5aa4cc68575d2ab87b52d62"
       ],
       "layout": "IPY_MODEL_79c4f8915e354a7cb9beb2a8fe853fab"
      }
     },
     "8ba11417c2e84417b69706af9976e147": {
      "model_module": "@jupyter-widgets/base",
      "model_module_version": "1.2.0",
      "model_name": "LayoutModel",
      "state": {}
     },
     "8c774ad43ecc4a28b316ab3f0aed49c6": {
      "model_module": "@jupyter-widgets/controls",
      "model_module_version": "1.5.0",
      "model_name": "ProgressStyleModel",
      "state": {
       "description_width": ""
      }
     },
     "a49d87a3afe447f4a9328cf8b0af17ad": {
      "model_module": "@jupyter-widgets/base",
      "model_module_version": "1.2.0",
      "model_name": "LayoutModel",
      "state": {}
     },
     "afaa66205e094e94aff8f5bff16b879e": {
      "model_module": "@jupyter-widgets/controls",
      "model_module_version": "1.5.0",
      "model_name": "HTMLModel",
      "state": {
       "layout": "IPY_MODEL_a49d87a3afe447f4a9328cf8b0af17ad",
       "style": "IPY_MODEL_235654a98aaa44cfba6569b4c31127bd",
       "value": " 1081/1081 [00:00&lt;00:00, 34335.02it/s]"
      }
     },
     "b5e396aea73747ec863b5e1b1c53bcc5": {
      "model_module": "@jupyter-widgets/base",
      "model_module_version": "1.2.0",
      "model_name": "LayoutModel",
      "state": {}
     },
     "bf8371dee81b4447bc77cbf7a9ed042f": {
      "model_module": "@jupyter-widgets/base",
      "model_module_version": "1.2.0",
      "model_name": "LayoutModel",
      "state": {}
     },
     "cd32924eb7664fbe8c45f5757234e428": {
      "model_module": "@jupyter-widgets/controls",
      "model_module_version": "1.5.0",
      "model_name": "HBoxModel",
      "state": {
       "children": [
        "IPY_MODEL_f7b645167cde4d2da10b99e5c29e7ceb",
        "IPY_MODEL_61ffe9ab255248878e9ac7b1a446f546",
        "IPY_MODEL_afaa66205e094e94aff8f5bff16b879e"
       ],
       "layout": "IPY_MODEL_2aa4a17055f840cba288540c4df24e6d"
      }
     },
     "d5dc5ba8d66f48c5bba9edc6f01ba36f": {
      "model_module": "@jupyter-widgets/base",
      "model_module_version": "1.2.0",
      "model_name": "LayoutModel",
      "state": {}
     },
     "e15ef42e47a2434aa849189a8cbf325b": {
      "model_module": "@jupyter-widgets/controls",
      "model_module_version": "1.5.0",
      "model_name": "DescriptionStyleModel",
      "state": {
       "description_width": ""
      }
     },
     "f7b645167cde4d2da10b99e5c29e7ceb": {
      "model_module": "@jupyter-widgets/controls",
      "model_module_version": "1.5.0",
      "model_name": "HTMLModel",
      "state": {
       "layout": "IPY_MODEL_bf8371dee81b4447bc77cbf7a9ed042f",
       "style": "IPY_MODEL_52d5ff9f677b43549840af76c4a95394",
       "value": "100%"
      }
     }
    },
    "version_major": 2,
    "version_minor": 0
   }
  }
 },
 "nbformat": 4,
 "nbformat_minor": 5
}
