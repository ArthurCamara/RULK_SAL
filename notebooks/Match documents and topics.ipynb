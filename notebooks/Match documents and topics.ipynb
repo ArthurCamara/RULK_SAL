{
 "cells": [
  {
   "cell_type": "markdown",
   "id": "4077b7d3-e98f-4486-b89a-638e4975077a",
   "metadata": {},
   "source": [
    "it's VERY likely that a document would only appear on SERPS from a single topic. That is, a document that appears for a user searching for Ethics would not appear for a user searching for ADHD symptoms. So here, we try to match these two and raise an error if we find a clash."
   ]
  },
  {
   "cell_type": "code",
   "execution_count": 92,
   "id": "10ba6984-29bf-498b-8211-1428ed86e4c8",
   "metadata": {},
   "outputs": [],
   "source": [
    "import json\n",
    "import urllib.parse\n",
    "from pprint import pprint\n",
    "from tqdm.auto import tqdm\n",
    "\n",
    "dataset = json.load(open(\"../data/logs_with_position.json\"))"
   ]
  },
  {
   "cell_type": "code",
   "execution_count": 93,
   "id": "52433fb2-d4d1-4e54-bb76-ac70da503f60",
   "metadata": {},
   "outputs": [],
   "source": [
    "docs = {}\n",
    "empty_docs = []\n",
    "counter = 0\n",
    "for line in open(\"../data/clicked_docs.tsv\"):\n",
    "    counter += 1\n",
    "    try:\n",
    "        url, text = line.strip().split(maxsplit=1)\n",
    "    except ValueError:  # empty doc\n",
    "        text = \"\"\n",
    "        empty_docs.append(url)\n",
    "    docs[url] = text"
   ]
  },
  {
   "cell_type": "code",
   "execution_count": 95,
   "id": "65ac6570-ea02-45a1-9959-1eeb4568ac40",
   "metadata": {},
   "outputs": [],
   "source": [
    "# Doc->Topic mapping\n",
    "doc_topic = {}\n",
    "for u in dataset:\n",
    "    topic = urllib.parse.quote(u[\"topic_title\"])\n",
    "    for c in u[\"clicks\"]:\n",
    "        url = c[\"url\"]\n",
    "        if url in docs and url in doc_topic and doc_topic[url] != topic:\n",
    "            print(f\"Ooops. url {url} found in two topics: {topic} and {doc_topic[url]}\")\n",
    "        doc_topic[url] = topic"
   ]
  },
  {
   "cell_type": "markdown",
   "id": "a02eca44-ee0f-48f3-a650-18dbbfc09e8d",
   "metadata": {},
   "source": [
    "No errors found! =)"
   ]
  },
  {
   "cell_type": "code",
   "execution_count": 96,
   "id": "63416617-2674-401b-87aa-5b6542e85277",
   "metadata": {},
   "outputs": [],
   "source": [
    "# Write to file\n",
    "with open(\"../data/clicked_docs_with_topics.tsv\", \"w\") as outf:\n",
    "    for url, text in docs.items():\n",
    "        topic = doc_topic[url]\n",
    "        outf.write(f\"{url}\\t{topic}\\t{text}\\n\")"
   ]
  },
  {
   "cell_type": "code",
   "execution_count": null,
   "id": "221e9ac1-958f-4609-9df3-73863b558312",
   "metadata": {},
   "outputs": [],
   "source": []
  }
 ],
 "metadata": {
  "kernelspec": {
   "display_name": "DESIRES",
   "language": "python",
   "name": "desires"
  },
  "language_info": {
   "codemirror_mode": {
    "name": "ipython",
    "version": 3
   },
   "file_extension": ".py",
   "mimetype": "text/x-python",
   "name": "python",
   "nbconvert_exporter": "python",
   "pygments_lexer": "ipython3",
   "version": "3.9.5"
  },
  "widgets": {
   "application/vnd.jupyter.widget-state+json": {
    "state": {
     "00cadca6cc5b4a328af47a3188c724aa": {
      "model_module": "@jupyter-widgets/base",
      "model_module_version": "1.2.0",
      "model_name": "LayoutModel",
      "state": {}
     },
     "2755a436a9cd41eda2de674767e2746f": {
      "model_module": "@jupyter-widgets/controls",
      "model_module_version": "1.5.0",
      "model_name": "ProgressStyleModel",
      "state": {
       "description_width": ""
      }
     },
     "3b7fcfb538304b2b95b84040273c6e21": {
      "model_module": "@jupyter-widgets/base",
      "model_module_version": "1.2.0",
      "model_name": "LayoutModel",
      "state": {}
     },
     "3dd6cf71b91941eaaaa68d604385e797": {
      "model_module": "@jupyter-widgets/base",
      "model_module_version": "1.2.0",
      "model_name": "LayoutModel",
      "state": {}
     },
     "80fead8b581c4c3dbf4775ad9b8ae9ab": {
      "model_module": "@jupyter-widgets/controls",
      "model_module_version": "1.5.0",
      "model_name": "DescriptionStyleModel",
      "state": {
       "description_width": ""
      }
     },
     "b50a631d921d42499f3fe2bb42294cbe": {
      "model_module": "@jupyter-widgets/controls",
      "model_module_version": "1.5.0",
      "model_name": "HTMLModel",
      "state": {
       "layout": "IPY_MODEL_3dd6cf71b91941eaaaa68d604385e797",
       "style": "IPY_MODEL_80fead8b581c4c3dbf4775ad9b8ae9ab",
       "value": " 134/134 [02:42&lt;00:00,  2.72s/it]"
      }
     },
     "c5add7fe2dbf4fd5a860c9e51858044d": {
      "model_module": "@jupyter-widgets/controls",
      "model_module_version": "1.5.0",
      "model_name": "HBoxModel",
      "state": {
       "children": [
        "IPY_MODEL_d03bd7c78b294d8b8f91600b34e6ca12",
        "IPY_MODEL_f68d096db41c49b5b32e0caa1ca7905f",
        "IPY_MODEL_b50a631d921d42499f3fe2bb42294cbe"
       ],
       "layout": "IPY_MODEL_00cadca6cc5b4a328af47a3188c724aa"
      }
     },
     "d03bd7c78b294d8b8f91600b34e6ca12": {
      "model_module": "@jupyter-widgets/controls",
      "model_module_version": "1.5.0",
      "model_name": "HTMLModel",
      "state": {
       "layout": "IPY_MODEL_3b7fcfb538304b2b95b84040273c6e21",
       "style": "IPY_MODEL_edf12b7569414b7aba6f5a75990177f4",
       "value": "100%"
      }
     },
     "e9b10e3031a84df6be656127ca1a8936": {
      "model_module": "@jupyter-widgets/base",
      "model_module_version": "1.2.0",
      "model_name": "LayoutModel",
      "state": {}
     },
     "edf12b7569414b7aba6f5a75990177f4": {
      "model_module": "@jupyter-widgets/controls",
      "model_module_version": "1.5.0",
      "model_name": "DescriptionStyleModel",
      "state": {
       "description_width": ""
      }
     },
     "f68d096db41c49b5b32e0caa1ca7905f": {
      "model_module": "@jupyter-widgets/controls",
      "model_module_version": "1.5.0",
      "model_name": "FloatProgressModel",
      "state": {
       "bar_style": "success",
       "layout": "IPY_MODEL_e9b10e3031a84df6be656127ca1a8936",
       "max": 134,
       "style": "IPY_MODEL_2755a436a9cd41eda2de674767e2746f",
       "value": 134
      }
     }
    },
    "version_major": 2,
    "version_minor": 0
   }
  }
 },
 "nbformat": 4,
 "nbformat_minor": 5
}
