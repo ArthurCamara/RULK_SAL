{
 "cells": [
  {
   "cell_type": "markdown",
   "id": "4077b7d3-e98f-4486-b89a-638e4975077a",
   "metadata": {},
   "source": [
    "it's VERY likely that a document would only appear on SERPS from a single topic. That is, a document that appears for a user searching for Ethics would not appear for a user searching for ADHD symptoms. So here, we try to match these two and raise an error if we find a clash."
   ]
  },
  {
   "cell_type": "code",
   "execution_count": 255,
   "id": "10ba6984-29bf-498b-8211-1428ed86e4c8",
   "metadata": {
    "tags": []
   },
   "outputs": [],
   "source": [
    "import json\n",
    "import urllib.parse\n",
    "from pprint import pprint\n",
    "from tqdm.auto import tqdm\n",
    "from wayback_api import get_from_wayback\n",
    "\n",
    "dataset = json.load(open(\"../data/logs_with_position.json\"))"
   ]
  },
  {
   "cell_type": "code",
   "execution_count": null,
   "id": "a4ebae59-1670-4846-9231-d44fa1a004b1",
   "metadata": {},
   "outputs": [],
   "source": []
  },
  {
   "cell_type": "code",
   "execution_count": 276,
   "id": "66923b51-a262-43b4-981b-b475d9d40c36",
   "metadata": {},
   "outputs": [
    {
     "name": "stdout",
     "output_type": "stream",
     "text": [
      "\tNot on archive!\n"
     ]
    }
   ],
   "source": [
    "if (\n",
    "    answer.status_code != 200\n",
    "    or len(answer.json()[\"archived_snapshots\"]) == 0\n",
    "    or not answer.json()[\"archived_snapshots\"][\"closest\"][\"available\"]\n",
    "):\n",
    "    print(\"\\tNot on archive!\")"
   ]
  },
  {
   "cell_type": "code",
   "execution_count": null,
   "id": "b2c58a0b-c209-44d5-8bcc-1e72db6f09ba",
   "metadata": {},
   "outputs": [
    {
     "ename": "KeyError",
     "evalue": "'closest'",
     "output_type": "error",
     "traceback": [
      "\u001b[0;31m---------------------------------------------------------------------------\u001b[0m",
      "\u001b[0;31mKeyError\u001b[0m                                  Traceback (most recent call last)",
      "Input \u001b[0;32mIn [273]\u001b[0m, in \u001b[0;36m<cell line: 4>\u001b[0;34m()\u001b[0m\n\u001b[1;32m      2\u001b[0m wayback_url \u001b[38;5;241m=\u001b[39m \u001b[38;5;124mf\u001b[39m\u001b[38;5;124m\"\u001b[39m\u001b[38;5;124mhttp://archive.org/wayback/available?url=\u001b[39m\u001b[38;5;132;01m{\u001b[39;00murllib\u001b[38;5;241m.\u001b[39mparse\u001b[38;5;241m.\u001b[39mquote(url)\u001b[38;5;132;01m}\u001b[39;00m\u001b[38;5;124m&timestamp=\u001b[39m\u001b[38;5;132;01m{\u001b[39;00mtimestamp\u001b[38;5;132;01m}\u001b[39;00m\u001b[38;5;124m\"\u001b[39m\n\u001b[1;32m      3\u001b[0m answer \u001b[38;5;241m=\u001b[39m requests\u001b[38;5;241m.\u001b[39mget(wayback_url)\n\u001b[0;32m----> 4\u001b[0m \u001b[38;5;28;01mif\u001b[39;00m answer\u001b[38;5;241m.\u001b[39mstatus_code \u001b[38;5;241m!=\u001b[39m \u001b[38;5;241m200\u001b[39m \u001b[38;5;129;01mor\u001b[39;00m \u001b[38;5;129;01mnot\u001b[39;00m \u001b[43manswer\u001b[49m\u001b[38;5;241;43m.\u001b[39;49m\u001b[43mjson\u001b[49m\u001b[43m(\u001b[49m\u001b[43m)\u001b[49m\u001b[43m[\u001b[49m\u001b[38;5;124;43m\"\u001b[39;49m\u001b[38;5;124;43marchived_snapshots\u001b[39;49m\u001b[38;5;124;43m\"\u001b[39;49m\u001b[43m]\u001b[49m\u001b[43m[\u001b[49m\u001b[38;5;124;43m\"\u001b[39;49m\u001b[38;5;124;43mclosest\u001b[39;49m\u001b[38;5;124;43m\"\u001b[39;49m\u001b[43m]\u001b[49m[\u001b[38;5;124m\"\u001b[39m\u001b[38;5;124mavailable\u001b[39m\u001b[38;5;124m\"\u001b[39m]:\n\u001b[1;32m      5\u001b[0m     \u001b[38;5;28mprint\u001b[39m(\u001b[38;5;124m\"\u001b[39m\u001b[38;5;130;01m\\t\u001b[39;00m\u001b[38;5;124mNot on archive!\u001b[39m\u001b[38;5;124m\"\u001b[39m)\n\u001b[1;32m      7\u001b[0m new_url \u001b[38;5;241m=\u001b[39m answer\u001b[38;5;241m.\u001b[39mjson()[\u001b[38;5;124m\"\u001b[39m\u001b[38;5;124marchived_snapshots\u001b[39m\u001b[38;5;124m\"\u001b[39m][\u001b[38;5;124m\"\u001b[39m\u001b[38;5;124mclosest\u001b[39m\u001b[38;5;124m\"\u001b[39m][\u001b[38;5;124m\"\u001b[39m\u001b[38;5;124murl\u001b[39m\u001b[38;5;124m\"\u001b[39m]\n",
      "\u001b[0;31mKeyError\u001b[0m: 'closest'"
     ]
    }
   ],
   "source": [
    "url = m_url\n",
    "wayback_url = f\"http://archive.org/wayback/available?url={urllib.parse.quote(url)}&timestamp={timestamp}\"\n",
    "answer = requests.get(wayback_url)\n",
    "if (\n",
    "    answer.status_code != 200\n",
    "    or len(answer.json()[\"archived_snapshots\"]) == 0\n",
    "    or not answer.json()[\"archived_snapshots\"][\"closest\"][\"available\"]\n",
    "):\n",
    "    print(\"\\tNot on archive!\")\n",
    "\n",
    "new_url = answer.json()[\"archived_snapshots\"][\"closest\"][\"url\"]\n",
    "http = urllib3.PoolManager(cert_reqs=\"CERT_REQUIRED\", ca_certs=certifi.where())\n",
    "page_content = http.request(\"GET\", new_url)\n",
    "start_comment = \"<!-- BEGIN WAYBACK TOOLBAR INSERT -->\"\n",
    "end_comment = \"<!-- END WAYBACK TOOLBAR INSERT -->\"\n",
    "page_content = page_content.data.decode().split(start_comment)[1].split(end_comment)[1].strip()\n",
    "\n",
    "_, pars = clean_page(page_content)\n",
    "\" \".join(page_content)"
   ]
  },
  {
   "cell_type": "code",
   "execution_count": 519,
   "id": "c7662b34-1b34-4ecd-8811-8e07a247113c",
   "metadata": {
    "tags": []
   },
   "outputs": [],
   "source": [
    "start_comment = \"<!-- BEGIN WAYBACK TOOLBAR INSERT -->\"\n",
    "end_comment = \"<!-- END WAYBACK TOOLBAR INSERT -->\""
   ]
  },
  {
   "cell_type": "code",
   "execution_count": 488,
   "id": "441cd61d-a739-4850-82e0-276ee3f10f24",
   "metadata": {},
   "outputs": [],
   "source": [
    "docs = {}\n",
    "empty_docs = []\n",
    "counter = 0\n",
    "for idx, line in enumerate(open(\"../data/clicked_docs.tsv\")):\n",
    "    counter += 1\n",
    "    try:\n",
    "        url, text = line.strip().split(maxsplit=1)\n",
    "    except ValueError:  # empty doc\n",
    "        text = \"\"\n",
    "        url = line.split()[0]\n",
    "        empty_docs.append(url)\n",
    "        # print(idx, url)\n",
    "        continue\n",
    "    docs[url] = text"
   ]
  },
  {
   "cell_type": "code",
   "execution_count": 530,
   "id": "bb9d0acc-eb45-4053-8f3c-4e66ebb2b4a3",
   "metadata": {},
   "outputs": [
    {
     "data": {
      "application/vnd.jupyter.widget-view+json": {
       "model_id": "b4ae6d6508454abeae09a5c2601d4b8f",
       "version_major": 2,
       "version_minor": 0
      },
      "text/plain": [
       "  0%|          | 0/241 [00:00<?, ?it/s]"
      ]
     },
     "metadata": {},
     "output_type": "display_data"
    },
    {
     "name": "stdout",
     "output_type": "stream",
     "text": [
      "trying to fetch https://quizlet.com/1377915/chapter-14-business-cycles-fluctuation-and-inflation-flash-cards/ at 20200826\n",
      "http://web.archive.org/web/20150302102530/http://quizlet.com:80/1377915/chapter-14-business-cycles-fluctuation-and-inflation-flash-cards/\n",
      "trying to fetch https://works.bepress.com/grace_lee/16/ at 20200826\n",
      "\tNot on archive! Trying today....\n",
      "trying to fetch https://salud.ccm.net/faq/12955-gastroenterologia-definicion at 20200826\n",
      "http://web.archive.org/web/20200815200048/https://salud.ccm.net/faq/12955-gastroenterologia-definicion\n",
      "\t Could not get anyhing good from page...\n",
      "trying to fetch https://www.scribd.com/document/223094684/Business-cycle-pdf at 20200826\n",
      "\tNot on archive! Trying today....\n",
      "trying to fetch http://datingadviceac.us/radiocarbon-14-dating-wikipedia.vpn at 20200826\n",
      "\tNot on archive! Trying today....\n",
      "trying to fetch https://quizlet.com/75842889/meta-ethics-what-is-meta-ethics-flash-cards/ at 20200826\n",
      "\tNot on archive! Trying today....\n",
      "trying to fetch https://cfsi.ph/radiocarbon-dating-definition-wikipedia/ at 20200826\n",
      "\tNot on archive! Trying today....\n",
      "trying to fetch https://www.quora.com/Is-there-proof-of-carbon-dating-being-wrong at 20200826\n",
      "\tNot on archive! Trying today....\n",
      "trying to fetch https://quizlet.com/70358698/chapter-1-flash-cards/ at 20200826\n",
      "\tNot on archive! Trying today....\n",
      "trying to fetch http://netherglitter.com/how-does-radiation-affect-carbon-dating at 20200826\n",
      "\tNot on archive! Trying today....\n",
      "trying to fetch https://elepap.gr/radiocarbon-dating-accuracy.html at 20200826\n",
      "\tNot on archive! Trying today....\n",
      "trying to fetch https://commons.wikimedia.org/wiki/Category:Genetic_engineering at 20200826\n",
      "\tNot on archive! Trying today....\n",
      "trying to fetch https://www.audiology.org/news/differentiating-meniere%E2%80%99s-disease at 20200826\n",
      "\tNot on archive! Trying today....\n",
      "trying to fetch https://europepmc.org/article/MED/3874543 at 20200826\n",
      "\tNot on archive! Trying today....\n",
      "trying to fetch https://www.quora.com/What-is-the-difference-between-an-Epicurean-and-a-Hedonist at 20200826\n",
      "\tNot on archive! Trying today....\n",
      "trying to fetch https://worldview.stratfor.com/article/global-market-brief-subprime-crisis-goes-europe at 20200826\n",
      "http://web.archive.org/web/20200926093325/https://worldview.stratfor.com/article/global-market-brief-subprime-crisis-goes-europe\n",
      "trying to fetch http://adultescortsgirl.us/ethics-and-anti-oppressive-practice-considerations-when-dating.apple at 20200826\n",
      "\tNot on archive! Trying today....\n",
      "trying to fetch http://datingadviceab.us/radiocarbon-dating-wrong.apple at 20200826\n",
      "\tNot on archive! Trying today....\n",
      "trying to fetch https://quizlet.com/95839003/dating-the-earth-theories-methods-flash-cards/ at 20200826\n",
      "\tNot on archive! Trying today....\n",
      "trying to fetch https://www.youtube.com/ at 20200826\n",
      "http://web.archive.org/web/20200827000054/https://www.youtube.com/\n",
      "\t Could not get anyhing good from page...\n",
      "trying to fetch https://www.quora.com/Which-ethical-theory-is-the-best at 20200826\n",
      "\tNot on archive! Trying today....\n",
      "trying to fetch https://www.learnreligions.com/virtue-ethics-morality-and-character-249866 at 20200826\n",
      "http://web.archive.org/web/20200926054931/https://www.learnreligions.com/virtue-ethics-morality-and-character-249866\n",
      "trying to fetch https://www.dictionary.com/browse/radiocarbon at 20200826\n",
      "http://web.archive.org/web/20200805142523/https://www.dictionary.com/browse/radiocarbon\n",
      "trying to fetch https://www.quora.com/Before-Lehman-brothers-collapsed-what-were-the-other-signs-that-recession-will-come at 20200826\n",
      "\tNot on archive! Trying today....\n",
      "trying to fetch https://www.icpak.com/radiocarbon-dating-labs/ at 20200826\n",
      "\tNot on archive! Trying today....\n",
      "trying to fetch https://www.ethics.net/ at 20200826\n",
      "http://web.archive.org/web/20200815022702/https://www.ethics.net/\n",
      "trying to fetch https://quizlet.com/131120635/philosophy-ethics-flash-cards/ at 20200826\n",
      "\tNot on archive! Trying today....\n",
      "trying to fetch https://www.quora.com/Why-cant-religion-exist-without-ethics-but-ethics-can-exist-without-religion at 20200826\n",
      "\tNot on archive! Trying today....\n",
      "trying to fetch https://www.quora.com/What-are-the-different-types-of-philosophy-and-how-did-they-originate at 20200826\n",
      "\tNot on archive! Trying today....\n",
      "trying to fetch https://en.wikibooks.org/wiki/Introduction_to_Philosophy at 20200826\n",
      "\tNot on archive! Trying today....\n",
      "trying to fetch https://quizlet.com/152912356/business-cycle-definitions-flash-cards/ at 20200826\n",
      "\tNot on archive! Trying today....\n",
      "trying to fetch https://commons.wikimedia.org/wiki/Category:Business_cycle at 20200826\n",
      "http://web.archive.org/web/20200813211018/https://commons.wikimedia.org/wiki/Category:Business_cycle\n",
      "trying to fetch https://quizlet.com/77146994/macroeconomics-test-2-flash-cards/ at 20200826\n",
      "\tNot on archive! Trying today....\n",
      "trying to fetch https://www.thoughtco.com/phases-of-the-business-cycle-1146345 at 20200826\n",
      "http://web.archive.org/web/20200814231313/https://www.thoughtco.com/phases-of-the-business-cycle-1146345\n",
      "trying to fetch https://www.businesscycle.com/ at 20200826\n",
      "http://web.archive.org/web/20200827162742/https://www.businesscycle.com/\n",
      "trying to fetch https://www.businesscycle.com/ecri-news-events/news at 20200826\n",
      "http://web.archive.org/web/20200809050829/https://www.businesscycle.com/ecri-news-events/news\n",
      "trying to fetch https://www.telegraph.co.uk/finance/2815755/Timeline-The-sub-prime-mortgage-crisis.html at 20200826\n",
      "http://web.archive.org/web/20200915081140/https://www.telegraph.co.uk/finance/2815755/Timeline-The-sub-prime-mortgage-crisis.html\n",
      "trying to fetch https://en.wiktionary.org/wiki/business_cycle at 20200826\n",
      "http://web.archive.org/web/20210512142403/https://en.wiktionary.org/wiki/business_cycle\n",
      "\t Could not get anyhing good from page...\n",
      "trying to fetch https://quizlet.com/271710110/ethics-test-1-study-guide-flash-cards/ at 20200826\n",
      "\tNot on archive! Trying today....\n",
      "trying to fetch http://datingadviceaa.us/radiocarbon-dating-wiki-answers-question.us at 20200826\n",
      "\tNot on archive! Trying today....\n",
      "trying to fetch https://www.khanacademy.org/economics-finance-domain/macroeconomics at 20200826\n",
      "http://web.archive.org/web/20200921033910/https://www.khanacademy.org/economics-finance-domain/macroeconomics\n",
      "trying to fetch https://www.dictionary.com/browse/biogenetic at 20200826\n",
      "http://web.archive.org/web/20210306090652/https://www.dictionary.com/browse/biogenetic\n",
      "trying to fetch https://www.icevirtuallibrary.com/doi/abs/10.1680/cba.41349.078 at 20200826\n",
      "\tNot on archive! Trying today....\n",
      "trying to fetch https://hmo-ealing.uk/united-states-subprime-mortgage-crisis/ at 20200826\n",
      "\tNot on archive! Trying today....\n",
      "trying to fetch https://megsmenopause.com/2020/01/29/ibs/ at 20200826\n",
      "http://web.archive.org/web/20200929050643/https://megsmenopause.com/2020/01/29/ibs/\n",
      "trying to fetch https://irritable-bowel-syndrome-forum.com/irritable-bowel-syndrome-treatment-wikipedia/ at 20200826\n",
      "\tNot on archive! Trying today....\n",
      "trying to fetch http://users.conwaycorp.net/virtus/page1/PPE/cycle.htm at 20200826\n",
      "\tNot on archive! Trying today....\n",
      "trying to fetch https://enacademic.com/dic.nsf/enwiki/11272120 at 20200826\n",
      "\tNot on archive! Trying today....\n",
      "trying to fetch https://www.wikiyy.com/en/Subprime_mortgage_crisis at 20200826\n",
      "\tNot on archive! Trying today....\n",
      "trying to fetch https://www.managedcaremag.com/archives/2016/2/economic-evaluation-linaclotide-treatment-adult-patients-chronic-idiopathic at 20200826\n",
      "http://web.archive.org/web/20210413132903/https://www.managedcaremag.com/archives/2016/2/economic-evaluation-linaclotide-treatment-adult-patients-chronic-idiopathic/\n",
      "trying to fetch https://www.cambridge.org/core/journals/radiocarbon/article/marine-reservoir-effects-deduced-from-14c-dates-on-pottery-residues-bones-and-molluskan-shells-from-the-hamanaka-2-archaeological-site-rebun-island-hokkaido-japan/63A4FA5D221DCCC5C6F2E030EDC65C38/core-reader at 20200826\n",
      "\tNot on archive! Trying today....\n",
      "trying to fetch https://www.mdpi.com/1660-4601/17/4/1201/htm at 20200826\n",
      "http://web.archive.org/web/20200218172743/https://www.mdpi.com/1660-4601/17/4/1201/htm\n",
      "trying to fetch http://www.businessdictionary.com/definition/subprime-crisis.html at 20200826\n",
      "http://web.archive.org/web/20200627080949/http://www.businessdictionary.com:80/definition/subprime-crisis.html\n",
      "\t Could not get anyhing good from page...\n",
      "trying to fetch https://en.scio.pw/Subprime_mortgage_crisis at 20200826\n",
      "\tNot on archive! Trying today....\n"
     ]
    }
   ],
   "source": [
    "for m_url in tqdm(empty_docs):\n",
    "    if m_url in docs:\n",
    "        continue\n",
    "    # Try to re-fetch it again\n",
    "    final_str = get_from_wayback(m_url)\n",
    "    docs[m_url] = final_str"
   ]
  },
  {
   "cell_type": "code",
   "execution_count": 535,
   "id": "65ac6570-ea02-45a1-9959-1eeb4568ac40",
   "metadata": {},
   "outputs": [],
   "source": [
    "# Doc->Topic mapping\n",
    "doc_topic = {}\n",
    "for u in dataset:\n",
    "    topic = urllib.parse.quote(u[\"topic_title\"])\n",
    "    for c in u[\"clicks\"]:\n",
    "        url = c[\"url\"]\n",
    "        if \"https://www.wikipedia.org/\" in url:\n",
    "            continue\n",
    "        if url in docs and url in doc_topic and doc_topic[url] != topic:\n",
    "            print(f\"Ooops. url {url} found in two topics: {topic} and {doc_topic[url]}\")\n",
    "        doc_topic[url] = topic"
   ]
  },
  {
   "cell_type": "markdown",
   "id": "a02eca44-ee0f-48f3-a650-18dbbfc09e8d",
   "metadata": {},
   "source": [
    "No errors found! =)"
   ]
  },
  {
   "cell_type": "code",
   "execution_count": 536,
   "id": "63416617-2674-401b-87aa-5b6542e85277",
   "metadata": {},
   "outputs": [],
   "source": [
    "# Write to file\n",
    "with open(\"../data/clicked_docs_with_topics_more.tsv\", \"w\") as outf:\n",
    "    for url, text in docs.items():\n",
    "        if \"https://www.wikipedia.org/\" in url:\n",
    "            continue\n",
    "        topic = doc_topic[url]\n",
    "        outf.write(f\"{url}\\t{topic}\\t{text}\\n\")"
   ]
  },
  {
   "cell_type": "code",
   "execution_count": null,
   "id": "a88a34d6-0c4a-4c2d-99dd-567b61013322",
   "metadata": {},
   "outputs": [],
   "source": []
  }
 ],
 "metadata": {
  "kernelspec": {
   "display_name": "DESIRES",
   "language": "python",
   "name": "desires"
  },
  "language_info": {
   "codemirror_mode": {
    "name": "ipython",
    "version": 3
   },
   "file_extension": ".py",
   "mimetype": "text/x-python",
   "name": "python",
   "nbconvert_exporter": "python",
   "pygments_lexer": "ipython3",
   "version": "3.9.5"
  },
  "widgets": {
   "application/vnd.jupyter.widget-state+json": {
    "state": {
     "03c1fc3949fc4302a6cb990b0e4c00f5": {
      "model_module": "@jupyter-widgets/controls",
      "model_module_version": "1.5.0",
      "model_name": "HTMLModel",
      "state": {
       "layout": "IPY_MODEL_27be24c38611431aa4211d8b5ea97685",
       "style": "IPY_MODEL_f762252266d3469d97b7d0701055a89d",
       "value": "100%"
      }
     },
     "04a6914b05ca46e1940cf6dc0eb51212": {
      "model_module": "@jupyter-widgets/base",
      "model_module_version": "1.2.0",
      "model_name": "LayoutModel",
      "state": {}
     },
     "0736fd8fb0bf476089318050a446fa47": {
      "model_module": "@jupyter-widgets/base",
      "model_module_version": "1.2.0",
      "model_name": "LayoutModel",
      "state": {}
     },
     "07aaf2670a7846a2acb04370f4a8cd5d": {
      "model_module": "@jupyter-widgets/controls",
      "model_module_version": "1.5.0",
      "model_name": "FloatProgressModel",
      "state": {
       "bar_style": "success",
       "layout": "IPY_MODEL_8f4ce51bf69741989a40b02ec388fef3",
       "max": 241,
       "style": "IPY_MODEL_cd8ab20c27ce438d814587bc2169d1d6",
       "value": 241
      }
     },
     "08519fc167c14e5cad8519672a504858": {
      "model_module": "@jupyter-widgets/base",
      "model_module_version": "1.2.0",
      "model_name": "LayoutModel",
      "state": {}
     },
     "0af968b8c23f4355a5b0c0d25487983a": {
      "model_module": "@jupyter-widgets/controls",
      "model_module_version": "1.5.0",
      "model_name": "ProgressStyleModel",
      "state": {
       "description_width": ""
      }
     },
     "0b962825709d4ce4ab36ac35dd0f3136": {
      "model_module": "@jupyter-widgets/controls",
      "model_module_version": "1.5.0",
      "model_name": "FloatProgressModel",
      "state": {
       "bar_style": "danger",
       "layout": "IPY_MODEL_dbfba89237174317963dca7a346c3e94",
       "max": 241,
       "style": "IPY_MODEL_c607e67995024b099b54b56a4d5ef31b",
       "value": 3
      }
     },
     "0b9dc1e0cdc548a9bccfeeae4bc45407": {
      "model_module": "@jupyter-widgets/controls",
      "model_module_version": "1.5.0",
      "model_name": "HTMLModel",
      "state": {
       "layout": "IPY_MODEL_a8a311ee1d4642d4997a9d38a50bb5c7",
       "style": "IPY_MODEL_43fd02739a5d4c3a932da4a192575561",
       "value": " 241/241 [00:00&lt;00:00, 23549.78it/s]"
      }
     },
     "0c715921b0d44e0d8ade831b94edc36b": {
      "model_module": "@jupyter-widgets/controls",
      "model_module_version": "1.5.0",
      "model_name": "HTMLModel",
      "state": {
       "layout": "IPY_MODEL_11576e8b9ad440b1895d2210c0fe3e22",
       "style": "IPY_MODEL_c71a5ba4f6614d688d4b58e63f5603ec",
       "value": " 241/241 [00:00&lt;00:00, 23113.08it/s]"
      }
     },
     "112e8cb507a144c98917fe6ad5fb8699": {
      "model_module": "@jupyter-widgets/controls",
      "model_module_version": "1.5.0",
      "model_name": "DescriptionStyleModel",
      "state": {
       "description_width": ""
      }
     },
     "11576e8b9ad440b1895d2210c0fe3e22": {
      "model_module": "@jupyter-widgets/base",
      "model_module_version": "1.2.0",
      "model_name": "LayoutModel",
      "state": {}
     },
     "1163a6654c334e0089ae8df3f50e3356": {
      "model_module": "@jupyter-widgets/controls",
      "model_module_version": "1.5.0",
      "model_name": "DescriptionStyleModel",
      "state": {
       "description_width": ""
      }
     },
     "118c2390bcf1421fb6ac3fbf591bc7b9": {
      "model_module": "@jupyter-widgets/base",
      "model_module_version": "1.2.0",
      "model_name": "LayoutModel",
      "state": {}
     },
     "137d585f34c845f1bc8c02fd6ebdf0b7": {
      "model_module": "@jupyter-widgets/controls",
      "model_module_version": "1.5.0",
      "model_name": "HTMLModel",
      "state": {
       "layout": "IPY_MODEL_6d6b310f38ca44f3b6241ff0a10bd69d",
       "style": "IPY_MODEL_7d74d3786b874b44a3b59ce3801d64ed",
       "value": " 30/241 [01:02&lt;03:34,  1.02s/it]"
      }
     },
     "13ee5970704244cc859841fd6273e7b6": {
      "model_module": "@jupyter-widgets/controls",
      "model_module_version": "1.5.0",
      "model_name": "ProgressStyleModel",
      "state": {
       "description_width": ""
      }
     },
     "146ac5972edc429ba3ce0588eec2e6d2": {
      "model_module": "@jupyter-widgets/base",
      "model_module_version": "1.2.0",
      "model_name": "LayoutModel",
      "state": {}
     },
     "1507d961c1da40b99475b9d16008e3d5": {
      "model_module": "@jupyter-widgets/base",
      "model_module_version": "1.2.0",
      "model_name": "LayoutModel",
      "state": {}
     },
     "17d0a03ca3d94ec58dbd30b0017b092a": {
      "model_module": "@jupyter-widgets/controls",
      "model_module_version": "1.5.0",
      "model_name": "DescriptionStyleModel",
      "state": {
       "description_width": ""
      }
     },
     "195fdd5674954ea88ee0b54217c0ebf4": {
      "model_module": "@jupyter-widgets/controls",
      "model_module_version": "1.5.0",
      "model_name": "HTMLModel",
      "state": {
       "layout": "IPY_MODEL_83d9fb5dba61484fbe1129ab3b090603",
       "style": "IPY_MODEL_5a3e6018106c4d8781f99bac6ee4f2b8",
       "value": " 30/241 [01:16&lt;05:06,  1.45s/it]"
      }
     },
     "1a016446e9ec488bb85818bf7e760d49": {
      "model_module": "@jupyter-widgets/controls",
      "model_module_version": "1.5.0",
      "model_name": "HTMLModel",
      "state": {
       "layout": "IPY_MODEL_960d1615249748809a50b7508df5cabc",
       "style": "IPY_MODEL_259bb41c06614dd0a81c0e5177b89627",
       "value": " 30/241 [00:03&lt;00:23,  8.84it/s]"
      }
     },
     "1d12e835ee8346f09dd43566011fa0b1": {
      "model_module": "@jupyter-widgets/base",
      "model_module_version": "1.2.0",
      "model_name": "LayoutModel",
      "state": {}
     },
     "1de7d1ff1c36437fb0026be30f0c6444": {
      "model_module": "@jupyter-widgets/base",
      "model_module_version": "1.2.0",
      "model_name": "LayoutModel",
      "state": {}
     },
     "20d958a176154159afbbbb1ebfbe5caf": {
      "model_module": "@jupyter-widgets/controls",
      "model_module_version": "1.5.0",
      "model_name": "HTMLModel",
      "state": {
       "layout": "IPY_MODEL_118c2390bcf1421fb6ac3fbf591bc7b9",
       "style": "IPY_MODEL_3ce23a05d9524ea1bad1383abdd1dcd8",
       "value": " 12%"
      }
     },
     "212820a16be74a1d921e04438544091e": {
      "model_module": "@jupyter-widgets/base",
      "model_module_version": "1.2.0",
      "model_name": "LayoutModel",
      "state": {}
     },
     "2251681187e847d4a3726bd1985c3edd": {
      "model_module": "@jupyter-widgets/controls",
      "model_module_version": "1.5.0",
      "model_name": "ProgressStyleModel",
      "state": {
       "description_width": ""
      }
     },
     "259bb41c06614dd0a81c0e5177b89627": {
      "model_module": "@jupyter-widgets/controls",
      "model_module_version": "1.5.0",
      "model_name": "DescriptionStyleModel",
      "state": {
       "description_width": ""
      }
     },
     "27be24c38611431aa4211d8b5ea97685": {
      "model_module": "@jupyter-widgets/base",
      "model_module_version": "1.2.0",
      "model_name": "LayoutModel",
      "state": {}
     },
     "299577560cec45928b1c27777b80f9e0": {
      "model_module": "@jupyter-widgets/base",
      "model_module_version": "1.2.0",
      "model_name": "LayoutModel",
      "state": {}
     },
     "2ede077743a24dce9df4879db6c1b0b4": {
      "model_module": "@jupyter-widgets/base",
      "model_module_version": "1.2.0",
      "model_name": "LayoutModel",
      "state": {}
     },
     "2f0c845563364eff94cdbc53067386ae": {
      "model_module": "@jupyter-widgets/controls",
      "model_module_version": "1.5.0",
      "model_name": "HTMLModel",
      "state": {
       "layout": "IPY_MODEL_2ede077743a24dce9df4879db6c1b0b4",
       "style": "IPY_MODEL_ba784d17638442bb9d87ff6a8ab870ad",
       "value": " 12%"
      }
     },
     "2fd4e94b329c426aad039b78de4434a3": {
      "model_module": "@jupyter-widgets/base",
      "model_module_version": "1.2.0",
      "model_name": "LayoutModel",
      "state": {}
     },
     "3590f929aa75400fba27cc86eaaa15a8": {
      "model_module": "@jupyter-widgets/controls",
      "model_module_version": "1.5.0",
      "model_name": "DescriptionStyleModel",
      "state": {
       "description_width": ""
      }
     },
     "385a8468df05462bbfc3e4627a02cc62": {
      "model_module": "@jupyter-widgets/controls",
      "model_module_version": "1.5.0",
      "model_name": "ProgressStyleModel",
      "state": {
       "description_width": ""
      }
     },
     "397a27875360405f9921810ac72c7536": {
      "model_module": "@jupyter-widgets/controls",
      "model_module_version": "1.5.0",
      "model_name": "ProgressStyleModel",
      "state": {
       "description_width": ""
      }
     },
     "3a859cad48aa4cfe9340ad172eebb61a": {
      "model_module": "@jupyter-widgets/controls",
      "model_module_version": "1.5.0",
      "model_name": "DescriptionStyleModel",
      "state": {
       "description_width": ""
      }
     },
     "3c44b6562ab6411d901cea387d1bd1d6": {
      "model_module": "@jupyter-widgets/controls",
      "model_module_version": "1.5.0",
      "model_name": "ProgressStyleModel",
      "state": {
       "description_width": ""
      }
     },
     "3ce23a05d9524ea1bad1383abdd1dcd8": {
      "model_module": "@jupyter-widgets/controls",
      "model_module_version": "1.5.0",
      "model_name": "DescriptionStyleModel",
      "state": {
       "description_width": ""
      }
     },
     "3ecd038405ac4b90aae1a4916c340938": {
      "model_module": "@jupyter-widgets/controls",
      "model_module_version": "1.5.0",
      "model_name": "ProgressStyleModel",
      "state": {
       "description_width": ""
      }
     },
     "41341c68f6664d658787429500421237": {
      "model_module": "@jupyter-widgets/controls",
      "model_module_version": "1.5.0",
      "model_name": "HBoxModel",
      "state": {
       "children": [
        "IPY_MODEL_2f0c845563364eff94cdbc53067386ae",
        "IPY_MODEL_7e962d19d60842d7b0860f9b9ccb310d",
        "IPY_MODEL_195fdd5674954ea88ee0b54217c0ebf4"
       ],
       "layout": "IPY_MODEL_eb1c4072dd324ca5a32e48935444e59e"
      }
     },
     "41df68da25ea40a0b579f1d4e21f8404": {
      "model_module": "@jupyter-widgets/controls",
      "model_module_version": "1.5.0",
      "model_name": "HBoxModel",
      "state": {
       "children": [
        "IPY_MODEL_a79fb778404048a3acbc150f56cdd1ab",
        "IPY_MODEL_ab2a0321a71f411d95ff38f146085df0",
        "IPY_MODEL_137d585f34c845f1bc8c02fd6ebdf0b7"
       ],
       "layout": "IPY_MODEL_bbb1a65b06774ba0a088f653e5aae444"
      }
     },
     "43c8dfdf2e8c4c6faf5e49d5717009c3": {
      "model_module": "@jupyter-widgets/base",
      "model_module_version": "1.2.0",
      "model_name": "LayoutModel",
      "state": {}
     },
     "43fd02739a5d4c3a932da4a192575561": {
      "model_module": "@jupyter-widgets/controls",
      "model_module_version": "1.5.0",
      "model_name": "DescriptionStyleModel",
      "state": {
       "description_width": ""
      }
     },
     "47c97a18a36642958ed419f2c8fb2b43": {
      "model_module": "@jupyter-widgets/base",
      "model_module_version": "1.2.0",
      "model_name": "LayoutModel",
      "state": {}
     },
     "491b472fccf649d9815910d61977ab75": {
      "model_module": "@jupyter-widgets/controls",
      "model_module_version": "1.5.0",
      "model_name": "FloatProgressModel",
      "state": {
       "bar_style": "success",
       "layout": "IPY_MODEL_08519fc167c14e5cad8519672a504858",
       "max": 241,
       "style": "IPY_MODEL_397a27875360405f9921810ac72c7536",
       "value": 241
      }
     },
     "4fdbe3485fa9443da0413b6b4cf436d7": {
      "model_module": "@jupyter-widgets/controls",
      "model_module_version": "1.5.0",
      "model_name": "DescriptionStyleModel",
      "state": {
       "description_width": ""
      }
     },
     "5397183df0f74d24baef7ee8af373995": {
      "model_module": "@jupyter-widgets/base",
      "model_module_version": "1.2.0",
      "model_name": "LayoutModel",
      "state": {}
     },
     "5509c9d84ea449d096c11739ea2b39a3": {
      "model_module": "@jupyter-widgets/controls",
      "model_module_version": "1.5.0",
      "model_name": "FloatProgressModel",
      "state": {
       "bar_style": "danger",
       "layout": "IPY_MODEL_f946174a24a04ffd99e9e5e2d7eab220",
       "max": 241,
       "style": "IPY_MODEL_0af968b8c23f4355a5b0c0d25487983a"
      }
     },
     "553eeeb499844ad491d470f6f74c499f": {
      "model_module": "@jupyter-widgets/controls",
      "model_module_version": "1.5.0",
      "model_name": "HBoxModel",
      "state": {
       "children": [
        "IPY_MODEL_b20bab8944ae4c39a375bb654394567f",
        "IPY_MODEL_5509c9d84ea449d096c11739ea2b39a3",
        "IPY_MODEL_d427419438284604814c1a85cf067a65"
       ],
       "layout": "IPY_MODEL_a81cb62ee1344b0b9bcd11ee69d9c31e"
      }
     },
     "55f87e65bbc6419ab7bef1559a545bed": {
      "model_module": "@jupyter-widgets/controls",
      "model_module_version": "1.5.0",
      "model_name": "HBoxModel",
      "state": {
       "children": [
        "IPY_MODEL_fbec4772c3a14e24ac45c1883e3300b9",
        "IPY_MODEL_fc604de6357843f5b75d67a8296e797f",
        "IPY_MODEL_0b9dc1e0cdc548a9bccfeeae4bc45407"
       ],
       "layout": "IPY_MODEL_7d56bdfcda074389a20625794fc6c2b7"
      }
     },
     "5749be363f464e03b6a3b6d4dd07ab56": {
      "model_module": "@jupyter-widgets/controls",
      "model_module_version": "1.5.0",
      "model_name": "HTMLModel",
      "state": {
       "layout": "IPY_MODEL_dc7574850d954c038903eb199b87347d",
       "style": "IPY_MODEL_6ac349b36e884acc94050c240f56554a",
       "value": " 30%"
      }
     },
     "5a3e6018106c4d8781f99bac6ee4f2b8": {
      "model_module": "@jupyter-widgets/controls",
      "model_module_version": "1.5.0",
      "model_name": "DescriptionStyleModel",
      "state": {
       "description_width": ""
      }
     },
     "5d6dca7d6c034f8cadaad5bea7d78f06": {
      "model_module": "@jupyter-widgets/base",
      "model_module_version": "1.2.0",
      "model_name": "LayoutModel",
      "state": {}
     },
     "603875d39f854ca9becba75314dbd62c": {
      "model_module": "@jupyter-widgets/base",
      "model_module_version": "1.2.0",
      "model_name": "LayoutModel",
      "state": {}
     },
     "630eeae1b4e844b7adfcf986dd3946df": {
      "model_module": "@jupyter-widgets/controls",
      "model_module_version": "1.5.0",
      "model_name": "DescriptionStyleModel",
      "state": {
       "description_width": ""
      }
     },
     "6a077ea94f754046b75f69be428fee9c": {
      "model_module": "@jupyter-widgets/controls",
      "model_module_version": "1.5.0",
      "model_name": "HTMLModel",
      "state": {
       "layout": "IPY_MODEL_212820a16be74a1d921e04438544091e",
       "style": "IPY_MODEL_eed85d28790040debbf974f7d8181dbf",
       "value": " 241/241 [02:26&lt;00:00,  1.56it/s]"
      }
     },
     "6a083fbe92dd467ab1676328e6195ac0": {
      "model_module": "@jupyter-widgets/controls",
      "model_module_version": "1.5.0",
      "model_name": "DescriptionStyleModel",
      "state": {
       "description_width": ""
      }
     },
     "6ac349b36e884acc94050c240f56554a": {
      "model_module": "@jupyter-widgets/controls",
      "model_module_version": "1.5.0",
      "model_name": "DescriptionStyleModel",
      "state": {
       "description_width": ""
      }
     },
     "6c3d165a28b943bc9c4900ae902e335f": {
      "model_module": "@jupyter-widgets/controls",
      "model_module_version": "1.5.0",
      "model_name": "HTMLModel",
      "state": {
       "layout": "IPY_MODEL_6f8882811c2343de9e5ce0844e121a91",
       "style": "IPY_MODEL_7a6ebe3791064e33abbc8a08e4b27899",
       "value": "100%"
      }
     },
     "6d6b310f38ca44f3b6241ff0a10bd69d": {
      "model_module": "@jupyter-widgets/base",
      "model_module_version": "1.2.0",
      "model_name": "LayoutModel",
      "state": {}
     },
     "6f8882811c2343de9e5ce0844e121a91": {
      "model_module": "@jupyter-widgets/base",
      "model_module_version": "1.2.0",
      "model_name": "LayoutModel",
      "state": {}
     },
     "71af4baa711f46278248f918d797d15a": {
      "model_module": "@jupyter-widgets/base",
      "model_module_version": "1.2.0",
      "model_name": "LayoutModel",
      "state": {}
     },
     "71e48b5e79f2486a8624804d1bd8a84e": {
      "model_module": "@jupyter-widgets/controls",
      "model_module_version": "1.5.0",
      "model_name": "HBoxModel",
      "state": {
       "children": [
        "IPY_MODEL_a7338b3c2a3043e1bd2e4ed451d3a2b3",
        "IPY_MODEL_72d7cf3d36514a78abef8328e8fc375f",
        "IPY_MODEL_c91932323715439992cd651b3d3c5695"
       ],
       "layout": "IPY_MODEL_d04b395dd2ad4cc3be35de3227e2c2c8"
      }
     },
     "72d7cf3d36514a78abef8328e8fc375f": {
      "model_module": "@jupyter-widgets/controls",
      "model_module_version": "1.5.0",
      "model_name": "FloatProgressModel",
      "state": {
       "bar_style": "danger",
       "layout": "IPY_MODEL_f7bd4545bce041dfb3af0635f046c92d",
       "max": 241,
       "style": "IPY_MODEL_3c44b6562ab6411d901cea387d1bd1d6"
      }
     },
     "773fd2fa3ffc40a6a9aca665ce5c83b5": {
      "model_module": "@jupyter-widgets/base",
      "model_module_version": "1.2.0",
      "model_name": "LayoutModel",
      "state": {}
     },
     "779fe0c2dfb64f4a9588534abba4c835": {
      "model_module": "@jupyter-widgets/controls",
      "model_module_version": "1.5.0",
      "model_name": "HBoxModel",
      "state": {
       "children": [
        "IPY_MODEL_e81a7e334f174f9f894509595cf272e3",
        "IPY_MODEL_0b962825709d4ce4ab36ac35dd0f3136",
        "IPY_MODEL_a1650711381d464db526d2b2907d7ed2"
       ],
       "layout": "IPY_MODEL_299577560cec45928b1c27777b80f9e0"
      }
     },
     "79c7b0ac2d0541638c7fcba64f6582ec": {
      "model_module": "@jupyter-widgets/controls",
      "model_module_version": "1.5.0",
      "model_name": "FloatProgressModel",
      "state": {
       "bar_style": "danger",
       "layout": "IPY_MODEL_b02acbe031b0452ba0c430f34a030bc2",
       "max": 241,
       "style": "IPY_MODEL_13ee5970704244cc859841fd6273e7b6",
       "value": 73
      }
     },
     "7a6ebe3791064e33abbc8a08e4b27899": {
      "model_module": "@jupyter-widgets/controls",
      "model_module_version": "1.5.0",
      "model_name": "DescriptionStyleModel",
      "state": {
       "description_width": ""
      }
     },
     "7b050e2e65d64e4889cf7accaedec762": {
      "model_module": "@jupyter-widgets/controls",
      "model_module_version": "1.5.0",
      "model_name": "HBoxModel",
      "state": {
       "children": [
        "IPY_MODEL_a291828b2d8d47f7a748e17c13b0a53e",
        "IPY_MODEL_07aaf2670a7846a2acb04370f4a8cd5d",
        "IPY_MODEL_0c715921b0d44e0d8ade831b94edc36b"
       ],
       "layout": "IPY_MODEL_7d33e10de4ab422cbbddb7fe5f04663f"
      }
     },
     "7d33e10de4ab422cbbddb7fe5f04663f": {
      "model_module": "@jupyter-widgets/base",
      "model_module_version": "1.2.0",
      "model_name": "LayoutModel",
      "state": {}
     },
     "7d56bdfcda074389a20625794fc6c2b7": {
      "model_module": "@jupyter-widgets/base",
      "model_module_version": "1.2.0",
      "model_name": "LayoutModel",
      "state": {}
     },
     "7d74d3786b874b44a3b59ce3801d64ed": {
      "model_module": "@jupyter-widgets/controls",
      "model_module_version": "1.5.0",
      "model_name": "DescriptionStyleModel",
      "state": {
       "description_width": ""
      }
     },
     "7e962d19d60842d7b0860f9b9ccb310d": {
      "model_module": "@jupyter-widgets/controls",
      "model_module_version": "1.5.0",
      "model_name": "FloatProgressModel",
      "state": {
       "bar_style": "danger",
       "layout": "IPY_MODEL_43c8dfdf2e8c4c6faf5e49d5717009c3",
       "max": 241,
       "style": "IPY_MODEL_2251681187e847d4a3726bd1985c3edd",
       "value": 30
      }
     },
     "83d9fb5dba61484fbe1129ab3b090603": {
      "model_module": "@jupyter-widgets/base",
      "model_module_version": "1.2.0",
      "model_name": "LayoutModel",
      "state": {}
     },
     "84b18544dac7456db3010c7834d7c779": {
      "model_module": "@jupyter-widgets/base",
      "model_module_version": "1.2.0",
      "model_name": "LayoutModel",
      "state": {}
     },
     "8522db58746f47929cd960b554ae715c": {
      "model_module": "@jupyter-widgets/controls",
      "model_module_version": "1.5.0",
      "model_name": "HTMLModel",
      "state": {
       "layout": "IPY_MODEL_773fd2fa3ffc40a6a9aca665ce5c83b5",
       "style": "IPY_MODEL_630eeae1b4e844b7adfcf986dd3946df",
       "value": " 241/241 [00:00&lt;00:00, 18953.49it/s]"
      }
     },
     "8748881941a849e3a911d3e782f1f652": {
      "model_module": "@jupyter-widgets/controls",
      "model_module_version": "1.5.0",
      "model_name": "FloatProgressModel",
      "state": {
       "bar_style": "success",
       "layout": "IPY_MODEL_c279e4c0655744428c60534a3b0b856b",
       "max": 241,
       "style": "IPY_MODEL_8ab2819fdff149dda000281afead9729",
       "value": 241
      }
     },
     "88cffdc6453a4ababc558bbf8781db69": {
      "model_module": "@jupyter-widgets/base",
      "model_module_version": "1.2.0",
      "model_name": "LayoutModel",
      "state": {}
     },
     "898ee782a88c4119aab6cacad2314b98": {
      "model_module": "@jupyter-widgets/base",
      "model_module_version": "1.2.0",
      "model_name": "LayoutModel",
      "state": {}
     },
     "8ab2819fdff149dda000281afead9729": {
      "model_module": "@jupyter-widgets/controls",
      "model_module_version": "1.5.0",
      "model_name": "ProgressStyleModel",
      "state": {
       "description_width": ""
      }
     },
     "8bacfe4945934f8c85d78ea1884432f8": {
      "model_module": "@jupyter-widgets/controls",
      "model_module_version": "1.5.0",
      "model_name": "DescriptionStyleModel",
      "state": {
       "description_width": ""
      }
     },
     "8f4ce51bf69741989a40b02ec388fef3": {
      "model_module": "@jupyter-widgets/base",
      "model_module_version": "1.2.0",
      "model_name": "LayoutModel",
      "state": {}
     },
     "960d1615249748809a50b7508df5cabc": {
      "model_module": "@jupyter-widgets/base",
      "model_module_version": "1.2.0",
      "model_name": "LayoutModel",
      "state": {}
     },
     "9ccd3b481e0742c4bf69f915281532e4": {
      "model_module": "@jupyter-widgets/controls",
      "model_module_version": "1.5.0",
      "model_name": "FloatProgressModel",
      "state": {
       "bar_style": "success",
       "layout": "IPY_MODEL_0736fd8fb0bf476089318050a446fa47",
       "max": 241,
       "style": "IPY_MODEL_385a8468df05462bbfc3e4627a02cc62",
       "value": 241
      }
     },
     "9df13ac992ec48ea82f76caa28b8cfec": {
      "model_module": "@jupyter-widgets/controls",
      "model_module_version": "1.5.0",
      "model_name": "FloatProgressModel",
      "state": {
       "bar_style": "danger",
       "layout": "IPY_MODEL_e007b2146093471e8b9223c00c2fe284",
       "max": 241,
       "style": "IPY_MODEL_a75dfd1b1cb147af9c46ca87ed16a59b",
       "value": 30
      }
     },
     "a1650711381d464db526d2b2907d7ed2": {
      "model_module": "@jupyter-widgets/controls",
      "model_module_version": "1.5.0",
      "model_name": "HTMLModel",
      "state": {
       "layout": "IPY_MODEL_1d12e835ee8346f09dd43566011fa0b1",
       "style": "IPY_MODEL_4fdbe3485fa9443da0413b6b4cf436d7",
       "value": " 3/241 [00:01&lt;04:46,  1.21s/it]"
      }
     },
     "a28da44b102c434b844fbc3c80c400bf": {
      "model_module": "@jupyter-widgets/controls",
      "model_module_version": "1.5.0",
      "model_name": "DescriptionStyleModel",
      "state": {
       "description_width": ""
      }
     },
     "a291828b2d8d47f7a748e17c13b0a53e": {
      "model_module": "@jupyter-widgets/controls",
      "model_module_version": "1.5.0",
      "model_name": "HTMLModel",
      "state": {
       "layout": "IPY_MODEL_1de7d1ff1c36437fb0026be30f0c6444",
       "style": "IPY_MODEL_112e8cb507a144c98917fe6ad5fb8699",
       "value": "100%"
      }
     },
     "a64a7aef361147a18ca9c5c54c9bce4c": {
      "model_module": "@jupyter-widgets/base",
      "model_module_version": "1.2.0",
      "model_name": "LayoutModel",
      "state": {}
     },
     "a7338b3c2a3043e1bd2e4ed451d3a2b3": {
      "model_module": "@jupyter-widgets/controls",
      "model_module_version": "1.5.0",
      "model_name": "HTMLModel",
      "state": {
       "layout": "IPY_MODEL_a98ee14f96d54d04a6c76c3823a130a8",
       "style": "IPY_MODEL_da04ee8d2058408b93c8e6cba1bcf50d",
       "value": "  0%"
      }
     },
     "a75dfd1b1cb147af9c46ca87ed16a59b": {
      "model_module": "@jupyter-widgets/controls",
      "model_module_version": "1.5.0",
      "model_name": "ProgressStyleModel",
      "state": {
       "description_width": ""
      }
     },
     "a79fb778404048a3acbc150f56cdd1ab": {
      "model_module": "@jupyter-widgets/controls",
      "model_module_version": "1.5.0",
      "model_name": "HTMLModel",
      "state": {
       "layout": "IPY_MODEL_603875d39f854ca9becba75314dbd62c",
       "style": "IPY_MODEL_1163a6654c334e0089ae8df3f50e3356",
       "value": " 12%"
      }
     },
     "a81cb62ee1344b0b9bcd11ee69d9c31e": {
      "model_module": "@jupyter-widgets/base",
      "model_module_version": "1.2.0",
      "model_name": "LayoutModel",
      "state": {}
     },
     "a8a311ee1d4642d4997a9d38a50bb5c7": {
      "model_module": "@jupyter-widgets/base",
      "model_module_version": "1.2.0",
      "model_name": "LayoutModel",
      "state": {}
     },
     "a98ee14f96d54d04a6c76c3823a130a8": {
      "model_module": "@jupyter-widgets/base",
      "model_module_version": "1.2.0",
      "model_name": "LayoutModel",
      "state": {}
     },
     "ab2a0321a71f411d95ff38f146085df0": {
      "model_module": "@jupyter-widgets/controls",
      "model_module_version": "1.5.0",
      "model_name": "FloatProgressModel",
      "state": {
       "bar_style": "danger",
       "layout": "IPY_MODEL_1507d961c1da40b99475b9d16008e3d5",
       "max": 241,
       "style": "IPY_MODEL_de33550691de4070bfaca95fb44affc9",
       "value": 30
      }
     },
     "b02acbe031b0452ba0c430f34a030bc2": {
      "model_module": "@jupyter-widgets/base",
      "model_module_version": "1.2.0",
      "model_name": "LayoutModel",
      "state": {}
     },
     "b20bab8944ae4c39a375bb654394567f": {
      "model_module": "@jupyter-widgets/controls",
      "model_module_version": "1.5.0",
      "model_name": "HTMLModel",
      "state": {
       "layout": "IPY_MODEL_ea946bbe057a41d487ff05481df08546",
       "style": "IPY_MODEL_a28da44b102c434b844fbc3c80c400bf",
       "value": "  0%"
      }
     },
     "b4ae6d6508454abeae09a5c2601d4b8f": {
      "model_module": "@jupyter-widgets/controls",
      "model_module_version": "1.5.0",
      "model_name": "HBoxModel",
      "state": {
       "children": [
        "IPY_MODEL_b68283bccdde402ca7e81446c754e171",
        "IPY_MODEL_9ccd3b481e0742c4bf69f915281532e4",
        "IPY_MODEL_6a077ea94f754046b75f69be428fee9c"
       ],
       "layout": "IPY_MODEL_71af4baa711f46278248f918d797d15a"
      }
     },
     "b68283bccdde402ca7e81446c754e171": {
      "model_module": "@jupyter-widgets/controls",
      "model_module_version": "1.5.0",
      "model_name": "HTMLModel",
      "state": {
       "layout": "IPY_MODEL_88cffdc6453a4ababc558bbf8781db69",
       "style": "IPY_MODEL_3590f929aa75400fba27cc86eaaa15a8",
       "value": "100%"
      }
     },
     "ba784d17638442bb9d87ff6a8ab870ad": {
      "model_module": "@jupyter-widgets/controls",
      "model_module_version": "1.5.0",
      "model_name": "DescriptionStyleModel",
      "state": {
       "description_width": ""
      }
     },
     "bbb1a65b06774ba0a088f653e5aae444": {
      "model_module": "@jupyter-widgets/base",
      "model_module_version": "1.2.0",
      "model_name": "LayoutModel",
      "state": {}
     },
     "bcd9a3473cba4970a8b29d9904f07be8": {
      "model_module": "@jupyter-widgets/controls",
      "model_module_version": "1.5.0",
      "model_name": "HBoxModel",
      "state": {
       "children": [
        "IPY_MODEL_6c3d165a28b943bc9c4900ae902e335f",
        "IPY_MODEL_491b472fccf649d9815910d61977ab75",
        "IPY_MODEL_c6a54b61500c457eb093b089d7029a10"
       ],
       "layout": "IPY_MODEL_146ac5972edc429ba3ce0588eec2e6d2"
      }
     },
     "c0d602e0de144f6bac5ef07747e32c06": {
      "model_module": "@jupyter-widgets/controls",
      "model_module_version": "1.5.0",
      "model_name": "HBoxModel",
      "state": {
       "children": [
        "IPY_MODEL_5749be363f464e03b6a3b6d4dd07ab56",
        "IPY_MODEL_79c7b0ac2d0541638c7fcba64f6582ec",
        "IPY_MODEL_f669e702584448eda83830ae54291e8a"
       ],
       "layout": "IPY_MODEL_04a6914b05ca46e1940cf6dc0eb51212"
      }
     },
     "c279e4c0655744428c60534a3b0b856b": {
      "model_module": "@jupyter-widgets/base",
      "model_module_version": "1.2.0",
      "model_name": "LayoutModel",
      "state": {}
     },
     "c607e67995024b099b54b56a4d5ef31b": {
      "model_module": "@jupyter-widgets/controls",
      "model_module_version": "1.5.0",
      "model_name": "ProgressStyleModel",
      "state": {
       "description_width": ""
      }
     },
     "c6a54b61500c457eb093b089d7029a10": {
      "model_module": "@jupyter-widgets/controls",
      "model_module_version": "1.5.0",
      "model_name": "HTMLModel",
      "state": {
       "layout": "IPY_MODEL_84b18544dac7456db3010c7834d7c779",
       "style": "IPY_MODEL_17d0a03ca3d94ec58dbd30b0017b092a",
       "value": " 241/241 [00:00&lt;00:00, 22727.48it/s]"
      }
     },
     "c71a5ba4f6614d688d4b58e63f5603ec": {
      "model_module": "@jupyter-widgets/controls",
      "model_module_version": "1.5.0",
      "model_name": "DescriptionStyleModel",
      "state": {
       "description_width": ""
      }
     },
     "c91932323715439992cd651b3d3c5695": {
      "model_module": "@jupyter-widgets/controls",
      "model_module_version": "1.5.0",
      "model_name": "HTMLModel",
      "state": {
       "layout": "IPY_MODEL_47c97a18a36642958ed419f2c8fb2b43",
       "style": "IPY_MODEL_8bacfe4945934f8c85d78ea1884432f8",
       "value": " 0/241 [00:08&lt;?, ?it/s]"
      }
     },
     "ca8a195fdbd449c79cb5f6f96ebdf7c2": {
      "model_module": "@jupyter-widgets/controls",
      "model_module_version": "1.5.0",
      "model_name": "HBoxModel",
      "state": {
       "children": [
        "IPY_MODEL_03c1fc3949fc4302a6cb990b0e4c00f5",
        "IPY_MODEL_8748881941a849e3a911d3e782f1f652",
        "IPY_MODEL_8522db58746f47929cd960b554ae715c"
       ],
       "layout": "IPY_MODEL_898ee782a88c4119aab6cacad2314b98"
      }
     },
     "cd8ab20c27ce438d814587bc2169d1d6": {
      "model_module": "@jupyter-widgets/controls",
      "model_module_version": "1.5.0",
      "model_name": "ProgressStyleModel",
      "state": {
       "description_width": ""
      }
     },
     "d0024c9dcef44754a80b996479a9d412": {
      "model_module": "@jupyter-widgets/base",
      "model_module_version": "1.2.0",
      "model_name": "LayoutModel",
      "state": {}
     },
     "d04b395dd2ad4cc3be35de3227e2c2c8": {
      "model_module": "@jupyter-widgets/base",
      "model_module_version": "1.2.0",
      "model_name": "LayoutModel",
      "state": {}
     },
     "d427419438284604814c1a85cf067a65": {
      "model_module": "@jupyter-widgets/controls",
      "model_module_version": "1.5.0",
      "model_name": "HTMLModel",
      "state": {
       "layout": "IPY_MODEL_d0024c9dcef44754a80b996479a9d412",
       "style": "IPY_MODEL_3a859cad48aa4cfe9340ad172eebb61a",
       "value": " 0/241 [00:01&lt;?, ?it/s]"
      }
     },
     "da04ee8d2058408b93c8e6cba1bcf50d": {
      "model_module": "@jupyter-widgets/controls",
      "model_module_version": "1.5.0",
      "model_name": "DescriptionStyleModel",
      "state": {
       "description_width": ""
      }
     },
     "dbfba89237174317963dca7a346c3e94": {
      "model_module": "@jupyter-widgets/base",
      "model_module_version": "1.2.0",
      "model_name": "LayoutModel",
      "state": {}
     },
     "dc7574850d954c038903eb199b87347d": {
      "model_module": "@jupyter-widgets/base",
      "model_module_version": "1.2.0",
      "model_name": "LayoutModel",
      "state": {}
     },
     "de33550691de4070bfaca95fb44affc9": {
      "model_module": "@jupyter-widgets/controls",
      "model_module_version": "1.5.0",
      "model_name": "ProgressStyleModel",
      "state": {
       "description_width": ""
      }
     },
     "df1e162cbe324fb2b5d031d6a7fd451d": {
      "model_module": "@jupyter-widgets/controls",
      "model_module_version": "1.5.0",
      "model_name": "DescriptionStyleModel",
      "state": {
       "description_width": ""
      }
     },
     "e007b2146093471e8b9223c00c2fe284": {
      "model_module": "@jupyter-widgets/base",
      "model_module_version": "1.2.0",
      "model_name": "LayoutModel",
      "state": {}
     },
     "e81a7e334f174f9f894509595cf272e3": {
      "model_module": "@jupyter-widgets/controls",
      "model_module_version": "1.5.0",
      "model_name": "HTMLModel",
      "state": {
       "layout": "IPY_MODEL_5d6dca7d6c034f8cadaad5bea7d78f06",
       "style": "IPY_MODEL_df1e162cbe324fb2b5d031d6a7fd451d",
       "value": "  1%"
      }
     },
     "ea946bbe057a41d487ff05481df08546": {
      "model_module": "@jupyter-widgets/base",
      "model_module_version": "1.2.0",
      "model_name": "LayoutModel",
      "state": {}
     },
     "eb1c4072dd324ca5a32e48935444e59e": {
      "model_module": "@jupyter-widgets/base",
      "model_module_version": "1.2.0",
      "model_name": "LayoutModel",
      "state": {}
     },
     "eed85d28790040debbf974f7d8181dbf": {
      "model_module": "@jupyter-widgets/controls",
      "model_module_version": "1.5.0",
      "model_name": "DescriptionStyleModel",
      "state": {
       "description_width": ""
      }
     },
     "f2fdaa0db53741c18f70a050e3ddb94b": {
      "model_module": "@jupyter-widgets/controls",
      "model_module_version": "1.5.0",
      "model_name": "DescriptionStyleModel",
      "state": {
       "description_width": ""
      }
     },
     "f4473a8d46234bcc83d0def82037d347": {
      "model_module": "@jupyter-widgets/base",
      "model_module_version": "1.2.0",
      "model_name": "LayoutModel",
      "state": {}
     },
     "f669e702584448eda83830ae54291e8a": {
      "model_module": "@jupyter-widgets/controls",
      "model_module_version": "1.5.0",
      "model_name": "HTMLModel",
      "state": {
       "layout": "IPY_MODEL_a64a7aef361147a18ca9c5c54c9bce4c",
       "style": "IPY_MODEL_f2fdaa0db53741c18f70a050e3ddb94b",
       "value": " 73/241 [01:29&lt;02:38,  1.06it/s]"
      }
     },
     "f762252266d3469d97b7d0701055a89d": {
      "model_module": "@jupyter-widgets/controls",
      "model_module_version": "1.5.0",
      "model_name": "DescriptionStyleModel",
      "state": {
       "description_width": ""
      }
     },
     "f7bd4545bce041dfb3af0635f046c92d": {
      "model_module": "@jupyter-widgets/base",
      "model_module_version": "1.2.0",
      "model_name": "LayoutModel",
      "state": {}
     },
     "f946174a24a04ffd99e9e5e2d7eab220": {
      "model_module": "@jupyter-widgets/base",
      "model_module_version": "1.2.0",
      "model_name": "LayoutModel",
      "state": {}
     },
     "fbec4772c3a14e24ac45c1883e3300b9": {
      "model_module": "@jupyter-widgets/controls",
      "model_module_version": "1.5.0",
      "model_name": "HTMLModel",
      "state": {
       "layout": "IPY_MODEL_5397183df0f74d24baef7ee8af373995",
       "style": "IPY_MODEL_6a083fbe92dd467ab1676328e6195ac0",
       "value": "100%"
      }
     },
     "fc604de6357843f5b75d67a8296e797f": {
      "model_module": "@jupyter-widgets/controls",
      "model_module_version": "1.5.0",
      "model_name": "FloatProgressModel",
      "state": {
       "bar_style": "success",
       "layout": "IPY_MODEL_f4473a8d46234bcc83d0def82037d347",
       "max": 241,
       "style": "IPY_MODEL_3ecd038405ac4b90aae1a4916c340938",
       "value": 241
      }
     },
     "ffe58cc222ed40dbb9a05d3a513f49f9": {
      "model_module": "@jupyter-widgets/controls",
      "model_module_version": "1.5.0",
      "model_name": "HBoxModel",
      "state": {
       "children": [
        "IPY_MODEL_20d958a176154159afbbbb1ebfbe5caf",
        "IPY_MODEL_9df13ac992ec48ea82f76caa28b8cfec",
        "IPY_MODEL_1a016446e9ec488bb85818bf7e760d49"
       ],
       "layout": "IPY_MODEL_2fd4e94b329c426aad039b78de4434a3"
      }
     }
    },
    "version_major": 2,
    "version_minor": 0
   }
  }
 },
 "nbformat": 4,
 "nbformat_minor": 5
}
