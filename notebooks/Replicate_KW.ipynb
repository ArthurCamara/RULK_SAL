{
 "cells": [
  {
   "cell_type": "code",
   "execution_count": 1,
   "id": "5ce8331d-b878-47f8-87ad-8795933e3718",
   "metadata": {
    "execution": {
     "iopub.execute_input": "2022-06-28T15:00:31.607502Z",
     "iopub.status.busy": "2022-06-28T15:00:31.606831Z",
     "iopub.status.idle": "2022-06-28T15:00:32.573649Z",
     "shell.execute_reply": "2022-06-28T15:00:32.572415Z",
     "shell.execute_reply.started": "2022-06-28T15:00:31.607354Z"
    },
    "tags": []
   },
   "outputs": [],
   "source": [
    "import json\n",
    "import re\n",
    "import urllib\n",
    "\n",
    "from collections import Counter, OrderedDict, defaultdict\n",
    "from pprint import pprint\n",
    "\n",
    "import numpy as np\n",
    "import yake\n",
    "\n",
    "from nltk import ngrams\n",
    "from nltk.stem import PorterStemmer\n",
    "from scipy.spatial.distance import cosine\n",
    "from scipy.stats import kendalltau, pearsonr, spearmanr\n",
    "from sklearn.preprocessing import normalize\n",
    "from tqdm.auto import tqdm"
   ]
  },
  {
   "cell_type": "markdown",
   "id": "9a296202-1e7c-46c0-af43-a57f07bf1cf3",
   "metadata": {},
   "source": [
    "# Extract keywords from Wikipedia text"
   ]
  },
  {
   "cell_type": "code",
   "execution_count": 25,
   "id": "762865c6-0f10-4838-a830-fdee2264d136",
   "metadata": {
    "execution": {
     "iopub.execute_input": "2022-06-28T15:12:13.928902Z",
     "iopub.status.busy": "2022-06-28T15:12:13.928334Z",
     "iopub.status.idle": "2022-06-28T15:12:13.938995Z",
     "shell.execute_reply": "2022-06-28T15:12:13.937665Z",
     "shell.execute_reply.started": "2022-06-28T15:12:13.928848Z"
    },
    "tags": []
   },
   "outputs": [],
   "source": [
    "top_k = 10\n",
    "max_n_grams = 3\n",
    "\n",
    "kw_extractors = [None]\n",
    "kw_extractors += [yake.KeywordExtractor(n=i + 1, top=top_k*2) for i in range(max_n_grams)]"
   ]
  },
  {
   "cell_type": "code",
   "execution_count": 26,
   "id": "598428fd-36bb-4275-9056-9e2e98039da4",
   "metadata": {
    "execution": {
     "iopub.execute_input": "2022-06-28T15:12:14.348851Z",
     "iopub.status.busy": "2022-06-28T15:12:14.348285Z",
     "iopub.status.idle": "2022-06-28T15:12:14.363121Z",
     "shell.execute_reply": "2022-06-28T15:12:14.362261Z",
     "shell.execute_reply.started": "2022-06-28T15:12:14.348796Z"
    },
    "tags": []
   },
   "outputs": [],
   "source": [
    "def stem_text(text):\n",
    "    stemmer = PorterStemmer()\n",
    "    return [stemmer.stem(x) for x in text.split()]\n",
    "\n",
    "\n",
    "def get_kw(text, max_ngram_size=2, return_scores = False):\n",
    "    if return_scores:\n",
    "        return kw_extractors[max_ngram_size].extract_keywords(text)\n",
    "        \n",
    "    return [x[0] for x in kw_extractors[max_ngram_size].extract_keywords(text)]\n",
    "\n",
    "\n",
    "def get_all_n_grams(text, n_max=max_n_grams):\n",
    "    all_grams = []\n",
    "    for n in range(1, n_max + 1):\n",
    "        all_grams += [\" \".join(x) for x in ngrams(text, n=n)]\n",
    "    return all_grams\n",
    "\n",
    "\n",
    "def clean_text(text):\n",
    "    c_text = text.lower().replace(\"\\t\\n\", \" \")  # lowecase, remove tabs and new lines\n",
    "    c_text = re.sub(r\"[^ \\w+]\", \"\", c_text)  # remove punctuations and non-alpha\n",
    "    return c_text"
   ]
  },
  {
   "cell_type": "code",
   "execution_count": 40,
   "id": "65849563-8c0b-4886-9cc5-1ec8bc61f2a6",
   "metadata": {
    "execution": {
     "iopub.execute_input": "2022-06-28T15:16:18.027937Z",
     "iopub.status.busy": "2022-06-28T15:16:18.027257Z",
     "iopub.status.idle": "2022-06-28T15:16:21.036380Z",
     "shell.execute_reply": "2022-06-28T15:16:21.035290Z",
     "shell.execute_reply.started": "2022-06-28T15:16:18.027878Z"
    },
    "tags": []
   },
   "outputs": [],
   "source": [
    "keywords_yake = defaultdict(lambda: {})\n",
    "tks_s = defaultdict(lambda: {})\n",
    "tks_s_norm = defaultdict(lambda: {})\n",
    "\n",
    "for l in open(\"../data/wikipedia_texts.tsv\"):\n",
    "    topic, text = l.strip().split(\"\\t\", maxsplit=1)\n",
    "    stemmed_text = stem_text(clean_text(text))\n",
    "    all_n_grams = get_all_n_grams(stemmed_text)\n",
    "    for i in range(1, max_n_grams + 1):\n",
    "        kws = get_kw(clean_text(text), i)  # Get keywords with YAKE\n",
    "        kws = stem_text(\" \".join(kws)) # Stem keywords\n",
    "        kws = list(dict.fromkeys(kws))[:10] # Remove duplicates, get only the top-10\n",
    "        assert len(set(kws)) == 10\n",
    "        c = Counter([x for x in all_n_grams if x in kws])  # Count occurences within the text\n",
    "        assert len((set(kws)).difference(set(c.keys()))) == 0  # Make sure there is no 0s here\n",
    "        tks_s[i][topic] = np.asarray([c[x] for x in kws])  # Ensure order of \"embedding\" and save in dict\n",
    "        tks_s_norm[i][topic] = normalize(np.asarray([c[x] for x in kws]).reshape(1, -1)).flatten()  # Normalize\n",
    "        keywords_yake[i][topic] = kws  # store kws in a dict"
   ]
  },
  {
   "cell_type": "markdown",
   "id": "b167afaf-88b3-4532-91aa-999d832b63b7",
   "metadata": {},
   "source": [
    "# Embeddings of clicked documents"
   ]
  },
  {
   "cell_type": "code",
   "execution_count": 41,
   "id": "5e41b0dc-a158-4b8d-b561-7bf17c2e4b75",
   "metadata": {
    "execution": {
     "iopub.execute_input": "2022-06-28T15:16:21.310101Z",
     "iopub.status.busy": "2022-06-28T15:16:21.309816Z",
     "iopub.status.idle": "2022-06-28T15:16:54.756673Z",
     "shell.execute_reply": "2022-06-28T15:16:54.755749Z",
     "shell.execute_reply.started": "2022-06-28T15:16:21.310072Z"
    },
    "tags": []
   },
   "outputs": [
    {
     "data": {
      "application/vnd.jupyter.widget-view+json": {
       "model_id": "66f818558d574feaac6f31abc7a30772",
       "version_major": 2,
       "version_minor": 0
      },
      "text/plain": [
       "  0%|          | 0/1074 [00:00<?, ?it/s]"
      ]
     },
     "metadata": {},
     "output_type": "display_data"
    }
   ],
   "source": [
    "docs_yake_embeddings = defaultdict(lambda: {})\n",
    "docs_yake_embeddings_norm = defaultdict(lambda: {})\n",
    "\n",
    "for idx, line in tqdm(enumerate(open(\"../data/clicked_docs_with_topics.tsv\")), total=1074):\n",
    "    if idx % 100 == 0:\n",
    "        print(f\"{idx}/1074\")\n",
    "    try:\n",
    "        url, topic, text = line.strip().split(\"\\t\", maxsplit=2)\n",
    "    except ValueError:\n",
    "        continue\n",
    "    stemmed_doc = stem_text(clean_text(text))\n",
    "    all_n_grams = get_all_n_grams(stemmed_doc)\n",
    "    for i in range(1, max_n_grams + 1):\n",
    "        c = Counter([x for x in all_n_grams if x in keywords_yake[i][topic]])\n",
    "        docs_yake_embeddings[i][url] = np.asarray([c[x] for x in keywords_yake[i][topic]])\n",
    "        docs_yake_embeddings_norm[i][url] = normalize(docs_yake_embeddings[i][url].reshape(1, -1)).flatten()"
   ]
  },
  {
   "cell_type": "markdown",
   "id": "65f0e2bb-594d-4e1e-ad9f-44d65d84895f",
   "metadata": {},
   "source": [
    "# Knowledge estimation"
   ]
  },
  {
   "cell_type": "code",
   "execution_count": 61,
   "id": "b80c463e-313c-4314-90ed-cce558d19628",
   "metadata": {
    "execution": {
     "iopub.execute_input": "2022-06-28T15:30:20.324903Z",
     "iopub.status.busy": "2022-06-28T15:30:20.324234Z",
     "iopub.status.idle": "2022-06-28T15:30:20.340086Z",
     "shell.execute_reply": "2022-06-28T15:30:20.338672Z",
     "shell.execute_reply.started": "2022-06-28T15:30:20.324852Z"
    },
    "tags": []
   },
   "outputs": [],
   "source": [
    "normalized = True\n",
    "users_knowledge = []\n",
    "dataset = json.load(open(\"../data/logs_with_position.json\"))\n",
    "final_knowledges = defaultdict(OrderedDict)\n",
    "final_knowledges_norm = defaultdict(OrderedDict)\n",
    "valid_urls = docs_yake_embeddings[i].keys()\n",
    "f_dist = cosine\n",
    "\n",
    "\n",
    "def trim_upper_limit(cks, tks):\n",
    "    return np.asarray([min(cks[i], tks[i]) for i in range(len(cks))])"
   ]
  },
  {
   "cell_type": "code",
   "execution_count": 62,
   "id": "a581abc5-f121-4bfc-a491-0ecb530e12b4",
   "metadata": {
    "execution": {
     "iopub.execute_input": "2022-06-28T15:30:20.679453Z",
     "iopub.status.busy": "2022-06-28T15:30:20.678873Z",
     "iopub.status.idle": "2022-06-28T15:30:20.904749Z",
     "shell.execute_reply": "2022-06-28T15:30:20.903956Z",
     "shell.execute_reply.started": "2022-06-28T15:30:20.679397Z"
    },
    "tags": []
   },
   "outputs": [],
   "source": [
    "for u in dataset:\n",
    "    u_id = u[\"userID\"]\n",
    "    ALG = u[\"ALG\"]\n",
    "    RPL = u[\"RPL\"]\n",
    "    topic = urllib.parse.quote(u[\"topic_title\"])\n",
    "    cks_s = {i: [0] * len(keywords_yake[i][topic]) for i in range(1, max_n_grams + 1)}\n",
    "    cks_s_norm = {i: [0] * len(keywords_yake[i][topic]) for i in range(1, max_n_grams + 1)}\n",
    "    \n",
    "    cks_s_ceil = {i: [0] * len(keywords_yake[i][topic]) for i in range(1, max_n_grams + 1)}\n",
    "    cks_s_ceil_norm = {i: [0] * len(keywords_yake[i][topic]) for i in range(1, max_n_grams + 1)}\n",
    "\n",
    "    for d in u[\"clicks\"]:\n",
    "        url = d[\"url\"]\n",
    "        if url not in valid_urls:\n",
    "            continue\n",
    "        for i in range(1, max_n_grams + 1):\n",
    "            cks_s[i] += docs_yake_embeddings[i][url]\n",
    "            cks_s_ceil[i] += trim_upper_limit(docs_yake_embeddings[i][url], tks_s[i][topic])\n",
    "            \n",
    "            cks_s_norm[i] += docs_yake_embeddings_norm[i][url]\n",
    "            cks_s_ceil_norm[i] += trim_upper_limit(docs_yake_embeddings_norm[i][url], tks_s_norm[i][topic])\n",
    "            \n",
    "    # normalized vs un-normalized\n",
    "    for i in range(1, max_n_grams + 1):\n",
    "        final_knowledges[f\"{i}\"][u_id] = {\n",
    "            \"RPL\": RPL,\n",
    "            \"ALG\": ALG,\n",
    "            \"final_sim\": 1 - f_dist(cks_s[i], tks_s[i][topic]),\n",
    "        }\n",
    "        final_knowledges[f\"{i}_norm\"][u_id] = {\n",
    "            \"RPL\": RPL,\n",
    "            \"ALG\": ALG,\n",
    "            \"final_sim\": 1 - f_dist(cks_s_norm[i], tks_s_norm[i][topic]),\n",
    "        }\n",
    "        final_knowledges[f\"{i}_ceil\"][u_id] = {\n",
    "            \"RPL\": RPL,\n",
    "            \"ALG\": ALG,\n",
    "            \"final_sim\": 1 - f_dist(cks_s_ceil[i], tks_s[i][topic]),\n",
    "        }\n",
    "        final_knowledges[f\"{i}_ceil_norm\"][u_id] = {\n",
    "            \"RPL\": RPL,\n",
    "            \"ALG\": ALG,\n",
    "            \"final_sim\": 1 - f_dist(cks_s_ceil_norm[i], tks_s_norm[i][topic]),\n",
    "        }"
   ]
  },
  {
   "cell_type": "code",
   "execution_count": 63,
   "id": "8f3c86dd-dcab-425f-84b3-e108ab2d3ff3",
   "metadata": {
    "execution": {
     "iopub.execute_input": "2022-06-28T15:30:26.507947Z",
     "iopub.status.busy": "2022-06-28T15:30:26.507406Z",
     "iopub.status.idle": "2022-06-28T15:30:26.528141Z",
     "shell.execute_reply": "2022-06-28T15:30:26.527269Z",
     "shell.execute_reply.started": "2022-06-28T15:30:26.507895Z"
    },
    "tags": []
   },
   "outputs": [
    {
     "name": "stdout",
     "output_type": "stream",
     "text": [
      "[('3', (0.3039136843607386, 0.0005135112025245985)),\n",
      " ('3_norm', (0.2844631123878325, 0.0011899694757848593)),\n",
      " ('1_norm', (0.23197175163536946, 0.00868428296746364)),\n",
      " ('3_ceil_norm', (0.22758595200716975, 0.010074383187389579)),\n",
      " ('3_ceil', (0.2195274428474504, 0.013145019476534403)),\n",
      " ('2', (0.2156041447125589, 0.01491588031976827)),\n",
      " ('2_ceil_norm', (0.20866583166321645, 0.018559054097283884)),\n",
      " ('2_ceil', (0.20660535399405, 0.0197793958284606)),\n",
      " ('1_ceil_norm', (0.20355512535422587, 0.02171277247387708)),\n",
      " ('1_ceil', (0.19754585937546787, 0.026000567691690304)),\n",
      " ('2_norm', (0.18204687457827934, 0.040517921559252615)),\n",
      " ('1', (0.15625594584281702, 0.07937966417687231))]\n"
     ]
    }
   ],
   "source": [
    "RPLs = []\n",
    "ALGs = []\n",
    "u_ids = [u[\"userID\"] for u in dataset]\n",
    "\n",
    "pearsons_ALG = {}\n",
    "corr_ALG = {}\n",
    "\n",
    "for m in final_knowledges:\n",
    "    u_ids = final_knowledges[m].keys()\n",
    "    ALGs = [final_knowledges[m][u][\"ALG\"] for u in u_ids]\n",
    "    RPLs = [final_knowledges[m][u][\"RPL\"] for u in u_ids]\n",
    "    results = [final_knowledges[m][u][\"final_sim\"] for u in u_ids]\n",
    "\n",
    "    # results = [_users[x][\"final_sim\"] for x in u_ids if x in _users]\n",
    "    pearsons_ALG[m] = pearsonr(results, RPLs)\n",
    "    pearsons_ALG[m] = pearsonr(results, ALGs)\n",
    "\n",
    "pprint(sorted(pearsons_ALG.items(), key=lambda x: x[1], reverse=True))"
   ]
  }
 ],
 "metadata": {
  "kernelspec": {
   "display_name": "DESIRES",
   "language": "python",
   "name": "desires"
  },
  "language_info": {
   "codemirror_mode": {
    "name": "ipython",
    "version": 3
   },
   "file_extension": ".py",
   "mimetype": "text/x-python",
   "name": "python",
   "nbconvert_exporter": "python",
   "pygments_lexer": "ipython3",
   "version": "3.9.10"
  }
 },
 "nbformat": 4,
 "nbformat_minor": 5
}
