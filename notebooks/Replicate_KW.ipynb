{
 "cells": [
  {
   "cell_type": "code",
   "execution_count": 78,
   "id": "96f53043-0386-4b30-92b4-a7a09c10d9ed",
   "metadata": {
    "execution": {
     "iopub.execute_input": "2022-06-28T09:14:10.181782Z",
     "iopub.status.busy": "2022-06-28T09:14:10.181059Z",
     "iopub.status.idle": "2022-06-28T09:14:10.191033Z",
     "shell.execute_reply": "2022-06-28T09:14:10.189811Z",
     "shell.execute_reply.started": "2022-06-28T09:14:10.181726Z"
    }
   },
   "outputs": [
    {
     "data": {
      "text/plain": [
       "type"
      ]
     },
     "execution_count": 78,
     "metadata": {},
     "output_type": "execute_result"
    }
   ],
   "source": [
    "type(tqdm)"
   ]
  },
  {
   "cell_type": "code",
   "execution_count": 199,
   "id": "5ce8331d-b878-47f8-87ad-8795933e3718",
   "metadata": {
    "execution": {
     "iopub.execute_input": "2022-06-28T09:55:05.455276Z",
     "iopub.status.busy": "2022-06-28T09:55:05.454718Z",
     "iopub.status.idle": "2022-06-28T09:55:05.463402Z",
     "shell.execute_reply": "2022-06-28T09:55:05.462023Z",
     "shell.execute_reply.started": "2022-06-28T09:55:05.455222Z"
    },
    "tags": []
   },
   "outputs": [],
   "source": [
    "import urllib\n",
    "\n",
    "from collections import Counter, OrderedDict, defaultdict\n",
    "from pprint import pprint\n",
    "\n",
    "import numpy as np\n",
    "import yake\n",
    "\n",
    "from nltk.stem import PorterStemmer\n",
    "from tqdm.auto import tqdm"
   ]
  },
  {
   "cell_type": "markdown",
   "id": "9a296202-1e7c-46c0-af43-a57f07bf1cf3",
   "metadata": {},
   "source": [
    "# Extract keywords from Wikipedia text"
   ]
  },
  {
   "cell_type": "code",
   "execution_count": 89,
   "id": "762865c6-0f10-4838-a830-fdee2264d136",
   "metadata": {
    "execution": {
     "iopub.execute_input": "2022-06-28T09:23:24.359149Z",
     "iopub.status.busy": "2022-06-28T09:23:24.358466Z",
     "iopub.status.idle": "2022-06-28T09:23:24.370215Z",
     "shell.execute_reply": "2022-06-28T09:23:24.368762Z",
     "shell.execute_reply.started": "2022-06-28T09:23:24.359090Z"
    },
    "tags": []
   },
   "outputs": [],
   "source": [
    "top_k = 10\n",
    "max_n_grams = 3\n",
    "\n",
    "kw_extractors = [None]\n",
    "kw_extractors += [yake.KeywordExtractor(n=i + 1, top=top_k) for i in range(max_n_grams)]"
   ]
  },
  {
   "cell_type": "code",
   "execution_count": 113,
   "id": "598428fd-36bb-4275-9056-9e2e98039da4",
   "metadata": {
    "execution": {
     "iopub.execute_input": "2022-06-28T09:29:26.536482Z",
     "iopub.status.busy": "2022-06-28T09:29:26.535907Z",
     "iopub.status.idle": "2022-06-28T09:29:26.547063Z",
     "shell.execute_reply": "2022-06-28T09:29:26.545963Z",
     "shell.execute_reply.started": "2022-06-28T09:29:26.536429Z"
    },
    "tags": []
   },
   "outputs": [],
   "source": [
    "def stem_text(text, join=True):\n",
    "    stemmer = PorterStemmer()\n",
    "    if join:\n",
    "        return \" \".join([stemmer.stem(x) for x in text.split()])\n",
    "    else:\n",
    "        return [stemmer.stem(x) for x in text.split()]\n",
    "\n",
    "\n",
    "def get_kw(text, max_ngram_size=2, top_k=10):\n",
    "    return [x[0] for x in kw_extractors[max_ngram_size].extract_keywords(text)]"
   ]
  },
  {
   "cell_type": "code",
   "execution_count": 173,
   "id": "65849563-8c0b-4886-9cc5-1ec8bc61f2a6",
   "metadata": {
    "execution": {
     "iopub.execute_input": "2022-06-28T09:48:36.243388Z",
     "iopub.status.busy": "2022-06-28T09:48:36.242824Z",
     "iopub.status.idle": "2022-06-28T09:48:38.473606Z",
     "shell.execute_reply": "2022-06-28T09:48:38.472374Z",
     "shell.execute_reply.started": "2022-06-28T09:48:36.243334Z"
    },
    "tags": []
   },
   "outputs": [],
   "source": [
    "stemmer = PorterStemmer()\n",
    "keywords_yake = defaultdict(lambda: {})\n",
    "tks_s = defaultdict(lambda: {})\n",
    "tks_s_norm = defaultdict(lambda: {})\n",
    "\n",
    "for l in open(\"../data/wikipedia_texts.tsv\"):\n",
    "    topic, text = l.strip().split(\"\\t\", maxsplit=1)\n",
    "    stemmed_text = stem_text(text)\n",
    "    for i in range(1, max_n_grams + 1):\n",
    "        kws = get_kw(stemmed_text, i)\n",
    "        keywords_yake[i][topic] = kws\n",
    "        c = Counter([x for x in stemmed_text.split() if x in kws])\n",
    "        tks_s[i][topic] = np.asarray([c[x] for x in kws])\n",
    "        tks_s_norm[i][topic] = normalize(np.asarray([c[x] for x in kws]).reshape(1, -1)).flatten()"
   ]
  },
  {
   "cell_type": "markdown",
   "id": "b167afaf-88b3-4532-91aa-999d832b63b7",
   "metadata": {},
   "source": [
    "# Embeddings of clicked documents"
   ]
  },
  {
   "cell_type": "code",
   "execution_count": 174,
   "id": "5e41b0dc-a158-4b8d-b561-7bf17c2e4b75",
   "metadata": {
    "execution": {
     "iopub.execute_input": "2022-06-28T09:49:09.436146Z",
     "iopub.status.busy": "2022-06-28T09:49:09.435418Z",
     "iopub.status.idle": "2022-06-28T09:49:39.619982Z",
     "shell.execute_reply": "2022-06-28T09:49:39.619050Z",
     "shell.execute_reply.started": "2022-06-28T09:49:09.436082Z"
    },
    "tags": []
   },
   "outputs": [
    {
     "data": {
      "application/vnd.jupyter.widget-view+json": {
       "model_id": "a44b1d2732b148fa9dc07f490140ddc2",
       "version_major": 2,
       "version_minor": 0
      },
      "text/plain": [
       "  0%|          | 0/1074 [00:00<?, ?it/s]"
      ]
     },
     "metadata": {},
     "output_type": "display_data"
    },
    {
     "name": "stdout",
     "output_type": "stream",
     "text": [
      "0/1074\n",
      "100/1074\n",
      "200/1074\n",
      "300/1074\n",
      "400/1074\n",
      "500/1074\n",
      "600/1074\n",
      "700/1074\n",
      "800/1074\n",
      "900/1074\n",
      "1000/1074\n"
     ]
    }
   ],
   "source": [
    "docs_yake_embeddings = defaultdict(lambda: {})\n",
    "docs_yake_embeddings_norm = defaultdict(lambda: {})\n",
    "\n",
    "for idx, line in tqdm(enumerate(open(\"../data/clicked_docs_with_topics.tsv\")), total=1074):\n",
    "    if idx % 100 == 0:\n",
    "        print(f\"{idx}/1074\")\n",
    "    try:\n",
    "        url, topic, text = line.strip().split(\"\\t\", maxsplit=2)\n",
    "    except ValueError:\n",
    "        continue\n",
    "    stemmed_doc = stem_text(text, join=False)\n",
    "    for i in range(1, max_n_grams + 1):\n",
    "        c = Counter([x for x in stemmed_doc if x in keywords_yake[i][topic]])\n",
    "        docs_yake_embeddings[i][url] = np.asarray([c[x] for x in keywords_yake[i][topic]])\n",
    "        docs_yake_embeddings_norm[i][url] = normalize(\n",
    "            np.asarray([c[x] for x in keywords_yake[i][topic]]).reshape(1, -1)\n",
    "        ).flatten()"
   ]
  },
  {
   "cell_type": "markdown",
   "id": "65f0e2bb-594d-4e1e-ad9f-44d65d84895f",
   "metadata": {},
   "source": [
    "# Knowledge estimation"
   ]
  },
  {
   "cell_type": "code",
   "execution_count": 175,
   "id": "6e3402b7-6548-49b2-a37d-f677e0631e64",
   "metadata": {
    "execution": {
     "iopub.execute_input": "2022-06-28T09:50:08.961014Z",
     "iopub.status.busy": "2022-06-28T09:50:08.960437Z",
     "iopub.status.idle": "2022-06-28T09:50:08.970270Z",
     "shell.execute_reply": "2022-06-28T09:50:08.968724Z",
     "shell.execute_reply.started": "2022-06-28T09:50:08.960953Z"
    },
    "tags": []
   },
   "outputs": [],
   "source": [
    "import json\n",
    "\n",
    "from scipy.spatial.distance import cosine\n",
    "from scipy.stats import kendalltau, pearsonr, spearmanr\n",
    "from sklearn.preprocessing import normalize"
   ]
  },
  {
   "cell_type": "code",
   "execution_count": 194,
   "id": "b80c463e-313c-4314-90ed-cce558d19628",
   "metadata": {
    "execution": {
     "iopub.execute_input": "2022-06-28T09:54:40.117471Z",
     "iopub.status.busy": "2022-06-28T09:54:40.116913Z",
     "iopub.status.idle": "2022-06-28T09:54:40.132821Z",
     "shell.execute_reply": "2022-06-28T09:54:40.131823Z",
     "shell.execute_reply.started": "2022-06-28T09:54:40.117419Z"
    },
    "tags": []
   },
   "outputs": [],
   "source": [
    "normalized = True\n",
    "users_knowledge = []\n",
    "dataset = json.load(open(\"../data/logs_with_position.json\"))\n",
    "final_knowledges = defaultdict(OrderedDict)\n",
    "final_knowledges_norm = defaultdict(OrderedDict)\n",
    "valid_urls = docs_yake_embeddings[i].keys()\n",
    "f_dist = cosine\n",
    "\n",
    "\n",
    "def trim_upper_limit(cks, tks):\n",
    "    return [min(cks[i], tks[i]) for i in range(len(cks))]"
   ]
  },
  {
   "cell_type": "code",
   "execution_count": 195,
   "id": "a581abc5-f121-4bfc-a491-0ecb530e12b4",
   "metadata": {
    "execution": {
     "iopub.execute_input": "2022-06-28T09:54:41.173202Z",
     "iopub.status.busy": "2022-06-28T09:54:41.172616Z",
     "iopub.status.idle": "2022-06-28T09:54:41.250712Z",
     "shell.execute_reply": "2022-06-28T09:54:41.249818Z",
     "shell.execute_reply.started": "2022-06-28T09:54:41.173149Z"
    },
    "tags": []
   },
   "outputs": [
    {
     "name": "stderr",
     "output_type": "stream",
     "text": [
      "/ssd2/arthur/SAL_Knowledge_Representatation/.venv/lib/python3.9/site-packages/scipy/spatial/distance.py:630: RuntimeWarning: invalid value encountered in double_scalars\n",
      "  dist = 1.0 - uv / np.sqrt(uu * vv)\n"
     ]
    }
   ],
   "source": [
    "for u in dataset:\n",
    "    u_id = u[\"userID\"]\n",
    "    ALG = u[\"ALG\"]\n",
    "    RPL = u[\"RPL\"]\n",
    "    topic = urllib.parse.quote(u[\"topic_title\"])\n",
    "    cks_s = {i: [0] * len(keywords_yake[i][topic]) for i in range(1, max_n_grams + 1)}\n",
    "    cks_s_norm = {i: [0] * len(keywords_yake[i][topic]) for i in range(1, max_n_grams + 1)}\n",
    "\n",
    "    for d in u[\"clicks\"]:\n",
    "        url = d[\"url\"]\n",
    "        if url not in valid_urls:\n",
    "            continue\n",
    "        for i in range(1, max_n_grams + 1):\n",
    "            cks_s[i] += docs_yake_embeddings[i][url]\n",
    "            cks_s_norm[i] += docs_yake_embeddings_norm[i][url]\n",
    "    # normalized vs un-normalized\n",
    "    for i in range(1, max_n_grams + 1):\n",
    "        final_knowledges[f\"{i}\"][u_id] = {\"RPL\": RPL, \"ALG\": ALG, \"final_sim\": 1 - f_dist(cks_s[i], tks_s[i][topic])}\n",
    "        final_knowledges[f\"{i}_norm\"][u_id] = {\n",
    "            \"RPL\": RPL,\n",
    "            \"ALG\": ALG,\n",
    "            \"final_sim\": 1 - f_dist(cks_s_norm[i], tks_s_norm[i][topic]),\n",
    "        }"
   ]
  },
  {
   "cell_type": "code",
   "execution_count": null,
   "id": "a162895d-b3b4-497b-8358-e6ffa74dfc28",
   "metadata": {},
   "outputs": [],
   "source": []
  },
  {
   "cell_type": "code",
   "execution_count": 202,
   "id": "8f3c86dd-dcab-425f-84b3-e108ab2d3ff3",
   "metadata": {
    "execution": {
     "iopub.execute_input": "2022-06-28T09:55:49.267794Z",
     "iopub.status.busy": "2022-06-28T09:55:49.267273Z",
     "iopub.status.idle": "2022-06-28T09:55:49.295365Z",
     "shell.execute_reply": "2022-06-28T09:55:49.294353Z",
     "shell.execute_reply.started": "2022-06-28T09:55:49.267744Z"
    },
    "tags": []
   },
   "outputs": [
    {
     "name": "stdout",
     "output_type": "stream",
     "text": [
      "[('1_norm', (0.26858660054041344, 0.00226417748319268)),\n",
      " ('1', (0.2262090952587408, 0.010549422224016981)),\n",
      " ('3_norm', (0.2048923673746877, 0.0208460277504491))]\n"
     ]
    }
   ],
   "source": [
    "RPLs = []\n",
    "ALGs = []\n",
    "u_ids = [u[\"userID\"] for u in dataset]\n",
    "\n",
    "pearsons_ALG = {}\n",
    "spearman_ALG = {}\n",
    "kendalltau_ALG = {}\n",
    "corr_ALG = {}\n",
    "\n",
    "for m in final_knowledges:\n",
    "    u_ids = final_knowledges[m].keys()\n",
    "    ALGs = [final_knowledges[m][u][\"ALG\"] for u in u_ids]\n",
    "    RPLs = [final_knowledges[m][u][\"RPL\"] for u in u_ids]\n",
    "    results = [final_knowledges[m][u][\"final_sim\"] for u in u_ids]\n",
    "\n",
    "    # results = [_users[x][\"final_sim\"] for x in u_ids if x in _users]\n",
    "    pearsons_ALG[m] = pearsonr(results, RPLs)\n",
    "    spearman_ALG[m] = spearmanr(results, RPLs)\n",
    "\n",
    "    pearsons_ALG[m] = pearsonr(results, ALGs)\n",
    "    spearman_ALG[m] = spearmanr(results, ALGs)\n",
    "\n",
    "pprint(sorted(pearsons_ALG.items(), key=lambda x: x[1], reverse=True)[:3])"
   ]
  },
  {
   "cell_type": "code",
   "execution_count": null,
   "id": "7d8c3b7e-4803-41d7-858b-03bb1d5af2a3",
   "metadata": {},
   "outputs": [],
   "source": []
  }
 ],
 "metadata": {
  "kernelspec": {
   "display_name": "DESIRES",
   "language": "python",
   "name": "desires"
  },
  "language_info": {
   "codemirror_mode": {
    "name": "ipython",
    "version": 3
   },
   "file_extension": ".py",
   "mimetype": "text/x-python",
   "name": "python",
   "nbconvert_exporter": "python",
   "pygments_lexer": "ipython3",
   "version": "3.9.10"
  }
 },
 "nbformat": 4,
 "nbformat_minor": 5
}
