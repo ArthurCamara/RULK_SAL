{
 "cells": [
  {
   "cell_type": "code",
   "execution_count": 1,
   "id": "29ce6a42-f2b0-4d68-bf8e-faa122bdaa50",
   "metadata": {
    "execution": {
     "iopub.execute_input": "2022-08-05T10:12:54.826267Z",
     "iopub.status.busy": "2022-08-05T10:12:54.825677Z",
     "iopub.status.idle": "2022-08-05T10:12:54.845029Z",
     "shell.execute_reply": "2022-08-05T10:12:54.844204Z",
     "shell.execute_reply.started": "2022-08-05T10:12:54.826141Z"
    }
   },
   "outputs": [],
   "source": [
    "import json\n",
    "dataset = json.load(open(\"../data/logs_with_position.json\"))"
   ]
  },
  {
   "cell_type": "code",
   "execution_count": 2,
   "id": "f2f35ee9-c17e-424a-ae66-b344f6db5945",
   "metadata": {
    "execution": {
     "iopub.execute_input": "2022-08-05T10:13:54.950161Z",
     "iopub.status.busy": "2022-08-05T10:13:54.949584Z",
     "iopub.status.idle": "2022-08-05T10:13:54.967709Z",
     "shell.execute_reply": "2022-08-05T10:13:54.966725Z",
     "shell.execute_reply.started": "2022-08-05T10:13:54.950107Z"
    }
   },
   "outputs": [
    {
     "data": {
      "text/plain": [
       "127"
      ]
     },
     "execution_count": 2,
     "metadata": {},
     "output_type": "execute_result"
    }
   ],
   "source": [
    "len(dataset)"
   ]
  },
  {
   "cell_type": "code",
   "execution_count": 8,
   "id": "30c92343-5366-4dc0-8e10-82fb94668469",
   "metadata": {
    "execution": {
     "iopub.execute_input": "2022-08-05T10:21:50.541368Z",
     "iopub.status.busy": "2022-08-05T10:21:50.540865Z",
     "iopub.status.idle": "2022-08-05T10:21:50.788439Z",
     "shell.execute_reply": "2022-08-05T10:21:50.787690Z",
     "shell.execute_reply.started": "2022-08-05T10:21:50.541318Z"
    },
    "tags": []
   },
   "outputs": [],
   "source": [
    "import numpy as np\n",
    "\n",
    "pre_scores = [x[\"pre_test_score\"] for x in dataset]\n",
    "\n",
    "post_scores = [x[\"post_test_score\"] for x in dataset]\n",
    "\n",
    "ALGs = [x[\"ALG\"] for x in dataset]\n",
    "RPLs = [x[\"RPL\"] for x in dataset]"
   ]
  },
  {
   "cell_type": "code",
   "execution_count": 18,
   "id": "ad1e6712-a895-46cd-b55f-fa9355ae9fff",
   "metadata": {
    "execution": {
     "iopub.execute_input": "2022-08-05T10:24:38.953243Z",
     "iopub.status.busy": "2022-08-05T10:24:38.952697Z",
     "iopub.status.idle": "2022-08-05T10:24:38.964869Z",
     "shell.execute_reply": "2022-08-05T10:24:38.963699Z",
     "shell.execute_reply.started": "2022-08-05T10:24:38.953192Z"
    },
    "tags": []
   },
   "outputs": [
    {
     "name": "stdout",
     "output_type": "stream",
     "text": [
      "&- & $6.21 \\pm 4.09$ & 6.00\\\\\n",
      "&- & $0.53 \\pm 0.38$ & 0.50\\\\\n",
      "&- & $0.28 \\pm 0.20$ & 0.25\\\\\n"
     ]
    }
   ],
   "source": [
    "def get_row(metric):\n",
    "    mean = np.mean(metric)\n",
    "    std = np.std(metric)\n",
    "    \n",
    "    median = np.median(metric)\n",
    "    print(f\"&- & ${mean:.2f} \\pm {std:.2f}$ & {median:.2f}\\\\\\\\\")\n",
    "    \n",
    "\n",
    "get_row(post_scores)\n",
    "get_row(ALGs)\n",
    "get_row(RPLs)"
   ]
  },
  {
   "cell_type": "code",
   "execution_count": null,
   "id": "5af981bc-47a5-4cf4-bed2-76cf9dfd5da6",
   "metadata": {},
   "outputs": [],
   "source": []
  }
 ],
 "metadata": {
  "kernelspec": {
   "display_name": "DESIRES",
   "language": "python",
   "name": "desires"
  },
  "language_info": {
   "codemirror_mode": {
    "name": "ipython",
    "version": 3
   },
   "file_extension": ".py",
   "mimetype": "text/x-python",
   "name": "python",
   "nbconvert_exporter": "python",
   "pygments_lexer": "ipython3",
   "version": "3.9.10"
  }
 },
 "nbformat": 4,
 "nbformat_minor": 5
}
