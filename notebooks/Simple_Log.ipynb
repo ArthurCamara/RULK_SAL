{
 "cells": [
  {
   "cell_type": "markdown",
   "id": "0325c404-c436-4ccc-8650-9a5ccc1cecfd",
   "metadata": {},
   "source": [
    "Creates a simpler query-log style of logs. A list with each eleement a dictionaty like this:\n",
    "```\n",
    "{\n",
    "    RPL: 0.4,\n",
    "    ALG: 14,\n",
    "    topic_id: 0123\n",
    "    topic_title: \"GMO\"\n",
    "    queries: [ {\n",
    "        query_text: \"query text\", \n",
    "        documents_clicked: {url:\"http://....\", position:0}\n",
    "        }\n",
    "     ]\n",
    "}\n",
    "```"
   ]
  },
  {
   "cell_type": "markdown",
   "id": "f3368332-8fba-4f8b-ba26-50fba24cc261",
   "metadata": {
    "jp-MarkdownHeadingCollapsed": true,
    "tags": []
   },
   "source": [
    "## Preparation\n",
    "- See `Analysis.ipynb` for more details"
   ]
  },
  {
   "cell_type": "code",
   "execution_count": 2,
   "id": "2e6c4dc5-0878-473e-a725-363520cae790",
   "metadata": {
    "tags": []
   },
   "outputs": [],
   "source": [
    "import json\n",
    "import base64\n",
    "import numpy as np\n",
    "import pandas as pd\n",
    "import gzip\n",
    "from tqdm.auto import tqdm\n",
    "from datetime import datetime\n",
    "from collections import OrderedDict\n",
    "\n",
    "def p_date(x: str) -> datetime:\n",
    "    \"\"\"Short hand for datetime.fromisoformat(x)\"\"\"\n",
    "    if isinstance(x, datetime):\n",
    "        return  x\n",
    "    return datetime.fromisoformat(x)\n",
    "\n",
    "with gzip.open(\"data/all_logs_clean.json.gz\", 'r') as inf:\n",
    "    all_logs = json.loads(inf.read().decode(\"utf-8\"))\n",
    "with gzip.open(\"data/all_queries_clean.json.gz\", 'r') as inf:\n",
    "    all_queries = json.loads(inf.read().decode(\"utf-8\"))\n",
    "\n",
    "vocab = json.load(open(\"data/vocab.json\")) #VKS vocabulary dictionary\n",
    "users = set([x[\"userId\"] for x in all_logs])\n",
    "\n",
    "pre_tests = {\n",
    "    **{\n",
    "        x[\"sessionId\"]: x[\"meta\"]\n",
    "        for x in all_logs if x['event'] == \"SURVEY_REGISTER_RESULTS\"\n",
    "    },\n",
    "    **{\n",
    "        x[\"userId\"]: x[\"meta\"]\n",
    "        for x in all_logs if x['event'] == \"SURVEY_REGISTER_RESULTS\"\n",
    "    },\n",
    "    **{\n",
    "        x[\"meta\"][\"data\"][\"userId\"]: x[\"meta\"]\n",
    "        for x in all_logs if x['event'] == \"SURVEY_REGISTER_RESULTS\"\n",
    "    }\n",
    "}\n",
    "prolific_path = [f\"data/{x}\" for x in [\"prolific_export_5e4d0dea60c37d14cb329934.csv\", \"prolific_export_5e4e4f7be482212a2429a366.csv\", \"prolific_export_5f46799646aa3002de1afa25.csv\"]]\n",
    "prolific_last_time = dict()\n",
    "session_length_prolific = dict()\n",
    "prolific_status = dict()\n",
    "prolific_users = set()\n",
    "returned_code = dict()\n",
    "found = 0\n",
    "for p in prolific_path:\n",
    "    for line in open(p):\n",
    "        l = line.split(\",\")\n",
    "        if l[0] == \"session_id\":\n",
    "            continue\n",
    "        participant_id = l[1] \n",
    "        prolific_users.add(participant_id)\n",
    "        duration = float(l[5])\n",
    "        status = l[2]\n",
    "        returned_code[participant_id] = l[11]\n",
    "        prolific_status[participant_id] = status\n",
    "        prolific_last_time[participant_id] = l[4]\n",
    "        session_length_prolific[participant_id] = duration\n",
    "\n",
    "def ALG(user_logs: list[dict], topic: str) -> float:\n",
    "    \"\"\"Computes Absolute Learning Gains:\n",
    "    Args:\n",
    "        user_logs: sorted (by time) list with all of one user's logs\n",
    "        topic: string with user's topic id\n",
    "    \"\"\"\n",
    "    score = 0\n",
    "    topic_terms = get_topic_terms(topic)\n",
    "    pretest_results = [\n",
    "        r for r in user_logs if r[\"event\"] == \"SURVEY_PRE_TEST_RESULTS\"\n",
    "    ][0]\n",
    "    posttest_results = [\n",
    "        r for r in user_logs if r[\"event\"] == \"SURVEY_POST_TEST_RESULTS\"\n",
    "    ][0]\n",
    "    score_mapping = {1: 0, 2: 0, 3: 1, 4: 2}\n",
    "    for question in topic_terms:\n",
    "        qid = \"Q-\" + str(topic) + \"-\" + str(question)\n",
    "        pre_score = score_mapping[int(pretest_results[\"meta\"][\"data\"][qid])]\n",
    "        post_score = score_mapping[int(posttest_results[\"meta\"][\"data\"][qid])]\n",
    "        score += max(0, post_score - pre_score)\n",
    "    return score / 10\n",
    "\n",
    "\n",
    "def MLG(user_logs: list[dict], topic: str) -> float:\n",
    "    \"\"\"Computes Maximum possible learning potential\n",
    "    Args:\n",
    "        user_logs: sorted (by time) list with all of one user's logs\n",
    "        topic: string with users' topic id\n",
    "    \"\"\"\n",
    "    topic_terms = get_topic_terms(topic)\n",
    "    pretest_results = [\n",
    "        r for r in user_logs if r[\"event\"] == \"SURVEY_PRE_TEST_RESULTS\"\n",
    "    ][0]\n",
    "    score = 0\n",
    "    score_mapping = {1: 0, 2: 0, 3: 1, 4: 2}\n",
    "    for question in topic_terms:\n",
    "        qid = \"Q-\" + str(topic) + \"-\" + str(question)\n",
    "        pre_score = score_mapping[int(pretest_results[\"meta\"][\"data\"][qid])]\n",
    "        score += 2 - pre_score\n",
    "    return score / 10\n",
    "\n",
    "\n",
    "def RPL(user_logs: list, topic: str) -> float:\n",
    "    \"\"\"Computes user's Realized Potential Learning:\n",
    "    Args:\n",
    "        user_logs: List of one user's logs\n",
    "        topic: string with user's topic id \n",
    "    \"\"\"\n",
    "    sorted_logs = sorted(user_logs, key=lambda x: x[\"date\"], reverse=True)\n",
    "    _ALG = ALG(sorted_logs, topic)\n",
    "    _MLG = MLG(sorted_logs, topic)\n",
    "    return _ALG / _MLG"
   ]
  },
  {
   "cell_type": "markdown",
   "id": "39d7206b-d8e6-4139-bbd2-a4bbd4314fec",
   "metadata": {
    "tags": []
   },
   "source": [
    "## Metrics"
   ]
  },
  {
   "cell_type": "code",
   "execution_count": 198,
   "id": "755e5a00-1def-43b7-9454-46f2dd4ef26e",
   "metadata": {
    "tags": []
   },
   "outputs": [],
   "source": [
    "def ALG(user_logs: list[dict], topic: str) -> float:\n",
    "    \"\"\"Computes Absolute Learning Gains:\n",
    "    Args:\n",
    "        user_logs: sorted (by time) list with all of one user's logs\n",
    "        topic: string with user's topic id\n",
    "    \"\"\"\n",
    "    score = 0\n",
    "    topic_terms = get_topic_terms(topic)\n",
    "    pretest_results = [\n",
    "        r for r in user_logs if r[\"event\"] == \"SURVEY_PRE_TEST_RESULTS\"\n",
    "    ][0]\n",
    "    posttest_results = [\n",
    "        r for r in user_logs if r[\"event\"] == \"SURVEY_POST_TEST_RESULTS\"\n",
    "    ][0]\n",
    "    score_mapping = {1: 0, 2: 0, 3: 1, 4: 2}\n",
    "    for question in topic_terms:\n",
    "        qid = \"Q-\" + str(topic) + \"-\" + str(question)\n",
    "        pre_score = score_mapping[int(pretest_results[\"meta\"][\"data\"][qid])]\n",
    "        post_score = score_mapping[int(posttest_results[\"meta\"][\"data\"][qid])]\n",
    "        score += max(0, post_score - pre_score)\n",
    "    return score / 10\n",
    "\n",
    "\n",
    "def MLG(user_logs: list[dict], topic: str) -> float:\n",
    "    \"\"\"Computes Maximum possible learning potential\n",
    "    Args:\n",
    "        user_logs: sorted (by time) list with all of one user's logs\n",
    "        topic: string with users' topic id\n",
    "    \"\"\"\n",
    "    topic_terms = get_topic_terms(topic)\n",
    "    pretest_results = [\n",
    "        r for r in user_logs if r[\"event\"] == \"SURVEY_PRE_TEST_RESULTS\"\n",
    "    ][0]\n",
    "    score = 0\n",
    "    score_mapping = {1: 0, 2: 0, 3: 1, 4: 2}\n",
    "    for question in topic_terms:\n",
    "        qid = \"Q-\" + str(topic) + \"-\" + str(question)\n",
    "        pre_score = score_mapping[int(pretest_results[\"meta\"][\"data\"][qid])]\n",
    "        score += 2 - pre_score\n",
    "    return score / 10\n",
    "\n",
    "\n",
    "def RPL(user_logs: list, topic: str) -> float:\n",
    "    \"\"\"Computes user's Realized Potential Learning:\n",
    "    Args:\n",
    "        user_logs: List of one user's logs\n",
    "        topic: string with user's topic id \n",
    "    \"\"\"\n",
    "    sorted_logs = sorted(user_logs, key=lambda x: x[\"date\"], reverse=True)\n",
    "    _ALG = ALG(sorted_logs, topic)\n",
    "    _MLG = MLG(sorted_logs, topic)\n",
    "    return _ALG / _MLG\n",
    "\n",
    "def get_all_logs(user: str) -> list[dict]:\n",
    "    \"\"\"Get all logs from one user\"\"\"\n",
    "    user_logs = [x for x in all_logs if x[\"userId\"] == user]\n",
    "    return sorted(user_logs, key = lambda x: datetime.strptime(x[\"date\"], '%Y-%m-%d %H:%M:%S'))\n",
    "\n",
    "def get_topic_title(user_logs: list[dict]) -> str:\n",
    "    \"\"\"Gets the title of the topic assigned to user\"\"\"\n",
    "    return [x for x in user_logs if x[\"event\"] == \"SURVEY_POST_TEST_RESULTS\"\n",
    "            ][0]['task']['data']['topic']['title']\n",
    "\n",
    "\n",
    "def get_topic_id(user_logs: list[dict]) -> str:\n",
    "    \"\"\"Gets the id of the topic the user was assigned to\"\"\"\n",
    "    for x in user_logs:\n",
    "        if x[\"event\"] == \"SEARCHRESULT_VIEW_URL\":\n",
    "            return x[\"task\"][\"data\"][\"topic\"][\"id\"]\n",
    "\n",
    "def get_topic_terms(p: str) -> list[str]:\n",
    "    \"\"\"Gets a list of the terms for the VKS for a given topic id\"\"\"\n",
    "    return vocab[p][\"terms\"]\n",
    "\n",
    "def get_session(user_logs: list[dict]) -> str:\n",
    "    \"\"\"Get what type of experiment the user was in\"\"\"\n",
    "    event = [x for x in user_logs if x[\"event\"] == \"SEARCHRESULT_VIEW_URL\"][0]\n",
    "    return event[\"meta\"][\"session\"]\n",
    "\n",
    "\n",
    "def get_session_duration(user_logs: list[dict]) -> int:\n",
    "    \"\"\"Gets how long, in seconds, a user session lasted, from start to end\"\"\"\n",
    "    sorted_logs = sorted(user_logs, key = lambda x: datetime.strptime(x[\"date\"], '%Y-%m-%d %H:%M:%S'))\n",
    "    end_time = p_date(sorted_logs[-1][\"date\"])\n",
    "    start_time = p_date(sorted_logs[0][\"date\"])\n",
    "    return (end_time - start_time).seconds\n",
    "\n",
    "def rebuild_serp(user_log:list[dict], start_event:int) -> dict[str, int]:\n",
    "    \"\"\"Rebuilts a SERP, with documents in each position, for a given query\n",
    "    Returns dict with URL and its position in the SERP.\n",
    "    CAVEAT: If URL appears twice in the serp (may happen due to filtering process), only first occurence counts.\"\"\"\n",
    "    n_events = len(user_log) - start_event\n",
    "    for idx, e in enumerate(user_log[start_event+1:], start = start_event):\n",
    "        if e['event'] == \"SEARCH_QUERY\":\n",
    "            n_events = idx\n",
    "            break\n",
    "    \n",
    "    query_events = sorted(user_log[start_event:start_event+n_events], key = lambda x: datetime.strptime(x[\"date\"], '%Y-%m-%d %H:%M:%S'))\n",
    "    query_events = [x for x in query_events if 'position' in x['meta']]\n",
    "\n",
    "    for k in query_events:\n",
    "        # naive. Filter later.\n",
    "        k['true_position'] = (k['meta']['page']-1)*10 + k['meta']['position']\n",
    "\n",
    "\n",
    "    query_events = sorted(query_events, key = lambda x: x['true_position'])\n",
    "    # Try to rebuild the SERP\n",
    "    serp = {}\n",
    "    docs_so_far = 0\n",
    "    offset = 0 \n",
    "    for ix, e in enumerate(query_events):\n",
    "        meta = e['meta']\n",
    "        url = meta['url']\n",
    "        if url in serp:\n",
    "            continue\n",
    "        serp[url] = e['true_position']\n",
    "\n",
    "    ranking = sorted(serp.items(), key = lambda x : x[1])\n",
    "\n",
    "    return serp\n",
    "\n"
   ]
  },
  {
   "cell_type": "markdown",
   "id": "d74c241f-bdff-4475-9a8d-61773b1c1d79",
   "metadata": {},
   "source": [
    "## Extract data"
   ]
  },
  {
   "cell_type": "code",
   "execution_count": 199,
   "id": "0db4bc1b-460d-4db0-bf90-6a0cec5a4ce8",
   "metadata": {},
   "outputs": [
    {
     "data": {
      "application/vnd.jupyter.widget-view+json": {
       "model_id": "fb6d15c5a0564d1b9173e3beee2ef9d8",
       "version_major": 2,
       "version_minor": 0
      },
      "text/plain": [
       "  0%|          | 0/127 [00:00<?, ?it/s]"
      ]
     },
     "metadata": {},
     "output_type": "display_data"
    }
   ],
   "source": [
    "dataset = []\n",
    "for count, user in tqdm(enumerate(users), total=len(users)):\n",
    "    user_log = get_all_logs(user) # All user events\n",
    "    user_session = get_session(user_log) # What experiment the user was assigned to\n",
    "    topic = get_topic_title(user_log) # User topic\n",
    "    topic_id = get_topic_id(user_log) # User topic id\n",
    "    \n",
    "    realized_learning_gain = RPL(user_log, topic_id)\n",
    "    absolute_learning_gain = ALG(user_log, topic_id)\n",
    "    time_elapsed = get_session_duration(user_log)\n",
    "\n",
    "\n",
    "    user_data = {\"RPL\":realized_learning_gain, \"ALG\":absolute_learning_gain, \"queries\":[], \"topic_id\":topic_id, \"topic_title\":topic, \"session_duration\": time_elapsed}\n",
    "    current_query = None\n",
    "    queries = 0\n",
    "    query_data = None\n",
    "    # Iterate over log\n",
    "    URL_rankings = {}\n",
    "    for e_idx, e in enumerate(user_log):\n",
    "        meta = e['meta']\n",
    "        if e['event'] == \"SEARCH_QUERY\":\n",
    "            URL_rankings = rebuild_serp(user_log, e_idx)\n",
    "            if query_data: # save previous data\n",
    "                user_data[\"queries\"].append(query_data)\n",
    "            query_data = {\"query_text\" : meta['query'], \"documents_clicked\": []}\n",
    "        #check for hover before click\n",
    "        elif e['event'] == \"SEARCHRESULT_CLICK_URL\":\n",
    "            position = URL_rankings[meta['url']]\n",
    "            query_data['documents_clicked'].append({\"url\":meta['url'], \"position\": position})\n",
    "    dataset.append(user_data)\n"
   ]
  },
  {
   "cell_type": "code",
   "execution_count": 200,
   "id": "0442433e-c204-4b80-91fc-ee7f900584e3",
   "metadata": {},
   "outputs": [],
   "source": [
    "import json\n",
    "json.dump(dataset, open(\"data/logs_with_position.json\", 'w'))"
   ]
  }
 ],
 "metadata": {
  "kernelspec": {
   "display_name": "DESIRES",
   "language": "python",
   "name": "desires"
  },
  "language_info": {
   "codemirror_mode": {
    "name": "ipython",
    "version": 3
   },
   "file_extension": ".py",
   "mimetype": "text/x-python",
   "name": "python",
   "nbconvert_exporter": "python",
   "pygments_lexer": "ipython3",
   "version": "3.9.5"
  },
  "widgets": {
   "application/vnd.jupyter.widget-state+json": {
    "state": {
     "013a5c812ca94e5498ad867e4d27cf35": {
      "model_module": "@jupyter-widgets/base",
      "model_module_version": "1.2.0",
      "model_name": "LayoutModel",
      "state": {}
     },
     "0270336172e1497a8042cc801a1c184c": {
      "model_module": "@jupyter-widgets/base",
      "model_module_version": "1.2.0",
      "model_name": "LayoutModel",
      "state": {}
     },
     "03064cff5ac54572802acea57a5bfee7": {
      "model_module": "@jupyter-widgets/controls",
      "model_module_version": "1.5.0",
      "model_name": "HTMLModel",
      "state": {
       "layout": "IPY_MODEL_393e0dceb26341da852f621b16d7f0c5",
       "style": "IPY_MODEL_6529126f4f3142afbd688ebef17cd903",
       "value": " 0/127 [00:00&lt;?, ?it/s]"
      }
     },
     "06b7350a153a4fb69df9fa880ffeda3c": {
      "model_module": "@jupyter-widgets/base",
      "model_module_version": "1.2.0",
      "model_name": "LayoutModel",
      "state": {}
     },
     "07081a3db0ea408f819c67fc6164f9ed": {
      "model_module": "@jupyter-widgets/base",
      "model_module_version": "1.2.0",
      "model_name": "LayoutModel",
      "state": {}
     },
     "08a308ab0dad439ea53c1c43905c7b8e": {
      "model_module": "@jupyter-widgets/controls",
      "model_module_version": "1.5.0",
      "model_name": "DescriptionStyleModel",
      "state": {
       "description_width": ""
      }
     },
     "09ab1c7a0a0c4b10906c36d3df853c29": {
      "model_module": "@jupyter-widgets/controls",
      "model_module_version": "1.5.0",
      "model_name": "HTMLModel",
      "state": {
       "layout": "IPY_MODEL_cffd0a4516f34cd8be679e00725d47eb",
       "style": "IPY_MODEL_6b79b436ff694b2594c05d235cd973fb",
       "value": "  0%"
      }
     },
     "0a65e9afc89b4f1f8c670a5cdba7d068": {
      "model_module": "@jupyter-widgets/controls",
      "model_module_version": "1.5.0",
      "model_name": "DescriptionStyleModel",
      "state": {
       "description_width": ""
      }
     },
     "0f7b50f43e4844bdb84c4fb8975ca741": {
      "model_module": "@jupyter-widgets/controls",
      "model_module_version": "1.5.0",
      "model_name": "HTMLModel",
      "state": {
       "layout": "IPY_MODEL_8f6e4250192a4785b76f58fc9ecbd5ef",
       "style": "IPY_MODEL_57a124eb3b1641ecbac05dbdc84cedef",
       "value": "  0%"
      }
     },
     "107567dfe2834ba2ab15ecab0d2f8d70": {
      "model_module": "@jupyter-widgets/controls",
      "model_module_version": "1.5.0",
      "model_name": "DescriptionStyleModel",
      "state": {
       "description_width": ""
      }
     },
     "13e9c681b867490ba9dc5f21909819ee": {
      "model_module": "@jupyter-widgets/base",
      "model_module_version": "1.2.0",
      "model_name": "LayoutModel",
      "state": {}
     },
     "14d80eb67ccc4d469d1b2dfa37914d0d": {
      "model_module": "@jupyter-widgets/base",
      "model_module_version": "1.2.0",
      "model_name": "LayoutModel",
      "state": {}
     },
     "179429d337644c7bb1e0bdfefcba4d0c": {
      "model_module": "@jupyter-widgets/controls",
      "model_module_version": "1.5.0",
      "model_name": "DescriptionStyleModel",
      "state": {
       "description_width": ""
      }
     },
     "18f4eae2d0ee4e8abe41ada2c5e5aad5": {
      "model_module": "@jupyter-widgets/base",
      "model_module_version": "1.2.0",
      "model_name": "LayoutModel",
      "state": {}
     },
     "1ad77c6e67244e338c200702eb7f93d9": {
      "model_module": "@jupyter-widgets/base",
      "model_module_version": "1.2.0",
      "model_name": "LayoutModel",
      "state": {}
     },
     "1bee8a2676d24bc6b656b2a4c884d1d4": {
      "model_module": "@jupyter-widgets/controls",
      "model_module_version": "1.5.0",
      "model_name": "HBoxModel",
      "state": {
       "children": [
        "IPY_MODEL_0f7b50f43e4844bdb84c4fb8975ca741",
        "IPY_MODEL_d2da6e7ac5b94285a510e8e0ce8e95f3",
        "IPY_MODEL_b463eac2046b46c68bb9291dade0cb42"
       ],
       "layout": "IPY_MODEL_a11107f39cc74d87943372bd1f10ea84"
      }
     },
     "1f007d4ef577450585443e2bd9d6e919": {
      "model_module": "@jupyter-widgets/controls",
      "model_module_version": "1.5.0",
      "model_name": "DescriptionStyleModel",
      "state": {
       "description_width": ""
      }
     },
     "1f0148e1ab924e7dbb0c5d8d7de52737": {
      "model_module": "@jupyter-widgets/controls",
      "model_module_version": "1.5.0",
      "model_name": "FloatProgressModel",
      "state": {
       "bar_style": "danger",
       "layout": "IPY_MODEL_d95a0b4637bf4c94859ad91034674849",
       "max": 127,
       "style": "IPY_MODEL_5329bf2bcc4a425f9bc7457535e1dbc1"
      }
     },
     "20bd51225b954a7695ba27017cdf5214": {
      "model_module": "@jupyter-widgets/base",
      "model_module_version": "1.2.0",
      "model_name": "LayoutModel",
      "state": {}
     },
     "21694ece59674cc3849a560fce066201": {
      "model_module": "@jupyter-widgets/controls",
      "model_module_version": "1.5.0",
      "model_name": "HTMLModel",
      "state": {
       "layout": "IPY_MODEL_43530627b1ea409193cd6639d9b4c2e0",
       "style": "IPY_MODEL_0a65e9afc89b4f1f8c670a5cdba7d068",
       "value": "100%"
      }
     },
     "23f601c2057342b8ab6336e0ddd5bd13": {
      "model_module": "@jupyter-widgets/base",
      "model_module_version": "1.2.0",
      "model_name": "LayoutModel",
      "state": {}
     },
     "26c7ef6c65ae41c7b0a42c0c1726c971": {
      "model_module": "@jupyter-widgets/base",
      "model_module_version": "1.2.0",
      "model_name": "LayoutModel",
      "state": {}
     },
     "2966f5da850c4cce9bd1292db3b218d3": {
      "model_module": "@jupyter-widgets/controls",
      "model_module_version": "1.5.0",
      "model_name": "DescriptionStyleModel",
      "state": {
       "description_width": ""
      }
     },
     "29ae359663b8415faeaf3a26bf491f19": {
      "model_module": "@jupyter-widgets/base",
      "model_module_version": "1.2.0",
      "model_name": "LayoutModel",
      "state": {}
     },
     "2a1c874b70cb48d5b94fc24727b63fc6": {
      "model_module": "@jupyter-widgets/base",
      "model_module_version": "1.2.0",
      "model_name": "LayoutModel",
      "state": {}
     },
     "2b4886c30648408f8db5ddda8299e28f": {
      "model_module": "@jupyter-widgets/base",
      "model_module_version": "1.2.0",
      "model_name": "LayoutModel",
      "state": {}
     },
     "2da5484078774bba91bda7b4e74334f2": {
      "model_module": "@jupyter-widgets/controls",
      "model_module_version": "1.5.0",
      "model_name": "HTMLModel",
      "state": {
       "layout": "IPY_MODEL_5e0d42654b9c45c98077ff110830418d",
       "style": "IPY_MODEL_107567dfe2834ba2ab15ecab0d2f8d70",
       "value": " 0/127 [00:00&lt;?, ?it/s]"
      }
     },
     "34b733210caa4ee494d4f14a9a1f9d3d": {
      "model_module": "@jupyter-widgets/base",
      "model_module_version": "1.2.0",
      "model_name": "LayoutModel",
      "state": {}
     },
     "3531cb9409b04af38ee509c7ef479903": {
      "model_module": "@jupyter-widgets/base",
      "model_module_version": "1.2.0",
      "model_name": "LayoutModel",
      "state": {}
     },
     "359ae39b50094352b263ecacd782f091": {
      "model_module": "@jupyter-widgets/controls",
      "model_module_version": "1.5.0",
      "model_name": "ProgressStyleModel",
      "state": {
       "description_width": ""
      }
     },
     "369a4639194a4bda8609508b89e0d197": {
      "model_module": "@jupyter-widgets/controls",
      "model_module_version": "1.5.0",
      "model_name": "HTMLModel",
      "state": {
       "layout": "IPY_MODEL_4f388d3d2f994e01a17abb85da97b495",
       "style": "IPY_MODEL_7b6e96a2d24d4e56aa0789b1e0c4b5f5",
       "value": "  8%"
      }
     },
     "393e0dceb26341da852f621b16d7f0c5": {
      "model_module": "@jupyter-widgets/base",
      "model_module_version": "1.2.0",
      "model_name": "LayoutModel",
      "state": {}
     },
     "3ad325247adc4e86928c63e5ba8a5411": {
      "model_module": "@jupyter-widgets/controls",
      "model_module_version": "1.5.0",
      "model_name": "HTMLModel",
      "state": {
       "layout": "IPY_MODEL_26c7ef6c65ae41c7b0a42c0c1726c971",
       "style": "IPY_MODEL_1f007d4ef577450585443e2bd9d6e919",
       "value": " 127/127 [00:05&lt;00:00, 25.72it/s]"
      }
     },
     "3ad37c59fc7b4b9b94c9c05378ed88f7": {
      "model_module": "@jupyter-widgets/controls",
      "model_module_version": "1.5.0",
      "model_name": "ProgressStyleModel",
      "state": {
       "description_width": ""
      }
     },
     "3b228c0314d04b41a165842af5fcc376": {
      "model_module": "@jupyter-widgets/controls",
      "model_module_version": "1.5.0",
      "model_name": "ProgressStyleModel",
      "state": {
       "description_width": ""
      }
     },
     "3b7a04511ec34f108027c7fa2e5dc3d1": {
      "model_module": "@jupyter-widgets/base",
      "model_module_version": "1.2.0",
      "model_name": "LayoutModel",
      "state": {}
     },
     "3c6b49c0912341d188f38e1e843fdc54": {
      "model_module": "@jupyter-widgets/controls",
      "model_module_version": "1.5.0",
      "model_name": "HBoxModel",
      "state": {
       "children": [
        "IPY_MODEL_4c2d1b47ddf24b81b630ca32f053868f",
        "IPY_MODEL_d28044064c1e403c89ea693ec5b961d7",
        "IPY_MODEL_03064cff5ac54572802acea57a5bfee7"
       ],
       "layout": "IPY_MODEL_3b7a04511ec34f108027c7fa2e5dc3d1"
      }
     },
     "3eec0367ec2744cd8db48b9b30386772": {
      "model_module": "@jupyter-widgets/controls",
      "model_module_version": "1.5.0",
      "model_name": "FloatProgressModel",
      "state": {
       "bar_style": "danger",
       "layout": "IPY_MODEL_f0bb276a78324fcfa23fa456bb2c46f5",
       "max": 127,
       "style": "IPY_MODEL_866f0d9ff7a440849e8b397710c69695"
      }
     },
     "43530627b1ea409193cd6639d9b4c2e0": {
      "model_module": "@jupyter-widgets/base",
      "model_module_version": "1.2.0",
      "model_name": "LayoutModel",
      "state": {}
     },
     "445bf976cc70456fa444f81c12029f59": {
      "model_module": "@jupyter-widgets/base",
      "model_module_version": "1.2.0",
      "model_name": "LayoutModel",
      "state": {}
     },
     "451991e374d543c7b92c7ed282f01803": {
      "model_module": "@jupyter-widgets/controls",
      "model_module_version": "1.5.0",
      "model_name": "HTMLModel",
      "state": {
       "layout": "IPY_MODEL_eea5a956fafd44bc9abd05fd3ce14901",
       "style": "IPY_MODEL_801491ca60a247c499d597bddd94bc91",
       "value": "100%"
      }
     },
     "4642e38f7c974a9db8502db1d8b7a012": {
      "model_module": "@jupyter-widgets/base",
      "model_module_version": "1.2.0",
      "model_name": "LayoutModel",
      "state": {}
     },
     "46dc2259a23d4495ab977fa3f612a0eb": {
      "model_module": "@jupyter-widgets/controls",
      "model_module_version": "1.5.0",
      "model_name": "ProgressStyleModel",
      "state": {
       "description_width": ""
      }
     },
     "4817b8d742de43bab7d82e127edfa306": {
      "model_module": "@jupyter-widgets/controls",
      "model_module_version": "1.5.0",
      "model_name": "HTMLModel",
      "state": {
       "layout": "IPY_MODEL_b0fe4bea2fe44413aef0406e977a5a22",
       "style": "IPY_MODEL_b94ca59d6bf24c87bc1ac93a69cd3b76",
       "value": "  1%"
      }
     },
     "4c2d1b47ddf24b81b630ca32f053868f": {
      "model_module": "@jupyter-widgets/controls",
      "model_module_version": "1.5.0",
      "model_name": "HTMLModel",
      "state": {
       "layout": "IPY_MODEL_a3c838502fcd45159ee8605ed3e301e2",
       "style": "IPY_MODEL_e05d12de5cc7433a88898d392946e022",
       "value": "  0%"
      }
     },
     "4f388d3d2f994e01a17abb85da97b495": {
      "model_module": "@jupyter-widgets/base",
      "model_module_version": "1.2.0",
      "model_name": "LayoutModel",
      "state": {}
     },
     "4ffd8c4a906d49c3965db5f1ca40fbbc": {
      "model_module": "@jupyter-widgets/controls",
      "model_module_version": "1.5.0",
      "model_name": "DescriptionStyleModel",
      "state": {
       "description_width": ""
      }
     },
     "50b6d1f951e64e52bd4c779e994b8c57": {
      "model_module": "@jupyter-widgets/controls",
      "model_module_version": "1.5.0",
      "model_name": "FloatProgressModel",
      "state": {
       "bar_style": "danger",
       "layout": "IPY_MODEL_8bbd02a326e248a8b3e2d6701d2fef12",
       "max": 127,
       "style": "IPY_MODEL_d3158e3f6db14b1cbed523b39da41f77"
      }
     },
     "5328bc8a2ed34f84b1da45efdcbcef5b": {
      "model_module": "@jupyter-widgets/controls",
      "model_module_version": "1.5.0",
      "model_name": "DescriptionStyleModel",
      "state": {
       "description_width": ""
      }
     },
     "5329bf2bcc4a425f9bc7457535e1dbc1": {
      "model_module": "@jupyter-widgets/controls",
      "model_module_version": "1.5.0",
      "model_name": "ProgressStyleModel",
      "state": {
       "description_width": ""
      }
     },
     "55cce32bafda4fc1b630b7cb2f9b45ba": {
      "model_module": "@jupyter-widgets/controls",
      "model_module_version": "1.5.0",
      "model_name": "HTMLModel",
      "state": {
       "layout": "IPY_MODEL_73d3722db30e4e438a1a4ef2e535246d",
       "style": "IPY_MODEL_f665ab4e6b02437e9623adbe26aefa0d",
       "value": "  0%"
      }
     },
     "5769acb78dd34707a8e82717a4ac8d4f": {
      "model_module": "@jupyter-widgets/controls",
      "model_module_version": "1.5.0",
      "model_name": "HTMLModel",
      "state": {
       "layout": "IPY_MODEL_c6befd677a204b6fa51383ba3a5e79ce",
       "style": "IPY_MODEL_4ffd8c4a906d49c3965db5f1ca40fbbc",
       "value": " 127/127 [00:05&lt;00:00, 28.31it/s]"
      }
     },
     "57a124eb3b1641ecbac05dbdc84cedef": {
      "model_module": "@jupyter-widgets/controls",
      "model_module_version": "1.5.0",
      "model_name": "DescriptionStyleModel",
      "state": {
       "description_width": ""
      }
     },
     "5818a922485948fd8b086ba55b48e571": {
      "model_module": "@jupyter-widgets/controls",
      "model_module_version": "1.5.0",
      "model_name": "HTMLModel",
      "state": {
       "layout": "IPY_MODEL_d0823a07bdb1435cbafd37e1f4dbaa98",
       "style": "IPY_MODEL_8ea209884b7747178847dd045fd942b2",
       "value": "  0%"
      }
     },
     "587c1fd4d58248598e5743fbab786feb": {
      "model_module": "@jupyter-widgets/base",
      "model_module_version": "1.2.0",
      "model_name": "LayoutModel",
      "state": {}
     },
     "59fb525f928d44aa8139181f28059672": {
      "model_module": "@jupyter-widgets/controls",
      "model_module_version": "1.5.0",
      "model_name": "ProgressStyleModel",
      "state": {
       "description_width": ""
      }
     },
     "5a259766bd3a433a966e2b36da521c30": {
      "model_module": "@jupyter-widgets/controls",
      "model_module_version": "1.5.0",
      "model_name": "HBoxModel",
      "state": {
       "children": [
        "IPY_MODEL_dd1e8d0657ef425aada7e77ecb378bb2",
        "IPY_MODEL_50b6d1f951e64e52bd4c779e994b8c57",
        "IPY_MODEL_7700b6fb7dce41cebb12b959f6e613cf"
       ],
       "layout": "IPY_MODEL_b9591130dc654815ad6d281b7dd25c9a"
      }
     },
     "5d1562f369224aa295eedd4bc8556b85": {
      "model_module": "@jupyter-widgets/controls",
      "model_module_version": "1.5.0",
      "model_name": "HBoxModel",
      "state": {
       "children": [
        "IPY_MODEL_d0ca2a60d84b480a8ea2f60d7e8770d9",
        "IPY_MODEL_e6e3da41c8cd4addbc63b1f04486f353",
        "IPY_MODEL_ccf6f7f4b8c74c5d8c182d5e29ea38bd"
       ],
       "layout": "IPY_MODEL_9c496a0b7dcf464e843900d8e90211f6"
      }
     },
     "5e0d42654b9c45c98077ff110830418d": {
      "model_module": "@jupyter-widgets/base",
      "model_module_version": "1.2.0",
      "model_name": "LayoutModel",
      "state": {}
     },
     "60d8ad2dee0141b18e31de34d7fdb1ab": {
      "model_module": "@jupyter-widgets/controls",
      "model_module_version": "1.5.0",
      "model_name": "HTMLModel",
      "state": {
       "layout": "IPY_MODEL_df66093ffe344342a06da905128aca86",
       "style": "IPY_MODEL_5328bc8a2ed34f84b1da45efdcbcef5b",
       "value": " 10/127 [00:00&lt;00:06, 19.35it/s]"
      }
     },
     "63c1ca1336e84991aba0d8404a224c2d": {
      "model_module": "@jupyter-widgets/controls",
      "model_module_version": "1.5.0",
      "model_name": "DescriptionStyleModel",
      "state": {
       "description_width": ""
      }
     },
     "6529126f4f3142afbd688ebef17cd903": {
      "model_module": "@jupyter-widgets/controls",
      "model_module_version": "1.5.0",
      "model_name": "DescriptionStyleModel",
      "state": {
       "description_width": ""
      }
     },
     "67552199b6cc4b2eae638e5d0ede399b": {
      "model_module": "@jupyter-widgets/controls",
      "model_module_version": "1.5.0",
      "model_name": "ProgressStyleModel",
      "state": {
       "description_width": ""
      }
     },
     "686213ef3fc14f789f06dfb9380fe7dd": {
      "model_module": "@jupyter-widgets/base",
      "model_module_version": "1.2.0",
      "model_name": "LayoutModel",
      "state": {}
     },
     "6ac4fd8a35e14ea0803cf31b5a034d1b": {
      "model_module": "@jupyter-widgets/controls",
      "model_module_version": "1.5.0",
      "model_name": "ProgressStyleModel",
      "state": {
       "description_width": ""
      }
     },
     "6b79b436ff694b2594c05d235cd973fb": {
      "model_module": "@jupyter-widgets/controls",
      "model_module_version": "1.5.0",
      "model_name": "DescriptionStyleModel",
      "state": {
       "description_width": ""
      }
     },
     "6f4edbcf074143ffb7e7fa848ca53e34": {
      "model_module": "@jupyter-widgets/controls",
      "model_module_version": "1.5.0",
      "model_name": "HTMLModel",
      "state": {
       "layout": "IPY_MODEL_7387584d52bb4497a2579e7342370e71",
       "style": "IPY_MODEL_fbb05047c0e44addabecdf80ac267804",
       "value": " 1/127 [00:00&lt;00:09, 12.77it/s]"
      }
     },
     "6f6a9ef1745d4861ba785a90f5ec59c2": {
      "model_module": "@jupyter-widgets/controls",
      "model_module_version": "1.5.0",
      "model_name": "FloatProgressModel",
      "state": {
       "bar_style": "danger",
       "layout": "IPY_MODEL_b101732e888a4412a28cb624f64c28cf",
       "max": 127,
       "style": "IPY_MODEL_3b228c0314d04b41a165842af5fcc376"
      }
     },
     "71df0b5ef3f84b6b96f0ef80c014d3f0": {
      "model_module": "@jupyter-widgets/controls",
      "model_module_version": "1.5.0",
      "model_name": "HTMLModel",
      "state": {
       "layout": "IPY_MODEL_2b4886c30648408f8db5ddda8299e28f",
       "style": "IPY_MODEL_eccf9d74ec414d4fb74859d0a94c6201",
       "value": "100%"
      }
     },
     "7387584d52bb4497a2579e7342370e71": {
      "model_module": "@jupyter-widgets/base",
      "model_module_version": "1.2.0",
      "model_name": "LayoutModel",
      "state": {}
     },
     "73d3722db30e4e438a1a4ef2e535246d": {
      "model_module": "@jupyter-widgets/base",
      "model_module_version": "1.2.0",
      "model_name": "LayoutModel",
      "state": {}
     },
     "7700b6fb7dce41cebb12b959f6e613cf": {
      "model_module": "@jupyter-widgets/controls",
      "model_module_version": "1.5.0",
      "model_name": "HTMLModel",
      "state": {
       "layout": "IPY_MODEL_445bf976cc70456fa444f81c12029f59",
       "style": "IPY_MODEL_7da52a83d7694db895b16f78b5a73c6e",
       "value": " 0/127 [00:00&lt;?, ?it/s]"
      }
     },
     "7ae4795d794748c7b0d5364ca25727fb": {
      "model_module": "@jupyter-widgets/controls",
      "model_module_version": "1.5.0",
      "model_name": "ProgressStyleModel",
      "state": {
       "description_width": ""
      }
     },
     "7b6e96a2d24d4e56aa0789b1e0c4b5f5": {
      "model_module": "@jupyter-widgets/controls",
      "model_module_version": "1.5.0",
      "model_name": "DescriptionStyleModel",
      "state": {
       "description_width": ""
      }
     },
     "7da52a83d7694db895b16f78b5a73c6e": {
      "model_module": "@jupyter-widgets/controls",
      "model_module_version": "1.5.0",
      "model_name": "DescriptionStyleModel",
      "state": {
       "description_width": ""
      }
     },
     "801491ca60a247c499d597bddd94bc91": {
      "model_module": "@jupyter-widgets/controls",
      "model_module_version": "1.5.0",
      "model_name": "DescriptionStyleModel",
      "state": {
       "description_width": ""
      }
     },
     "81f4012c07ca40e5a5203f67fe975a82": {
      "model_module": "@jupyter-widgets/base",
      "model_module_version": "1.2.0",
      "model_name": "LayoutModel",
      "state": {}
     },
     "84d848405d864938b4188b6e93f412fa": {
      "model_module": "@jupyter-widgets/controls",
      "model_module_version": "1.5.0",
      "model_name": "FloatProgressModel",
      "state": {
       "bar_style": "danger",
       "layout": "IPY_MODEL_cead26c406a440ae96fc1fd1899f97d0",
       "max": 127,
       "style": "IPY_MODEL_46dc2259a23d4495ab977fa3f612a0eb"
      }
     },
     "866f0d9ff7a440849e8b397710c69695": {
      "model_module": "@jupyter-widgets/controls",
      "model_module_version": "1.5.0",
      "model_name": "ProgressStyleModel",
      "state": {
       "description_width": ""
      }
     },
     "8bbd02a326e248a8b3e2d6701d2fef12": {
      "model_module": "@jupyter-widgets/base",
      "model_module_version": "1.2.0",
      "model_name": "LayoutModel",
      "state": {}
     },
     "8cd779f37656477c819508b775fe9934": {
      "model_module": "@jupyter-widgets/controls",
      "model_module_version": "1.5.0",
      "model_name": "HBoxModel",
      "state": {
       "children": [
        "IPY_MODEL_4817b8d742de43bab7d82e127edfa306",
        "IPY_MODEL_c273b161fcef4b3394ead113e57b6f78",
        "IPY_MODEL_6f4edbcf074143ffb7e7fa848ca53e34"
       ],
       "layout": "IPY_MODEL_587c1fd4d58248598e5743fbab786feb"
      }
     },
     "8ea209884b7747178847dd045fd942b2": {
      "model_module": "@jupyter-widgets/controls",
      "model_module_version": "1.5.0",
      "model_name": "DescriptionStyleModel",
      "state": {
       "description_width": ""
      }
     },
     "8f6e4250192a4785b76f58fc9ecbd5ef": {
      "model_module": "@jupyter-widgets/base",
      "model_module_version": "1.2.0",
      "model_name": "LayoutModel",
      "state": {}
     },
     "9295eb846fe84a51ab42ef13bd47d4e8": {
      "model_module": "@jupyter-widgets/controls",
      "model_module_version": "1.5.0",
      "model_name": "FloatProgressModel",
      "state": {
       "bar_style": "success",
       "layout": "IPY_MODEL_0270336172e1497a8042cc801a1c184c",
       "max": 127,
       "style": "IPY_MODEL_67552199b6cc4b2eae638e5d0ede399b",
       "value": 127
      }
     },
     "936e9206c17f47239881037fc14ce299": {
      "model_module": "@jupyter-widgets/controls",
      "model_module_version": "1.5.0",
      "model_name": "DescriptionStyleModel",
      "state": {
       "description_width": ""
      }
     },
     "995fadf7d2d14db2a5cd47005264fcbb": {
      "model_module": "@jupyter-widgets/controls",
      "model_module_version": "1.5.0",
      "model_name": "HBoxModel",
      "state": {
       "children": [
        "IPY_MODEL_09ab1c7a0a0c4b10906c36d3df853c29",
        "IPY_MODEL_6f6a9ef1745d4861ba785a90f5ec59c2",
        "IPY_MODEL_b9ab7cec5917415e9dc8cd34ff457d11"
       ],
       "layout": "IPY_MODEL_20bd51225b954a7695ba27017cdf5214"
      }
     },
     "9980a17255a9496eb9ca2fba0ffb1e82": {
      "model_module": "@jupyter-widgets/controls",
      "model_module_version": "1.5.0",
      "model_name": "FloatProgressModel",
      "state": {
       "bar_style": "success",
       "layout": "IPY_MODEL_cb9163219c2e45bfb9dc46fd3614f0b5",
       "max": 127,
       "style": "IPY_MODEL_3ad37c59fc7b4b9b94c9c05378ed88f7",
       "value": 127
      }
     },
     "99d3ff50e72a457884252f5270d8a714": {
      "model_module": "@jupyter-widgets/base",
      "model_module_version": "1.2.0",
      "model_name": "LayoutModel",
      "state": {}
     },
     "9a45d872f2784ebe8b836eb84f499038": {
      "model_module": "@jupyter-widgets/controls",
      "model_module_version": "1.5.0",
      "model_name": "HBoxModel",
      "state": {
       "children": [
        "IPY_MODEL_71df0b5ef3f84b6b96f0ef80c014d3f0",
        "IPY_MODEL_ed9d4d8af25a40a9a6eb63887f684b57",
        "IPY_MODEL_a0d925a4444c4c9aa74a51f838518996"
       ],
       "layout": "IPY_MODEL_14d80eb67ccc4d469d1b2dfa37914d0d"
      }
     },
     "9b865cbfdf1f42b4bdc383eafc3354cd": {
      "model_module": "@jupyter-widgets/controls",
      "model_module_version": "1.5.0",
      "model_name": "DescriptionStyleModel",
      "state": {
       "description_width": ""
      }
     },
     "9c496a0b7dcf464e843900d8e90211f6": {
      "model_module": "@jupyter-widgets/base",
      "model_module_version": "1.2.0",
      "model_name": "LayoutModel",
      "state": {}
     },
     "a0a314e4c3f44796b35373aecae323f4": {
      "model_module": "@jupyter-widgets/controls",
      "model_module_version": "1.5.0",
      "model_name": "HBoxModel",
      "state": {
       "children": [
        "IPY_MODEL_55cce32bafda4fc1b630b7cb2f9b45ba",
        "IPY_MODEL_84d848405d864938b4188b6e93f412fa",
        "IPY_MODEL_f5d5e579087149289ddb4ef814ab0e08"
       ],
       "layout": "IPY_MODEL_23f601c2057342b8ab6336e0ddd5bd13"
      }
     },
     "a0d925a4444c4c9aa74a51f838518996": {
      "model_module": "@jupyter-widgets/controls",
      "model_module_version": "1.5.0",
      "model_name": "HTMLModel",
      "state": {
       "layout": "IPY_MODEL_e1731a783a544e5e8693015cd56f40d7",
       "style": "IPY_MODEL_e7ea0fc6bce9444084dd5bdbf1ff41cc",
       "value": " 127/127 [00:05&lt;00:00, 27.77it/s]"
      }
     },
     "a11107f39cc74d87943372bd1f10ea84": {
      "model_module": "@jupyter-widgets/base",
      "model_module_version": "1.2.0",
      "model_name": "LayoutModel",
      "state": {}
     },
     "a3c838502fcd45159ee8605ed3e301e2": {
      "model_module": "@jupyter-widgets/base",
      "model_module_version": "1.2.0",
      "model_name": "LayoutModel",
      "state": {}
     },
     "a561cf91af0846cba110ad5fc4d9a1b6": {
      "model_module": "@jupyter-widgets/controls",
      "model_module_version": "1.5.0",
      "model_name": "HBoxModel",
      "state": {
       "children": [
        "IPY_MODEL_ac8c2d64dee745c0bab2766edc4fcbd6",
        "IPY_MODEL_1f0148e1ab924e7dbb0c5d8d7de52737",
        "IPY_MODEL_2da5484078774bba91bda7b4e74334f2"
       ],
       "layout": "IPY_MODEL_b4d23310c7da4f5aa50bf3745082e652"
      }
     },
     "a5bc337d6c6b495dbb4b1fe3ed7639dc": {
      "model_module": "@jupyter-widgets/controls",
      "model_module_version": "1.5.0",
      "model_name": "DescriptionStyleModel",
      "state": {
       "description_width": ""
      }
     },
     "aa5d6fbe28964e69b4137d3b370390c5": {
      "model_module": "@jupyter-widgets/base",
      "model_module_version": "1.2.0",
      "model_name": "LayoutModel",
      "state": {}
     },
     "ac8c2d64dee745c0bab2766edc4fcbd6": {
      "model_module": "@jupyter-widgets/controls",
      "model_module_version": "1.5.0",
      "model_name": "HTMLModel",
      "state": {
       "layout": "IPY_MODEL_13e9c681b867490ba9dc5f21909819ee",
       "style": "IPY_MODEL_9b865cbfdf1f42b4bdc383eafc3354cd",
       "value": "  0%"
      }
     },
     "ad65add3a9fd434fa33a7a6a692fa471": {
      "model_module": "@jupyter-widgets/base",
      "model_module_version": "1.2.0",
      "model_name": "LayoutModel",
      "state": {}
     },
     "ae1e1f68a6f34f66a299963c377540ac": {
      "model_module": "@jupyter-widgets/controls",
      "model_module_version": "1.5.0",
      "model_name": "DescriptionStyleModel",
      "state": {
       "description_width": ""
      }
     },
     "b078b271a24d43898129cc4af61a4357": {
      "model_module": "@jupyter-widgets/controls",
      "model_module_version": "1.5.0",
      "model_name": "HBoxModel",
      "state": {
       "children": [
        "IPY_MODEL_b375bff5c177425da992c9da7697e2d6",
        "IPY_MODEL_d00b42efd4fa47ec88ac13749b5fe3e1",
        "IPY_MODEL_e6bd352d591c44edbd50b2db501f17dd"
       ],
       "layout": "IPY_MODEL_3531cb9409b04af38ee509c7ef479903"
      }
     },
     "b0fe4bea2fe44413aef0406e977a5a22": {
      "model_module": "@jupyter-widgets/base",
      "model_module_version": "1.2.0",
      "model_name": "LayoutModel",
      "state": {}
     },
     "b101732e888a4412a28cb624f64c28cf": {
      "model_module": "@jupyter-widgets/base",
      "model_module_version": "1.2.0",
      "model_name": "LayoutModel",
      "state": {}
     },
     "b375bff5c177425da992c9da7697e2d6": {
      "model_module": "@jupyter-widgets/controls",
      "model_module_version": "1.5.0",
      "model_name": "HTMLModel",
      "state": {
       "layout": "IPY_MODEL_34b733210caa4ee494d4f14a9a1f9d3d",
       "style": "IPY_MODEL_ae1e1f68a6f34f66a299963c377540ac",
       "value": "  0%"
      }
     },
     "b3cd31b0d82d4441a5cad961d106a5fc": {
      "model_module": "@jupyter-widgets/controls",
      "model_module_version": "1.5.0",
      "model_name": "HTMLModel",
      "state": {
       "layout": "IPY_MODEL_ca14ab0641604cd2a41c99440df868db",
       "style": "IPY_MODEL_08a308ab0dad439ea53c1c43905c7b8e",
       "value": " 0/127 [00:00&lt;?, ?it/s]"
      }
     },
     "b463eac2046b46c68bb9291dade0cb42": {
      "model_module": "@jupyter-widgets/controls",
      "model_module_version": "1.5.0",
      "model_name": "HTMLModel",
      "state": {
       "layout": "IPY_MODEL_ad65add3a9fd434fa33a7a6a692fa471",
       "style": "IPY_MODEL_d87202255f1840638593cfea3179f8cf",
       "value": " 0/127 [00:00&lt;?, ?it/s]"
      }
     },
     "b4d23310c7da4f5aa50bf3745082e652": {
      "model_module": "@jupyter-widgets/base",
      "model_module_version": "1.2.0",
      "model_name": "LayoutModel",
      "state": {}
     },
     "b94ca59d6bf24c87bc1ac93a69cd3b76": {
      "model_module": "@jupyter-widgets/controls",
      "model_module_version": "1.5.0",
      "model_name": "DescriptionStyleModel",
      "state": {
       "description_width": ""
      }
     },
     "b9591130dc654815ad6d281b7dd25c9a": {
      "model_module": "@jupyter-widgets/base",
      "model_module_version": "1.2.0",
      "model_name": "LayoutModel",
      "state": {}
     },
     "b9ab7cec5917415e9dc8cd34ff457d11": {
      "model_module": "@jupyter-widgets/controls",
      "model_module_version": "1.5.0",
      "model_name": "HTMLModel",
      "state": {
       "layout": "IPY_MODEL_4642e38f7c974a9db8502db1d8b7a012",
       "style": "IPY_MODEL_63c1ca1336e84991aba0d8404a224c2d",
       "value": " 0/127 [00:00&lt;?, ?it/s]"
      }
     },
     "baa5b0238b154aec9327bd5beeef42a0": {
      "model_module": "@jupyter-widgets/controls",
      "model_module_version": "1.5.0",
      "model_name": "HBoxModel",
      "state": {
       "children": [
        "IPY_MODEL_5818a922485948fd8b086ba55b48e571",
        "IPY_MODEL_3eec0367ec2744cd8db48b9b30386772",
        "IPY_MODEL_b3cd31b0d82d4441a5cad961d106a5fc"
       ],
       "layout": "IPY_MODEL_c019cbb800ea42b3966f4516bba11a94"
      }
     },
     "bb37932696d44cb7978545dbdaf92736": {
      "model_module": "@jupyter-widgets/controls",
      "model_module_version": "1.5.0",
      "model_name": "ProgressStyleModel",
      "state": {
       "description_width": ""
      }
     },
     "bbdbe1c667aa4d6695f0c37f81f8f4af": {
      "model_module": "@jupyter-widgets/base",
      "model_module_version": "1.2.0",
      "model_name": "LayoutModel",
      "state": {}
     },
     "be88241914bd4593b515c69bf075a674": {
      "model_module": "@jupyter-widgets/controls",
      "model_module_version": "1.5.0",
      "model_name": "HBoxModel",
      "state": {
       "children": [
        "IPY_MODEL_369a4639194a4bda8609508b89e0d197",
        "IPY_MODEL_f6670734b39e449395a704c611250b38",
        "IPY_MODEL_60d8ad2dee0141b18e31de34d7fdb1ab"
       ],
       "layout": "IPY_MODEL_d9b3dc78cc4841c4b93b4675afb237ca"
      }
     },
     "c019cbb800ea42b3966f4516bba11a94": {
      "model_module": "@jupyter-widgets/base",
      "model_module_version": "1.2.0",
      "model_name": "LayoutModel",
      "state": {}
     },
     "c273b161fcef4b3394ead113e57b6f78": {
      "model_module": "@jupyter-widgets/controls",
      "model_module_version": "1.5.0",
      "model_name": "FloatProgressModel",
      "state": {
       "bar_style": "danger",
       "layout": "IPY_MODEL_aa5d6fbe28964e69b4137d3b370390c5",
       "max": 127,
       "style": "IPY_MODEL_6ac4fd8a35e14ea0803cf31b5a034d1b",
       "value": 1
      }
     },
     "c6befd677a204b6fa51383ba3a5e79ce": {
      "model_module": "@jupyter-widgets/base",
      "model_module_version": "1.2.0",
      "model_name": "LayoutModel",
      "state": {}
     },
     "ca14ab0641604cd2a41c99440df868db": {
      "model_module": "@jupyter-widgets/base",
      "model_module_version": "1.2.0",
      "model_name": "LayoutModel",
      "state": {}
     },
     "cb9163219c2e45bfb9dc46fd3614f0b5": {
      "model_module": "@jupyter-widgets/base",
      "model_module_version": "1.2.0",
      "model_name": "LayoutModel",
      "state": {}
     },
     "ccf6f7f4b8c74c5d8c182d5e29ea38bd": {
      "model_module": "@jupyter-widgets/controls",
      "model_module_version": "1.5.0",
      "model_name": "HTMLModel",
      "state": {
       "layout": "IPY_MODEL_18f4eae2d0ee4e8abe41ada2c5e5aad5",
       "style": "IPY_MODEL_a5bc337d6c6b495dbb4b1fe3ed7639dc",
       "value": " 1/127 [00:00&lt;00:09, 12.96it/s]"
      }
     },
     "cead26c406a440ae96fc1fd1899f97d0": {
      "model_module": "@jupyter-widgets/base",
      "model_module_version": "1.2.0",
      "model_name": "LayoutModel",
      "state": {}
     },
     "cffd0a4516f34cd8be679e00725d47eb": {
      "model_module": "@jupyter-widgets/base",
      "model_module_version": "1.2.0",
      "model_name": "LayoutModel",
      "state": {}
     },
     "d00b42efd4fa47ec88ac13749b5fe3e1": {
      "model_module": "@jupyter-widgets/controls",
      "model_module_version": "1.5.0",
      "model_name": "FloatProgressModel",
      "state": {
       "bar_style": "danger",
       "layout": "IPY_MODEL_bbdbe1c667aa4d6695f0c37f81f8f4af",
       "max": 127,
       "style": "IPY_MODEL_f7b71738c5d346a4abe79080f6f40c49"
      }
     },
     "d0823a07bdb1435cbafd37e1f4dbaa98": {
      "model_module": "@jupyter-widgets/base",
      "model_module_version": "1.2.0",
      "model_name": "LayoutModel",
      "state": {}
     },
     "d0ca2a60d84b480a8ea2f60d7e8770d9": {
      "model_module": "@jupyter-widgets/controls",
      "model_module_version": "1.5.0",
      "model_name": "HTMLModel",
      "state": {
       "layout": "IPY_MODEL_2a1c874b70cb48d5b94fc24727b63fc6",
       "style": "IPY_MODEL_936e9206c17f47239881037fc14ce299",
       "value": "  1%"
      }
     },
     "d28044064c1e403c89ea693ec5b961d7": {
      "model_module": "@jupyter-widgets/controls",
      "model_module_version": "1.5.0",
      "model_name": "FloatProgressModel",
      "state": {
       "bar_style": "danger",
       "layout": "IPY_MODEL_06b7350a153a4fb69df9fa880ffeda3c",
       "max": 127,
       "style": "IPY_MODEL_f034aee9290a43fdbb48f6661736c704"
      }
     },
     "d2da6e7ac5b94285a510e8e0ce8e95f3": {
      "model_module": "@jupyter-widgets/controls",
      "model_module_version": "1.5.0",
      "model_name": "FloatProgressModel",
      "state": {
       "bar_style": "danger",
       "layout": "IPY_MODEL_e9492f4efe4c483a94b3210887655a96",
       "max": 127,
       "style": "IPY_MODEL_bb37932696d44cb7978545dbdaf92736"
      }
     },
     "d3158e3f6db14b1cbed523b39da41f77": {
      "model_module": "@jupyter-widgets/controls",
      "model_module_version": "1.5.0",
      "model_name": "ProgressStyleModel",
      "state": {
       "description_width": ""
      }
     },
     "d87202255f1840638593cfea3179f8cf": {
      "model_module": "@jupyter-widgets/controls",
      "model_module_version": "1.5.0",
      "model_name": "DescriptionStyleModel",
      "state": {
       "description_width": ""
      }
     },
     "d95a0b4637bf4c94859ad91034674849": {
      "model_module": "@jupyter-widgets/base",
      "model_module_version": "1.2.0",
      "model_name": "LayoutModel",
      "state": {}
     },
     "d9b3dc78cc4841c4b93b4675afb237ca": {
      "model_module": "@jupyter-widgets/base",
      "model_module_version": "1.2.0",
      "model_name": "LayoutModel",
      "state": {}
     },
     "dd1e8d0657ef425aada7e77ecb378bb2": {
      "model_module": "@jupyter-widgets/controls",
      "model_module_version": "1.5.0",
      "model_name": "HTMLModel",
      "state": {
       "layout": "IPY_MODEL_07081a3db0ea408f819c67fc6164f9ed",
       "style": "IPY_MODEL_e06d5bc675c941a49cea43452234c081",
       "value": "  0%"
      }
     },
     "df66093ffe344342a06da905128aca86": {
      "model_module": "@jupyter-widgets/base",
      "model_module_version": "1.2.0",
      "model_name": "LayoutModel",
      "state": {}
     },
     "e05d12de5cc7433a88898d392946e022": {
      "model_module": "@jupyter-widgets/controls",
      "model_module_version": "1.5.0",
      "model_name": "DescriptionStyleModel",
      "state": {
       "description_width": ""
      }
     },
     "e06d5bc675c941a49cea43452234c081": {
      "model_module": "@jupyter-widgets/controls",
      "model_module_version": "1.5.0",
      "model_name": "DescriptionStyleModel",
      "state": {
       "description_width": ""
      }
     },
     "e1731a783a544e5e8693015cd56f40d7": {
      "model_module": "@jupyter-widgets/base",
      "model_module_version": "1.2.0",
      "model_name": "LayoutModel",
      "state": {}
     },
     "e6bd352d591c44edbd50b2db501f17dd": {
      "model_module": "@jupyter-widgets/controls",
      "model_module_version": "1.5.0",
      "model_name": "HTMLModel",
      "state": {
       "layout": "IPY_MODEL_1ad77c6e67244e338c200702eb7f93d9",
       "style": "IPY_MODEL_179429d337644c7bb1e0bdfefcba4d0c",
       "value": " 0/127 [00:00&lt;?, ?it/s]"
      }
     },
     "e6e3da41c8cd4addbc63b1f04486f353": {
      "model_module": "@jupyter-widgets/controls",
      "model_module_version": "1.5.0",
      "model_name": "FloatProgressModel",
      "state": {
       "bar_style": "danger",
       "layout": "IPY_MODEL_81f4012c07ca40e5a5203f67fe975a82",
       "max": 127,
       "style": "IPY_MODEL_359ae39b50094352b263ecacd782f091",
       "value": 1
      }
     },
     "e7ea0fc6bce9444084dd5bdbf1ff41cc": {
      "model_module": "@jupyter-widgets/controls",
      "model_module_version": "1.5.0",
      "model_name": "DescriptionStyleModel",
      "state": {
       "description_width": ""
      }
     },
     "e9492f4efe4c483a94b3210887655a96": {
      "model_module": "@jupyter-widgets/base",
      "model_module_version": "1.2.0",
      "model_name": "LayoutModel",
      "state": {}
     },
     "eba9c45a661e4504a6f569a26cd15126": {
      "model_module": "@jupyter-widgets/base",
      "model_module_version": "1.2.0",
      "model_name": "LayoutModel",
      "state": {}
     },
     "eccf9d74ec414d4fb74859d0a94c6201": {
      "model_module": "@jupyter-widgets/controls",
      "model_module_version": "1.5.0",
      "model_name": "DescriptionStyleModel",
      "state": {
       "description_width": ""
      }
     },
     "ed382e28b653452e9338bccb627b4257": {
      "model_module": "@jupyter-widgets/controls",
      "model_module_version": "1.5.0",
      "model_name": "HBoxModel",
      "state": {
       "children": [
        "IPY_MODEL_21694ece59674cc3849a560fce066201",
        "IPY_MODEL_9980a17255a9496eb9ca2fba0ffb1e82",
        "IPY_MODEL_5769acb78dd34707a8e82717a4ac8d4f"
       ],
       "layout": "IPY_MODEL_686213ef3fc14f789f06dfb9380fe7dd"
      }
     },
     "ed9d4d8af25a40a9a6eb63887f684b57": {
      "model_module": "@jupyter-widgets/controls",
      "model_module_version": "1.5.0",
      "model_name": "FloatProgressModel",
      "state": {
       "bar_style": "success",
       "layout": "IPY_MODEL_99d3ff50e72a457884252f5270d8a714",
       "max": 127,
       "style": "IPY_MODEL_59fb525f928d44aa8139181f28059672",
       "value": 127
      }
     },
     "eea5a956fafd44bc9abd05fd3ce14901": {
      "model_module": "@jupyter-widgets/base",
      "model_module_version": "1.2.0",
      "model_name": "LayoutModel",
      "state": {}
     },
     "f034aee9290a43fdbb48f6661736c704": {
      "model_module": "@jupyter-widgets/controls",
      "model_module_version": "1.5.0",
      "model_name": "ProgressStyleModel",
      "state": {
       "description_width": ""
      }
     },
     "f0bb276a78324fcfa23fa456bb2c46f5": {
      "model_module": "@jupyter-widgets/base",
      "model_module_version": "1.2.0",
      "model_name": "LayoutModel",
      "state": {}
     },
     "f5d5e579087149289ddb4ef814ab0e08": {
      "model_module": "@jupyter-widgets/controls",
      "model_module_version": "1.5.0",
      "model_name": "HTMLModel",
      "state": {
       "layout": "IPY_MODEL_eba9c45a661e4504a6f569a26cd15126",
       "style": "IPY_MODEL_2966f5da850c4cce9bd1292db3b218d3",
       "value": " 0/127 [00:00&lt;?, ?it/s]"
      }
     },
     "f665ab4e6b02437e9623adbe26aefa0d": {
      "model_module": "@jupyter-widgets/controls",
      "model_module_version": "1.5.0",
      "model_name": "DescriptionStyleModel",
      "state": {
       "description_width": ""
      }
     },
     "f6670734b39e449395a704c611250b38": {
      "model_module": "@jupyter-widgets/controls",
      "model_module_version": "1.5.0",
      "model_name": "FloatProgressModel",
      "state": {
       "bar_style": "danger",
       "layout": "IPY_MODEL_29ae359663b8415faeaf3a26bf491f19",
       "max": 127,
       "style": "IPY_MODEL_7ae4795d794748c7b0d5364ca25727fb",
       "value": 10
      }
     },
     "f7b71738c5d346a4abe79080f6f40c49": {
      "model_module": "@jupyter-widgets/controls",
      "model_module_version": "1.5.0",
      "model_name": "ProgressStyleModel",
      "state": {
       "description_width": ""
      }
     },
     "fb6d15c5a0564d1b9173e3beee2ef9d8": {
      "model_module": "@jupyter-widgets/controls",
      "model_module_version": "1.5.0",
      "model_name": "HBoxModel",
      "state": {
       "children": [
        "IPY_MODEL_451991e374d543c7b92c7ed282f01803",
        "IPY_MODEL_9295eb846fe84a51ab42ef13bd47d4e8",
        "IPY_MODEL_3ad325247adc4e86928c63e5ba8a5411"
       ],
       "layout": "IPY_MODEL_013a5c812ca94e5498ad867e4d27cf35"
      }
     },
     "fbb05047c0e44addabecdf80ac267804": {
      "model_module": "@jupyter-widgets/controls",
      "model_module_version": "1.5.0",
      "model_name": "DescriptionStyleModel",
      "state": {
       "description_width": ""
      }
     }
    },
    "version_major": 2,
    "version_minor": 0
   }
  }
 },
 "nbformat": 4,
 "nbformat_minor": 5
}
