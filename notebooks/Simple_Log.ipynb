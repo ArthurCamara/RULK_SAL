{
 "cells": [
  {
   "cell_type": "markdown",
   "id": "0325c404-c436-4ccc-8650-9a5ccc1cecfd",
   "metadata": {},
   "source": [
    "Creates a simpler query-log style of logs. A list with each eleement a dictionaty like this:\n",
    "```\n",
    "{\n",
    "    'pre_test_score': 0,  # Score in the pre-test\n",
    "    'post_test_score': 8, # score in the post-test\n",
    "    'RPL': 0.4,  # Realized pottential gain (%)\n",
    "    'ALG': 0.8, # Absolute pottential gain (%)\n",
    "    'topic_id': '4', ID of the topic\n",
    "    'topic_title': 'Ethics', # Title of the topic\n",
    "    'session_duration': 3486, # Time in seconds\n",
    "    'clicks': [ # List of all user clicks\n",
    "                {'query_text': 'ethics',   # Text of the query\n",
    "                'url': 'https://www.scu.edu/ethics/ethics-resources/ethical-decision-making/what-is-ethics/',  #URL clicked\n",
    "                'position': 2},  # Position of the document in the SERP\n",
    "                }  ...\n",
    "```"
   ]
  },
  {
   "cell_type": "markdown",
   "id": "f3368332-8fba-4f8b-ba26-50fba24cc261",
   "metadata": {
    "jp-MarkdownHeadingCollapsed": true,
    "tags": []
   },
   "source": [
    "## Preparation\n",
    "- See `Analysis.ipynb` for more details"
   ]
  },
  {
   "cell_type": "code",
   "execution_count": 2,
   "id": "2e6c4dc5-0878-473e-a725-363520cae790",
   "metadata": {
    "tags": []
   },
   "outputs": [],
   "source": [
    "import base64\n",
    "import gzip\n",
    "import json\n",
    "from collections import OrderedDict\n",
    "from datetime import datetime\n",
    "\n",
    "import numpy as np\n",
    "import pandas as pd\n",
    "from tqdm.auto import tqdm\n",
    "\n",
    "\n",
    "def p_date(x: str) -> datetime:\n",
    "    \"\"\"Short hand for datetime.fromisoformat(x)\"\"\"\n",
    "    if isinstance(x, datetime):\n",
    "        return x\n",
    "    return datetime.fromisoformat(x)\n",
    "\n",
    "\n",
    "with gzip.open(\"../data/all_logs_clean.json.gz\", \"r\") as inf:\n",
    "    all_logs = json.loads(inf.read().decode(\"utf-8\"))\n",
    "with gzip.open(\"../data/all_queries_clean.json.gz\", \"r\") as inf:\n",
    "    all_queries = json.loads(inf.read().decode(\"utf-8\"))\n",
    "\n",
    "vocab = json.load(open(\"../data/vocab.json\"))  # VKS vocabulary dictionary\n",
    "users = set([x[\"userId\"] for x in all_logs])\n",
    "\n",
    "pre_tests = {\n",
    "    **{x[\"sessionId\"]: x[\"meta\"] for x in all_logs if x[\"event\"] == \"SURVEY_REGISTER_RESULTS\"},\n",
    "    **{x[\"userId\"]: x[\"meta\"] for x in all_logs if x[\"event\"] == \"SURVEY_REGISTER_RESULTS\"},\n",
    "    **{x[\"meta\"][\"data\"][\"userId\"]: x[\"meta\"] for x in all_logs if x[\"event\"] == \"SURVEY_REGISTER_RESULTS\"},\n",
    "}\n",
    "prolific_path = [\n",
    "    f\"../data/{x}\"\n",
    "    for x in [\n",
    "        \"prolific_export_5e4d0dea60c37d14cb329934.csv\",\n",
    "        \"prolific_export_5e4e4f7be482212a2429a366.csv\",\n",
    "        \"prolific_export_5f46799646aa3002de1afa25.csv\",\n",
    "    ]\n",
    "]\n",
    "prolific_last_time = dict()\n",
    "session_length_prolific = dict()\n",
    "prolific_status = dict()\n",
    "prolific_users = set()\n",
    "returned_code = dict()\n",
    "found = 0\n",
    "for p in prolific_path:\n",
    "    for line in open(p):\n",
    "        l = line.split(\",\")\n",
    "        if l[0] == \"session_id\":\n",
    "            continue\n",
    "        participant_id = l[1]\n",
    "        prolific_users.add(participant_id)\n",
    "        duration = float(l[5])\n",
    "        status = l[2]\n",
    "        returned_code[participant_id] = l[11]\n",
    "        prolific_status[participant_id] = status\n",
    "        prolific_last_time[participant_id] = l[4]\n",
    "        session_length_prolific[participant_id] = duration"
   ]
  },
  {
   "cell_type": "markdown",
   "id": "39d7206b-d8e6-4139-bbd2-a4bbd4314fec",
   "metadata": {
    "jp-MarkdownHeadingCollapsed": true,
    "tags": []
   },
   "source": [
    "## Metrics"
   ]
  },
  {
   "cell_type": "code",
   "execution_count": 3,
   "id": "755e5a00-1def-43b7-9454-46f2dd4ef26e",
   "metadata": {
    "tags": []
   },
   "outputs": [],
   "source": [
    "def ALG(user_logs: list[dict], topic: str) -> float:\n",
    "    \"\"\"Computes Absolute Learning Gains:\n",
    "    Args:\n",
    "        user_logs: sorted (by time) list with all of one user's logs\n",
    "        topic: string with user's topic id\n",
    "    \"\"\"\n",
    "    score = 0\n",
    "    topic_terms = get_topic_terms(topic)\n",
    "    pretest_results = [r for r in user_logs if r[\"event\"] == \"SURVEY_PRE_TEST_RESULTS\"][0]\n",
    "    posttest_results = [r for r in user_logs if r[\"event\"] == \"SURVEY_POST_TEST_RESULTS\"][0]\n",
    "    score_mapping = {1: 0, 2: 0, 3: 1, 4: 2}\n",
    "    for question in topic_terms:\n",
    "        qid = \"Q-\" + str(topic) + \"-\" + str(question)\n",
    "        pre_score = score_mapping[int(pretest_results[\"meta\"][\"data\"][qid])]\n",
    "        post_score = score_mapping[int(posttest_results[\"meta\"][\"data\"][qid])]\n",
    "        score += max(0, post_score - pre_score)\n",
    "    return score / 10\n",
    "\n",
    "\n",
    "def MLG(user_logs: list[dict], topic: str) -> float:\n",
    "    \"\"\"Computes Maximum possible learning potential\n",
    "    Args:\n",
    "        user_logs: sorted (by time) list with all of one user's logs\n",
    "        topic: string with users' topic id\n",
    "    \"\"\"\n",
    "    topic_terms = get_topic_terms(topic)\n",
    "    pretest_results = [r for r in user_logs if r[\"event\"] == \"SURVEY_PRE_TEST_RESULTS\"][0]\n",
    "    score = 0\n",
    "    score_mapping = {1: 0, 2: 0, 3: 1, 4: 2}\n",
    "    for question in topic_terms:\n",
    "        qid = \"Q-\" + str(topic) + \"-\" + str(question)\n",
    "        pre_score = score_mapping[int(pretest_results[\"meta\"][\"data\"][qid])]\n",
    "        score += 2 - pre_score\n",
    "    return score / 10\n",
    "\n",
    "\n",
    "def RPL(user_logs: list, topic: str) -> float:\n",
    "    \"\"\"Computes user's Realized Potential Learning:\n",
    "    Args:\n",
    "        user_logs: List of one user's logs\n",
    "        topic: string with user's topic id\n",
    "    \"\"\"\n",
    "    sorted_logs = sorted(user_logs, key=lambda x: x[\"date\"], reverse=True)\n",
    "    _ALG = ALG(sorted_logs, topic)\n",
    "    _MLG = MLG(sorted_logs, topic)\n",
    "    return _ALG / _MLG\n",
    "\n",
    "\n",
    "def get_pre_pos_score(user_logs: list[dict], topic: str) -> tuple[float, float]:\n",
    "    \"\"\"Returns absolute pre and post user knowledge\"\"\"\n",
    "    topic_terms = get_topic_terms(topic)\n",
    "    pretest_results = [r for r in user_logs if r[\"event\"] == \"SURVEY_PRE_TEST_RESULTS\"][0]\n",
    "    posttest_results = [r for r in user_logs if r[\"event\"] == \"SURVEY_POST_TEST_RESULTS\"][0]\n",
    "    score_mapping = {1: 0, 2: 0, 3: 1, 4: 2}\n",
    "\n",
    "    pre_score = 0\n",
    "    post_score = 0\n",
    "\n",
    "    for question in topic_terms:\n",
    "        qid = \"Q-\" + str(topic) + \"-\" + str(question)\n",
    "        pre_score += score_mapping[int(pretest_results[\"meta\"][\"data\"][qid])]\n",
    "        post_score += score_mapping[int(posttest_results[\"meta\"][\"data\"][qid])]\n",
    "    return pre_score, post_score\n",
    "\n",
    "\n",
    "def get_all_logs(user: str) -> list[dict]:\n",
    "    \"\"\"Get all logs from one user\"\"\"\n",
    "    user_logs = [x for x in all_logs if x[\"userId\"] == user]\n",
    "    return sorted(user_logs, key=lambda x: datetime.strptime(x[\"date\"], \"%Y-%m-%d %H:%M:%S\"))\n",
    "\n",
    "\n",
    "def get_topic_title(user_logs: list[dict]) -> str:\n",
    "    \"\"\"Gets the title of the topic assigned to user\"\"\"\n",
    "    return [x for x in user_logs if x[\"event\"] == \"SURVEY_POST_TEST_RESULTS\"][0][\"task\"][\"data\"][\"topic\"][\"title\"]\n",
    "\n",
    "\n",
    "def get_topic_id(user_logs: list[dict]) -> str:\n",
    "    \"\"\"Gets the id of the topic the user was assigned to\"\"\"\n",
    "    for x in user_logs:\n",
    "        if x[\"event\"] == \"SEARCHRESULT_VIEW_URL\":\n",
    "            return x[\"task\"][\"data\"][\"topic\"][\"id\"]\n",
    "\n",
    "\n",
    "def get_topic_terms(p: str) -> list[str]:\n",
    "    \"\"\"Gets a list of the terms for the VKS for a given topic id\"\"\"\n",
    "    return vocab[p][\"terms\"]\n",
    "\n",
    "\n",
    "def get_session(user_logs: list[dict]) -> str:\n",
    "    \"\"\"Get what type of experiment the user was in\"\"\"\n",
    "    event = [x for x in user_logs if x[\"event\"] == \"SEARCHRESULT_VIEW_URL\"][0]\n",
    "    return event[\"meta\"][\"session\"]\n",
    "\n",
    "\n",
    "def get_session_duration(user_logs: list[dict]) -> int:\n",
    "    \"\"\"Gets how long, in seconds, a user session lasted, from start to end\"\"\"\n",
    "    sorted_logs = sorted(user_logs, key=lambda x: datetime.strptime(x[\"date\"], \"%Y-%m-%d %H:%M:%S\"))\n",
    "    end_time = p_date(sorted_logs[-1][\"date\"])\n",
    "    start_time = p_date(sorted_logs[0][\"date\"])\n",
    "    return (end_time - start_time).seconds\n",
    "\n",
    "\n",
    "def rebuild_serp(user_log: list[dict], start_event: int) -> dict[str, int]:\n",
    "    \"\"\"Rebuilts a SERP, with documents in each position, for a given query\n",
    "    Returns dict with URL and its position in the SERP.\n",
    "    CAVEAT: If URL appears twice in the serp (may happen due to filtering process), only first occurence counts.\"\"\"\n",
    "    n_events = len(user_log) - start_event\n",
    "    for idx, e in enumerate(user_log[start_event + 1 :], start=start_event):\n",
    "        if e[\"event\"] == \"SEARCH_QUERY\":\n",
    "            n_events = idx\n",
    "            break\n",
    "\n",
    "    query_events = sorted(user_log[start_event : start_event + n_events], key=lambda x: datetime.strptime(x[\"date\"], \"%Y-%m-%d %H:%M:%S\"))\n",
    "    query_events = [x for x in query_events if \"position\" in x[\"meta\"]]\n",
    "\n",
    "    for k in query_events:\n",
    "        # naive. Filter later.\n",
    "        k[\"true_position\"] = (k[\"meta\"][\"page\"] - 1) * 10 + k[\"meta\"][\"position\"]\n",
    "\n",
    "    query_events = sorted(query_events, key=lambda x: x[\"true_position\"])\n",
    "    # Try to rebuild the SERP\n",
    "    serp = {}\n",
    "    docs_so_far = 0\n",
    "    offset = 0\n",
    "    for ix, e in enumerate(query_events):\n",
    "        meta = e[\"meta\"]\n",
    "        url = meta[\"url\"]\n",
    "        if url in serp:\n",
    "            continue\n",
    "        serp[url] = e[\"true_position\"]\n",
    "\n",
    "    ranking = sorted(serp.items(), key=lambda x: x[1])\n",
    "\n",
    "    return serp"
   ]
  },
  {
   "cell_type": "markdown",
   "id": "d74c241f-bdff-4475-9a8d-61773b1c1d79",
   "metadata": {
    "tags": []
   },
   "source": [
    "## Extract data"
   ]
  },
  {
   "cell_type": "code",
   "execution_count": 10,
   "id": "0db4bc1b-460d-4db0-bf90-6a0cec5a4ce8",
   "metadata": {},
   "outputs": [
    {
     "data": {
      "application/vnd.jupyter.widget-view+json": {
       "model_id": "d7963eacaaba411193cae4079545c7bf",
       "version_major": 2,
       "version_minor": 0
      },
      "text/plain": [
       "  0%|          | 0/127 [00:00<?, ?it/s]"
      ]
     },
     "metadata": {},
     "output_type": "display_data"
    }
   ],
   "source": [
    "dataset = []\n",
    "for count, user in tqdm(enumerate(users), total=len(users)):\n",
    "    user_log = get_all_logs(user)  # All user events\n",
    "    user_session = get_session(user_log)  # What experiment the user was assigned to\n",
    "    topic = get_topic_title(user_log)  # User topic\n",
    "    topic_id = get_topic_id(user_log)  # User topic id\n",
    "\n",
    "    realized_learning_gain = RPL(user_log, topic_id)\n",
    "    absolute_learning_gain = ALG(user_log, topic_id)\n",
    "    pre_score, post_score = get_pre_pos_score(user_log, topic_id)\n",
    "    time_elapsed = get_session_duration(user_log)\n",
    "\n",
    "    user_data = {\n",
    "        \"pre_test_score\": pre_score,\n",
    "        \"post_test_score\": post_score,\n",
    "        \"RPL\": realized_learning_gain,\n",
    "        \"ALG\": absolute_learning_gain,\n",
    "        \"topic_id\": topic_id,\n",
    "        \"topic_title\": topic,\n",
    "        \"session_duration\": time_elapsed,\n",
    "        \"clicks\": [],\n",
    "    }\n",
    "    current_query = None\n",
    "    queries = 0\n",
    "    query_data = None\n",
    "    # Iterate over log\n",
    "    for e_idx, e in enumerate(user_log):\n",
    "        meta = e[\"meta\"]\n",
    "        if e[\"event\"] == \"SEARCH_QUERY\":\n",
    "            URL_rankings = rebuild_serp(user_log, e_idx)  # rebuild SERP for this query\n",
    "            current_query = meta[\"query\"]\n",
    "\n",
    "        elif e[\"event\"] == \"SEARCHRESULT_CLICK_URL\":\n",
    "            position = URL_rankings[meta[\"url\"]]\n",
    "            user_data[\"clicks\"].append({\"query_text\": current_query, \"url\": meta[\"url\"], \"position\": position})\n",
    "    dataset.append(user_data)"
   ]
  },
  {
   "cell_type": "code",
   "execution_count": 14,
   "id": "0442433e-c204-4b80-91fc-ee7f900584e3",
   "metadata": {},
   "outputs": [],
   "source": [
    "json.dump(dataset, open(\"../data/logs_with_position.json\", \"w\"))"
   ]
  },
  {
   "cell_type": "code",
   "execution_count": 15,
   "id": "83cd1749-2179-485b-b696-c08b36d2598f",
   "metadata": {},
   "outputs": [],
   "source": [
    "dataset = json.load(open(\"../data/logs_with_position.json\"))"
   ]
  },
  {
   "cell_type": "code",
   "execution_count": 16,
   "id": "d95f05e4-971e-477c-babf-59d264dcb0c1",
   "metadata": {
    "tags": []
   },
   "outputs": [
    {
     "data": {
      "text/plain": [
       "{'pre_test_score': 0,\n",
       " 'post_test_score': 8,\n",
       " 'RPL': 0.4,\n",
       " 'ALG': 0.8,\n",
       " 'topic_id': '4',\n",
       " 'topic_title': 'Ethics',\n",
       " 'session_duration': 3486,\n",
       " 'clicks': [{'query_text': 'ethics',\n",
       "   'url': 'https://www.scu.edu/ethics/ethics-resources/ethical-decision-making/what-is-ethics/',\n",
       "   'position': 2},\n",
       "  {'query_text': 'ethics',\n",
       "   'url': 'https://www.britannica.com/topic/ethics-philosophy',\n",
       "   'position': 1},\n",
       "  {'query_text': 'ethics',\n",
       "   'url': 'http://www.bbc.co.uk/ethics/introduction/intro_1.shtml',\n",
       "   'position': 5},\n",
       "  {'query_text': 'meta ethics',\n",
       "   'url': 'https://plato.stanford.edu/entries/metaethics/',\n",
       "   'position': 0},\n",
       "  {'query_text': 'meta ethics',\n",
       "   'url': 'http://www.qcc.cuny.edu/socialsciences/ppecorino/ETHICS_TEXT/Chapter_1_Introduction/Normative_Ethics_and_Metaethics.htm',\n",
       "   'position': 5},\n",
       "  {'query_text': 'meta ethics',\n",
       "   'url': 'https://www.differencebetween.com/difference-between-metaethics-and-normative-ethics/',\n",
       "   'position': 9},\n",
       "  {'query_text': 'meta ethics',\n",
       "   'url': 'https://www.iep.utm.edu/metaethi/',\n",
       "   'position': 1},\n",
       "  {'query_text': 'meta ethics',\n",
       "   'url': 'https://www.britannica.com/topic/metaethics',\n",
       "   'position': 2},\n",
       "  {'query_text': 'meta ethics',\n",
       "   'url': 'https://www.merriam-webster.com/dictionary/metaethics',\n",
       "   'position': 4},\n",
       "  {'query_text': 'meta ethics',\n",
       "   'url': 'https://www.collinsdictionary.com/dictionary/english/meta-ethics',\n",
       "   'position': 8},\n",
       "  {'query_text': 'normative ethics',\n",
       "   'url': 'https://www.britannica.com/topic/normative-ethics',\n",
       "   'position': 0},\n",
       "  {'query_text': 'normative ethics',\n",
       "   'url': 'https://www.gotquestions.org/normative-ethics.html',\n",
       "   'position': 2},\n",
       "  {'query_text': 'hedonism',\n",
       "   'url': 'https://www.merriam-webster.com/dictionary/hedonism',\n",
       "   'position': 0},\n",
       "  {'query_text': 'hedonism ethics',\n",
       "   'url': 'https://ethicsunwrapped.utexas.edu/glossary/hedonism',\n",
       "   'position': 0},\n",
       "  {'query_text': 'hedonism ethics',\n",
       "   'url': 'https://plato.stanford.edu/entries/hedonism/',\n",
       "   'position': 2},\n",
       "  {'query_text': 'hedonism ethics',\n",
       "   'url': 'https://www.iep.utm.edu/hedonism/',\n",
       "   'position': 3},\n",
       "  {'query_text': 'ethics wikipedia',\n",
       "   'url': 'https://en.wiktionary.org/wiki/ethics',\n",
       "   'position': 0},\n",
       "  {'query_text': 'ethics wikipedia',\n",
       "   'url': 'https://wiki.kidzsearch.com/wiki/Ethics',\n",
       "   'position': 5},\n",
       "  {'query_text': 'hedonism definition',\n",
       "   'url': 'https://dictionary.cambridge.org/us/dictionary/english/hedonism',\n",
       "   'position': 1},\n",
       "  {'query_text': 'hedonism definition',\n",
       "   'url': 'https://www.britannica.com/topic/hedonism',\n",
       "   'position': 3},\n",
       "  {'query_text': 'applied ethics',\n",
       "   'url': 'https://www.iep.utm.edu/ap-ethic/',\n",
       "   'position': 0},\n",
       "  {'query_text': 'applied ethics',\n",
       "   'url': 'https://www.gotquestions.org/applied-ethics.html',\n",
       "   'position': 2},\n",
       "  {'query_text': 'moral psychology ',\n",
       "   'url': 'https://ethicsunwrapped.utexas.edu/glossary/moral-psychology',\n",
       "   'position': 2},\n",
       "  {'query_text': 'branches of ethics',\n",
       "   'url': 'https://www.gktoday.in/gk/four-branches-of-ethics/',\n",
       "   'position': 0},\n",
       "  {'query_text': 'branches of ethics',\n",
       "   'url': 'https://upscpathshala.com/content/dimensions-of-ethics/',\n",
       "   'position': 6},\n",
       "  {'query_text': 'virtue ethics',\n",
       "   'url': 'https://plato.stanford.edu/entries/ethics-virtue/',\n",
       "   'position': 0},\n",
       "  {'query_text': 'virtue ethics',\n",
       "   'url': 'http://www.bbc.co.uk/ethics/introduction/virtue.shtml',\n",
       "   'position': 2},\n",
       "  {'query_text': 'virtue ethics',\n",
       "   'url': 'https://www.britannica.com/topic/virtue-ethics',\n",
       "   'position': 4},\n",
       "  {'query_text': 'virtue ethics',\n",
       "   'url': 'https://www.iep.utm.edu/virtue/',\n",
       "   'position': 1},\n",
       "  {'query_text': 'virtue ethics',\n",
       "   'url': 'https://www.ukessays.com/essays/philosophy/virtue-ethics.php',\n",
       "   'position': 41},\n",
       "  {'query_text': 'descriptive ethics',\n",
       "   'url': 'https://www.quora.com/What-are-examples-of-descriptive-ethics',\n",
       "   'position': 6},\n",
       "  {'query_text': 'descriptive ethics',\n",
       "   'url': 'https://www.learnreligions.com/ethics-descriptive-normative-and-analytic-4037543',\n",
       "   'position': 0},\n",
       "  {'query_text': 'descriptive ethics',\n",
       "   'url': 'https://www.britannica.com/topic/comparative-ethics',\n",
       "   'position': 4},\n",
       "  {'query_text': 'descriptive ethics',\n",
       "   'url': 'http://www.optimal.org/voss/prescriptive_ethics.html',\n",
       "   'position': 9},\n",
       "  {'query_text': 'descriptive ethics',\n",
       "   'url': 'https://pediaa.com/difference-between-normative-ethics-and-descriptive-ethics/',\n",
       "   'position': 5}]}"
      ]
     },
     "execution_count": 16,
     "metadata": {},
     "output_type": "execute_result"
    }
   ],
   "source": [
    "dataset[2]"
   ]
  },
  {
   "cell_type": "code",
   "execution_count": null,
   "id": "96e7bfae-eeec-4d13-bb05-64f16cbe263d",
   "metadata": {},
   "outputs": [],
   "source": []
  }
 ],
 "metadata": {
  "kernelspec": {
   "display_name": "DESIRES",
   "language": "python",
   "name": "desires"
  },
  "language_info": {
   "codemirror_mode": {
    "name": "ipython",
    "version": 3
   },
   "file_extension": ".py",
   "mimetype": "text/x-python",
   "name": "python",
   "nbconvert_exporter": "python",
   "pygments_lexer": "ipython3",
   "version": "3.9.5"
  },
  "widgets": {
   "application/vnd.jupyter.widget-state+json": {
    "state": {
     "0994a55e940647b6b107319407fd9ebf": {
      "model_module": "@jupyter-widgets/base",
      "model_module_version": "1.2.0",
      "model_name": "LayoutModel",
      "state": {}
     },
     "0b01501b3cb84f9d8d54b80fc048f2ac": {
      "model_module": "@jupyter-widgets/base",
      "model_module_version": "1.2.0",
      "model_name": "LayoutModel",
      "state": {}
     },
     "0e597446389e4b888c4127f3d566c11a": {
      "model_module": "@jupyter-widgets/controls",
      "model_module_version": "1.5.0",
      "model_name": "HTMLModel",
      "state": {
       "layout": "IPY_MODEL_5595b144f75d4829b612a48387900fe0",
       "style": "IPY_MODEL_52b719db7bd94df8a1b0f8cf58186ea8",
       "value": " 127/127 [00:06&lt;00:00, 20.62it/s]"
      }
     },
     "17421e01192a448b88d15ffb36f1e933": {
      "model_module": "@jupyter-widgets/base",
      "model_module_version": "1.2.0",
      "model_name": "LayoutModel",
      "state": {}
     },
     "1cba24c0e73a43c9a9ab7c369ba02825": {
      "model_module": "@jupyter-widgets/base",
      "model_module_version": "1.2.0",
      "model_name": "LayoutModel",
      "state": {}
     },
     "1dd900d69a86404f82f266f9fcb38f9b": {
      "model_module": "@jupyter-widgets/controls",
      "model_module_version": "1.5.0",
      "model_name": "HTMLModel",
      "state": {
       "layout": "IPY_MODEL_1e928f0777fd4eb49a012d38be62ff11",
       "style": "IPY_MODEL_45264949f5674499b7396f884b757c83",
       "value": "100%"
      }
     },
     "1e928f0777fd4eb49a012d38be62ff11": {
      "model_module": "@jupyter-widgets/base",
      "model_module_version": "1.2.0",
      "model_name": "LayoutModel",
      "state": {}
     },
     "20f0d2f2f9d045409fcc5ef0b86d77fa": {
      "model_module": "@jupyter-widgets/controls",
      "model_module_version": "1.5.0",
      "model_name": "HBoxModel",
      "state": {
       "children": [
        "IPY_MODEL_f9534986abb042e39eb867e11989aa3e",
        "IPY_MODEL_dbf05ca05bd74f31aeedf4feef0b438a",
        "IPY_MODEL_0e597446389e4b888c4127f3d566c11a"
       ],
       "layout": "IPY_MODEL_0b01501b3cb84f9d8d54b80fc048f2ac"
      }
     },
     "2d87151c6bf84c5b8d67e9bad4f8eb64": {
      "model_module": "@jupyter-widgets/controls",
      "model_module_version": "1.5.0",
      "model_name": "DescriptionStyleModel",
      "state": {
       "description_width": ""
      }
     },
     "2e3d03daca56457e82eefb619dde4ad0": {
      "model_module": "@jupyter-widgets/controls",
      "model_module_version": "1.5.0",
      "model_name": "HTMLModel",
      "state": {
       "layout": "IPY_MODEL_e1fc4ec13f0642d19aba1d59c7ffd97f",
       "style": "IPY_MODEL_c4506a890980443bb7599da4a0e121a6",
       "value": "  0%"
      }
     },
     "2e413409dffb47df849bbcb69671d888": {
      "model_module": "@jupyter-widgets/base",
      "model_module_version": "1.2.0",
      "model_name": "LayoutModel",
      "state": {}
     },
     "3210cec6cffa4e30a4d914bbec20949a": {
      "model_module": "@jupyter-widgets/base",
      "model_module_version": "1.2.0",
      "model_name": "LayoutModel",
      "state": {}
     },
     "39675ee785ff4d6ba877bfa9b0b8c54f": {
      "model_module": "@jupyter-widgets/controls",
      "model_module_version": "1.5.0",
      "model_name": "FloatProgressModel",
      "state": {
       "bar_style": "success",
       "layout": "IPY_MODEL_feddfdf0ad7e491ca99727ecf26f0b3f",
       "max": 127,
       "style": "IPY_MODEL_79bb68260cd14fd7aec89cd908084cde",
       "value": 127
      }
     },
     "3e185ed3eb5840c797fed9e1d5df1621": {
      "model_module": "@jupyter-widgets/controls",
      "model_module_version": "1.5.0",
      "model_name": "DescriptionStyleModel",
      "state": {
       "description_width": ""
      }
     },
     "4118661ccdf24ec0a38613b2627c3159": {
      "model_module": "@jupyter-widgets/base",
      "model_module_version": "1.2.0",
      "model_name": "LayoutModel",
      "state": {}
     },
     "45264949f5674499b7396f884b757c83": {
      "model_module": "@jupyter-widgets/controls",
      "model_module_version": "1.5.0",
      "model_name": "DescriptionStyleModel",
      "state": {
       "description_width": ""
      }
     },
     "47dbbd70a24243169563aa06d39a3ed6": {
      "model_module": "@jupyter-widgets/controls",
      "model_module_version": "1.5.0",
      "model_name": "ProgressStyleModel",
      "state": {
       "description_width": ""
      }
     },
     "52b719db7bd94df8a1b0f8cf58186ea8": {
      "model_module": "@jupyter-widgets/controls",
      "model_module_version": "1.5.0",
      "model_name": "DescriptionStyleModel",
      "state": {
       "description_width": ""
      }
     },
     "52dd3203fd964b559febd0a024bd923e": {
      "model_module": "@jupyter-widgets/controls",
      "model_module_version": "1.5.0",
      "model_name": "DescriptionStyleModel",
      "state": {
       "description_width": ""
      }
     },
     "5595b144f75d4829b612a48387900fe0": {
      "model_module": "@jupyter-widgets/base",
      "model_module_version": "1.2.0",
      "model_name": "LayoutModel",
      "state": {}
     },
     "5718e40e9ca1489bb9dfb983d031ec0e": {
      "model_module": "@jupyter-widgets/controls",
      "model_module_version": "1.5.0",
      "model_name": "ProgressStyleModel",
      "state": {
       "description_width": ""
      }
     },
     "573d7fd5f4034bfbb7397cefc213c8a2": {
      "model_module": "@jupyter-widgets/controls",
      "model_module_version": "1.5.0",
      "model_name": "HTMLModel",
      "state": {
       "layout": "IPY_MODEL_0994a55e940647b6b107319407fd9ebf",
       "style": "IPY_MODEL_70df27e7176b4e8dab53af1ef0537a73",
       "value": "100%"
      }
     },
     "64f83107b4034c5682b638af901e88e7": {
      "model_module": "@jupyter-widgets/controls",
      "model_module_version": "1.5.0",
      "model_name": "ProgressStyleModel",
      "state": {
       "description_width": ""
      }
     },
     "6839945e39cf43cd8345c85379de9314": {
      "model_module": "@jupyter-widgets/controls",
      "model_module_version": "1.5.0",
      "model_name": "FloatProgressModel",
      "state": {
       "bar_style": "danger",
       "layout": "IPY_MODEL_70c720e8186e4c8ab59efcddf30fc2fe",
       "max": 127,
       "style": "IPY_MODEL_64f83107b4034c5682b638af901e88e7"
      }
     },
     "70c720e8186e4c8ab59efcddf30fc2fe": {
      "model_module": "@jupyter-widgets/base",
      "model_module_version": "1.2.0",
      "model_name": "LayoutModel",
      "state": {}
     },
     "70df27e7176b4e8dab53af1ef0537a73": {
      "model_module": "@jupyter-widgets/controls",
      "model_module_version": "1.5.0",
      "model_name": "DescriptionStyleModel",
      "state": {
       "description_width": ""
      }
     },
     "7222fb9bed644b20b9d4d01bd8052a11": {
      "model_module": "@jupyter-widgets/base",
      "model_module_version": "1.2.0",
      "model_name": "LayoutModel",
      "state": {}
     },
     "74a76f38440d450694ff5f655a2b2a9f": {
      "model_module": "@jupyter-widgets/controls",
      "model_module_version": "1.5.0",
      "model_name": "ProgressStyleModel",
      "state": {
       "description_width": ""
      }
     },
     "79bb68260cd14fd7aec89cd908084cde": {
      "model_module": "@jupyter-widgets/controls",
      "model_module_version": "1.5.0",
      "model_name": "ProgressStyleModel",
      "state": {
       "description_width": ""
      }
     },
     "83620ab2a63b4f64879d505ec7db62d9": {
      "model_module": "@jupyter-widgets/base",
      "model_module_version": "1.2.0",
      "model_name": "LayoutModel",
      "state": {}
     },
     "85629e1bb95f4990b9d0d5bfcdc47550": {
      "model_module": "@jupyter-widgets/base",
      "model_module_version": "1.2.0",
      "model_name": "LayoutModel",
      "state": {}
     },
     "886fffe5209f439985f381b14d2ca977": {
      "model_module": "@jupyter-widgets/base",
      "model_module_version": "1.2.0",
      "model_name": "LayoutModel",
      "state": {}
     },
     "9523e4461c6549939315662d267c5d5b": {
      "model_module": "@jupyter-widgets/controls",
      "model_module_version": "1.5.0",
      "model_name": "HBoxModel",
      "state": {
       "children": [
        "IPY_MODEL_a3c28479de5a4c3ba717b2622c237f01",
        "IPY_MODEL_39675ee785ff4d6ba877bfa9b0b8c54f",
        "IPY_MODEL_f836cbbb15e44f08afeceb7600928ce4"
       ],
       "layout": "IPY_MODEL_4118661ccdf24ec0a38613b2627c3159"
      }
     },
     "9d8cb9351197483a997e836eeae937eb": {
      "model_module": "@jupyter-widgets/controls",
      "model_module_version": "1.5.0",
      "model_name": "DescriptionStyleModel",
      "state": {
       "description_width": ""
      }
     },
     "a16541b95f154c0b838a1e306c0a2524": {
      "model_module": "@jupyter-widgets/controls",
      "model_module_version": "1.5.0",
      "model_name": "FloatProgressModel",
      "state": {
       "bar_style": "success",
       "layout": "IPY_MODEL_2e413409dffb47df849bbcb69671d888",
       "max": 127,
       "style": "IPY_MODEL_47dbbd70a24243169563aa06d39a3ed6",
       "value": 127
      }
     },
     "a3c28479de5a4c3ba717b2622c237f01": {
      "model_module": "@jupyter-widgets/controls",
      "model_module_version": "1.5.0",
      "model_name": "HTMLModel",
      "state": {
       "layout": "IPY_MODEL_fb089834bfb24c758e6fceac7bd07502",
       "style": "IPY_MODEL_a54382776a284927a4a3b0290e4469b4",
       "value": "100%"
      }
     },
     "a54382776a284927a4a3b0290e4469b4": {
      "model_module": "@jupyter-widgets/controls",
      "model_module_version": "1.5.0",
      "model_name": "DescriptionStyleModel",
      "state": {
       "description_width": ""
      }
     },
     "a83b35924dd8482b883f193fd945d7e3": {
      "model_module": "@jupyter-widgets/controls",
      "model_module_version": "1.5.0",
      "model_name": "FloatProgressModel",
      "state": {
       "bar_style": "success",
       "layout": "IPY_MODEL_83620ab2a63b4f64879d505ec7db62d9",
       "max": 127,
       "style": "IPY_MODEL_74a76f38440d450694ff5f655a2b2a9f",
       "value": 127
      }
     },
     "a966c7bf5be54a6ea2a0c7cbab964995": {
      "model_module": "@jupyter-widgets/controls",
      "model_module_version": "1.5.0",
      "model_name": "HTMLModel",
      "state": {
       "layout": "IPY_MODEL_eba6031231864a1b9fa87c316b6b91ed",
       "style": "IPY_MODEL_52dd3203fd964b559febd0a024bd923e",
       "value": " 127/127 [00:06&lt;00:00, 21.09it/s]"
      }
     },
     "b32a60d65fcc489698456f10c035189b": {
      "model_module": "@jupyter-widgets/controls",
      "model_module_version": "1.5.0",
      "model_name": "HTMLModel",
      "state": {
       "layout": "IPY_MODEL_cb76c4b689194b65b7519f44e157c8df",
       "style": "IPY_MODEL_ff146b3136fb4965a5c180d2b0a45e5d",
       "value": " 127/127 [00:06&lt;00:00, 20.39it/s]"
      }
     },
     "b56601edca88454a8bd7541187639aa9": {
      "model_module": "@jupyter-widgets/controls",
      "model_module_version": "1.5.0",
      "model_name": "HBoxModel",
      "state": {
       "children": [
        "IPY_MODEL_573d7fd5f4034bfbb7397cefc213c8a2",
        "IPY_MODEL_a83b35924dd8482b883f193fd945d7e3",
        "IPY_MODEL_a966c7bf5be54a6ea2a0c7cbab964995"
       ],
       "layout": "IPY_MODEL_3210cec6cffa4e30a4d914bbec20949a"
      }
     },
     "ba261ce300a1440caf97cdc1cc6e8391": {
      "model_module": "@jupyter-widgets/controls",
      "model_module_version": "1.5.0",
      "model_name": "HBoxModel",
      "state": {
       "children": [
        "IPY_MODEL_2e3d03daca56457e82eefb619dde4ad0",
        "IPY_MODEL_6839945e39cf43cd8345c85379de9314",
        "IPY_MODEL_eb95e2b8c1a741d0b291636064ae0cee"
       ],
       "layout": "IPY_MODEL_17421e01192a448b88d15ffb36f1e933"
      }
     },
     "c4506a890980443bb7599da4a0e121a6": {
      "model_module": "@jupyter-widgets/controls",
      "model_module_version": "1.5.0",
      "model_name": "DescriptionStyleModel",
      "state": {
       "description_width": ""
      }
     },
     "cb76c4b689194b65b7519f44e157c8df": {
      "model_module": "@jupyter-widgets/base",
      "model_module_version": "1.2.0",
      "model_name": "LayoutModel",
      "state": {}
     },
     "d7963eacaaba411193cae4079545c7bf": {
      "model_module": "@jupyter-widgets/controls",
      "model_module_version": "1.5.0",
      "model_name": "HBoxModel",
      "state": {
       "children": [
        "IPY_MODEL_1dd900d69a86404f82f266f9fcb38f9b",
        "IPY_MODEL_a16541b95f154c0b838a1e306c0a2524",
        "IPY_MODEL_b32a60d65fcc489698456f10c035189b"
       ],
       "layout": "IPY_MODEL_1cba24c0e73a43c9a9ab7c369ba02825"
      }
     },
     "dbf05ca05bd74f31aeedf4feef0b438a": {
      "model_module": "@jupyter-widgets/controls",
      "model_module_version": "1.5.0",
      "model_name": "FloatProgressModel",
      "state": {
       "bar_style": "success",
       "layout": "IPY_MODEL_7222fb9bed644b20b9d4d01bd8052a11",
       "max": 127,
       "style": "IPY_MODEL_5718e40e9ca1489bb9dfb983d031ec0e",
       "value": 127
      }
     },
     "e1fc4ec13f0642d19aba1d59c7ffd97f": {
      "model_module": "@jupyter-widgets/base",
      "model_module_version": "1.2.0",
      "model_name": "LayoutModel",
      "state": {}
     },
     "eb95e2b8c1a741d0b291636064ae0cee": {
      "model_module": "@jupyter-widgets/controls",
      "model_module_version": "1.5.0",
      "model_name": "HTMLModel",
      "state": {
       "layout": "IPY_MODEL_886fffe5209f439985f381b14d2ca977",
       "style": "IPY_MODEL_2d87151c6bf84c5b8d67e9bad4f8eb64",
       "value": " 0/127 [00:00&lt;?, ?it/s]"
      }
     },
     "eba6031231864a1b9fa87c316b6b91ed": {
      "model_module": "@jupyter-widgets/base",
      "model_module_version": "1.2.0",
      "model_name": "LayoutModel",
      "state": {}
     },
     "f836cbbb15e44f08afeceb7600928ce4": {
      "model_module": "@jupyter-widgets/controls",
      "model_module_version": "1.5.0",
      "model_name": "HTMLModel",
      "state": {
       "layout": "IPY_MODEL_85629e1bb95f4990b9d0d5bfcdc47550",
       "style": "IPY_MODEL_3e185ed3eb5840c797fed9e1d5df1621",
       "value": " 127/127 [00:06&lt;00:00, 20.94it/s]"
      }
     },
     "f9534986abb042e39eb867e11989aa3e": {
      "model_module": "@jupyter-widgets/controls",
      "model_module_version": "1.5.0",
      "model_name": "HTMLModel",
      "state": {
       "layout": "IPY_MODEL_fd850a153a87419698c0d76f7690a4aa",
       "style": "IPY_MODEL_9d8cb9351197483a997e836eeae937eb",
       "value": "100%"
      }
     },
     "fb089834bfb24c758e6fceac7bd07502": {
      "model_module": "@jupyter-widgets/base",
      "model_module_version": "1.2.0",
      "model_name": "LayoutModel",
      "state": {}
     },
     "fd850a153a87419698c0d76f7690a4aa": {
      "model_module": "@jupyter-widgets/base",
      "model_module_version": "1.2.0",
      "model_name": "LayoutModel",
      "state": {}
     },
     "feddfdf0ad7e491ca99727ecf26f0b3f": {
      "model_module": "@jupyter-widgets/base",
      "model_module_version": "1.2.0",
      "model_name": "LayoutModel",
      "state": {}
     },
     "ff146b3136fb4965a5c180d2b0a45e5d": {
      "model_module": "@jupyter-widgets/controls",
      "model_module_version": "1.5.0",
      "model_name": "DescriptionStyleModel",
      "state": {
       "description_width": ""
      }
     }
    },
    "version_major": 2,
    "version_minor": 0
   }
  }
 },
 "nbformat": 4,
 "nbformat_minor": 5
}
