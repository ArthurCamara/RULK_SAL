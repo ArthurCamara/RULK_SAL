{
 "cells": [
  {
   "cell_type": "markdown",
   "id": "0325c404-c436-4ccc-8650-9a5ccc1cecfd",
   "metadata": {},
   "source": [
    "Creates a simpler query-log style of logs. A list with each eleement a dictionaty like this:\n",
    "```\n",
    "{\n",
    "    'userID': '5b7b22a5b5727c0001de1369',\n",
    "    'pre_test_score': 0,  # Score in the pre-test\n",
    "    'post_test_score': 8, # score in the post-test\n",
    "    'RPL': 0.4,  # Realized pottential gain (%)\n",
    "    'ALG': 0.8, # Absolute pottential gain (%)\n",
    "    'topic_id': '4', ID of the topic\n",
    "    'topic_title': 'Ethics', # Title of the topic\n",
    "    'session_duration': 3486, # Time in seconds\n",
    "    'clicks': [ # List of all user clicks\n",
    "                {'query_text': 'ethics',   # Text of the query\n",
    "                'url': 'https://www.scu.edu/ethics/ethics-resources/ethical-decision-making/what-is-ethics/',  #URL clicked\n",
    "                'position': 2},  # Position of the document in the SERP\n",
    "                }  ...\n",
    "```"
   ]
  },
  {
   "cell_type": "markdown",
   "id": "f3368332-8fba-4f8b-ba26-50fba24cc261",
   "metadata": {
    "jp-MarkdownHeadingCollapsed": true,
    "tags": []
   },
   "source": [
    "## Preparation\n",
    "- See `Analysis.ipynb` for more details"
   ]
  },
  {
   "cell_type": "code",
   "execution_count": 2,
   "id": "2e6c4dc5-0878-473e-a725-363520cae790",
   "metadata": {
    "tags": []
   },
   "outputs": [],
   "source": [
    "import base64\n",
    "import gzip\n",
    "import json\n",
    "from collections import OrderedDict\n",
    "from datetime import datetime\n",
    "\n",
    "import numpy as np\n",
    "import pandas as pd\n",
    "from tqdm.auto import tqdm\n",
    "\n",
    "\n",
    "def p_date(x: str) -> datetime:\n",
    "    \"\"\"Short hand for datetime.fromisoformat(x)\"\"\"\n",
    "    if isinstance(x, datetime):\n",
    "        return x\n",
    "    return datetime.fromisoformat(x)\n",
    "\n",
    "\n",
    "with gzip.open(\"../data/all_logs_clean.json.gz\", \"r\") as inf:\n",
    "    all_logs = json.loads(inf.read().decode(\"utf-8\"))\n",
    "with gzip.open(\"../data/all_queries_clean.json.gz\", \"r\") as inf:\n",
    "    all_queries = json.loads(inf.read().decode(\"utf-8\"))\n",
    "\n",
    "vocab = json.load(open(\"../data/vocab.json\"))  # VKS vocabulary dictionary\n",
    "users = set([x[\"userId\"] for x in all_logs])\n",
    "\n",
    "pre_tests = {\n",
    "    **{x[\"sessionId\"]: x[\"meta\"] for x in all_logs if x[\"event\"] == \"SURVEY_REGISTER_RESULTS\"},\n",
    "    **{x[\"userId\"]: x[\"meta\"] for x in all_logs if x[\"event\"] == \"SURVEY_REGISTER_RESULTS\"},\n",
    "    **{x[\"meta\"][\"data\"][\"userId\"]: x[\"meta\"] for x in all_logs if x[\"event\"] == \"SURVEY_REGISTER_RESULTS\"},\n",
    "}\n",
    "prolific_path = [\n",
    "    f\"../data/{x}\"\n",
    "    for x in [\n",
    "        \"prolific_export_5e4d0dea60c37d14cb329934.csv\",\n",
    "        \"prolific_export_5e4e4f7be482212a2429a366.csv\",\n",
    "        \"prolific_export_5f46799646aa3002de1afa25.csv\",\n",
    "    ]\n",
    "]\n",
    "prolific_last_time = dict()\n",
    "session_length_prolific = dict()\n",
    "prolific_status = dict()\n",
    "prolific_users = set()\n",
    "returned_code = dict()\n",
    "found = 0\n",
    "for p in prolific_path:\n",
    "    for line in open(p):\n",
    "        l = line.split(\",\")\n",
    "        if l[0] == \"session_id\":\n",
    "            continue\n",
    "        participant_id = l[1]\n",
    "        prolific_users.add(participant_id)\n",
    "        duration = float(l[5])\n",
    "        status = l[2]\n",
    "        returned_code[participant_id] = l[11]\n",
    "        prolific_status[participant_id] = status\n",
    "        prolific_last_time[participant_id] = l[4]\n",
    "        session_length_prolific[participant_id] = duration"
   ]
  },
  {
   "cell_type": "markdown",
   "id": "39d7206b-d8e6-4139-bbd2-a4bbd4314fec",
   "metadata": {
    "jp-MarkdownHeadingCollapsed": true,
    "tags": []
   },
   "source": [
    "## Metrics"
   ]
  },
  {
   "cell_type": "code",
   "execution_count": 3,
   "id": "755e5a00-1def-43b7-9454-46f2dd4ef26e",
   "metadata": {
    "tags": []
   },
   "outputs": [],
   "source": [
    "def ALG(user_logs: list[dict], topic: str) -> float:\n",
    "    \"\"\"Computes Absolute Learning Gains:\n",
    "    Args:\n",
    "        user_logs: sorted (by time) list with all of one user's logs\n",
    "        topic: string with user's topic id\n",
    "    \"\"\"\n",
    "    score = 0\n",
    "    topic_terms = get_topic_terms(topic)\n",
    "    pretest_results = [r for r in user_logs if r[\"event\"] == \"SURVEY_PRE_TEST_RESULTS\"][0]\n",
    "    posttest_results = [r for r in user_logs if r[\"event\"] == \"SURVEY_POST_TEST_RESULTS\"][0]\n",
    "    score_mapping = {1: 0, 2: 0, 3: 1, 4: 2}\n",
    "    for question in topic_terms:\n",
    "        qid = \"Q-\" + str(topic) + \"-\" + str(question)\n",
    "        pre_score = score_mapping[int(pretest_results[\"meta\"][\"data\"][qid])]\n",
    "        post_score = score_mapping[int(posttest_results[\"meta\"][\"data\"][qid])]\n",
    "        score += max(0, post_score - pre_score)\n",
    "    return score / 10\n",
    "\n",
    "\n",
    "def MLG(user_logs: list[dict], topic: str) -> float:\n",
    "    \"\"\"Computes Maximum possible learning potential\n",
    "    Args:\n",
    "        user_logs: sorted (by time) list with all of one user's logs\n",
    "        topic: string with users' topic id\n",
    "    \"\"\"\n",
    "    topic_terms = get_topic_terms(topic)\n",
    "    pretest_results = [r for r in user_logs if r[\"event\"] == \"SURVEY_PRE_TEST_RESULTS\"][0]\n",
    "    score = 0\n",
    "    score_mapping = {1: 0, 2: 0, 3: 1, 4: 2}\n",
    "    for question in topic_terms:\n",
    "        qid = \"Q-\" + str(topic) + \"-\" + str(question)\n",
    "        pre_score = score_mapping[int(pretest_results[\"meta\"][\"data\"][qid])]\n",
    "        score += 2 - pre_score\n",
    "    return score / 10\n",
    "\n",
    "\n",
    "def RPL(user_logs: list, topic: str) -> float:\n",
    "    \"\"\"Computes user's Realized Potential Learning:\n",
    "    Args:\n",
    "        user_logs: List of one user's logs\n",
    "        topic: string with user's topic id\n",
    "    \"\"\"\n",
    "    sorted_logs = sorted(user_logs, key=lambda x: x[\"date\"], reverse=True)\n",
    "    _ALG = ALG(sorted_logs, topic)\n",
    "    _MLG = MLG(sorted_logs, topic)\n",
    "    return _ALG / _MLG\n",
    "\n",
    "\n",
    "def get_pre_pos_score(user_logs: list[dict], topic: str) -> tuple[float, float]:\n",
    "    \"\"\"Returns absolute pre and post user knowledge\"\"\"\n",
    "    topic_terms = get_topic_terms(topic)\n",
    "    pretest_results = [r for r in user_logs if r[\"event\"] == \"SURVEY_PRE_TEST_RESULTS\"][0]\n",
    "    posttest_results = [r for r in user_logs if r[\"event\"] == \"SURVEY_POST_TEST_RESULTS\"][0]\n",
    "    score_mapping = {1: 0, 2: 0, 3: 1, 4: 2}\n",
    "\n",
    "    pre_score = 0\n",
    "    post_score = 0\n",
    "\n",
    "    for question in topic_terms:\n",
    "        qid = \"Q-\" + str(topic) + \"-\" + str(question)\n",
    "        pre_score += score_mapping[int(pretest_results[\"meta\"][\"data\"][qid])]\n",
    "        post_score += score_mapping[int(posttest_results[\"meta\"][\"data\"][qid])]\n",
    "    return pre_score, post_score\n",
    "\n",
    "\n",
    "def get_all_logs(user: str) -> list[dict]:\n",
    "    \"\"\"Get all logs from one user\"\"\"\n",
    "    user_logs = [x for x in all_logs if x[\"userId\"] == user]\n",
    "    return sorted(user_logs, key=lambda x: datetime.strptime(x[\"date\"], \"%Y-%m-%d %H:%M:%S\"))\n",
    "\n",
    "\n",
    "def get_topic_title(user_logs: list[dict]) -> str:\n",
    "    \"\"\"Gets the title of the topic assigned to user\"\"\"\n",
    "    return [x for x in user_logs if x[\"event\"] == \"SURVEY_POST_TEST_RESULTS\"][0][\"task\"][\"data\"][\"topic\"][\"title\"]\n",
    "\n",
    "\n",
    "def get_topic_id(user_logs: list[dict]) -> str:\n",
    "    \"\"\"Gets the id of the topic the user was assigned to\"\"\"\n",
    "    for x in user_logs:\n",
    "        if x[\"event\"] == \"SEARCHRESULT_VIEW_URL\":\n",
    "            return x[\"task\"][\"data\"][\"topic\"][\"id\"]\n",
    "\n",
    "\n",
    "def get_topic_terms(p: str) -> list[str]:\n",
    "    \"\"\"Gets a list of the terms for the VKS for a given topic id\"\"\"\n",
    "    return vocab[p][\"terms\"]\n",
    "\n",
    "\n",
    "def get_session(user_logs: list[dict]) -> str:\n",
    "    \"\"\"Get what type of experiment the user was in\"\"\"\n",
    "    event = [x for x in user_logs if x[\"event\"] == \"SEARCHRESULT_VIEW_URL\"][0]\n",
    "    return event[\"meta\"][\"session\"]\n",
    "\n",
    "\n",
    "def get_session_duration(user_logs: list[dict]) -> int:\n",
    "    \"\"\"Gets how long, in seconds, a user session lasted, from start to end\"\"\"\n",
    "    sorted_logs = sorted(user_logs, key=lambda x: datetime.strptime(x[\"date\"], \"%Y-%m-%d %H:%M:%S\"))\n",
    "    end_time = p_date(sorted_logs[-1][\"date\"])\n",
    "    start_time = p_date(sorted_logs[0][\"date\"])\n",
    "    return (end_time - start_time).seconds\n",
    "\n",
    "\n",
    "def rebuild_serp(user_log: list[dict], start_event: int) -> dict[str, int]:\n",
    "    \"\"\"Rebuilts a SERP, with documents in each position, for a given query\n",
    "    Returns dict with URL and its position in the SERP.\n",
    "    CAVEAT: If URL appears twice in the serp (may happen due to filtering process), only first occurence counts.\"\"\"\n",
    "    n_events = len(user_log) - start_event\n",
    "    for idx, e in enumerate(user_log[start_event + 1 :], start=start_event):\n",
    "        if e[\"event\"] == \"SEARCH_QUERY\":\n",
    "            n_events = idx\n",
    "            break\n",
    "\n",
    "    query_events = sorted(user_log[start_event : start_event + n_events], key=lambda x: datetime.strptime(x[\"date\"], \"%Y-%m-%d %H:%M:%S\"))\n",
    "    query_events = [x for x in query_events if \"position\" in x[\"meta\"]]\n",
    "\n",
    "    for k in query_events:\n",
    "        # naive. Filter later.\n",
    "        k[\"true_position\"] = (k[\"meta\"][\"page\"] - 1) * 10 + k[\"meta\"][\"position\"]\n",
    "\n",
    "    query_events = sorted(query_events, key=lambda x: x[\"true_position\"])\n",
    "    # Try to rebuild the SERP\n",
    "    serp = {}\n",
    "    docs_so_far = 0\n",
    "    offset = 0\n",
    "    for ix, e in enumerate(query_events):\n",
    "        meta = e[\"meta\"]\n",
    "        url = meta[\"url\"]\n",
    "        if url in serp:\n",
    "            continue\n",
    "        serp[url] = e[\"true_position\"]\n",
    "\n",
    "    ranking = sorted(serp.items(), key=lambda x: x[1])\n",
    "\n",
    "    return serp"
   ]
  },
  {
   "cell_type": "markdown",
   "id": "d74c241f-bdff-4475-9a8d-61773b1c1d79",
   "metadata": {
    "tags": []
   },
   "source": [
    "## Extract data"
   ]
  },
  {
   "cell_type": "code",
   "execution_count": 5,
   "id": "26a5a9a9-a78c-4958-9b64-bf022d10fed2",
   "metadata": {},
   "outputs": [
    {
     "data": {
      "text/plain": [
       "'5d0bcf217a581100161860ae'"
      ]
     },
     "execution_count": 5,
     "metadata": {},
     "output_type": "execute_result"
    }
   ],
   "source": [
    "list(users)[0]"
   ]
  },
  {
   "cell_type": "code",
   "execution_count": 7,
   "id": "0db4bc1b-460d-4db0-bf90-6a0cec5a4ce8",
   "metadata": {},
   "outputs": [
    {
     "data": {
      "application/vnd.jupyter.widget-view+json": {
       "model_id": "8e1c2d1a7b20412b930dcdf2a3b2e3d4",
       "version_major": 2,
       "version_minor": 0
      },
      "text/plain": [
       "  0%|          | 0/127 [00:00<?, ?it/s]"
      ]
     },
     "metadata": {},
     "output_type": "display_data"
    }
   ],
   "source": [
    "dataset = []\n",
    "for count, user in tqdm(enumerate(users), total=len(users)):\n",
    "    user_log = get_all_logs(user)  # All user events\n",
    "    user_session = get_session(user_log)  # What experiment the user was assigned to\n",
    "    topic = get_topic_title(user_log)  # User topic\n",
    "    topic_id = get_topic_id(user_log)  # User topic id\n",
    "\n",
    "    realized_learning_gain = RPL(user_log, topic_id)\n",
    "    absolute_learning_gain = ALG(user_log, topic_id)\n",
    "    pre_score, post_score = get_pre_pos_score(user_log, topic_id)\n",
    "    time_elapsed = get_session_duration(user_log)\n",
    "\n",
    "    user_data = {\n",
    "        \"userID\": user,\n",
    "        \"pre_test_score\": pre_score,\n",
    "        \"post_test_score\": post_score,\n",
    "        \"RPL\": realized_learning_gain,\n",
    "        \"ALG\": absolute_learning_gain,\n",
    "        \"topic_id\": topic_id,\n",
    "        \"topic_title\": topic,\n",
    "        \"session_duration\": time_elapsed,\n",
    "        \"clicks\": [],\n",
    "    }\n",
    "    current_query = None\n",
    "    queries = 0\n",
    "    query_data = None\n",
    "    # Iterate over log\n",
    "    for e_idx, e in enumerate(user_log):\n",
    "        meta = e[\"meta\"]\n",
    "        if e[\"event\"] == \"SEARCH_QUERY\":\n",
    "            URL_rankings = rebuild_serp(user_log, e_idx)  # rebuild SERP for this query\n",
    "            current_query = meta[\"query\"]\n",
    "\n",
    "        elif e[\"event\"] == \"SEARCHRESULT_CLICK_URL\":\n",
    "            position = URL_rankings[meta[\"url\"]]\n",
    "            user_data[\"clicks\"].append({\"query_text\": current_query, \"url\": meta[\"url\"], \"position\": position})\n",
    "    dataset.append(user_data)"
   ]
  },
  {
   "cell_type": "code",
   "execution_count": 8,
   "id": "0442433e-c204-4b80-91fc-ee7f900584e3",
   "metadata": {},
   "outputs": [],
   "source": [
    "json.dump(dataset, open(\"../data/logs_with_position.json\", \"w\"))"
   ]
  },
  {
   "cell_type": "code",
   "execution_count": 15,
   "id": "83cd1749-2179-485b-b696-c08b36d2598f",
   "metadata": {},
   "outputs": [],
   "source": [
    "dataset = json.load(open(\"../data/logs_with_position.json\"))"
   ]
  },
  {
   "cell_type": "code",
   "execution_count": 9,
   "id": "d95f05e4-971e-477c-babf-59d264dcb0c1",
   "metadata": {
    "tags": []
   },
   "outputs": [
    {
     "data": {
      "text/plain": [
       "{'userID': '5b7b22a5b5727c0001de1369',\n",
       " 'pre_test_score': 3,\n",
       " 'post_test_score': 4,\n",
       " 'RPL': 0.05882352941176471,\n",
       " 'ALG': 0.1,\n",
       " 'topic_id': '7',\n",
       " 'topic_title': 'Genetically modified organism',\n",
       " 'session_duration': 5679,\n",
       " 'clicks': [{'query_text': 'genetically modified organism',\n",
       "   'url': 'https://www.britannica.com/science/genetically-modified-organism',\n",
       "   'position': 0},\n",
       "  {'query_text': 'genetically modified organism',\n",
       "   'url': 'https://www.nationalgeographic.org/encyclopedia/genetically-modified-organisms/',\n",
       "   'position': 2},\n",
       "  {'query_text': 'genetically modified organism',\n",
       "   'url': 'https://www.livescience.com/40895-gmo-facts.html',\n",
       "   'position': 6},\n",
       "  {'query_text': 'genetically modified organism wikipedia',\n",
       "   'url': 'https://commons.wikimedia.org/wiki/Category:Genetically_modified_organisms',\n",
       "   'position': 1},\n",
       "  {'query_text': 'genetically modified organism wikipedia',\n",
       "   'url': 'https://thereaderwiki.com/en/Genetically_modified_organism',\n",
       "   'position': 2},\n",
       "  {'query_text': 'genetic engineering',\n",
       "   'url': 'https://www.online-sciences.com/the-living-organisms/genetically-modified-organisms-gmos-uses-advantages-and-disadvantages/',\n",
       "   'position': 0},\n",
       "  {'query_text': 'genetic engineering',\n",
       "   'url': 'https://www.yourgenome.org/facts/what-is-genetic-engineering',\n",
       "   'position': 3},\n",
       "  {'query_text': 'genetic engineering',\n",
       "   'url': 'https://www.online-sciences.com/the-living-organisms/genetically-modified-organisms-gmos-uses-advantages-and-disadvantages/',\n",
       "   'position': 0},\n",
       "  {'query_text': 'genetic engineering',\n",
       "   'url': 'https://www.yourgenome.org/facts/what-is-genetic-engineering',\n",
       "   'position': 3},\n",
       "  {'query_text': 'genetic engineering',\n",
       "   'url': 'https://www.livescience.com/64662-genetic-modification.html',\n",
       "   'position': 4},\n",
       "  {'query_text': 'genetically modified organism ',\n",
       "   'url': 'https://edu.gcfglobal.org/en/thenow/what-are-genetically-modified-organisms-gmos/1/',\n",
       "   'position': 0},\n",
       "  {'query_text': 'genetically modified organism ',\n",
       "   'url': 'https://infogalactic.com/info/Genetically_modified_organism',\n",
       "   'position': 12},\n",
       "  {'query_text': 'genetically modified organism graphic',\n",
       "   'url': 'https://www.nationalgeographic.com/environment/global-warming/food-how-altered/',\n",
       "   'position': 8},\n",
       "  {'query_text': 'genetically modified organism graphic',\n",
       "   'url': 'https://www.graphic.com.gh/features/features/the-gmo-controversy-unabated.html',\n",
       "   'position': 6},\n",
       "  {'query_text': 'genetically modified organism infographic',\n",
       "   'url': 'https://www.pinterest.com/traceymiles/health-wellness-toxins-gmos-detox/',\n",
       "   'position': 0}]}"
      ]
     },
     "execution_count": 9,
     "metadata": {},
     "output_type": "execute_result"
    }
   ],
   "source": [
    "dataset[2]"
   ]
  },
  {
   "cell_type": "code",
   "execution_count": null,
   "id": "96e7bfae-eeec-4d13-bb05-64f16cbe263d",
   "metadata": {},
   "outputs": [],
   "source": []
  }
 ],
 "metadata": {
  "kernelspec": {
   "display_name": "DESIRES",
   "language": "python",
   "name": "desires"
  },
  "language_info": {
   "codemirror_mode": {
    "name": "ipython",
    "version": 3
   },
   "file_extension": ".py",
   "mimetype": "text/x-python",
   "name": "python",
   "nbconvert_exporter": "python",
   "pygments_lexer": "ipython3",
   "version": "3.9.5"
  },
  "widgets": {
   "application/vnd.jupyter.widget-state+json": {
    "state": {
     "01f760948db64dc4899a2520be78587b": {
      "model_module": "@jupyter-widgets/controls",
      "model_module_version": "1.5.0",
      "model_name": "DescriptionStyleModel",
      "state": {
       "description_width": ""
      }
     },
     "0289c1039a684ce79b234d22f4c68462": {
      "model_module": "@jupyter-widgets/controls",
      "model_module_version": "1.5.0",
      "model_name": "DescriptionStyleModel",
      "state": {
       "description_width": ""
      }
     },
     "129dc55cd8ba41309a4f2b77d13b55df": {
      "model_module": "@jupyter-widgets/controls",
      "model_module_version": "1.5.0",
      "model_name": "HTMLModel",
      "state": {
       "layout": "IPY_MODEL_1892191218694cd08ea565b5d9e752f7",
       "style": "IPY_MODEL_5f93280f45c14bd0b1c6944bbe079023",
       "value": " 127/127 [00:05&lt;00:00, 20.54it/s]"
      }
     },
     "1892191218694cd08ea565b5d9e752f7": {
      "model_module": "@jupyter-widgets/base",
      "model_module_version": "1.2.0",
      "model_name": "LayoutModel",
      "state": {}
     },
     "2880270e134646a09e324b9445757b5f": {
      "model_module": "@jupyter-widgets/base",
      "model_module_version": "1.2.0",
      "model_name": "LayoutModel",
      "state": {}
     },
     "2e1304e3ba0b40148cf39a8227dfb8ec": {
      "model_module": "@jupyter-widgets/controls",
      "model_module_version": "1.5.0",
      "model_name": "ProgressStyleModel",
      "state": {
       "description_width": ""
      }
     },
     "37eba4edffab4aec98e2d29a51ee4a56": {
      "model_module": "@jupyter-widgets/base",
      "model_module_version": "1.2.0",
      "model_name": "LayoutModel",
      "state": {}
     },
     "3f90269cb6ab45a5990397ce01b82a62": {
      "model_module": "@jupyter-widgets/base",
      "model_module_version": "1.2.0",
      "model_name": "LayoutModel",
      "state": {}
     },
     "46657de5ffde4fd483c4a5aa5a778e72": {
      "model_module": "@jupyter-widgets/base",
      "model_module_version": "1.2.0",
      "model_name": "LayoutModel",
      "state": {}
     },
     "47ecf4f8699d46f09bc003f435a37680": {
      "model_module": "@jupyter-widgets/base",
      "model_module_version": "1.2.0",
      "model_name": "LayoutModel",
      "state": {}
     },
     "5bf3e8dfcaae42a687f64a5080f1d5e4": {
      "model_module": "@jupyter-widgets/base",
      "model_module_version": "1.2.0",
      "model_name": "LayoutModel",
      "state": {}
     },
     "5eff8790aa5144a3b9f3afcea4497ea4": {
      "model_module": "@jupyter-widgets/controls",
      "model_module_version": "1.5.0",
      "model_name": "HBoxModel",
      "state": {
       "children": [
        "IPY_MODEL_6c77978cd16a499ab56954f8599b293a",
        "IPY_MODEL_a98a0a2df6644dfb94b283a16e73b3e4",
        "IPY_MODEL_ef776f02b8b14162ba59c8897b4bae0f"
       ],
       "layout": "IPY_MODEL_46657de5ffde4fd483c4a5aa5a778e72"
      }
     },
     "5f93280f45c14bd0b1c6944bbe079023": {
      "model_module": "@jupyter-widgets/controls",
      "model_module_version": "1.5.0",
      "model_name": "DescriptionStyleModel",
      "state": {
       "description_width": ""
      }
     },
     "6c77978cd16a499ab56954f8599b293a": {
      "model_module": "@jupyter-widgets/controls",
      "model_module_version": "1.5.0",
      "model_name": "HTMLModel",
      "state": {
       "layout": "IPY_MODEL_47ecf4f8699d46f09bc003f435a37680",
       "style": "IPY_MODEL_01f760948db64dc4899a2520be78587b",
       "value": "100%"
      }
     },
     "87f807da19454acab7fcbbdebcaf9455": {
      "model_module": "@jupyter-widgets/controls",
      "model_module_version": "1.5.0",
      "model_name": "FloatProgressModel",
      "state": {
       "bar_style": "success",
       "layout": "IPY_MODEL_2880270e134646a09e324b9445757b5f",
       "max": 127,
       "style": "IPY_MODEL_d8e5e5eac67a461992b8674c9aa4ff84",
       "value": 127
      }
     },
     "89ccc474767c44039cdd01d830dfe68d": {
      "model_module": "@jupyter-widgets/controls",
      "model_module_version": "1.5.0",
      "model_name": "DescriptionStyleModel",
      "state": {
       "description_width": ""
      }
     },
     "8db3f838f4b549b39aecdd8a5ffbac13": {
      "model_module": "@jupyter-widgets/controls",
      "model_module_version": "1.5.0",
      "model_name": "HTMLModel",
      "state": {
       "layout": "IPY_MODEL_3f90269cb6ab45a5990397ce01b82a62",
       "style": "IPY_MODEL_89ccc474767c44039cdd01d830dfe68d",
       "value": "100%"
      }
     },
     "8e1c2d1a7b20412b930dcdf2a3b2e3d4": {
      "model_module": "@jupyter-widgets/controls",
      "model_module_version": "1.5.0",
      "model_name": "HBoxModel",
      "state": {
       "children": [
        "IPY_MODEL_8db3f838f4b549b39aecdd8a5ffbac13",
        "IPY_MODEL_87f807da19454acab7fcbbdebcaf9455",
        "IPY_MODEL_129dc55cd8ba41309a4f2b77d13b55df"
       ],
       "layout": "IPY_MODEL_5bf3e8dfcaae42a687f64a5080f1d5e4"
      }
     },
     "a98a0a2df6644dfb94b283a16e73b3e4": {
      "model_module": "@jupyter-widgets/controls",
      "model_module_version": "1.5.0",
      "model_name": "FloatProgressModel",
      "state": {
       "bar_style": "success",
       "layout": "IPY_MODEL_b4a969b33a584ec9a4d4cb68fda73628",
       "max": 127,
       "style": "IPY_MODEL_2e1304e3ba0b40148cf39a8227dfb8ec",
       "value": 127
      }
     },
     "b4a969b33a584ec9a4d4cb68fda73628": {
      "model_module": "@jupyter-widgets/base",
      "model_module_version": "1.2.0",
      "model_name": "LayoutModel",
      "state": {}
     },
     "d8e5e5eac67a461992b8674c9aa4ff84": {
      "model_module": "@jupyter-widgets/controls",
      "model_module_version": "1.5.0",
      "model_name": "ProgressStyleModel",
      "state": {
       "description_width": ""
      }
     },
     "ef776f02b8b14162ba59c8897b4bae0f": {
      "model_module": "@jupyter-widgets/controls",
      "model_module_version": "1.5.0",
      "model_name": "HTMLModel",
      "state": {
       "layout": "IPY_MODEL_37eba4edffab4aec98e2d29a51ee4a56",
       "style": "IPY_MODEL_0289c1039a684ce79b234d22f4c68462",
       "value": " 127/127 [00:05&lt;00:00, 18.48it/s]"
      }
     }
    },
    "version_major": 2,
    "version_minor": 0
   }
  }
 },
 "nbformat": 4,
 "nbformat_minor": 5
}
