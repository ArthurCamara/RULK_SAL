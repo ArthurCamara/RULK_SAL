{
 "cells": [
  {
   "cell_type": "code",
   "execution_count": 41,
   "metadata": {
    "ExecuteTime": {
     "end_time": "2022-06-29T10:06:31.681719Z",
     "start_time": "2022-06-29T10:06:29.507455Z"
    },
    "execution": {
     "iopub.execute_input": "2022-06-29T17:02:13.465776Z",
     "iopub.status.busy": "2022-06-29T17:02:13.465553Z",
     "iopub.status.idle": "2022-06-29T17:02:13.529292Z",
     "shell.execute_reply": "2022-06-29T17:02:13.528210Z",
     "shell.execute_reply.started": "2022-06-29T17:02:13.465752Z"
    },
    "tags": []
   },
   "outputs": [],
   "source": [
    "import re\n",
    "\n",
    "from collections import Counter\n",
    "\n",
    "import pandas as pd\n",
    "\n",
    "from tqdm.auto import tqdm\n",
    "from nltk.corpus import stopwords\n",
    "from nltk.stem import PorterStemmer\n",
    "from nltk.tokenize import word_tokenize\n",
    "\n",
    "\n",
    "def wordcount(text):\n",
    "    text = text.lower()\n",
    "    # Remove anything that isn't a word character or a space\n",
    "    # We could use .replace(\".\", \"\") but regex is a lot easier!\n",
    "    text  = text.replace(\"-\", \" \")\n",
    "    text = re.sub(\"[^\\w ]\", \"\", text)\n",
    "    stop_words = set(stopwords.words('english'))\n",
    "    word_tokens = word_tokenize(text)\n",
    "    stemmer = PorterStemmer()\n",
    "    filtered_sentence = \"\"\n",
    "    for w in word_tokens:\n",
    "        if w not in stop_words:\n",
    "            filtered_sentence = filtered_sentence + \" \" + stemmer.stem(w)\n",
    "    words = filtered_sentence.split(\" \")\n",
    "    return Counter(words)"
   ]
  },
  {
   "cell_type": "code",
   "execution_count": 11,
   "metadata": {
    "ExecuteTime": {
     "end_time": "2022-06-29T10:06:31.868945Z",
     "start_time": "2022-06-29T10:06:31.683717Z"
    },
    "execution": {
     "iopub.execute_input": "2022-06-29T14:49:46.040074Z",
     "iopub.status.busy": "2022-06-29T14:49:46.039391Z",
     "iopub.status.idle": "2022-06-29T14:49:46.232369Z",
     "shell.execute_reply": "2022-06-29T14:49:46.231701Z",
     "shell.execute_reply.started": "2022-06-29T14:49:46.040012Z"
    },
    "scrolled": true,
    "tags": []
   },
   "outputs": [
    {
     "data": {
      "text/html": [
       "<div>\n",
       "<style scoped>\n",
       "    .dataframe tbody tr th:only-of-type {\n",
       "        vertical-align: middle;\n",
       "    }\n",
       "\n",
       "    .dataframe tbody tr th {\n",
       "        vertical-align: top;\n",
       "    }\n",
       "\n",
       "    .dataframe thead th {\n",
       "        text-align: right;\n",
       "    }\n",
       "</style>\n",
       "<table border=\"1\" class=\"dataframe\">\n",
       "  <thead>\n",
       "    <tr style=\"text-align: right;\">\n",
       "      <th></th>\n",
       "      <th>Keywords</th>\n",
       "      <th>Occurence</th>\n",
       "    </tr>\n",
       "    <tr>\n",
       "      <th>Topic</th>\n",
       "      <th></th>\n",
       "      <th></th>\n",
       "    </tr>\n",
       "  </thead>\n",
       "  <tbody>\n",
       "    <tr>\n",
       "      <th>Subprime mortgage crisis</th>\n",
       "      <td>[financi, crisi, inquiri, commiss, subprim, mo...</td>\n",
       "      <td>[28, 17, 5, 7, 12, 56, 16, 7, 13, 31]</td>\n",
       "    </tr>\n",
       "    <tr>\n",
       "      <th>Irritable bowel syndrome</th>\n",
       "      <td>[found, ib, patient, incur, postinfecti, reduc...</td>\n",
       "      <td>[10, 46, 18, 2, 0, 5, 16, 1, 1, 1]</td>\n",
       "    </tr>\n",
       "    <tr>\n",
       "      <th>Genetically modified organism</th>\n",
       "      <td>[genet, modifi, crop, organ, engin, food, gmo,...</td>\n",
       "      <td>[20, 10, 12, 6, 8, 3, 5, 4, 2, 4]</td>\n",
       "    </tr>\n",
       "    <tr>\n",
       "      <th>Noise-induced hearing loss</th>\n",
       "      <td>[hear, protect, devic, occup, loss, perman, du...</td>\n",
       "      <td>[26, 7, 8, 5, 16, 3, 2, 2, 3, 6]</td>\n",
       "    </tr>\n",
       "    <tr>\n",
       "      <th>Business cycle</th>\n",
       "      <td>[treasuri, bond, rate, busi, cycl, notabl, sho...</td>\n",
       "      <td>[3, 3, 6, 5, 9, 1, 1, 1, 1, 1]</td>\n",
       "    </tr>\n",
       "    <tr>\n",
       "      <th>Ethics</th>\n",
       "      <td>[ethic, relat, virtu, epicuru, english, word, ...</td>\n",
       "      <td>[39, 6, 5, 3, 3, 4, 6, 2, 1, 5]</td>\n",
       "    </tr>\n",
       "    <tr>\n",
       "      <th>Radiocarbon dating considerations</th>\n",
       "      <td>[surfac, water, give, bring, deep, thousand, y...</td>\n",
       "      <td>[9, 12, 1, 2, 3, 2, 12, 3, 5, 7]</td>\n",
       "    </tr>\n",
       "  </tbody>\n",
       "</table>\n",
       "</div>"
      ],
      "text/plain": [
       "                                                                            Keywords  \\\n",
       "Topic                                                                                  \n",
       "Subprime mortgage crisis           [financi, crisi, inquiri, commiss, subprim, mo...   \n",
       "Irritable bowel syndrome           [found, ib, patient, incur, postinfecti, reduc...   \n",
       "Genetically modified organism      [genet, modifi, crop, organ, engin, food, gmo,...   \n",
       "Noise-induced hearing loss         [hear, protect, devic, occup, loss, perman, du...   \n",
       "Business cycle                     [treasuri, bond, rate, busi, cycl, notabl, sho...   \n",
       "Ethics                             [ethic, relat, virtu, epicuru, english, word, ...   \n",
       "Radiocarbon dating considerations  [surfac, water, give, bring, deep, thousand, y...   \n",
       "\n",
       "                                                               Occurence  \n",
       "Topic                                                                     \n",
       "Subprime mortgage crisis           [28, 17, 5, 7, 12, 56, 16, 7, 13, 31]  \n",
       "Irritable bowel syndrome              [10, 46, 18, 2, 0, 5, 16, 1, 1, 1]  \n",
       "Genetically modified organism          [20, 10, 12, 6, 8, 3, 5, 4, 2, 4]  \n",
       "Noise-induced hearing loss              [26, 7, 8, 5, 16, 3, 2, 2, 3, 6]  \n",
       "Business cycle                            [3, 3, 6, 5, 9, 1, 1, 1, 1, 1]  \n",
       "Ethics                                   [39, 6, 5, 3, 3, 4, 6, 2, 1, 5]  \n",
       "Radiocarbon dating considerations       [9, 12, 1, 2, 3, 2, 12, 3, 5, 7]  "
      ]
     },
     "metadata": {},
     "output_type": "display_data"
    }
   ],
   "source": [
    "import pandas as pd\n",
    "\n",
    "\n",
    "wiki_need =  pd.DataFrame(columns = [\"Topic\",\"Keywords\",\"Occurence\"])\n",
    "wiki_need = wiki_need.set_index(\"Topic\")\n",
    "\n",
    "\n",
    "# Top 10 keywords extracted using YAKE on http://yake.inesctec.pt/demo/user\n",
    "need_dict = {\n",
    "    'Subprime mortgage crisis': {'mortgage', 'financial', 'banks', 'crisis', 'trillion','debt','credit','subprime','sector','loan'},\n",
    "'Irritable bowel syndrome' : {'ibs', 'symptoms', 'patients', 'costs', 'found', 'fiber', 'study', 'gut', 'evidence','cases'},\n",
    "'Genetically modified organism': {'genetically' , 'modified', 'crops', 'organisms', 'DNA', 'european', 'drosophila', 'gmos','virus','engineering'},\n",
    "'Noise-induced hearing loss':{'hearing', 'loss', 'noise', 'devices', 'NIHL', 'cell', 'fluid', 'hair', 'protection', 'interventions'},\n",
    "'Business cycle' : {'kondratiev', 'cycles', 'business', 'keynesian', 'treasury', 'school', 'austrian', 'curve', 'supply','rate'},\n",
    "'Ethics' : {'ethics', 'moral', 'death', 'hoy', 'pleasure', 'cyrene', 'aristippus', 'fear', 'normative','action'}             ,\n",
    "'Radiocarbon dating considerations': {'years', 'surface', 'water', 'time', 'ratio', 'ocean', 'tree', 'atmosphere', 'effect','ring'},\n",
    "}\n",
    "\n",
    "need_dict = {'Subprime mortgage crisis': ['financi', 'crisi', 'inquiri', 'commiss', 'subprim', 'mortgag', 'loan', 'low', 'interest', 'rate'], \n",
    "             'Irritable bowel syndrome': ['found', 'ib', 'patient', 'incur', 'postinfecti', 'reduc', 'symptom', 'carolina', 'techniqu', 'novarti'], \n",
    "             'Genetically modified organism': ['genet', 'modifi', 'crop', 'organ', 'engin', 'food', 'gmo', 'european', 'wild', 'rabbit'], \n",
    "             'Noise-induced hearing loss': ['hear', 'protect', 'devic', 'occup', 'loss', 'perman', 'due', 'complet', 'review', 'caus'], \n",
    "             'Business cycle': ['treasuri', 'bond', 'rate', 'busi', 'cycl', 'notabl', 'shorter', 'date', 'partisan', 'suggest'], \n",
    "             'Ethics': ['ethic', 'relat', 'virtu', 'epicuru', 'english', 'word', 'human', 'capac', 'attent', 'norm'], \n",
    "             'Radiocarbon dating considerations': ['surfac', 'water', 'give', 'bring', 'deep', 'thousand', 'year', 'upwel', 'mix', 'tree']\n",
    "}\n",
    "\n",
    "\n",
    "stemmer = PorterStemmer()\n",
    "\n",
    "# #Stem need_dict\n",
    "# for key in need_dict:\n",
    "#     vect = []\n",
    "#     for word in need_dict[key]:\n",
    "#         vect.append(stemmer.stem(word))\n",
    "#     need_dict[key] = vect\n",
    "#     print(vect)\n",
    "\n",
    "#New function with keyword need from YAKE and dictionnary\n",
    "for l in open(\"../data/wikipedia_texts.tsv\", encoding = 'utf-8'):\n",
    "    topic_title, text = l.strip().split(\"\\t\", maxsplit=1) \n",
    "    topic_title = topic_title.replace(\"%20\",\" \")\n",
    "    keywords = need_dict[topic_title] \n",
    "    need_n = [0] * 10\n",
    "    counter_word = wordcount(text)\n",
    "    counter = 0\n",
    "    for i in keywords:\n",
    "#         print(i)\n",
    "        value = counter_word[i]\n",
    "#         print(value)\n",
    "#         value = counter_word[i]\n",
    "        need_n[counter] = value * 1\n",
    "#     need_weight[topic_title]\n",
    "        counter = counter + 1\n",
    "    wiki_need.loc[topic_title] = [keywords,need_n] \n",
    "display(wiki_need)"
   ]
  },
  {
   "cell_type": "code",
   "execution_count": 40,
   "metadata": {
    "ExecuteTime": {
     "end_time": "2022-06-29T10:06:33.473620Z",
     "start_time": "2022-06-29T10:06:31.870906Z"
    },
    "execution": {
     "iopub.execute_input": "2022-06-29T17:01:42.707277Z",
     "iopub.status.busy": "2022-06-29T17:01:42.706682Z",
     "iopub.status.idle": "2022-06-29T17:02:13.463507Z",
     "shell.execute_reply": "2022-06-29T17:02:13.462327Z",
     "shell.execute_reply.started": "2022-06-29T17:01:42.707214Z"
    },
    "tags": []
   },
   "outputs": [],
   "source": [
    "#Get a vector for every document\n",
    "import json\n",
    "\n",
    "import pandas as pd\n",
    "\n",
    "\n",
    "url_topic =  pd.DataFrame(columns = [\"Url\",\"Topic\"])\n",
    "url_topic = url_topic.set_index(\"Url\")\n",
    "\n",
    "with open(\"../data/logs_with_position.json\") as jsonFile:\n",
    "    jsonObject = json.load(jsonFile)\n",
    "    jsonFile.close()\n",
    "\n",
    "for i in range(0,len(jsonObject)):\n",
    "    userID = jsonObject[i]['userID']\n",
    "    topic = jsonObject[i]['topic_title'].replace(\"%20\",\" \")\n",
    "    clicks = jsonObject[i]['clicks']\n",
    "    for x in clicks:\n",
    "        url_topic.loc[x['url']] = [topic]\n",
    "    \n",
    "doc_vect =  pd.DataFrame(columns = [\"Url\",\"Occurence\",\"Topic Occurrence\"])\n",
    "doc_vect = doc_vect.set_index(\"Url\")\n",
    "for l in open(\"../data/clicked_docs.tsv\", encoding = 'utf-8'):\n",
    "    url = (l.strip().split(\"\\t\", maxsplit=1))[0]\n",
    "    try:\n",
    "        text = (l.strip().split(\"\\t\", maxsplit=1))[1]\n",
    "        doc_vect.loc[url] = [wordcount(text),\"\"]\n",
    "    except:\n",
    "        text = \".\"\n",
    "        doc_vect.loc[url] = [wordcount(text),\"\"]\n",
    "result = pd.concat([doc_vect, url_topic], axis=1, join='inner')"
   ]
  },
  {
   "cell_type": "code",
   "execution_count": 48,
   "metadata": {
    "ExecuteTime": {
     "end_time": "2022-06-29T10:07:15.601614Z",
     "start_time": "2022-06-29T10:07:14.831097Z"
    },
    "execution": {
     "iopub.execute_input": "2022-06-29T17:03:42.453927Z",
     "iopub.status.busy": "2022-06-29T17:03:42.453351Z",
     "iopub.status.idle": "2022-06-29T17:03:42.859903Z",
     "shell.execute_reply": "2022-06-29T17:03:42.859288Z",
     "shell.execute_reply.started": "2022-06-29T17:03:42.453869Z"
    },
    "tags": []
   },
   "outputs": [
    {
     "data": {
      "application/vnd.jupyter.widget-view+json": {
       "model_id": "345e554b09a248efbab5004b58fe0518",
       "version_major": 2,
       "version_minor": 0
      },
      "text/plain": [
       "  0%|          | 0/1107 [00:00<?, ?it/s]"
      ]
     },
     "metadata": {},
     "output_type": "display_data"
    }
   ],
   "source": [
    "for i in tqdm(range(0,len(result))):\n",
    "    t = result['Topic'][i]\n",
    "    need = wiki_need['Keywords'].loc[t]\n",
    "    vect = []\n",
    "    for n in need:\n",
    "        try:\n",
    "            occ = int((result['Occurence'][i])[n])\n",
    "        except:\n",
    "            occ = int(0)\n",
    "        vect.append(int(occ))\n",
    "    result['Topic Occurrence'][i] = vect"
   ]
  },
  {
   "cell_type": "code",
   "execution_count": 64,
   "metadata": {
    "execution": {
     "iopub.execute_input": "2022-06-29T17:38:07.022505Z",
     "iopub.status.busy": "2022-06-29T17:38:07.021884Z",
     "iopub.status.idle": "2022-06-29T17:38:07.035856Z",
     "shell.execute_reply": "2022-06-29T17:38:07.034649Z",
     "shell.execute_reply.started": "2022-06-29T17:38:07.022446Z"
    },
    "tags": []
   },
   "outputs": [
    {
     "data": {
      "text/plain": [
       "{'Subprime mortgage crisis': [28, 17, 5, 7, 12, 56, 16, 7, 13, 31],\n",
       " 'Irritable bowel syndrome': [10, 46, 18, 2, 0, 5, 16, 1, 1, 1],\n",
       " 'Genetically modified organism': [20, 10, 12, 6, 8, 3, 5, 4, 2, 4],\n",
       " 'Noise-induced hearing loss': [26, 7, 8, 5, 16, 3, 2, 2, 3, 6],\n",
       " 'Business cycle': [3, 3, 6, 5, 9, 1, 1, 1, 1, 1],\n",
       " 'Ethics': [39, 6, 5, 3, 3, 4, 6, 2, 1, 5],\n",
       " 'Radiocarbon dating considerations': [9, 12, 1, 2, 3, 2, 12, 3, 5, 7]}"
      ]
     },
     "execution_count": 64,
     "metadata": {},
     "output_type": "execute_result"
    }
   ],
   "source": [
    "wiki_need[\"Occurence\"].to_dict()"
   ]
  },
  {
   "cell_type": "code",
   "execution_count": 65,
   "metadata": {
    "execution": {
     "iopub.execute_input": "2022-06-29T17:38:36.869923Z",
     "iopub.status.busy": "2022-06-29T17:38:36.869232Z",
     "iopub.status.idle": "2022-06-29T17:38:36.887263Z",
     "shell.execute_reply": "2022-06-29T17:38:36.886236Z",
     "shell.execute_reply.started": "2022-06-29T17:38:36.869862Z"
    },
    "tags": []
   },
   "outputs": [],
   "source": [
    "import pickle\n",
    "\n",
    "pickle.dump(result[\"Topic Occurrence\"].to_dict(), open(\"dima_emb.pkl\", 'wb'))\n",
    "pickle.dump(wiki_need[\"Occurence\"].to_dict(), open(\"dima_wiki_emb.pkl\", 'wb'))"
   ]
  },
  {
   "cell_type": "code",
   "execution_count": null,
   "metadata": {},
   "outputs": [],
   "source": [
    "embeddings_docs = {u: result.loc[u][\"Topic Occurrence\"] for u in result.index"
   ]
  },
  {
   "cell_type": "code",
   "execution_count": 58,
   "metadata": {
    "execution": {
     "iopub.execute_input": "2022-06-29T17:11:43.044994Z",
     "iopub.status.busy": "2022-06-29T17:11:43.044289Z",
     "iopub.status.idle": "2022-06-29T17:11:43.055496Z",
     "shell.execute_reply": "2022-06-29T17:11:43.053921Z",
     "shell.execute_reply.started": "2022-06-29T17:11:43.044935Z"
    },
    "tags": []
   },
   "outputs": [
    {
     "data": {
      "text/plain": [
       "[0, 9, 0, 0, 0, 0, 5, 0, 0, 0]"
      ]
     },
     "execution_count": 58,
     "metadata": {},
     "output_type": "execute_result"
    }
   ],
   "source": [
    "url = 'https://askdrnandi.com/exactly-irritable-bowel-syndrome/'\n",
    "result.loc[url][\"Topic Occurrence\"]"
   ]
  },
  {
   "cell_type": "code",
   "execution_count": 66,
   "metadata": {
    "ExecuteTime": {
     "end_time": "2022-06-29T10:07:15.617571Z",
     "start_time": "2022-06-29T10:07:15.604606Z"
    },
    "execution": {
     "iopub.execute_input": "2022-06-29T17:41:09.324860Z",
     "iopub.status.busy": "2022-06-29T17:41:09.324165Z",
     "iopub.status.idle": "2022-06-29T17:41:09.337101Z",
     "shell.execute_reply": "2022-06-29T17:41:09.335895Z",
     "shell.execute_reply.started": "2022-06-29T17:41:09.324799Z"
    },
    "tags": []
   },
   "outputs": [],
   "source": [
    "gain_compare = pd.DataFrame(columns = [\"userID\",\"Topic\",\"Actual\",\"Vocab\"])\n",
    "gain_compare = gain_compare.set_index(\"userID\")"
   ]
  },
  {
   "cell_type": "code",
   "execution_count": 75,
   "metadata": {
    "ExecuteTime": {
     "end_time": "2022-06-29T10:07:34.652686Z",
     "start_time": "2022-06-29T10:07:15.619568Z"
    },
    "execution": {
     "iopub.execute_input": "2022-06-30T09:04:42.160947Z",
     "iopub.status.busy": "2022-06-30T09:04:42.160376Z",
     "iopub.status.idle": "2022-06-30T09:04:42.297101Z",
     "shell.execute_reply": "2022-06-30T09:04:42.296480Z",
     "shell.execute_reply.started": "2022-06-30T09:04:42.160889Z"
    },
    "scrolled": true,
    "tags": []
   },
   "outputs": [
    {
     "data": {
      "application/vnd.jupyter.widget-view+json": {
       "model_id": "3160599eff344e9a9c2906ea12b4bb65",
       "version_major": 2,
       "version_minor": 0
      },
      "text/plain": [
       "  0%|          | 0/127 [00:00<?, ?it/s]"
      ]
     },
     "metadata": {},
     "output_type": "display_data"
    },
    {
     "name": "stdout",
     "output_type": "stream",
     "text": [
      "(0.311954498627866, 0.00035655478368730453)\n"
     ]
    },
    {
     "data": {
      "text/html": [
       "<div>\n",
       "<style scoped>\n",
       "    .dataframe tbody tr th:only-of-type {\n",
       "        vertical-align: middle;\n",
       "    }\n",
       "\n",
       "    .dataframe tbody tr th {\n",
       "        vertical-align: top;\n",
       "    }\n",
       "\n",
       "    .dataframe thead th {\n",
       "        text-align: right;\n",
       "    }\n",
       "</style>\n",
       "<table border=\"1\" class=\"dataframe\">\n",
       "  <thead>\n",
       "    <tr style=\"text-align: right;\">\n",
       "      <th></th>\n",
       "      <th>Topic</th>\n",
       "      <th>Actual</th>\n",
       "      <th>Vocab</th>\n",
       "    </tr>\n",
       "    <tr>\n",
       "      <th>userID</th>\n",
       "      <th></th>\n",
       "      <th></th>\n",
       "      <th></th>\n",
       "    </tr>\n",
       "  </thead>\n",
       "  <tbody>\n",
       "    <tr>\n",
       "      <th>5d0bcf217a581100161860ae</th>\n",
       "      <td>Subprime mortgage crisis</td>\n",
       "      <td>0.150000</td>\n",
       "      <td>0.962418</td>\n",
       "    </tr>\n",
       "    <tr>\n",
       "      <th>5e311dd7a390be11ebfc23c3</th>\n",
       "      <td>Irritable bowel syndrome</td>\n",
       "      <td>1.000000</td>\n",
       "      <td>0.982551</td>\n",
       "    </tr>\n",
       "    <tr>\n",
       "      <th>5b7b22a5b5727c0001de1369</th>\n",
       "      <td>Genetically modified organism</td>\n",
       "      <td>0.058824</td>\n",
       "      <td>0.931504</td>\n",
       "    </tr>\n",
       "    <tr>\n",
       "      <th>5a9fe0026219a30001f55a2c</th>\n",
       "      <td>Noise-induced hearing loss</td>\n",
       "      <td>0.190476</td>\n",
       "      <td>0.946887</td>\n",
       "    </tr>\n",
       "    <tr>\n",
       "      <th>5b5f1cd27757ed000198dcb0</th>\n",
       "      <td>Business cycle</td>\n",
       "      <td>0.150000</td>\n",
       "      <td>0.825981</td>\n",
       "    </tr>\n",
       "    <tr>\n",
       "      <th>...</th>\n",
       "      <td>...</td>\n",
       "      <td>...</td>\n",
       "      <td>...</td>\n",
       "    </tr>\n",
       "    <tr>\n",
       "      <th>58f669cefb4d7500014af69b</th>\n",
       "      <td>Genetically modified organism</td>\n",
       "      <td>0.000000</td>\n",
       "      <td>0.931357</td>\n",
       "    </tr>\n",
       "    <tr>\n",
       "      <th>5e2ac2737916f010b330807f</th>\n",
       "      <td>Business cycle</td>\n",
       "      <td>0.250000</td>\n",
       "      <td>0.883796</td>\n",
       "    </tr>\n",
       "    <tr>\n",
       "      <th>5d70ec2138ac7e00012f817b</th>\n",
       "      <td>Radiocarbon dating considerations</td>\n",
       "      <td>0.312500</td>\n",
       "      <td>0.929928</td>\n",
       "    </tr>\n",
       "    <tr>\n",
       "      <th>5a57b9dfac5624000153be46</th>\n",
       "      <td>Ethics</td>\n",
       "      <td>0.222222</td>\n",
       "      <td>0.978212</td>\n",
       "    </tr>\n",
       "    <tr>\n",
       "      <th>5dfcc5cf7dd4779b542dc38d</th>\n",
       "      <td>Subprime mortgage crisis</td>\n",
       "      <td>0.500000</td>\n",
       "      <td>0.985386</td>\n",
       "    </tr>\n",
       "  </tbody>\n",
       "</table>\n",
       "<p>127 rows × 3 columns</p>\n",
       "</div>"
      ],
      "text/plain": [
       "                                                      Topic    Actual  \\\n",
       "userID                                                                  \n",
       "5d0bcf217a581100161860ae           Subprime mortgage crisis  0.150000   \n",
       "5e311dd7a390be11ebfc23c3           Irritable bowel syndrome  1.000000   \n",
       "5b7b22a5b5727c0001de1369      Genetically modified organism  0.058824   \n",
       "5a9fe0026219a30001f55a2c         Noise-induced hearing loss  0.190476   \n",
       "5b5f1cd27757ed000198dcb0                     Business cycle  0.150000   \n",
       "...                                                     ...       ...   \n",
       "58f669cefb4d7500014af69b      Genetically modified organism  0.000000   \n",
       "5e2ac2737916f010b330807f                     Business cycle  0.250000   \n",
       "5d70ec2138ac7e00012f817b  Radiocarbon dating considerations  0.312500   \n",
       "5a57b9dfac5624000153be46                             Ethics  0.222222   \n",
       "5dfcc5cf7dd4779b542dc38d           Subprime mortgage crisis  0.500000   \n",
       "\n",
       "                             Vocab  \n",
       "userID                              \n",
       "5d0bcf217a581100161860ae  0.962418  \n",
       "5e311dd7a390be11ebfc23c3  0.982551  \n",
       "5b7b22a5b5727c0001de1369  0.931504  \n",
       "5a9fe0026219a30001f55a2c  0.946887  \n",
       "5b5f1cd27757ed000198dcb0  0.825981  \n",
       "...                            ...  \n",
       "58f669cefb4d7500014af69b  0.931357  \n",
       "5e2ac2737916f010b330807f  0.883796  \n",
       "5d70ec2138ac7e00012f817b  0.929928  \n",
       "5a57b9dfac5624000153be46  0.978212  \n",
       "5dfcc5cf7dd4779b542dc38d  0.985386  \n",
       "\n",
       "[127 rows x 3 columns]"
      ]
     },
     "metadata": {},
     "output_type": "display_data"
    }
   ],
   "source": [
    "import json\n",
    "\n",
    "import numpy as np\n",
    "\n",
    "from numpy.linalg import norm\n",
    "from scipy import spatial, stats as st\n",
    "\n",
    "\n",
    "with open(\"../data/logs_with_position.json\") as jsonFile:\n",
    "    jsonObject = json.load(jsonFile)\n",
    "    jsonFile.close()\n",
    "\n",
    "for i in tqdm(range(0,len(jsonObject))):\n",
    "    userID = jsonObject[i]['userID']\n",
    "    topic = jsonObject[i]['topic_title']\n",
    "    gain = jsonObject[i]['RPL']\n",
    "    clicks = jsonObject[i]['clicks']\n",
    "    urls = [x['url'] for x in clicks]\n",
    "    kb = [0] * len(result[\"Topic Occurrence\"][0]) \n",
    "\n",
    "    for url in urls:\n",
    "        try:\n",
    "            # kb = [x + y if x + y < z else z for (x, y,z) in zip(kb, result[\"Topic Occurrence\"][url], wiki_need[\"Occurence\"][topic])]\n",
    "            # kb = [x + y for (x, y,z) in zip(kb, result[\"Topic Occurrence\"][url], wiki_need[\"Occurence\"][topic])]\n",
    "            kb = [x + y for (x, y) in zip(kb, result[\"Topic Occurrence\"][url])]\n",
    "        except:\n",
    "            continue\n",
    "    sim = 1-  spatial.distance.cosine(kb,wiki_need['Occurence'].loc[topic])\n",
    "#Other Similarity functions that I tried:\n",
    "#     distance = [x - y for (x,y) in zip(wiki_need['Occurence'].loc[topic],kb)]\n",
    "#     sim = 1 / (1 + norm(distance))\n",
    "#     sim = 1 / (1 + spatial.distance.minkowski(kb,wiki_need['Occurence'].loc[topic]))\n",
    "#     display(sim)\n",
    "\n",
    "    gain_compare.loc[userID] = [topic,gain,sim]\n",
    "    \n",
    "corr = st.pearsonr(gain_compare['Actual'], gain_compare['Vocab'])\n",
    "print(corr)\n",
    "\n",
    "display(gain_compare)"
   ]
  },
  {
   "cell_type": "code",
   "execution_count": 71,
   "metadata": {
    "execution": {
     "iopub.execute_input": "2022-06-29T17:44:49.856687Z",
     "iopub.status.busy": "2022-06-29T17:44:49.855901Z",
     "iopub.status.idle": "2022-06-29T17:44:49.866575Z",
     "shell.execute_reply": "2022-06-29T17:44:49.865125Z",
     "shell.execute_reply.started": "2022-06-29T17:44:49.856627Z"
    },
    "tags": []
   },
   "outputs": [
    {
     "data": {
      "text/plain": [
       "('5dfcc5cf7dd4779b542dc38d', [28, 17, 5, 7, 12, 56, 16, 7, 13, 31])"
      ]
     },
     "execution_count": 71,
     "metadata": {},
     "output_type": "execute_result"
    }
   ],
   "source": [
    "userID , kb"
   ]
  },
  {
   "cell_type": "code",
   "execution_count": 9,
   "metadata": {
    "ExecuteTime": {
     "end_time": "2022-06-29T10:07:34.668643Z",
     "start_time": "2022-06-29T10:07:34.658670Z"
    }
   },
   "outputs": [],
   "source": [
    "# gain_compare.to_csv('calculated gain.csv', header=True, index=True, sep=',')"
   ]
  },
  {
   "cell_type": "code",
   "execution_count": 72,
   "metadata": {
    "execution": {
     "iopub.execute_input": "2022-06-29T17:45:15.284613Z",
     "iopub.status.busy": "2022-06-29T17:45:15.283810Z",
     "iopub.status.idle": "2022-06-29T17:45:15.294504Z",
     "shell.execute_reply": "2022-06-29T17:45:15.292983Z",
     "shell.execute_reply.started": "2022-06-29T17:45:15.284551Z"
    },
    "tags": []
   },
   "outputs": [
    {
     "data": {
      "text/plain": [
       "(0.1659227779918237, 0.062278018511372636)"
      ]
     },
     "execution_count": 72,
     "metadata": {},
     "output_type": "execute_result"
    }
   ],
   "source": [
    "corr"
   ]
  },
  {
   "cell_type": "code",
   "execution_count": 10,
   "metadata": {
    "ExecuteTime": {
     "end_time": "2022-06-29T10:07:34.764389Z",
     "start_time": "2022-06-29T10:07:34.673630Z"
    },
    "scrolled": true
   },
   "outputs": [
    {
     "name": "stdout",
     "output_type": "stream",
     "text": [
      "                                                                          Corr\n",
      "Subprime mortgage crisis            (-0.3123881668417313, 0.17994106974043483)\n",
      "Irritable bowel syndrome               (0.194544569057355, 0.4871899495156912)\n",
      "Genetically modified organism       (0.33989232587807383, 0.21515635374222525)\n",
      "Noise-induced hearing loss         (-0.47388095829503407, 0.04039933612947053)\n",
      "Business cycle                         (0.143264193437165, 0.5965866514043955)\n",
      "Ethics                              (-0.09600192310792346, 0.6872268656733417)\n",
      "Radiocarbon dating considerations    (0.4416148981319212, 0.03962841440759562)\n",
      "(0.012769132970337368, 0.8866978581567484)\n"
     ]
    }
   ],
   "source": [
    "Topic = ['Subprime mortgage crisis', 'Irritable bowel syndrome' , 'Genetically modified organism','Noise-induced hearing loss','Business cycle' ,'Ethics' ,'Radiocarbon dating considerations']\n",
    "corrolation = pd.DataFrame(columns = [\"Corr\"])\n",
    "\n",
    "for t in Topic:\n",
    "    sub = gain_compare[gain_compare['Topic']==t].copy()\n",
    "    corrolation.loc[t] = [st.pearsonr(sub[\"Actual\"], sub[\"Vocab\"])]\n",
    "# corr = st.pearsonr(gain_compare['Actual'], gain_compare['Vocab'])\n",
    "print(corrolation)\n",
    "\n",
    "corr = st.pearsonr(gain_compare['Actual'], gain_compare['Vocab'])\n",
    "print(corr)"
   ]
  },
  {
   "cell_type": "code",
   "execution_count": 11,
   "metadata": {
    "ExecuteTime": {
     "end_time": "2022-06-29T10:07:35.774999Z",
     "start_time": "2022-06-29T10:07:34.767379Z"
    }
   },
   "outputs": [
    {
     "data": {
      "image/png": "[encoded data removed]",
      "text/plain": [
       "<Figure size 432x288 with 1 Axes>"
      ]
     },
     "metadata": {
      "needs_background": "light"
     },
     "output_type": "display_data"
    }
   ],
   "source": [
    "import matplotlib.pyplot as plt\n",
    "\n",
    "\n",
    "colors = {\n",
    "'Subprime mortgage crisis':'red',\n",
    "'Irritable bowel syndrome' : 'yellow',\n",
    "'Genetically modified organism': 'pink',\n",
    "'Noise-induced hearing loss': 'black',\n",
    "'Business cycle' : 'green',\n",
    "'Ethics' : 'blue',\n",
    "'Radiocarbon dating considerations': 'red'\n",
    "}\n",
    "\n",
    " \n",
    "plt.scatter(gain_compare[\"Actual\"], gain_compare[\"Vocab\"], c = gain_compare[\"Topic\"].map(colors))\n",
    " \n",
    "# To show the plot\n",
    "plt.show()"
   ]
  }
 ],
 "metadata": {
  "kernelspec": {
   "display_name": "Python 3 (ipykernel)",
   "language": "python",
   "name": "python3"
  },
  "language_info": {
   "codemirror_mode": {
    "name": "ipython",
    "version": 3
   },
   "file_extension": ".py",
   "mimetype": "text/x-python",
   "name": "python",
   "nbconvert_exporter": "python",
   "pygments_lexer": "ipython3",
   "version": "3.9.10"
  },
  "toc": {
   "base_numbering": 1,
   "nav_menu": {},
   "number_sections": true,
   "sideBar": true,
   "skip_h1_title": false,
   "title_cell": "Table of Contents",
   "title_sidebar": "Contents",
   "toc_cell": false,
   "toc_position": {
    "height": "calc(100% - 180px)",
    "left": "10px",
    "top": "150px",
    "width": "165px"
   },
   "toc_section_display": true,
   "toc_window_display": true
  },
  "varInspector": {
   "cols": {
    "lenName": 16,
    "lenType": 16,
    "lenVar": 40
   },
   "kernels_config": {
    "python": {
     "delete_cmd_postfix": "",
     "delete_cmd_prefix": "del ",
     "library": "var_list.py",
     "varRefreshCmd": "print(var_dic_list())"
    },
    "r": {
     "delete_cmd_postfix": ") ",
     "delete_cmd_prefix": "rm(",
     "library": "var_list.r",
     "varRefreshCmd": "cat(var_dic_list()) "
    }
   },
   "types_to_exclude": [
    "module",
    "function",
    "builtin_function_or_method",
    "instance",
    "_Feature"
   ],
   "window_display": false
  }
 },
 "nbformat": 4,
 "nbformat_minor": 4
}
