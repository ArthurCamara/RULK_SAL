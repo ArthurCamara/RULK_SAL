{
 "cells": [
  {
   "cell_type": "markdown",
   "id": "7ed1e2cf-cc71-4ea0-b9f9-d45c982a9934",
   "metadata": {},
   "source": [
    "## BERT Knowledge Representation\n",
    "We want to compute, at each step of the user session (i.e. each document clicked), how their internal knowledge representation changes. Therefore, we have a few different methods to do so using Bert embeddings as a starting point.\n",
    "A few assumptions:\n",
    "- user starts with an empty knowledge representation\n",
    "- User READS every document, and that is added to their knowledge\n",
    "\n",
    "Document embeddings for BERT can come in a few different forms. Check `Compute_BERT_embeddings.ipynb` for how we compute each:\n",
    "- SUM: sum of the embeddings for each sentence of the document\n",
    "- MEAN: mean of the embeddings for each sentence of the document\n",
    "- TRUNC: Truncate the document at the first 384 tokens.\n",
    "- maxp_pairwise: Considering all sentences from the Wikipedia topic and the document, consider only the sentence with the higher similarity for any Wikipedia sentence\n",
    "- maxp_sum: Consider only the sentence with higher similarity to the SUM of the wikipedia sentences\n",
    "- maxp_mean: Consider only the sentence with higher similarity to the MEAN of the wikipedia sentences\n",
    "- maxp_trunc: Consider only the sentence with higher similarity to the truncated wikipedia document\n",
    "    \n",
    "These are the ways we can compute the users' knowledge evolution. Will be compared to the same method of aggregation on the Wikipedia text\n",
    "\n",
    "- MEAN: Concatenate all of the documents, the MEAN of these is the final knowledge.\n",
    "- SUM: As the user clicks on documents, SUM the embeddings\n"
   ]
  },
  {
   "cell_type": "code",
   "execution_count": 1,
   "id": "f1493149-3d5a-4404-9e28-967253b01ba0",
   "metadata": {
    "tags": []
   },
   "outputs": [],
   "source": [
    "import json\n",
    "import pickle\n",
    "import urllib.parse\n",
    "from collections import defaultdict\n",
    "\n",
    "import numpy as np\n",
    "from tqdm.auto import tqdmi\n",
    "\n",
    "\n",
    "def normalize_vector(v):\n",
    "    return v / np.linalg.norm(v)\n",
    "\n",
    "\n",
    "dataset = json.load(open(\"../data/logs_with_position.json\"))\n",
    "\n",
    "\n",
    "embeddings = {\n",
    "    \"docs_mean\": pickle.load(open(\"../data/docs_mean_embeddings.pkl\", \"rb\")),\n",
    "    \"docs_sum\": pickle.load(open(\"../data/docs_sum_embeddings.pkl\", \"rb\")),\n",
    "    \"docs_trunc\": pickle.load(open(\"../data/docs_trunc_embeddings.pkl\", \"rb\")),\n",
    "    \"maxp_pairwise\": pickle.load(open(\"../data/docs_maxp_pairwise_embeddings.pkl\", \"rb\")),\n",
    "    \"maxp_sum\": pickle.load(open(\"../data/docs_maxp_sum_embeddings.pkl\", \"rb\")),\n",
    "    \"maxp_mean\": pickle.load(open(\"../data/docs_maxp_mean_embeddings.pkl\", \"rb\")),\n",
    "    \"maxp_trunc\": pickle.load(open(\"../data/docs_maxp_trunc_embeddings.pkl\", \"rb\")),\n",
    "}"
   ]
  },
  {
   "cell_type": "code",
   "execution_count": null,
   "id": "387da098-520f-4fc0-a85f-071d4e0fab29",
   "metadata": {},
   "outputs": [],
   "source": []
  },
  {
   "cell_type": "code",
   "execution_count": 23,
   "id": "f0c9d05d-d79a-477c-9028-cb51370d1179",
   "metadata": {},
   "outputs": [
    {
     "data": {
      "text/plain": [
       "1.0"
      ]
     },
     "execution_count": 23,
     "metadata": {},
     "output_type": "execute_result"
    }
   ],
   "source": [
    "u[\"ALG\"]"
   ]
  },
  {
   "cell_type": "code",
   "execution_count": 33,
   "id": "d9bf919a-531e-4e80-96e7-c648f2ae9b66",
   "metadata": {},
   "outputs": [],
   "source": [
    "methods = list(embeddings.keys())\n",
    "users_knowledge_MEAN = []  # add final score for the user\n",
    "users_knowledge_SUM = []\n",
    "final_knowledges = defaultdict(lambda: {})\n",
    "\n",
    "missing_docs = set()\n",
    "\n",
    "wikipedia_embeddings = {\n",
    "    \"sum\": pickle.load(open(\"../data/wikipedia_sum_embeddings.pkl\", \"rb\")),\n",
    "    \"mean\": pickle.load(open(\"../data/wikipedia_mean_embeddings.pkl\", \"rb\")),\n",
    "    \"trunc\": pickle.load(open(\"../data/wikipedia_trunc_embeddings.pkl\", \"rb\")),\n",
    "}\n",
    "wikipedia_sum = {}\n",
    "wikipedia_mean = {}\n",
    "wikipedia_trunc = {}\n",
    "\n",
    "for u in dataset:\n",
    "    u_id = u[\"userID\"]\n",
    "    ALG = u[\"ALG\"]\n",
    "    RLG = u['RLG']\n",
    "\n",
    "    user_knowledge_mean = {k: [] for k in methods}\n",
    "    user_knowledge_sum = {k: np.zeros(768) for k in methods}\n",
    "    topic = urllib.parse.quote(u[\"topic_title\"])\n",
    "    clicks = 0\n",
    "    for d in u[\"clicks\"]:\n",
    "        url = d[\"url\"]\n",
    "        if url not in embeddings[\"docs_mean\"] or not np.any(embeddings[\"docs_mean\"][url]):\n",
    "            missing_docs.add(url)\n",
    "            continue\n",
    "        clicks += 1\n",
    "        for method in methods:\n",
    "            emb = embeddings[method][url]\n",
    "            user_knowledge_mean[method].append(emb)\n",
    "            # user_knowledge_mean[method] += (emb - user_knowledge_mean[method]) / (clicks)\n",
    "            user_knowledge_sum[method] += emb  # normalize at the end\n",
    "    # normalize and compute final similarity\n",
    "    for method in methods:\n",
    "        knowledge_mean = normalize_vector(np.mean(user_knowledge_mean[method], axis=0))\n",
    "        knowledge_sum = normalize_vector(user_knowledge_sum[method])\n",
    "        for emb_type in wikipedia_embeddings.keys():\n",
    "            wiki_emb = wikipedia_embeddings[emb_type][topic]\n",
    "            final_knowledges[f\"SUM_{method}_{emb_type}\"][u_id] = {\"RLG\": RLG, \"ALG\": ALG, \"final_sim\": np.dot(knowledge_sum, wiki_emb)}\n",
    "            final_knowledges[f\"MEAN_{method}_{emb_type}\"][u_id] = {\"RLG\": RLG, \"ALG\": ALG, \"final_sim\": np.dot(knowledge_mean, wiki_emb)}\n",
    "\n",
    "pickle.dump(dict(final_knowledges), open(\"../data/BERT_knowledge_gains.pkl\", \"wb\"))"
   ]
  },
  {
   "cell_type": "code",
   "execution_count": 6,
   "id": "8ab2644d-56be-4711-8553-5be992002194",
   "metadata": {},
   "outputs": [],
   "source": [
    "with open(\"../data/missing_docs.txt\", \"w\") as outf:\n",
    "    for u in missing_docs:\n",
    "        outf.write(f\"{u}\\n\")"
   ]
  }
 ],
 "metadata": {
  "kernelspec": {
   "display_name": "DESIRES",
   "language": "python",
   "name": "desires"
  },
  "language_info": {
   "codemirror_mode": {
    "name": "ipython",
    "version": 3
   },
   "file_extension": ".py",
   "mimetype": "text/x-python",
   "name": "python",
   "nbconvert_exporter": "python",
   "pygments_lexer": "ipython3",
   "version": "3.9.5"
  },
  "widgets": {
   "application/vnd.jupyter.widget-state+json": {
    "state": {},
    "version_major": 2,
    "version_minor": 0
   }
  }
 },
 "nbformat": 4,
 "nbformat_minor": 5
}
