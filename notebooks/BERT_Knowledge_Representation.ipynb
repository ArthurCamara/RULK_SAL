{
 "cells": [
  {
   "cell_type": "markdown",
   "id": "7ed1e2cf-cc71-4ea0-b9f9-d45c982a9934",
   "metadata": {},
   "source": [
    "## BERT Knowledge Representation\n",
    "We want to compute, at each step of the user session (i.e. each document clicked), how their internal knowledge representation changes. Therefore, we have a few different methods to do so using Bert embeddings as a starting point.\n",
    "A few assumptions:\n",
    "- user starts with an empty knowledge representation\n",
    "- User READS every document, and that is added to their knowledge\n",
    "\n",
    "Document embeddings for BERT can come in a few different forms. Check `Compute_BERT_embeddings.ipynb` for how we compute each:\n",
    "- SUM: sum of the embeddings for each sentence of the document\n",
    "- MEAN: mean of the embeddings for each sentence of the document\n",
    "- TRUNC: Truncate the document at the first 384 tokens.\n",
    "- maxp_pairwise: Considering all sentences from the Wikipedia topic and the document, consider only the sentence with the higher similarity for any Wikipedia sentence\n",
    "- maxp_sum: Consider only the sentence with higher similarity to the SUM of the wikipedia sentences\n",
    "- maxp_mean: Consider only the sentence with higher similarity to the MEAN of the wikipedia sentences\n",
    "- maxp_trunc: Consider only the sentence with higher similarity to the truncated wikipedia document\n",
    "    \n",
    "These are the ways we can compute the users' knowledge evolution. Will be compared to the same method of aggregation on the Wikipedia text\n",
    "\n",
    "- MEAN: Concatenate all of the documents, the MEAN of these is the final knowledge.\n",
    "- SUM: As the user clicks on documents, SUM the embeddings\n"
   ]
  },
  {
   "cell_type": "code",
   "execution_count": 225,
   "id": "f1493149-3d5a-4404-9e28-967253b01ba0",
   "metadata": {
    "tags": []
   },
   "outputs": [],
   "source": [
    "import json\n",
    "import pickle\n",
    "import urllib.parse\n",
    "from collections import defaultdict\n",
    "from pprint import pprint\n",
    "\n",
    "import numpy as np\n",
    "from scipy.stats import pearsonr, spearmanr\n",
    "from scipy.spatial.distance import cosine, euclidean\n",
    "from tqdm.auto import tqdm\n",
    "\n",
    "normalized = True\n",
    "# base_model, hidden_size = \"all-MiniLM-L6-v2\", 384\n",
    "base_model, hidden_size = \"msmarco-MiniLM-L6-cos-v5\", 384\n",
    "# base_model, hidden_size = \"all-mpnet-base-v2\", 768\n",
    "\n",
    "\n",
    "def load_embeddings(name, doc=\"docs\", normalized=normalized):\n",
    "    if not normalized:\n",
    "        return pickle.load(open(f\"../data/{base_model}_{doc}_{name}_embeddings_un.pkl\", \"rb\"))\n",
    "    else:\n",
    "        return pickle.load(open(f\"../data/{base_model}_{doc}_{name}_embeddings.pkl\", \"rb\"))\n",
    "\n",
    "\n",
    "dataset = json.load(open(\"../data/logs_with_position.json\"))\n",
    "\n",
    "embeddings = {\n",
    "    \"docs_mean\": load_embeddings(\"mean\"),\n",
    "    \"docs_sum\": load_embeddings(\"sum\"),\n",
    "    \"docs_trunc\": load_embeddings(\"trunc\"),\n",
    "    \"maxp_pairwise\": load_embeddings(\"maxp_pairwise\"),\n",
    "    \"maxp_sum\": load_embeddings(\"maxp_sum\"),\n",
    "    \"maxp_mean\": load_embeddings(\"maxp_mean\"),\n",
    "    \"maxp_trunc\": load_embeddings(\"maxp_trunc\"),\n",
    "}\n",
    "\n",
    "wikipedia_embeddings = {\n",
    "    \"sum\": load_embeddings(\"sum\", \"wikipedia\"),\n",
    "    \"mean\": load_embeddings(\"mean\", \"wikipedia\"),\n",
    "    \"trunc\": load_embeddings(\"trunc\", \"wikipedia\"),\n",
    "}"
   ]
  },
  {
   "cell_type": "code",
   "execution_count": 228,
   "id": "542e3511-0810-479d-b79d-e766e43504fe",
   "metadata": {},
   "outputs": [
    {
     "data": {
      "text/plain": [
       "['docs_mean',\n",
       " 'docs_sum',\n",
       " 'docs_trunc',\n",
       " 'maxp_pairwise',\n",
       " 'maxp_sum',\n",
       " 'maxp_mean',\n",
       " 'maxp_trunc']"
      ]
     },
     "execution_count": 228,
     "metadata": {},
     "output_type": "execute_result"
    }
   ],
   "source": [
    "methods"
   ]
  },
  {
   "cell_type": "code",
   "execution_count": 226,
   "id": "d9bf919a-531e-4e80-96e7-c648f2ae9b66",
   "metadata": {},
   "outputs": [],
   "source": [
    "methods = list(embeddings.keys())\n",
    "users_knowledge_MEAN = []  # add final score for the user\n",
    "users_knowledge_SUM = []\n",
    "final_knowledges = defaultdict(OrderedDict)\n",
    "missing_docs = set()\n",
    "\n",
    "for u in dataset:\n",
    "    u_id = u[\"userID\"]\n",
    "    ALG = u[\"ALG\"]\n",
    "    RPL = u[\"RPL\"]\n",
    "\n",
    "    user_knowledge_mean = {k: [] for k in methods}\n",
    "    user_knowledge_sum = {k: np.zeros(hidden_size) for k in methods}\n",
    "    topic = urllib.parse.quote(u[\"topic_title\"])\n",
    "    clicks = 0\n",
    "    for d in u[\"clicks\"]:\n",
    "        url = d[\"url\"]\n",
    "        if url not in embeddings[\"docs_mean\"] or not np.any(embeddings[\"docs_mean\"][url]):\n",
    "            missing_docs.add(url)\n",
    "            continue\n",
    "        clicks += 1\n",
    "        for method in methods:\n",
    "            emb = embeddings[method][url]\n",
    "            user_knowledge_mean[method].append(emb)\n",
    "            # user_knowledge_mean[method] += (emb - user_knowledge_mean[method]) / (clicks)\n",
    "            user_knowledge_sum[method] += emb\n",
    "    # normalize and compute final similarity\n",
    "    for method in methods:\n",
    "        knowledge_mean = normalize_vector(np.mean(user_knowledge_mean[method], axis=0))\n",
    "        knowledge_sum = normalize_vector(user_knowledge_sum[method])\n",
    "        for emb_type in wikipedia_embeddings.keys():\n",
    "            wiki_emb = wikipedia_embeddings[emb_type][topic]\n",
    "            sum_dict = {\"RPL\": RPL, \"ALG\": ALG, \"final_sim\": 1 - euclidean(knowledge_sum, wiki_emb)}\n",
    "            mean_dict = {\"RPL\": RPL, \"ALG\": ALG, \"final_sim\": 1 - euclidean(knowledge_mean, wiki_emb)}\n",
    "\n",
    "            final_knowledges[f\"SUM_{method}_{emb_type}\"][u_id] = sum_dict\n",
    "            final_knowledges[f\"MEAN_{method}_{emb_type}\"][u_id] = mean_dict\n",
    "\n",
    "pickle.dump(dict(final_knowledges), open(f\"../data/{base_model}_knowledge_gains.pkl\", \"wb\"))\n",
    "with open(\"../data/missing_docs.txt\", \"w\") as outf:\n",
    "    for u in missing_docs:\n",
    "        outf.write(f\"{u}\\n\")"
   ]
  },
  {
   "cell_type": "markdown",
   "id": "253ef2c9-f4e6-4a9c-9c34-2c9f2c37731f",
   "metadata": {},
   "source": [
    "## Correlation between learning and embedding methods\n",
    "\n",
    "In the end, we want to know, for each of the 42 methods tried above, which one has the higher correlation with learning gains."
   ]
  },
  {
   "cell_type": "code",
   "execution_count": 227,
   "id": "2cd21141-9100-422e-a9cb-bfe34fde09c0",
   "metadata": {},
   "outputs": [
    {
     "name": "stdout",
     "output_type": "stream",
     "text": [
      "[('MEAN_docs_mean_sum', 0.2033924875048431),\n",
      " ('MEAN_docs_mean_mean', 0.2033924875048431),\n",
      " ('MEAN_docs_trunc_sum', 0.154210292516518),\n",
      " ('MEAN_docs_trunc_mean', 0.154210292516518),\n",
      " ('MEAN_maxp_trunc_trunc', 0.1422547739095751),\n",
      " ('MEAN_maxp_sum_trunc', 0.07315063988820826),\n",
      " ('MEAN_maxp_mean_trunc', 0.07315063988820826),\n",
      " ('MEAN_docs_trunc_trunc', 0.07177579940816829),\n",
      " ('MEAN_maxp_sum_sum', 0.06382409890155592),\n",
      " ('MEAN_maxp_sum_mean', 0.06382409890155592),\n",
      " ('MEAN_maxp_mean_sum', 0.06382409890155592),\n",
      " ('MEAN_maxp_mean_mean', 0.06382409890155592),\n",
      " ('MEAN_maxp_pairwise_trunc', 0.06187223757764479),\n",
      " ('MEAN_docs_mean_trunc', 0.05695872845304796),\n",
      " ('MEAN_maxp_trunc_sum', 0.036524536221875674),\n",
      " ('MEAN_maxp_trunc_mean', 0.036524536221875674),\n",
      " ('MEAN_maxp_pairwise_sum', 0.02269369987235148),\n",
      " ('MEAN_maxp_pairwise_mean', 0.02269369987235148),\n",
      " ('SUM_docs_trunc_sum', -0.034287108459926254),\n",
      " ('SUM_docs_trunc_mean', -0.034287108459926254),\n",
      " ('SUM_docs_trunc_trunc', -0.03449613131663469),\n",
      " ('SUM_maxp_sum_trunc', -0.03999843722069188),\n",
      " ('SUM_maxp_mean_trunc', -0.03999843722069188),\n",
      " ('SUM_maxp_trunc_trunc', -0.04006614885032982),\n",
      " ('SUM_maxp_sum_sum', -0.04381972831938971),\n",
      " ('SUM_maxp_sum_mean', -0.04381972831938971),\n",
      " ('SUM_maxp_mean_sum', -0.04381972831938971),\n",
      " ('SUM_maxp_mean_mean', -0.04381972831938971),\n",
      " ('SUM_maxp_trunc_sum', -0.045218120670608104),\n",
      " ('SUM_maxp_trunc_mean', -0.045218120670608104),\n",
      " ('SUM_docs_mean_sum', -0.05122090383720661),\n",
      " ('SUM_docs_mean_mean', -0.05122090383720661),\n",
      " ('SUM_maxp_pairwise_trunc', -0.05823936144837428),\n",
      " ('SUM_docs_mean_trunc', -0.05855731170928288),\n",
      " ('SUM_maxp_pairwise_sum', -0.060909554843227076),\n",
      " ('SUM_maxp_pairwise_mean', -0.060909554843227076),\n",
      " ('SUM_docs_sum_sum', -0.11340078773211948),\n",
      " ('SUM_docs_sum_mean', -0.11340078773211948),\n",
      " ('SUM_docs_sum_trunc', -0.11393953678532567),\n",
      " ('MEAN_docs_sum_sum', -0.1364580696157877),\n",
      " ('MEAN_docs_sum_mean', -0.1364580696157877),\n",
      " ('MEAN_docs_sum_trunc', -0.13716756973503746)]\n"
     ]
    }
   ],
   "source": [
    "RPLs = []\n",
    "ALGs = []\n",
    "u_ids = [u[\"userID\"] for u in dataset]\n",
    "ALGs = [u[\"ALG\"] for u in dataset]\n",
    "RPLs = [u[\"RPL\"] for u in dataset]\n",
    "\n",
    "# make sure we follow the same order of users\n",
    "pearsons_ALG = {}\n",
    "spearman_ALG = {}\n",
    "corr_ALG = {}\n",
    "\n",
    "correlations = []\n",
    "for method, _users in final_knowledges.items():\n",
    "    results = [_users[x][\"final_sim\"] for x in u_ids]\n",
    "    pearsons_ALG[method] = pearsonr(results, ALGs)[0]\n",
    "    spearman_ALG[method] = spearmanr(results, ALGs)[0]\n",
    "\n",
    "    correlations = [{\"userID\": x, \"score\": _users[x][\"final_sim\"], \"ALG\": ALGs[idx], \"RPL\": RPLs[idx]} for (idx, x) in enumerate(u_ids)]\n",
    "\n",
    "pprint(sorted(spearman_ALG.items(), key=lambda x: x[1], reverse=True))"
   ]
  },
  {
   "cell_type": "code",
   "execution_count": null,
   "id": "9f88edff-9eca-4f90-92d3-a174dbef4984",
   "metadata": {},
   "outputs": [],
   "source": []
  },
  {
   "cell_type": "code",
   "execution_count": 74,
   "id": "ecf9c8d0-86e7-492f-9630-9a8aa368a813",
   "metadata": {},
   "outputs": [
    {
     "data": {
      "text/plain": [
       "(0.1745923355832255, 0.049622036223161144)"
      ]
     },
     "execution_count": 74,
     "metadata": {},
     "output_type": "execute_result"
    }
   ],
   "source": [
    "pearsonr(results, ALGs)"
   ]
  },
  {
   "cell_type": "code",
   "execution_count": 161,
   "id": "579a7f18-df47-40c7-97be-0cd4e68b6ada",
   "metadata": {},
   "outputs": [],
   "source": [
    "import matplotlib.pyplot as plt"
   ]
  },
  {
   "cell_type": "code",
   "execution_count": null,
   "id": "102b4ebc-0fa2-42e8-bbd0-86fd60165b49",
   "metadata": {},
   "outputs": [],
   "source": []
  }
 ],
 "metadata": {
  "kernelspec": {
   "display_name": "DESIRES",
   "language": "python",
   "name": "desires"
  },
  "language_info": {
   "codemirror_mode": {
    "name": "ipython",
    "version": 3
   },
   "file_extension": ".py",
   "mimetype": "text/x-python",
   "name": "python",
   "nbconvert_exporter": "python",
   "pygments_lexer": "ipython3",
   "version": "3.9.5"
  },
  "widgets": {
   "application/vnd.jupyter.widget-state+json": {
    "state": {},
    "version_major": 2,
    "version_minor": 0
   }
  }
 },
 "nbformat": 4,
 "nbformat_minor": 5
}
