{
 "cells": [
  {
   "cell_type": "markdown",
   "id": "7ed1e2cf-cc71-4ea0-b9f9-d45c982a9934",
   "metadata": {},
   "source": [
    "## BERT Knowledge Representation\n",
    "We want to compute, at each step of the user session (i.e. each document clicked), how their internal knowledge representation changes. Therefore, we have a few different methods to do so using Bert embeddings as a starting point.\n",
    "A few assumptions:\n",
    "- user starts with an empty knowledge representation\n",
    "- User READS every document, and that is added to their knowledge\n",
    "\n",
    "Document embeddings for BERT can come in a few different forms. Check `Compute_BERT_embeddings.ipynb` for how we compute each:\n",
    "- SUM: sum of the embeddings for each sentence of the document\n",
    "- MEAN: mean of the embeddings for each sentence of the document\n",
    "- TRUNC: Truncate the document at the first 384 tokens.\n",
    "- maxp_pairwise: Considering all sentences from the Wikipedia topic and the document, consider only the sentence with the higher similarity for any Wikipedia sentence\n",
    "- maxp_sum: Consider only the sentence with higher similarity to the SUM of the wikipedia sentences\n",
    "- maxp_mean: Consider only the sentence with higher similarity to the MEAN of the wikipedia sentences\n",
    "- maxp_trunc: Consider only the sentence with higher similarity to the truncated wikipedia document\n",
    "    \n",
    "These are the ways we can compute the users' knowledge evolution. Will be compared to the same method of aggregation on the Wikipedia text\n",
    "\n",
    "- MEAN: Concatenate all of the documents, the MEAN of these is the final knowledge.\n",
    "- SUM: As the user clicks on documents, SUM the embeddings\n"
   ]
  },
  {
   "cell_type": "code",
   "execution_count": 41,
   "id": "f1493149-3d5a-4404-9e28-967253b01ba0",
   "metadata": {
    "tags": []
   },
   "outputs": [],
   "source": [
    "import pickle\n",
    "import urllib.parse\n",
    "from collections import defaultdict\n",
    "import json\n",
    "import numpy as np\n",
    "import urllib.parse\n",
    "\n",
    "from tqdm.auto import tqdm\n",
    "\n",
    "\n",
    "def normalize_vector(v):\n",
    "    return v / np.linalg.norm(v)\n",
    "\n",
    "\n",
    "dataset = json.load(open(\"../data/logs_with_position.json\"))\n",
    "\n",
    "\n",
    "embeddings = {\n",
    "    \"docs_mean\": pickle.load(open(\"../data/docs_mean_embeddings.pkl\", \"rb\")),\n",
    "    \"docs_sum\": pickle.load(open(\"../data/docs_sum_embeddings.pkl\", \"rb\")),\n",
    "    \"docs_trunc\": pickle.load(open(\"../data/docs_trunc_embeddings.pkl\", \"rb\")),\n",
    "    \"maxp_pairwise\": pickle.load(open(\"../data/docs_maxp_pairwise_embeddings.pkl\", \"rb\")),\n",
    "    \"maxp_sum\": pickle.load(open(\"../data/docs_maxp_sum_embeddings.pkl\", \"rb\")),\n",
    "    \"maxp_mean\": pickle.load(open(\"../data/docs_maxp_mean_embeddings.pkl\", \"rb\")),\n",
    "    \"maxp_trunc\": pickle.load(open(\"../data/docs_maxp_trunc_embeddings.pkl\", \"rb\")),\n",
    "}"
   ]
  },
  {
   "cell_type": "code",
   "execution_count": null,
   "id": "cd83080e-a4a1-4254-8fdb-db42149ac37b",
   "metadata": {},
   "outputs": [
    {
     "data": {
      "text/plain": [
       "True"
      ]
     },
     "execution_count": 13,
     "metadata": {},
     "output_type": "execute_result"
    }
   ],
   "source": [
    "a = np.random.randn(12)\n",
    "rolling_avg = 0.0\n",
    "\n",
    "\n",
    "for n, i in enumerate(a):\n",
    "    rolling_avg += (i - rolling_avg) / (n + 1)"
   ]
  },
  {
   "cell_type": "code",
   "execution_count": 40,
   "id": "686a0bb5-0c0e-4f9b-b87d-e58ea5e2ae2d",
   "metadata": {},
   "outputs": [
    {
     "data": {
      "text/plain": [
       "'Subprime mortgage crisis'"
      ]
     },
     "execution_count": 40,
     "metadata": {},
     "output_type": "execute_result"
    }
   ],
   "source": [
    "u['topic_title']"
   ]
  },
  {
   "cell_type": "code",
   "execution_count": 43,
   "id": "e78556b9-2c37-4fee-9d46-d2a1cebfb828",
   "metadata": {},
   "outputs": [
    {
     "data": {
      "text/plain": [
       "{}"
      ]
     },
     "execution_count": 43,
     "metadata": {},
     "output_type": "execute_result"
    }
   ],
   "source": [
    "topic"
   ]
  },
  {
   "cell_type": "code",
   "execution_count": 46,
   "id": "d49fc6a6-57d0-49b3-95c9-87fa72730b46",
   "metadata": {},
   "outputs": [
    {
     "data": {
      "text/plain": [
       "{('SUM_KNOWLEDGE', 'docs_mean', 'sum'): 0.9309203166983557,\n",
       " ('SUM_KNOWLEDGE', 'docs_mean', 'mean'): 0.9309202647969933,\n",
       " ('SUM_KNOWLEDGE', 'docs_mean', 'trunc'): 0.6968966156696906,\n",
       " ('SUM_KNOWLEDGE', 'docs_sum', 'sum'): 0.9309203168534019,\n",
       " ('SUM_KNOWLEDGE', 'docs_sum', 'mean'): 0.9309202649520396,\n",
       " ('SUM_KNOWLEDGE', 'docs_sum', 'trunc'): 0.6968966149985361,\n",
       " ('SUM_KNOWLEDGE', 'docs_trunc', 'sum'): 0.838700938961882,\n",
       " ('SUM_KNOWLEDGE', 'docs_trunc', 'mean'): 0.8387008915413234,\n",
       " ('SUM_KNOWLEDGE', 'docs_trunc', 'trunc'): 0.753863944267095,\n",
       " ('SUM_KNOWLEDGE', 'maxp_pairwise', 'sum'): 0.8587660841259157,\n",
       " ('SUM_KNOWLEDGE', 'maxp_pairwise', 'mean'): 0.8587660353205061,\n",
       " ('SUM_KNOWLEDGE', 'maxp_pairwise', 'trunc'): 0.7096784202961963,\n",
       " ('SUM_KNOWLEDGE', 'maxp_sum', 'sum'): 0.910286177926849,\n",
       " ('SUM_KNOWLEDGE', 'maxp_sum', 'mean'): 0.9102861266757349,\n",
       " ('SUM_KNOWLEDGE', 'maxp_sum', 'trunc'): 0.7517972642223243,\n",
       " ('SUM_KNOWLEDGE', 'maxp_mean', 'sum'): 0.910286177926849,\n",
       " ('SUM_KNOWLEDGE', 'maxp_mean', 'mean'): 0.9102861266757349,\n",
       " ('SUM_KNOWLEDGE', 'maxp_mean', 'trunc'): 0.7517972642223243,\n",
       " ('SUM_KNOWLEDGE', 'maxp_trunc', 'sum'): 0.8756047163545561,\n",
       " ('SUM_KNOWLEDGE', 'maxp_trunc', 'mean'): 0.8756046668899233,\n",
       " ('SUM_KNOWLEDGE', 'maxp_trunc', 'trunc'): 0.7911355742844084}"
      ]
     },
     "execution_count": 46,
     "metadata": {},
     "output_type": "execute_result"
    }
   ],
   "source": [
    "final_knowledges"
   ]
  },
  {
   "cell_type": "code",
   "execution_count": 48,
   "id": "d9bf919a-531e-4e80-96e7-c648f2ae9b66",
   "metadata": {},
   "outputs": [],
   "source": [
    "methods = list(embeddings.keys())\n",
    "users_knowledge_MEAN = []  # add final score for the user\n",
    "users_knowledge_SUM = []\n",
    "final_knowledges = defaultdict(lambda:[])\n",
    "\n",
    "missing_docs = set()\n",
    "\n",
    "wikipedia_embeddings = {\n",
    "    \"sum\": pickle.load(open(\"../data/wikipedia_sum_embeddings.pkl\", \"rb\")),\n",
    "    \"mean\": pickle.load(open(\"../data/wikipedia_mean_embeddings.pkl\", \"rb\")),\n",
    "    \"trunc\": pickle.load(open(\"../data/wikipedia_trunc_embeddings.pkl\", \"rb\")),\n",
    "}\n",
    "wikipedia_sum = {}\n",
    "wikipedia_mean = {}\n",
    "wikipedia_trunc = {}\n",
    "\n",
    "for u in dataset:\n",
    "    user_knowledge_mean = {k: np.zeros(768) for k in methods}\n",
    "    user_knowledge_sum = {k: np.zeros(768) for k in methods}\n",
    "    topic = urllib.parse.quote(u['topic_title'])\n",
    "    clicks = 0\n",
    "    for d in u[\"clicks\"]:\n",
    "        url = d[\"url\"]\n",
    "        if url not in docs_mean or not np.any(embeddings[\"docs_mean\"][url]):\n",
    "            missing_docs.add(url)\n",
    "            continue\n",
    "        clicks += 1\n",
    "        for method in methods:\n",
    "            emb = embeddings[method][url]\n",
    "            user_knowledge_mean[method] += (emb - user_knowledge_mean[method]) / (clicks)\n",
    "            user_knowledge_sum[method] += emb  # normalize at the end\n",
    "    # normalize and compute final similarity\n",
    "    for method in methods:\n",
    "        user_knowledge_mean[method] = normalize_vector(user_knowledge_mean[method])\n",
    "        user_knowledge_sum[method] = normalize_vector(user_knowledge_sum[method])\n",
    "        for emb_type in wikipedia_embeddings.keys():\n",
    "            wiki_emb = wikipedia_embeddings[emb_type][topic]\n",
    "            final_knowledges[(\"SUM\", method, emb_type)].append(np.dot(user_knowledge_sum[method], wiki_emb))\n",
    "            final_knowledges[(\"MEAN\", method, emb_type)].append(np.dot(user_knowledge_mean[method], wiki_emb))\n"
   ]
  },
  {
   "cell_type": "code",
   "execution_count": null,
   "id": "8ab2644d-56be-4711-8553-5be992002194",
   "metadata": {},
   "outputs": [],
   "source": []
  }
 ],
 "metadata": {
  "kernelspec": {
   "display_name": "DESIRES",
   "language": "python",
   "name": "desires"
  },
  "language_info": {
   "codemirror_mode": {
    "name": "ipython",
    "version": 3
   },
   "file_extension": ".py",
   "mimetype": "text/x-python",
   "name": "python",
   "nbconvert_exporter": "python",
   "pygments_lexer": "ipython3",
   "version": "3.9.5"
  },
  "widgets": {
   "application/vnd.jupyter.widget-state+json": {
    "state": {},
    "version_major": 2,
    "version_minor": 0
   }
  }
 },
 "nbformat": 4,
 "nbformat_minor": 5
}
