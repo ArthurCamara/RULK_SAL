{
 "cells": [
  {
   "cell_type": "markdown",
   "id": "d11e405d-28d3-4d7b-b2fc-76e7fe973b25",
   "metadata": {},
   "source": [
    "# Compute Bert Embeddings\n",
    "There will be a lot of BERT embeddings to be computed. It's easier to pre-compute all of them, and them use what we ACTUALLY need."
   ]
  },
  {
   "cell_type": "markdown",
   "id": "c06738c0-39e3-4dd1-868d-bdb24ea4e75a",
   "metadata": {},
   "source": [
    "## Embeddings for Wikipedia pages\n",
    "Wikipedia pages can be too long. So we need a strategy for pooling such long documents.\n",
    "we are using the [`all-mpnet-base-v2`](https://huggingface.co/sentence-transformers/all-mpnet-base-v2) model as base, using a mean pooling strategy from `sentence-transformers` to compute embeddings.\n",
    "\n",
    "Each document is split into sentences, using NLTK. If a sentence is longer than the limit of the model (384 tokens in this case), we truncate it."
   ]
  },
  {
   "cell_type": "code",
   "execution_count": 24,
   "id": "3dd2da9e-3944-4b88-b201-29fdcf7881bc",
   "metadata": {},
   "outputs": [],
   "source": [
    "import pickle\n",
    "import urllib.parse\n",
    "from collections import defaultdict\n",
    "\n",
    "import numpy as np\n",
    "import torch\n",
    "from nltk.tokenize import sent_tokenize, word_tokenize\n",
    "from sentence_transformers import SentenceTransformer\n",
    "from tqdm.auto import tqdm\n",
    "from transformers import AutoModel, AutoTokenizer\n",
    "\n",
    "\n",
    "def normalize_vector(v):\n",
    "    return v / np.linalg.norm(v)"
   ]
  },
  {
   "cell_type": "code",
   "execution_count": 25,
   "id": "8ed19b4a-6c17-43a4-9f6e-495b56f637b0",
   "metadata": {},
   "outputs": [],
   "source": [
    "# Prepare model. May take a while without a GPU.\n",
    "device = \"cuda\" if torch.cuda.is_available() else \"cpu\"\n",
    "bert_model = SentenceTransformer(\"all-mpnet-base-v2\", device=device)"
   ]
  },
  {
   "cell_type": "code",
   "execution_count": 203,
   "id": "bf297611-052e-4d08-8418-eb4152849432",
   "metadata": {},
   "outputs": [
    {
     "data": {
      "text/plain": [
       "dict_keys(['Radiocarbon%2520dating%2520considerations'])"
      ]
     },
     "execution_count": 203,
     "metadata": {},
     "output_type": "execute_result"
    }
   ],
   "source": [
    "wikipedia_trunc.keys()"
   ]
  },
  {
   "cell_type": "code",
   "execution_count": 199,
   "id": "91a74f6e-7ce0-44fc-9db8-0406dd9c8420",
   "metadata": {},
   "outputs": [
    {
     "data": {
      "text/plain": [
       "dict_keys(['Subprime%20mortgage%20crisis', 'Irritable%20bowel%20syndrome', 'Genetically%20modified%20organism', 'Noise-induced%20hearing%20loss', 'Business%20cycle', 'Ethics', 'Radiocarbon%20dating%20considerations'])"
      ]
     },
     "execution_count": 199,
     "metadata": {},
     "output_type": "execute_result"
    }
   ],
   "source": [
    "wikipedia_sum.keys()"
   ]
  },
  {
   "cell_type": "code",
   "execution_count": 201,
   "id": "9b566e82-8a8e-4e2f-9ba4-8e647f610724",
   "metadata": {},
   "outputs": [
    {
     "ename": "KeyError",
     "evalue": "'Subprime%20mortgage%20crisis'",
     "output_type": "error",
     "traceback": [
      "\u001b[0;31m---------------------------------------------------------------------------\u001b[0m",
      "\u001b[0;31mKeyError\u001b[0m                                  Traceback (most recent call last)",
      "Input \u001b[0;32mIn [201]\u001b[0m, in \u001b[0;36m<cell line: 1>\u001b[0;34m()\u001b[0m\n\u001b[0;32m----> 1\u001b[0m \u001b[43mwikipedia_trunc\u001b[49m\u001b[43m[\u001b[49m\u001b[38;5;124;43m'\u001b[39;49m\u001b[38;5;124;43mSubprime\u001b[39;49m\u001b[38;5;124;43m%\u001b[39;49m\u001b[38;5;124;43m20mortgage\u001b[39;49m\u001b[38;5;132;43;01m%20c\u001b[39;49;00m\u001b[38;5;124;43mrisis\u001b[39;49m\u001b[38;5;124;43m'\u001b[39;49m\u001b[43m]\u001b[49m\u001b[38;5;241m.\u001b[39mshape\n",
      "\u001b[0;31mKeyError\u001b[0m: 'Subprime%20mortgage%20crisis'"
     ]
    }
   ],
   "source": [
    "wikipedia_trunc[\"Subprime%20mortgage%20crisis\"].shape"
   ]
  },
  {
   "cell_type": "code",
   "execution_count": 206,
   "id": "f81e0aca-2a11-4244-b032-eb265fb58f4c",
   "metadata": {},
   "outputs": [],
   "source": [
    "wikipedia_sum = {}\n",
    "wikipedia_mean = {}\n",
    "wikipedia_all = {}\n",
    "wikipedia_trunc = {}\n",
    "\n",
    "for l in open(\"../data/wikipedia_texts.tsv\"):\n",
    "    topic_title, text = l.strip().split(\"\\t\", maxsplit=1)\n",
    "    sentences = sent_tokenize(text)\n",
    "    embeddings = bert_model.encode(sentences, normalize_embeddings=True)\n",
    "    wikipedia_sum[topic_title] = normalize_vector(np.sum(embeddings, axis=0))\n",
    "    wikipedia_mean[topic_title] = normalize_vector(np.mean(embeddings, axis=0))\n",
    "    wikipedia_trunc[topic_title] = bert_model.encode(text)\n",
    "\n",
    "    wikipedia_all[topic_title] = embeddings\n",
    "\n",
    "# dump to a pickle file\n",
    "pickle.dump(wikipedia_mean, open(\"../data/wikipedia_mean_embeddings.pkl\", \"wb\"))\n",
    "pickle.dump(wikipedia_sum, open(\"../data/wikipedia_sum_embeddings.pkl\", \"wb\"))\n",
    "pickle.dump(wikipedia_all, open(\"../data/wikipedia_all_embeddings.pkl\", \"wb\"))\n",
    "pickle.dump(wikipedia_trunc, open(\"../data/wikipedia_trunc_embeddings.pkl\", \"wb\"))"
   ]
  },
  {
   "cell_type": "markdown",
   "id": "68a6f522-b024-4648-85f2-2fe7903c11a4",
   "metadata": {},
   "source": [
    "## Embeddings for clicked documents\n",
    "Clicked documents can also be too long. Here we use three different approaches. Pooling (with mean/sum) and a BIRCH-like one, where we only keep the sentence with higher similarity to the \"golden\" ALL of the embeddings, and, when computing similarity, we only keep the one with higher score to the golden  pages can be too long. So we need a strategy for pooling such long documents. We will try the following:\n",
    "\n",
    "- Mean of embeddings vs mean of wikipedia\n",
    "- Sum of embeddings vs mean of wikipedia\n",
    "- Truncate doc at maximum length (384)\n",
    "- BIRCH MaxP all vs all: Keep Best score (max) for each sentence vs each sentence from wikipedia\n",
    "- BIRCH MaxP all vs SUM: Keep Best score (max) for each sentence vs SUM of wikipedia\n",
    "- BIRCH MaxP all vs MEAN: Keep Best score (max) for each sentence vs MEAN of wikipedia\n",
    "\n",
    "we are using the [`all-mpnet-base-v2`](https://huggingface.co/sentence-transformers/all-mpnet-base-v2) model as base, using a mean pooling strategy from `sentence-transformers` to compute embeddings.\n",
    "\n",
    "Each document is split into sentences, using NLTK. If a sentence is longer than the limit of the model (384 tokens in this case), we truncate it."
   ]
  },
  {
   "cell_type": "code",
   "execution_count": 209,
   "id": "24f99f01-851c-4165-a74b-cc86f2fb5d47",
   "metadata": {},
   "outputs": [
    {
     "data": {
      "application/vnd.jupyter.widget-view+json": {
       "model_id": "1521db96ea924aeea3e5b96beb317e95",
       "version_major": 2,
       "version_minor": 0
      },
      "text/plain": [
       "  0%|          | 0/947 [00:00<?, ?it/s]"
      ]
     },
     "metadata": {},
     "output_type": "display_data"
    }
   ],
   "source": [
    "docs_sum = {}\n",
    "docs_mean = {}\n",
    "docs_trunc = {}\n",
    "maxp_pairwise = {}\n",
    "maxp_sum = {}\n",
    "maxp_mean = {}\n",
    "maxp_trunc = {}\n",
    "\n",
    "for line in tqdm(open(\"../data/clicked_docs_with_topics.tsv\"), total=947):\n",
    "    try:\n",
    "        url, topic, text = line.strip().split(\"\\t\", maxsplit=2)\n",
    "    except ValueError:\n",
    "        url = line.split(\"\\t\")[0]\n",
    "        docs_sum[url] = np.zeros(768)  # Empty. We don't have this embedding now.\n",
    "    sentences = sent_tokenize(text)\n",
    "    embeddings = bert_model.encode(sentences, normalize_embeddings=True)\n",
    "    docs_sum[url] = normalize_vector(np.sum(embeddings, axis=0))\n",
    "    docs_mean[url] = normalize_vector(np.mean(embeddings, axis=0))\n",
    "    docs_trunc[url] = bert_model.encode(text, normalize_embeddings=True)\n",
    "\n",
    "    # Best PAIRWISE similarity\n",
    "    wikipedia_embeddings = wikipedia_all[topic]\n",
    "    # dimensions: (document_embeddings, wikipedia_embeddings)\n",
    "    pairwise_similarities = np.dot(embeddings, wikipedia_embeddings.T)\n",
    "    best_doc, best_wiki = np.unravel_index(pairwise_similarities.argmax(), pairwise_similarities.shape)\n",
    "\n",
    "    maxp_pairwise[url] = embeddings[best_doc]\n",
    "    maxp_sum[url] = embeddings[np.argmax(np.dot(embeddings, wikipedia_sum[topic].T))]\n",
    "    maxp_mean[url] = embeddings[np.argmax(np.dot(embeddings, wikipedia_mean[topic].T))]\n",
    "    maxp_trunc[url] = embeddings[np.argmax(np.dot(embeddings, wikipedia_trunc[topic].T))]\n",
    "\n",
    "# dump to a pickle file\n",
    "pickle.dump(docs_mean, open(\"../data/docs_mean_embeddings.pkl\", \"wb\"))\n",
    "pickle.dump(docs_sum, open(\"../data/docs_sum_embeddings.pkl\", \"wb\"))\n",
    "pickle.dump(docs_trunc, open(\"../data/docs_trunc_embeddings.pkl\", \"wb\"))\n",
    "pickle.dump(maxp_pairwise, open(\"../data/docs_maxp_pairwise_embeddings.pkl\", \"wb\"))\n",
    "pickle.dump(maxp_sum, open(\"../data/docs_maxp_sum_embeddings.pkl\", \"wb\"))\n",
    "pickle.dump(maxp_mean, open(\"../data/docs_maxp_mean_embeddings.pkl\", \"wb\"))\n",
    "pickle.dump(maxp_trunc, open(\"../data/docs_maxp_trunc_embeddings.pkl\", \"wb\"))"
   ]
  },
  {
   "cell_type": "code",
   "execution_count": null,
   "id": "b5a1b853-6cb1-456e-8b70-38e647b83ffd",
   "metadata": {},
   "outputs": [],
   "source": []
  }
 ],
 "metadata": {
  "kernelspec": {
   "display_name": "DESIRES",
   "language": "python",
   "name": "desires"
  },
  "language_info": {
   "codemirror_mode": {
    "name": "ipython",
    "version": 3
   },
   "file_extension": ".py",
   "mimetype": "text/x-python",
   "name": "python",
   "nbconvert_exporter": "python",
   "pygments_lexer": "ipython3",
   "version": "3.9.5"
  },
  "widgets": {
   "application/vnd.jupyter.widget-state+json": {
    "state": {
     "0181498cb69b4c6cb5919bd004c50c50": {
      "model_module": "@jupyter-widgets/controls",
      "model_module_version": "1.5.0",
      "model_name": "HTMLModel",
      "state": {
       "layout": "IPY_MODEL_5016887e12d24ff39326fa1bf9f38fdd",
       "style": "IPY_MODEL_600ec44d0fbf4494bd8c27b393a97fbf",
       "value": " 2/947 [00:00&lt;01:55,  8.20it/s]"
      }
     },
     "019bc9d9e99c4a45b504fc2a0445dc75": {
      "model_module": "@jupyter-widgets/base",
      "model_module_version": "1.2.0",
      "model_name": "LayoutModel",
      "state": {}
     },
     "027f60b4510948a9812921b38c43b8c1": {
      "model_module": "@jupyter-widgets/base",
      "model_module_version": "1.2.0",
      "model_name": "LayoutModel",
      "state": {}
     },
     "02c021395828445eafdb752eec95b3af": {
      "model_module": "@jupyter-widgets/controls",
      "model_module_version": "1.5.0",
      "model_name": "HTMLModel",
      "state": {
       "layout": "IPY_MODEL_53b8ed0a749b4cd5b236a67eefd0ba66",
       "style": "IPY_MODEL_7b2f5d21709943ac88bdef4fd8c78a11",
       "value": " 0/947 [00:00&lt;?, ?it/s]"
      }
     },
     "0410c7604a16494198d797c987051898": {
      "model_module": "@jupyter-widgets/controls",
      "model_module_version": "1.5.0",
      "model_name": "HTMLModel",
      "state": {
       "layout": "IPY_MODEL_9830c4be1e194b918e28ea52ed9ca677",
       "style": "IPY_MODEL_7e322db27cf14bda816acb5e7a5adf61",
       "value": "  0%"
      }
     },
     "07fe6fa2f788427db7ace3466df480cf": {
      "model_module": "@jupyter-widgets/controls",
      "model_module_version": "1.5.0",
      "model_name": "DescriptionStyleModel",
      "state": {
       "description_width": ""
      }
     },
     "08d5e675885046a69ea6c49c3473b01e": {
      "model_module": "@jupyter-widgets/controls",
      "model_module_version": "1.5.0",
      "model_name": "DescriptionStyleModel",
      "state": {
       "description_width": ""
      }
     },
     "09a4d351ca2646a1bd2501684bfcd027": {
      "model_module": "@jupyter-widgets/base",
      "model_module_version": "1.2.0",
      "model_name": "LayoutModel",
      "state": {}
     },
     "0a01c2a0d144441e951d5500f982798d": {
      "model_module": "@jupyter-widgets/controls",
      "model_module_version": "1.5.0",
      "model_name": "HBoxModel",
      "state": {
       "children": [
        "IPY_MODEL_d96de0ea48424c818c48cad4792b6f34",
        "IPY_MODEL_d02f1d41fb2544aca2e0c67377aada21",
        "IPY_MODEL_83158942c26842a58751092ee5d974c3"
       ],
       "layout": "IPY_MODEL_61232dc8909740858f0db6f7ea2b2cd3"
      }
     },
     "0a2c7be1d2214244ac154973c8425599": {
      "model_module": "@jupyter-widgets/controls",
      "model_module_version": "1.5.0",
      "model_name": "FloatProgressModel",
      "state": {
       "bar_style": "danger",
       "layout": "IPY_MODEL_f6497a1f34254faf9a93abc5e42c3710",
       "max": 947,
       "style": "IPY_MODEL_513aa91c17b644758abb8122ffe3d132",
       "value": 17
      }
     },
     "0a5e6b6f177b4ba1a4e8b9bfb3042506": {
      "model_module": "@jupyter-widgets/controls",
      "model_module_version": "1.5.0",
      "model_name": "HBoxModel",
      "state": {
       "children": [
        "IPY_MODEL_6a1b975cced54d73954ef6a351e2d56d",
        "IPY_MODEL_1c2f05b6ff7f437fbe603b89017b8316",
        "IPY_MODEL_316b1447821643c08626cf5fc32936c4"
       ],
       "layout": "IPY_MODEL_fd63493f30c24a45b930548bfe5474ac"
      }
     },
     "0b9b4225b8714eddbabfa5c59e363b2d": {
      "model_module": "@jupyter-widgets/controls",
      "model_module_version": "1.5.0",
      "model_name": "DescriptionStyleModel",
      "state": {
       "description_width": ""
      }
     },
     "0dc1b9775a96470e9faf3dd48b838d65": {
      "model_module": "@jupyter-widgets/base",
      "model_module_version": "1.2.0",
      "model_name": "LayoutModel",
      "state": {}
     },
     "0e5e3d8f764b4faf8d9263ac34b4b912": {
      "model_module": "@jupyter-widgets/controls",
      "model_module_version": "1.5.0",
      "model_name": "DescriptionStyleModel",
      "state": {
       "description_width": ""
      }
     },
     "0ebd005c0df24524bf5e3c36fcad4512": {
      "model_module": "@jupyter-widgets/base",
      "model_module_version": "1.2.0",
      "model_name": "LayoutModel",
      "state": {}
     },
     "10cd3e9ebf7d4b58b573af7337a59808": {
      "model_module": "@jupyter-widgets/controls",
      "model_module_version": "1.5.0",
      "model_name": "HTMLModel",
      "state": {
       "layout": "IPY_MODEL_494fce691fdd44399af7b33d9868fee8",
       "style": "IPY_MODEL_39c4f5f2e8fb4117af5d279ea7fc2664",
       "value": " 947/947 [02:47&lt;00:00, 12.80it/s]"
      }
     },
     "1102f33b7ace48e9838b2a08c62a677f": {
      "model_module": "@jupyter-widgets/controls",
      "model_module_version": "1.5.0",
      "model_name": "DescriptionStyleModel",
      "state": {
       "description_width": ""
      }
     },
     "116746df8d734f53a24e8f533239293f": {
      "model_module": "@jupyter-widgets/base",
      "model_module_version": "1.2.0",
      "model_name": "LayoutModel",
      "state": {}
     },
     "12dd104cae3241578b198efbb5e4eeef": {
      "model_module": "@jupyter-widgets/controls",
      "model_module_version": "1.5.0",
      "model_name": "HBoxModel",
      "state": {
       "children": [
        "IPY_MODEL_de69d51b51dc47c8a626b766b414fa61",
        "IPY_MODEL_9e4d4e73efd24a0d901e1a17ea0815a4",
        "IPY_MODEL_db911ddb2d9640db88a846ec3bcb9e5e"
       ],
       "layout": "IPY_MODEL_5b89f0b2e79f4a08989f23f9aa583f15"
      }
     },
     "12f82d368fbe4a9293bf0115dffb3486": {
      "model_module": "@jupyter-widgets/base",
      "model_module_version": "1.2.0",
      "model_name": "LayoutModel",
      "state": {}
     },
     "1521db96ea924aeea3e5b96beb317e95": {
      "model_module": "@jupyter-widgets/controls",
      "model_module_version": "1.5.0",
      "model_name": "HBoxModel",
      "state": {
       "children": [
        "IPY_MODEL_bd5569d82a9a4e69b1d4d98dec6f9793",
        "IPY_MODEL_82317c7bccd548f4abcbea81abec0e48",
        "IPY_MODEL_1e2b468d0d1b4d63b504db4c44b4614d"
       ],
       "layout": "IPY_MODEL_5d1b5b07f722420780c413248a6e6fdc"
      }
     },
     "166c8daefc264359ac7b652c8b3920e1": {
      "model_module": "@jupyter-widgets/base",
      "model_module_version": "1.2.0",
      "model_name": "LayoutModel",
      "state": {}
     },
     "183288d947014d27a78d1a1027048d8d": {
      "model_module": "@jupyter-widgets/controls",
      "model_module_version": "1.5.0",
      "model_name": "HTMLModel",
      "state": {
       "layout": "IPY_MODEL_ad9fc32f4b92426d81d9d7d4b689d3cd",
       "style": "IPY_MODEL_3e9b77871231496a8110ad5f39802893",
       "value": "100%"
      }
     },
     "1871c64cc0784d68929f82f9c13be79a": {
      "model_module": "@jupyter-widgets/controls",
      "model_module_version": "1.5.0",
      "model_name": "HTMLModel",
      "state": {
       "layout": "IPY_MODEL_d541f5806b864312957eee029ff191fd",
       "style": "IPY_MODEL_2df6db4a505a42a6a10516139a773063",
       "value": "  2%"
      }
     },
     "189dc7ee69f942d1944657e3bf2148a3": {
      "model_module": "@jupyter-widgets/base",
      "model_module_version": "1.2.0",
      "model_name": "LayoutModel",
      "state": {}
     },
     "193dcc26dd8b449595430bd60ea5e2c0": {
      "model_module": "@jupyter-widgets/controls",
      "model_module_version": "1.5.0",
      "model_name": "FloatProgressModel",
      "state": {
       "bar_style": "danger",
       "layout": "IPY_MODEL_81ade74a69d74c6ea371fbb7785c55a1",
       "max": 947,
       "style": "IPY_MODEL_4dedee9ec9514e74b87a8150cdced9de"
      }
     },
     "1a56c09abf484272bde95955a6031d3e": {
      "model_module": "@jupyter-widgets/controls",
      "model_module_version": "1.5.0",
      "model_name": "FloatProgressModel",
      "state": {
       "bar_style": "danger",
       "layout": "IPY_MODEL_027f60b4510948a9812921b38c43b8c1",
       "max": 947,
       "style": "IPY_MODEL_2fba34fb61cd4473b320222fd5fe09cb"
      }
     },
     "1c2f05b6ff7f437fbe603b89017b8316": {
      "model_module": "@jupyter-widgets/controls",
      "model_module_version": "1.5.0",
      "model_name": "FloatProgressModel",
      "state": {
       "bar_style": "danger",
       "layout": "IPY_MODEL_f36ab642854c446d89bc48686b908e4e",
       "max": 947,
       "style": "IPY_MODEL_8d4bcd04b7894b8d8247a413ea2015ce",
       "value": 2
      }
     },
     "1c6cdbac71e24009b4b5ed66b0a5c9e5": {
      "model_module": "@jupyter-widgets/controls",
      "model_module_version": "1.5.0",
      "model_name": "HTMLModel",
      "state": {
       "layout": "IPY_MODEL_f9ff9dbeb7bb40bfad1464ba0a97d1d9",
       "style": "IPY_MODEL_f68121eb5ea5432783027943c5352b98",
       "value": " 0/947 [00:00&lt;?, ?it/s]"
      }
     },
     "1ce8245a8d1e4e8ba0f3eda62a4a5259": {
      "model_module": "@jupyter-widgets/base",
      "model_module_version": "1.2.0",
      "model_name": "LayoutModel",
      "state": {}
     },
     "1e2b468d0d1b4d63b504db4c44b4614d": {
      "model_module": "@jupyter-widgets/controls",
      "model_module_version": "1.5.0",
      "model_name": "HTMLModel",
      "state": {
       "layout": "IPY_MODEL_a07888132a5b43698a95cde89c112a8c",
       "style": "IPY_MODEL_475a86220c9049f6baedcdf08565e8ec",
       "value": " 947/947 [03:17&lt;00:00,  9.35it/s]"
      }
     },
     "1e70515d2b174533a40f782ed8a1ee21": {
      "model_module": "@jupyter-widgets/controls",
      "model_module_version": "1.5.0",
      "model_name": "DescriptionStyleModel",
      "state": {
       "description_width": ""
      }
     },
     "1e93dad1519b4eaca9ac7b1e2330344c": {
      "model_module": "@jupyter-widgets/controls",
      "model_module_version": "1.5.0",
      "model_name": "DescriptionStyleModel",
      "state": {
       "description_width": ""
      }
     },
     "1ece6e4e299e44d7923905db74329789": {
      "model_module": "@jupyter-widgets/base",
      "model_module_version": "1.2.0",
      "model_name": "LayoutModel",
      "state": {}
     },
     "1fa6a8e6df304d5a972dfe930f80b923": {
      "model_module": "@jupyter-widgets/controls",
      "model_module_version": "1.5.0",
      "model_name": "HBoxModel",
      "state": {
       "children": [
        "IPY_MODEL_f98741f15762466592594c30713667ca",
        "IPY_MODEL_193dcc26dd8b449595430bd60ea5e2c0",
        "IPY_MODEL_aac2815ee9a648f88baa10e7e96e0c64"
       ],
       "layout": "IPY_MODEL_019bc9d9e99c4a45b504fc2a0445dc75"
      }
     },
     "1fca2f9da56e4d919daf49dd6fc4365c": {
      "model_module": "@jupyter-widgets/base",
      "model_module_version": "1.2.0",
      "model_name": "LayoutModel",
      "state": {}
     },
     "22e7575a34e34d93932e4467b97d9940": {
      "model_module": "@jupyter-widgets/controls",
      "model_module_version": "1.5.0",
      "model_name": "HTMLModel",
      "state": {
       "layout": "IPY_MODEL_3e128fc28c364d8eada8dd0c61b997c0",
       "style": "IPY_MODEL_a70d2b93552e47738b421cc1b965c0e8",
       "value": "  0%"
      }
     },
     "2359178269d14918ba8c8c209d27d91a": {
      "model_module": "@jupyter-widgets/controls",
      "model_module_version": "1.5.0",
      "model_name": "HTMLModel",
      "state": {
       "layout": "IPY_MODEL_b3e6a4c1aab141d8b06eb8b54919e69b",
       "style": "IPY_MODEL_534ab330ac274669ba647d973167418a",
       "value": "  0%"
      }
     },
     "24809343f5aa48f59ce2e3858d0ec720": {
      "model_module": "@jupyter-widgets/controls",
      "model_module_version": "1.5.0",
      "model_name": "DescriptionStyleModel",
      "state": {
       "description_width": ""
      }
     },
     "2513fab62f9042c2b6c570ccca56b68c": {
      "model_module": "@jupyter-widgets/base",
      "model_module_version": "1.2.0",
      "model_name": "LayoutModel",
      "state": {}
     },
     "252b3dff4c2a4a209d0710adcfef9f2f": {
      "model_module": "@jupyter-widgets/controls",
      "model_module_version": "1.5.0",
      "model_name": "FloatProgressModel",
      "state": {
       "bar_style": "danger",
       "layout": "IPY_MODEL_d3ea9e64b76a41bd8bebb7df510d87a8",
       "max": 947,
       "style": "IPY_MODEL_ad94415dbc5d4dcc9eec3a854141efc0",
       "value": 2
      }
     },
     "2659307caae44adf8345e7bbd7672c66": {
      "model_module": "@jupyter-widgets/controls",
      "model_module_version": "1.5.0",
      "model_name": "DescriptionStyleModel",
      "state": {
       "description_width": ""
      }
     },
     "27a985ec879e4db5a95337f44985f7aa": {
      "model_module": "@jupyter-widgets/controls",
      "model_module_version": "1.5.0",
      "model_name": "DescriptionStyleModel",
      "state": {
       "description_width": ""
      }
     },
     "27cfb29a2aab4bd291fa0df89f9cbdf9": {
      "model_module": "@jupyter-widgets/controls",
      "model_module_version": "1.5.0",
      "model_name": "FloatProgressModel",
      "state": {
       "bar_style": "danger",
       "layout": "IPY_MODEL_8240d250c58f45038cfc97f82817ffcd",
       "max": 947,
       "style": "IPY_MODEL_521412e4dd8a471f830f2708493f1f4a",
       "value": 2
      }
     },
     "286a24eb89fd4a56af01af3367b3361d": {
      "model_module": "@jupyter-widgets/controls",
      "model_module_version": "1.5.0",
      "model_name": "DescriptionStyleModel",
      "state": {
       "description_width": ""
      }
     },
     "28bb47d972e44ea4bcd1e1ae60b32026": {
      "model_module": "@jupyter-widgets/controls",
      "model_module_version": "1.5.0",
      "model_name": "DescriptionStyleModel",
      "state": {
       "description_width": ""
      }
     },
     "290a55b5f0b44e8d923045156b521270": {
      "model_module": "@jupyter-widgets/base",
      "model_module_version": "1.2.0",
      "model_name": "LayoutModel",
      "state": {}
     },
     "2948cdd5e8e34583a0611e3a8331d448": {
      "model_module": "@jupyter-widgets/base",
      "model_module_version": "1.2.0",
      "model_name": "LayoutModel",
      "state": {}
     },
     "29801e61fd384133ac3559b58136e079": {
      "model_module": "@jupyter-widgets/controls",
      "model_module_version": "1.5.0",
      "model_name": "HTMLModel",
      "state": {
       "layout": "IPY_MODEL_54e9d769e2bc4a04af51a426d16f148c",
       "style": "IPY_MODEL_885bd0de0b8b44a1b924deafe460c201",
       "value": "  2%"
      }
     },
     "29b247f7f7da4265bac2790876d1f431": {
      "model_module": "@jupyter-widgets/controls",
      "model_module_version": "1.5.0",
      "model_name": "HTMLModel",
      "state": {
       "layout": "IPY_MODEL_8c733073f35b4e3c8bb4e0f1987ae583",
       "style": "IPY_MODEL_b95a95db8fe148c79d0eacec13bf07ee",
       "value": "  0%"
      }
     },
     "2aa7d37e3584496089d4b8175a9d76c5": {
      "model_module": "@jupyter-widgets/controls",
      "model_module_version": "1.5.0",
      "model_name": "ProgressStyleModel",
      "state": {
       "description_width": ""
      }
     },
     "2b1fe14e56e24678915e09a8f07e6f86": {
      "model_module": "@jupyter-widgets/base",
      "model_module_version": "1.2.0",
      "model_name": "LayoutModel",
      "state": {}
     },
     "2b3d6e4e615f42ca8f174fd9cb389e16": {
      "model_module": "@jupyter-widgets/controls",
      "model_module_version": "1.5.0",
      "model_name": "ProgressStyleModel",
      "state": {
       "description_width": ""
      }
     },
     "2b3e1d7618d54c27b087fdc2ce755612": {
      "model_module": "@jupyter-widgets/controls",
      "model_module_version": "1.5.0",
      "model_name": "FloatProgressModel",
      "state": {
       "bar_style": "danger",
       "layout": "IPY_MODEL_dda8034b3fe8482698a0f1dd0163c033",
       "max": 947,
       "style": "IPY_MODEL_e4433f03af0049afa51c047afd2236c2"
      }
     },
     "2df6db4a505a42a6a10516139a773063": {
      "model_module": "@jupyter-widgets/controls",
      "model_module_version": "1.5.0",
      "model_name": "DescriptionStyleModel",
      "state": {
       "description_width": ""
      }
     },
     "2ec92b86024b408883f6d7af641ae020": {
      "model_module": "@jupyter-widgets/controls",
      "model_module_version": "1.5.0",
      "model_name": "ProgressStyleModel",
      "state": {
       "description_width": ""
      }
     },
     "2fba34fb61cd4473b320222fd5fe09cb": {
      "model_module": "@jupyter-widgets/controls",
      "model_module_version": "1.5.0",
      "model_name": "ProgressStyleModel",
      "state": {
       "description_width": ""
      }
     },
     "316b1447821643c08626cf5fc32936c4": {
      "model_module": "@jupyter-widgets/controls",
      "model_module_version": "1.5.0",
      "model_name": "HTMLModel",
      "state": {
       "layout": "IPY_MODEL_290a55b5f0b44e8d923045156b521270",
       "style": "IPY_MODEL_72e9256c98d14a3696300100f1dbcb13",
       "value": " 2/947 [00:00&lt;02:21,  6.69it/s]"
      }
     },
     "32171b99f45d4a4f92c1fd2a1acc8833": {
      "model_module": "@jupyter-widgets/controls",
      "model_module_version": "1.5.0",
      "model_name": "HTMLModel",
      "state": {
       "layout": "IPY_MODEL_a782d5521ce44f2f8356465df011f40b",
       "style": "IPY_MODEL_fd9928b88d334e88beae49a7afacb46f",
       "value": " 16/947 [00:02&lt;03:29,  4.45it/s]"
      }
     },
     "33d326e3a15342a5ad1db17b99082055": {
      "model_module": "@jupyter-widgets/base",
      "model_module_version": "1.2.0",
      "model_name": "LayoutModel",
      "state": {}
     },
     "37eb2bd23c164e08ba9ec9b79de5c3d8": {
      "model_module": "@jupyter-widgets/controls",
      "model_module_version": "1.5.0",
      "model_name": "DescriptionStyleModel",
      "state": {
       "description_width": ""
      }
     },
     "3868cc4864d14739a2996254e885e27b": {
      "model_module": "@jupyter-widgets/controls",
      "model_module_version": "1.5.0",
      "model_name": "HBoxModel",
      "state": {
       "children": [
        "IPY_MODEL_8c850723b29649a1a28325182c363b43",
        "IPY_MODEL_d5438c1b6fb34aaaa39e7c5f956d10b9",
        "IPY_MODEL_f978d1cfb2d24cb083d841f86a4d7aa0"
       ],
       "layout": "IPY_MODEL_ca1ff1dc564d462db4281ff1287b82ae"
      }
     },
     "386c7de44c2d4c068c07d87c7ed0eb88": {
      "model_module": "@jupyter-widgets/controls",
      "model_module_version": "1.5.0",
      "model_name": "DescriptionStyleModel",
      "state": {
       "description_width": ""
      }
     },
     "39b757d801264051b82127fef77087e1": {
      "model_module": "@jupyter-widgets/controls",
      "model_module_version": "1.5.0",
      "model_name": "HBoxModel",
      "state": {
       "children": [
        "IPY_MODEL_29b247f7f7da4265bac2790876d1f431",
        "IPY_MODEL_2b3e1d7618d54c27b087fdc2ce755612",
        "IPY_MODEL_e612c2c481a0401db233964192dba82e"
       ],
       "layout": "IPY_MODEL_4139e505d8b64d45aa75863f1b93d0cc"
      }
     },
     "39c4f5f2e8fb4117af5d279ea7fc2664": {
      "model_module": "@jupyter-widgets/controls",
      "model_module_version": "1.5.0",
      "model_name": "DescriptionStyleModel",
      "state": {
       "description_width": ""
      }
     },
     "3a061ad5adb1410c843e64e1f590ff16": {
      "model_module": "@jupyter-widgets/base",
      "model_module_version": "1.2.0",
      "model_name": "LayoutModel",
      "state": {}
     },
     "3a13a4f6de0e4e8b92e160eb592d47e1": {
      "model_module": "@jupyter-widgets/controls",
      "model_module_version": "1.5.0",
      "model_name": "ProgressStyleModel",
      "state": {
       "description_width": ""
      }
     },
     "3c995708832a47268846218c25e4e050": {
      "model_module": "@jupyter-widgets/controls",
      "model_module_version": "1.5.0",
      "model_name": "DescriptionStyleModel",
      "state": {
       "description_width": ""
      }
     },
     "3e0b736117894a0aa13856d341fc3900": {
      "model_module": "@jupyter-widgets/controls",
      "model_module_version": "1.5.0",
      "model_name": "ProgressStyleModel",
      "state": {
       "description_width": ""
      }
     },
     "3e128fc28c364d8eada8dd0c61b997c0": {
      "model_module": "@jupyter-widgets/base",
      "model_module_version": "1.2.0",
      "model_name": "LayoutModel",
      "state": {}
     },
     "3e9b77871231496a8110ad5f39802893": {
      "model_module": "@jupyter-widgets/controls",
      "model_module_version": "1.5.0",
      "model_name": "DescriptionStyleModel",
      "state": {
       "description_width": ""
      }
     },
     "4139e505d8b64d45aa75863f1b93d0cc": {
      "model_module": "@jupyter-widgets/base",
      "model_module_version": "1.2.0",
      "model_name": "LayoutModel",
      "state": {}
     },
     "41f276c4609f460e86911b836f0b3365": {
      "model_module": "@jupyter-widgets/controls",
      "model_module_version": "1.5.0",
      "model_name": "HTMLModel",
      "state": {
       "layout": "IPY_MODEL_abec03e63a864b20930f300eba1f7bef",
       "style": "IPY_MODEL_da8a24ffbb6149d3b6e689a0caf4406a",
       "value": " 2/947 [00:00&lt;01:47,  8.78it/s]"
      }
     },
     "424b4b907a5047248e0c8dffb3b8cffc": {
      "model_module": "@jupyter-widgets/base",
      "model_module_version": "1.2.0",
      "model_name": "LayoutModel",
      "state": {}
     },
     "43a283f8856f4009a2f7621f4a297326": {
      "model_module": "@jupyter-widgets/controls",
      "model_module_version": "1.5.0",
      "model_name": "DescriptionStyleModel",
      "state": {
       "description_width": ""
      }
     },
     "475a86220c9049f6baedcdf08565e8ec": {
      "model_module": "@jupyter-widgets/controls",
      "model_module_version": "1.5.0",
      "model_name": "DescriptionStyleModel",
      "state": {
       "description_width": ""
      }
     },
     "48312c69b3b6479994b8d78d306818fe": {
      "model_module": "@jupyter-widgets/controls",
      "model_module_version": "1.5.0",
      "model_name": "FloatProgressModel",
      "state": {
       "bar_style": "danger",
       "layout": "IPY_MODEL_9b4076b5219645fdac0435ba33d2a44e",
       "max": 947,
       "style": "IPY_MODEL_9a6614ed35744bfebbf34481b1926646",
       "value": 17
      }
     },
     "491e97fc7b914cdab8e607f60d379968": {
      "model_module": "@jupyter-widgets/controls",
      "model_module_version": "1.5.0",
      "model_name": "FloatProgressModel",
      "state": {
       "bar_style": "danger",
       "layout": "IPY_MODEL_1ce8245a8d1e4e8ba0f3eda62a4a5259",
       "max": 947,
       "style": "IPY_MODEL_e14f7428a161483a9586624496d17e81"
      }
     },
     "494fce691fdd44399af7b33d9868fee8": {
      "model_module": "@jupyter-widgets/base",
      "model_module_version": "1.2.0",
      "model_name": "LayoutModel",
      "state": {}
     },
     "496a85fbaced4bc9a96b00f7aa128d59": {
      "model_module": "@jupyter-widgets/controls",
      "model_module_version": "1.5.0",
      "model_name": "DescriptionStyleModel",
      "state": {
       "description_width": ""
      }
     },
     "4a55d71fb6d745b3b52cd13755ed5e54": {
      "model_module": "@jupyter-widgets/base",
      "model_module_version": "1.2.0",
      "model_name": "LayoutModel",
      "state": {}
     },
     "4b2182949d7f4ba4a4bdc92ee1894028": {
      "model_module": "@jupyter-widgets/controls",
      "model_module_version": "1.5.0",
      "model_name": "DescriptionStyleModel",
      "state": {
       "description_width": ""
      }
     },
     "4c82574a032b440b87cfa1d910b7b513": {
      "model_module": "@jupyter-widgets/base",
      "model_module_version": "1.2.0",
      "model_name": "LayoutModel",
      "state": {}
     },
     "4d15dbe45818425c91584987c0dd8754": {
      "model_module": "@jupyter-widgets/controls",
      "model_module_version": "1.5.0",
      "model_name": "HBoxModel",
      "state": {
       "children": [
        "IPY_MODEL_b369e5f6da534c6f8c777f884b2d3836",
        "IPY_MODEL_7d696467443e4888ae31f00117172cd3",
        "IPY_MODEL_e2549915ba8041908d8270c3b3d1e112"
       ],
       "layout": "IPY_MODEL_1ece6e4e299e44d7923905db74329789"
      }
     },
     "4d812ed435c34607a7cc22dd54638fc1": {
      "model_module": "@jupyter-widgets/controls",
      "model_module_version": "1.5.0",
      "model_name": "FloatProgressModel",
      "state": {
       "bar_style": "success",
       "layout": "IPY_MODEL_e6839b4c12dd4856905ecdb029bb7215",
       "max": 947,
       "style": "IPY_MODEL_78c170e31cb24215af8e8ef32c1901f1",
       "value": 947
      }
     },
     "4dedee9ec9514e74b87a8150cdced9de": {
      "model_module": "@jupyter-widgets/controls",
      "model_module_version": "1.5.0",
      "model_name": "ProgressStyleModel",
      "state": {
       "description_width": ""
      }
     },
     "4e84ba2f777c4958b60a4e1c3d2c9572": {
      "model_module": "@jupyter-widgets/controls",
      "model_module_version": "1.5.0",
      "model_name": "HTMLModel",
      "state": {
       "layout": "IPY_MODEL_f25122fb49c747f28f4c0372fe2920be",
       "style": "IPY_MODEL_79ea3e9a55404b1aac9910b48bcb5d05",
       "value": "  0%"
      }
     },
     "4fadf2a9217e453a83e025f506b4dadc": {
      "model_module": "@jupyter-widgets/controls",
      "model_module_version": "1.5.0",
      "model_name": "HTMLModel",
      "state": {
       "layout": "IPY_MODEL_ea3b0c26688e44998b4c6555650a542c",
       "style": "IPY_MODEL_3c995708832a47268846218c25e4e050",
       "value": "  0%"
      }
     },
     "5016887e12d24ff39326fa1bf9f38fdd": {
      "model_module": "@jupyter-widgets/base",
      "model_module_version": "1.2.0",
      "model_name": "LayoutModel",
      "state": {}
     },
     "508ac581753b49cb8f1f1d6337480217": {
      "model_module": "@jupyter-widgets/controls",
      "model_module_version": "1.5.0",
      "model_name": "HTMLModel",
      "state": {
       "layout": "IPY_MODEL_4a55d71fb6d745b3b52cd13755ed5e54",
       "style": "IPY_MODEL_1102f33b7ace48e9838b2a08c62a677f",
       "value": " 947/947 [03:14&lt;00:00,  9.40it/s]"
      }
     },
     "513aa91c17b644758abb8122ffe3d132": {
      "model_module": "@jupyter-widgets/controls",
      "model_module_version": "1.5.0",
      "model_name": "ProgressStyleModel",
      "state": {
       "description_width": ""
      }
     },
     "517b064f5f7f4629a14817a7bfdc151c": {
      "model_module": "@jupyter-widgets/controls",
      "model_module_version": "1.5.0",
      "model_name": "DescriptionStyleModel",
      "state": {
       "description_width": ""
      }
     },
     "517cb28ff57f4c5ca0c7e323257bf80b": {
      "model_module": "@jupyter-widgets/base",
      "model_module_version": "1.2.0",
      "model_name": "LayoutModel",
      "state": {}
     },
     "521412e4dd8a471f830f2708493f1f4a": {
      "model_module": "@jupyter-widgets/controls",
      "model_module_version": "1.5.0",
      "model_name": "ProgressStyleModel",
      "state": {
       "description_width": ""
      }
     },
     "53275ae01e9d45fe94f988e4a2224914": {
      "model_module": "@jupyter-widgets/controls",
      "model_module_version": "1.5.0",
      "model_name": "HBoxModel",
      "state": {
       "children": [
        "IPY_MODEL_7fb3fca4366a4232bb7263765215f347",
        "IPY_MODEL_8fc3d6d3f72e438bbe54405748282937",
        "IPY_MODEL_1c6cdbac71e24009b4b5ed66b0a5c9e5"
       ],
       "layout": "IPY_MODEL_a08c45d479494d5fb1037db738952030"
      }
     },
     "534ab330ac274669ba647d973167418a": {
      "model_module": "@jupyter-widgets/controls",
      "model_module_version": "1.5.0",
      "model_name": "DescriptionStyleModel",
      "state": {
       "description_width": ""
      }
     },
     "53b8ed0a749b4cd5b236a67eefd0ba66": {
      "model_module": "@jupyter-widgets/base",
      "model_module_version": "1.2.0",
      "model_name": "LayoutModel",
      "state": {}
     },
     "54e9d769e2bc4a04af51a426d16f148c": {
      "model_module": "@jupyter-widgets/base",
      "model_module_version": "1.2.0",
      "model_name": "LayoutModel",
      "state": {}
     },
     "553d5a9d6298483eb8f01934b334effe": {
      "model_module": "@jupyter-widgets/controls",
      "model_module_version": "1.5.0",
      "model_name": "DescriptionStyleModel",
      "state": {
       "description_width": ""
      }
     },
     "55a90fb036d248b28c7a81002217c6ad": {
      "model_module": "@jupyter-widgets/controls",
      "model_module_version": "1.5.0",
      "model_name": "HBoxModel",
      "state": {
       "children": [
        "IPY_MODEL_ed00119248b34d199c828d172a22f126",
        "IPY_MODEL_771ffa962eb6406780cb80cbf33cebbc",
        "IPY_MODEL_fe55da4bc6aa4e27a68fdc12e7390464"
       ],
       "layout": "IPY_MODEL_84337d4b3ce54f1fa915051021f8b623"
      }
     },
     "562b69d64a4a49e291815f051ae65414": {
      "model_module": "@jupyter-widgets/base",
      "model_module_version": "1.2.0",
      "model_name": "LayoutModel",
      "state": {}
     },
     "5b4e4f4a8209451f87b630b969b1efbf": {
      "model_module": "@jupyter-widgets/base",
      "model_module_version": "1.2.0",
      "model_name": "LayoutModel",
      "state": {}
     },
     "5b89f0b2e79f4a08989f23f9aa583f15": {
      "model_module": "@jupyter-widgets/base",
      "model_module_version": "1.2.0",
      "model_name": "LayoutModel",
      "state": {}
     },
     "5be250177ad64a86810a86036128469b": {
      "model_module": "@jupyter-widgets/base",
      "model_module_version": "1.2.0",
      "model_name": "LayoutModel",
      "state": {}
     },
     "5d1b5b07f722420780c413248a6e6fdc": {
      "model_module": "@jupyter-widgets/base",
      "model_module_version": "1.2.0",
      "model_name": "LayoutModel",
      "state": {}
     },
     "5e16e64b035a45f0ab649984bdf5b97c": {
      "model_module": "@jupyter-widgets/controls",
      "model_module_version": "1.5.0",
      "model_name": "DescriptionStyleModel",
      "state": {
       "description_width": ""
      }
     },
     "5ed792e64b804bc18808a5f429df8af3": {
      "model_module": "@jupyter-widgets/controls",
      "model_module_version": "1.5.0",
      "model_name": "HBoxModel",
      "state": {
       "children": [
        "IPY_MODEL_9440a9bf839847b1865b1b3e8ff8b376",
        "IPY_MODEL_9d4fa17193d04e70a4094628b08fb1b1",
        "IPY_MODEL_a5f560b6166a4274a832759c96d894bd"
       ],
       "layout": "IPY_MODEL_d1770ffa15574d5fb578765636543bc4"
      }
     },
     "5f6c71115a294fc8b559e08c4eebe968": {
      "model_module": "@jupyter-widgets/controls",
      "model_module_version": "1.5.0",
      "model_name": "HTMLModel",
      "state": {
       "layout": "IPY_MODEL_116746df8d734f53a24e8f533239293f",
       "style": "IPY_MODEL_553d5a9d6298483eb8f01934b334effe",
       "value": "100%"
      }
     },
     "5f6e546a671f4691970546d3ffc35342": {
      "model_module": "@jupyter-widgets/controls",
      "model_module_version": "1.5.0",
      "model_name": "HBoxModel",
      "state": {
       "children": [
        "IPY_MODEL_2359178269d14918ba8c8c209d27d91a",
        "IPY_MODEL_ef09f4455b7c4ac89c39caada5dd2be7",
        "IPY_MODEL_ea17a9d48e4f44079a107afce201dde5"
       ],
       "layout": "IPY_MODEL_3a061ad5adb1410c843e64e1f590ff16"
      }
     },
     "600ec44d0fbf4494bd8c27b393a97fbf": {
      "model_module": "@jupyter-widgets/controls",
      "model_module_version": "1.5.0",
      "model_name": "DescriptionStyleModel",
      "state": {
       "description_width": ""
      }
     },
     "61232dc8909740858f0db6f7ea2b2cd3": {
      "model_module": "@jupyter-widgets/base",
      "model_module_version": "1.2.0",
      "model_name": "LayoutModel",
      "state": {}
     },
     "63027341b858407b8e640184339ad7fb": {
      "model_module": "@jupyter-widgets/controls",
      "model_module_version": "1.5.0",
      "model_name": "DescriptionStyleModel",
      "state": {
       "description_width": ""
      }
     },
     "64510559c8b543b3b89b94ec64e93339": {
      "model_module": "@jupyter-widgets/controls",
      "model_module_version": "1.5.0",
      "model_name": "DescriptionStyleModel",
      "state": {
       "description_width": ""
      }
     },
     "64ec2a4804474b269e41bf766d53e106": {
      "model_module": "@jupyter-widgets/controls",
      "model_module_version": "1.5.0",
      "model_name": "HTMLModel",
      "state": {
       "layout": "IPY_MODEL_91110375cbe4415993b91a9cb90282e5",
       "style": "IPY_MODEL_386c7de44c2d4c068c07d87c7ed0eb88",
       "value": " 2/947 [00:00&lt;01:46,  8.84it/s]"
      }
     },
     "64ef59873a3246da90b788498267ecda": {
      "model_module": "@jupyter-widgets/base",
      "model_module_version": "1.2.0",
      "model_name": "LayoutModel",
      "state": {}
     },
     "6933288efba5448cb392800eb776ad87": {
      "model_module": "@jupyter-widgets/base",
      "model_module_version": "1.2.0",
      "model_name": "LayoutModel",
      "state": {}
     },
     "6a1b975cced54d73954ef6a351e2d56d": {
      "model_module": "@jupyter-widgets/controls",
      "model_module_version": "1.5.0",
      "model_name": "HTMLModel",
      "state": {
       "layout": "IPY_MODEL_0dc1b9775a96470e9faf3dd48b838d65",
       "style": "IPY_MODEL_43a283f8856f4009a2f7621f4a297326",
       "value": "  0%"
      }
     },
     "6da813fe650c4cb19be62659b32a9b82": {
      "model_module": "@jupyter-widgets/controls",
      "model_module_version": "1.5.0",
      "model_name": "DescriptionStyleModel",
      "state": {
       "description_width": ""
      }
     },
     "70aa8c163bb54d82a0595106eba18586": {
      "model_module": "@jupyter-widgets/controls",
      "model_module_version": "1.5.0",
      "model_name": "DescriptionStyleModel",
      "state": {
       "description_width": ""
      }
     },
     "72e9256c98d14a3696300100f1dbcb13": {
      "model_module": "@jupyter-widgets/controls",
      "model_module_version": "1.5.0",
      "model_name": "DescriptionStyleModel",
      "state": {
       "description_width": ""
      }
     },
     "737b0069056c46d9befc1acf703caee0": {
      "model_module": "@jupyter-widgets/base",
      "model_module_version": "1.2.0",
      "model_name": "LayoutModel",
      "state": {}
     },
     "73e3282f35de44aaa360274538ce87dc": {
      "model_module": "@jupyter-widgets/base",
      "model_module_version": "1.2.0",
      "model_name": "LayoutModel",
      "state": {}
     },
     "75ceee1eaeaf47f58189504b0c65abfc": {
      "model_module": "@jupyter-widgets/base",
      "model_module_version": "1.2.0",
      "model_name": "LayoutModel",
      "state": {}
     },
     "771ffa962eb6406780cb80cbf33cebbc": {
      "model_module": "@jupyter-widgets/controls",
      "model_module_version": "1.5.0",
      "model_name": "FloatProgressModel",
      "state": {
       "bar_style": "danger",
       "layout": "IPY_MODEL_424b4b907a5047248e0c8dffb3b8cffc",
       "max": 947,
       "style": "IPY_MODEL_b55c90c94bc24d89be40fc20c747669c"
      }
     },
     "77bb9165b2ca4b7e8c93b2f92b02cb25": {
      "model_module": "@jupyter-widgets/base",
      "model_module_version": "1.2.0",
      "model_name": "LayoutModel",
      "state": {}
     },
     "77c22f410f5e4aa38a852765086ef614": {
      "model_module": "@jupyter-widgets/controls",
      "model_module_version": "1.5.0",
      "model_name": "ProgressStyleModel",
      "state": {
       "description_width": ""
      }
     },
     "780a1bc23db0467890cc7151176275ff": {
      "model_module": "@jupyter-widgets/controls",
      "model_module_version": "1.5.0",
      "model_name": "DescriptionStyleModel",
      "state": {
       "description_width": ""
      }
     },
     "78c170e31cb24215af8e8ef32c1901f1": {
      "model_module": "@jupyter-widgets/controls",
      "model_module_version": "1.5.0",
      "model_name": "ProgressStyleModel",
      "state": {
       "description_width": ""
      }
     },
     "79ea3e9a55404b1aac9910b48bcb5d05": {
      "model_module": "@jupyter-widgets/controls",
      "model_module_version": "1.5.0",
      "model_name": "DescriptionStyleModel",
      "state": {
       "description_width": ""
      }
     },
     "7a00478a241b4bce9f3427eb5962faaa": {
      "model_module": "@jupyter-widgets/base",
      "model_module_version": "1.2.0",
      "model_name": "LayoutModel",
      "state": {}
     },
     "7a2c57fa69c044208c6fc693d2766e88": {
      "model_module": "@jupyter-widgets/controls",
      "model_module_version": "1.5.0",
      "model_name": "HTMLModel",
      "state": {
       "layout": "IPY_MODEL_b68a6d91544d4b30a448eb5bbca57f22",
       "style": "IPY_MODEL_c53da74931874e97a2aad294898794f0",
       "value": " 17/947 [00:03&lt;03:22,  4.59it/s]"
      }
     },
     "7b2f5d21709943ac88bdef4fd8c78a11": {
      "model_module": "@jupyter-widgets/controls",
      "model_module_version": "1.5.0",
      "model_name": "DescriptionStyleModel",
      "state": {
       "description_width": ""
      }
     },
     "7c73075e2b3e4d02a89a7aa8189e97e2": {
      "model_module": "@jupyter-widgets/base",
      "model_module_version": "1.2.0",
      "model_name": "LayoutModel",
      "state": {}
     },
     "7d696467443e4888ae31f00117172cd3": {
      "model_module": "@jupyter-widgets/controls",
      "model_module_version": "1.5.0",
      "model_name": "FloatProgressModel",
      "state": {
       "bar_style": "danger",
       "layout": "IPY_MODEL_c29c6bbebc354a0eb52943685e64da6c",
       "max": 947,
       "style": "IPY_MODEL_2aa7d37e3584496089d4b8175a9d76c5",
       "value": 65
      }
     },
     "7d84174081cf42079d32f984f06f4cbd": {
      "model_module": "@jupyter-widgets/controls",
      "model_module_version": "1.5.0",
      "model_name": "HTMLModel",
      "state": {
       "layout": "IPY_MODEL_9284640f8369428288c27171138510ff",
       "style": "IPY_MODEL_921bc545622c4613b4df941fd70db560",
       "value": "  0%"
      }
     },
     "7de367176f2b4f18812f46917163a6c5": {
      "model_module": "@jupyter-widgets/base",
      "model_module_version": "1.2.0",
      "model_name": "LayoutModel",
      "state": {}
     },
     "7e322db27cf14bda816acb5e7a5adf61": {
      "model_module": "@jupyter-widgets/controls",
      "model_module_version": "1.5.0",
      "model_name": "DescriptionStyleModel",
      "state": {
       "description_width": ""
      }
     },
     "7e8fc293a104479d819dcec2ff438b51": {
      "model_module": "@jupyter-widgets/controls",
      "model_module_version": "1.5.0",
      "model_name": "HBoxModel",
      "state": {
       "children": [
        "IPY_MODEL_c497170c5de9416f83fd51ec4c62dd36",
        "IPY_MODEL_f37a3dde30ad4a3aa2f30ef26b8e5e71",
        "IPY_MODEL_64ec2a4804474b269e41bf766d53e106"
       ],
       "layout": "IPY_MODEL_8c17ed3591574918a77ee077439f9851"
      }
     },
     "7f087e06221f47418509f48286aa198c": {
      "model_module": "@jupyter-widgets/base",
      "model_module_version": "1.2.0",
      "model_name": "LayoutModel",
      "state": {}
     },
     "7fb3fca4366a4232bb7263765215f347": {
      "model_module": "@jupyter-widgets/controls",
      "model_module_version": "1.5.0",
      "model_name": "HTMLModel",
      "state": {
       "layout": "IPY_MODEL_c267abbb56574424a59e2cfc76f3d74d",
       "style": "IPY_MODEL_1e70515d2b174533a40f782ed8a1ee21",
       "value": "  0%"
      }
     },
     "81a34240724348df83e07aa8151c010a": {
      "model_module": "@jupyter-widgets/controls",
      "model_module_version": "1.5.0",
      "model_name": "HTMLModel",
      "state": {
       "layout": "IPY_MODEL_737b0069056c46d9befc1acf703caee0",
       "style": "IPY_MODEL_63027341b858407b8e640184339ad7fb",
       "value": " 17/947 [00:03&lt;03:27,  4.48it/s]"
      }
     },
     "81ade74a69d74c6ea371fbb7785c55a1": {
      "model_module": "@jupyter-widgets/base",
      "model_module_version": "1.2.0",
      "model_name": "LayoutModel",
      "state": {}
     },
     "82317c7bccd548f4abcbea81abec0e48": {
      "model_module": "@jupyter-widgets/controls",
      "model_module_version": "1.5.0",
      "model_name": "FloatProgressModel",
      "state": {
       "bar_style": "success",
       "layout": "IPY_MODEL_77bb9165b2ca4b7e8c93b2f92b02cb25",
       "max": 947,
       "style": "IPY_MODEL_77c22f410f5e4aa38a852765086ef614",
       "value": 947
      }
     },
     "8240d250c58f45038cfc97f82817ffcd": {
      "model_module": "@jupyter-widgets/base",
      "model_module_version": "1.2.0",
      "model_name": "LayoutModel",
      "state": {}
     },
     "83158942c26842a58751092ee5d974c3": {
      "model_module": "@jupyter-widgets/controls",
      "model_module_version": "1.5.0",
      "model_name": "HTMLModel",
      "state": {
       "layout": "IPY_MODEL_7f087e06221f47418509f48286aa198c",
       "style": "IPY_MODEL_0b9b4225b8714eddbabfa5c59e363b2d",
       "value": " 2/947 [00:00&lt;01:51,  8.49it/s]"
      }
     },
     "83a38fbbb3e242068b06f4c790a6b32a": {
      "model_module": "@jupyter-widgets/controls",
      "model_module_version": "1.5.0",
      "model_name": "FloatProgressModel",
      "state": {
       "bar_style": "danger",
       "layout": "IPY_MODEL_d6936733b2854da0a4ee0864e7aa1170",
       "max": 947,
       "style": "IPY_MODEL_8e9fa9909cf2478c8f8521a197617939",
       "value": 2
      }
     },
     "8413a0cf718f46288e06e72ae46796ff": {
      "model_module": "@jupyter-widgets/base",
      "model_module_version": "1.2.0",
      "model_name": "LayoutModel",
      "state": {}
     },
     "84337d4b3ce54f1fa915051021f8b623": {
      "model_module": "@jupyter-widgets/base",
      "model_module_version": "1.2.0",
      "model_name": "LayoutModel",
      "state": {}
     },
     "84ceac88e9834a98ac3710688ee998af": {
      "model_module": "@jupyter-widgets/base",
      "model_module_version": "1.2.0",
      "model_name": "LayoutModel",
      "state": {}
     },
     "875ed55ba41e4aa5bbaba1d810f64a5a": {
      "model_module": "@jupyter-widgets/controls",
      "model_module_version": "1.5.0",
      "model_name": "FloatProgressModel",
      "state": {
       "bar_style": "danger",
       "layout": "IPY_MODEL_f454d4bef8314e1a832edb996fe97044",
       "max": 947,
       "style": "IPY_MODEL_c4ba9cf93dcb402c84ac82be22bde876"
      }
     },
     "882dc5e367474270916f2b4651e9c61e": {
      "model_module": "@jupyter-widgets/controls",
      "model_module_version": "1.5.0",
      "model_name": "HBoxModel",
      "state": {
       "children": [
        "IPY_MODEL_1871c64cc0784d68929f82f9c13be79a",
        "IPY_MODEL_d319555b26894884818f4def53952775",
        "IPY_MODEL_32171b99f45d4a4f92c1fd2a1acc8833"
       ],
       "layout": "IPY_MODEL_d1052a104a4a41269ab3078d61360184"
      }
     },
     "885bd0de0b8b44a1b924deafe460c201": {
      "model_module": "@jupyter-widgets/controls",
      "model_module_version": "1.5.0",
      "model_name": "DescriptionStyleModel",
      "state": {
       "description_width": ""
      }
     },
     "8c17ed3591574918a77ee077439f9851": {
      "model_module": "@jupyter-widgets/base",
      "model_module_version": "1.2.0",
      "model_name": "LayoutModel",
      "state": {}
     },
     "8c733073f35b4e3c8bb4e0f1987ae583": {
      "model_module": "@jupyter-widgets/base",
      "model_module_version": "1.2.0",
      "model_name": "LayoutModel",
      "state": {}
     },
     "8c850723b29649a1a28325182c363b43": {
      "model_module": "@jupyter-widgets/controls",
      "model_module_version": "1.5.0",
      "model_name": "HTMLModel",
      "state": {
       "layout": "IPY_MODEL_09a4d351ca2646a1bd2501684bfcd027",
       "style": "IPY_MODEL_780a1bc23db0467890cc7151176275ff",
       "value": "  0%"
      }
     },
     "8cfc72b5005c41ce81808c42d62b2e5c": {
      "model_module": "@jupyter-widgets/base",
      "model_module_version": "1.2.0",
      "model_name": "LayoutModel",
      "state": {}
     },
     "8d4bcd04b7894b8d8247a413ea2015ce": {
      "model_module": "@jupyter-widgets/controls",
      "model_module_version": "1.5.0",
      "model_name": "ProgressStyleModel",
      "state": {
       "description_width": ""
      }
     },
     "8e9fa9909cf2478c8f8521a197617939": {
      "model_module": "@jupyter-widgets/controls",
      "model_module_version": "1.5.0",
      "model_name": "ProgressStyleModel",
      "state": {
       "description_width": ""
      }
     },
     "8fc3d6d3f72e438bbe54405748282937": {
      "model_module": "@jupyter-widgets/controls",
      "model_module_version": "1.5.0",
      "model_name": "FloatProgressModel",
      "state": {
       "bar_style": "danger",
       "layout": "IPY_MODEL_7a00478a241b4bce9f3427eb5962faaa",
       "max": 947,
       "style": "IPY_MODEL_ad1d9214e8d64bc2b576cbdcbe4d152b"
      }
     },
     "91110375cbe4415993b91a9cb90282e5": {
      "model_module": "@jupyter-widgets/base",
      "model_module_version": "1.2.0",
      "model_name": "LayoutModel",
      "state": {}
     },
     "911ea0b99a9d49e1b9b10bd46dde3c88": {
      "model_module": "@jupyter-widgets/controls",
      "model_module_version": "1.5.0",
      "model_name": "HTMLModel",
      "state": {
       "layout": "IPY_MODEL_cbf7135c52d94ae691eb48c91b3bf097",
       "style": "IPY_MODEL_adf470d6561a46538e978c7c8f89cb88",
       "value": " 2/947 [00:00&lt;01:46,  8.89it/s]"
      }
     },
     "91de723ee825400780652fd2e1ad027e": {
      "model_module": "@jupyter-widgets/base",
      "model_module_version": "1.2.0",
      "model_name": "LayoutModel",
      "state": {}
     },
     "921bc545622c4613b4df941fd70db560": {
      "model_module": "@jupyter-widgets/controls",
      "model_module_version": "1.5.0",
      "model_name": "DescriptionStyleModel",
      "state": {
       "description_width": ""
      }
     },
     "9284640f8369428288c27171138510ff": {
      "model_module": "@jupyter-widgets/base",
      "model_module_version": "1.2.0",
      "model_name": "LayoutModel",
      "state": {}
     },
     "9440a9bf839847b1865b1b3e8ff8b376": {
      "model_module": "@jupyter-widgets/controls",
      "model_module_version": "1.5.0",
      "model_name": "HTMLModel",
      "state": {
       "layout": "IPY_MODEL_562b69d64a4a49e291815f051ae65414",
       "style": "IPY_MODEL_bd2c86bbca2c4fb38ecf72277bdfe423",
       "value": "  0%"
      }
     },
     "95472c81c6364c238fd029978826a3fa": {
      "model_module": "@jupyter-widgets/base",
      "model_module_version": "1.2.0",
      "model_name": "LayoutModel",
      "state": {}
     },
     "9821588593a24a3c96bacbe05034fd8b": {
      "model_module": "@jupyter-widgets/base",
      "model_module_version": "1.2.0",
      "model_name": "LayoutModel",
      "state": {}
     },
     "9830c4be1e194b918e28ea52ed9ca677": {
      "model_module": "@jupyter-widgets/base",
      "model_module_version": "1.2.0",
      "model_name": "LayoutModel",
      "state": {}
     },
     "99af61fe687e47e8a66e2f9b0ae59251": {
      "model_module": "@jupyter-widgets/controls",
      "model_module_version": "1.5.0",
      "model_name": "ProgressStyleModel",
      "state": {
       "description_width": ""
      }
     },
     "99d71264f7374174b1ca5723bf3aafbc": {
      "model_module": "@jupyter-widgets/controls",
      "model_module_version": "1.5.0",
      "model_name": "DescriptionStyleModel",
      "state": {
       "description_width": ""
      }
     },
     "9a6614ed35744bfebbf34481b1926646": {
      "model_module": "@jupyter-widgets/controls",
      "model_module_version": "1.5.0",
      "model_name": "ProgressStyleModel",
      "state": {
       "description_width": ""
      }
     },
     "9a78c1bf530e4ead99b52094a9a8f55d": {
      "model_module": "@jupyter-widgets/controls",
      "model_module_version": "1.5.0",
      "model_name": "FloatProgressModel",
      "state": {
       "bar_style": "danger",
       "layout": "IPY_MODEL_d6d2c27ba4cd4a83acfaca891fb08174",
       "max": 947,
       "style": "IPY_MODEL_99af61fe687e47e8a66e2f9b0ae59251",
       "value": 2
      }
     },
     "9ab8b3c0a6f94190b44abc868751bc9f": {
      "model_module": "@jupyter-widgets/base",
      "model_module_version": "1.2.0",
      "model_name": "LayoutModel",
      "state": {}
     },
     "9b4076b5219645fdac0435ba33d2a44e": {
      "model_module": "@jupyter-widgets/base",
      "model_module_version": "1.2.0",
      "model_name": "LayoutModel",
      "state": {}
     },
     "9d4fa17193d04e70a4094628b08fb1b1": {
      "model_module": "@jupyter-widgets/controls",
      "model_module_version": "1.5.0",
      "model_name": "FloatProgressModel",
      "state": {
       "bar_style": "danger",
       "layout": "IPY_MODEL_a16b4b050e6e4dd7822b84244ab761c1",
       "max": 947,
       "style": "IPY_MODEL_f727be820af24e48828ca5c2fda62d80"
      }
     },
     "9e0bf2e11d9842869d3480aa5ee94126": {
      "model_module": "@jupyter-widgets/controls",
      "model_module_version": "1.5.0",
      "model_name": "DescriptionStyleModel",
      "state": {
       "description_width": ""
      }
     },
     "9e4d4e73efd24a0d901e1a17ea0815a4": {
      "model_module": "@jupyter-widgets/controls",
      "model_module_version": "1.5.0",
      "model_name": "FloatProgressModel",
      "state": {
       "bar_style": "danger",
       "layout": "IPY_MODEL_2513fab62f9042c2b6c570ccca56b68c",
       "max": 947,
       "style": "IPY_MODEL_2b3d6e4e615f42ca8f174fd9cb389e16"
      }
     },
     "a07888132a5b43698a95cde89c112a8c": {
      "model_module": "@jupyter-widgets/base",
      "model_module_version": "1.2.0",
      "model_name": "LayoutModel",
      "state": {}
     },
     "a08c45d479494d5fb1037db738952030": {
      "model_module": "@jupyter-widgets/base",
      "model_module_version": "1.2.0",
      "model_name": "LayoutModel",
      "state": {}
     },
     "a1346c96789545ae89a73b2bf39cdef5": {
      "model_module": "@jupyter-widgets/controls",
      "model_module_version": "1.5.0",
      "model_name": "HBoxModel",
      "state": {
       "children": [
        "IPY_MODEL_5f6c71115a294fc8b559e08c4eebe968",
        "IPY_MODEL_bc6ca658ad624f168c59e64814be6124",
        "IPY_MODEL_10cd3e9ebf7d4b58b573af7337a59808"
       ],
       "layout": "IPY_MODEL_a4912590108141f1881f6b34880b3e42"
      }
     },
     "a16b4b050e6e4dd7822b84244ab761c1": {
      "model_module": "@jupyter-widgets/base",
      "model_module_version": "1.2.0",
      "model_name": "LayoutModel",
      "state": {}
     },
     "a17c5a9490ed4dd499554abaccfb2ba1": {
      "model_module": "@jupyter-widgets/controls",
      "model_module_version": "1.5.0",
      "model_name": "FloatProgressModel",
      "state": {
       "bar_style": "danger",
       "layout": "IPY_MODEL_9821588593a24a3c96bacbe05034fd8b",
       "max": 947,
       "style": "IPY_MODEL_3e0b736117894a0aa13856d341fc3900"
      }
     },
     "a2145459be324707bc218053d32cb0ec": {
      "model_module": "@jupyter-widgets/controls",
      "model_module_version": "1.5.0",
      "model_name": "ProgressStyleModel",
      "state": {
       "description_width": ""
      }
     },
     "a3947453fc5a4c8f9c20fb4835de7751": {
      "model_module": "@jupyter-widgets/controls",
      "model_module_version": "1.5.0",
      "model_name": "HTMLModel",
      "state": {
       "layout": "IPY_MODEL_189dc7ee69f942d1944657e3bf2148a3",
       "style": "IPY_MODEL_08d5e675885046a69ea6c49c3473b01e",
       "value": " 0/947 [00:00&lt;?, ?it/s]"
      }
     },
     "a4912590108141f1881f6b34880b3e42": {
      "model_module": "@jupyter-widgets/base",
      "model_module_version": "1.2.0",
      "model_name": "LayoutModel",
      "state": {}
     },
     "a5ed7ce1a5924f82ad9ff62a02b83ff0": {
      "model_module": "@jupyter-widgets/controls",
      "model_module_version": "1.5.0",
      "model_name": "HBoxModel",
      "state": {
       "children": [
        "IPY_MODEL_22e7575a34e34d93932e4467b97d9940",
        "IPY_MODEL_875ed55ba41e4aa5bbaba1d810f64a5a",
        "IPY_MODEL_fe69b349aabe41ecb1af40d23eb21057"
       ],
       "layout": "IPY_MODEL_0ebd005c0df24524bf5e3c36fcad4512"
      }
     },
     "a5f560b6166a4274a832759c96d894bd": {
      "model_module": "@jupyter-widgets/controls",
      "model_module_version": "1.5.0",
      "model_name": "HTMLModel",
      "state": {
       "layout": "IPY_MODEL_ac403329049a46eb88e6cceaa4923503",
       "style": "IPY_MODEL_70aa8c163bb54d82a0595106eba18586",
       "value": " 0/947 [00:00&lt;?, ?it/s]"
      }
     },
     "a70d2b93552e47738b421cc1b965c0e8": {
      "model_module": "@jupyter-widgets/controls",
      "model_module_version": "1.5.0",
      "model_name": "DescriptionStyleModel",
      "state": {
       "description_width": ""
      }
     },
     "a782d5521ce44f2f8356465df011f40b": {
      "model_module": "@jupyter-widgets/base",
      "model_module_version": "1.2.0",
      "model_name": "LayoutModel",
      "state": {}
     },
     "a7adea464a9a47e4a7fe660ac25971cc": {
      "model_module": "@jupyter-widgets/controls",
      "model_module_version": "1.5.0",
      "model_name": "HTMLModel",
      "state": {
       "layout": "IPY_MODEL_e45bde40771941d2b59e2e128c3a7d59",
       "style": "IPY_MODEL_9e0bf2e11d9842869d3480aa5ee94126",
       "value": " 0/947 [00:00&lt;?, ?it/s]"
      }
     },
     "a8153c02bd2b4b4d85a10399b0830cef": {
      "model_module": "@jupyter-widgets/base",
      "model_module_version": "1.2.0",
      "model_name": "LayoutModel",
      "state": {}
     },
     "a8456458f2974319bb355d9253f377bf": {
      "model_module": "@jupyter-widgets/base",
      "model_module_version": "1.2.0",
      "model_name": "LayoutModel",
      "state": {}
     },
     "a98dbb01eecc46cf89c608bafc6176e5": {
      "model_module": "@jupyter-widgets/base",
      "model_module_version": "1.2.0",
      "model_name": "LayoutModel",
      "state": {}
     },
     "aa54e59eba334034a5dc34aea2df66b8": {
      "model_module": "@jupyter-widgets/controls",
      "model_module_version": "1.5.0",
      "model_name": "DescriptionStyleModel",
      "state": {
       "description_width": ""
      }
     },
     "aac2815ee9a648f88baa10e7e96e0c64": {
      "model_module": "@jupyter-widgets/controls",
      "model_module_version": "1.5.0",
      "model_name": "HTMLModel",
      "state": {
       "layout": "IPY_MODEL_4c82574a032b440b87cfa1d910b7b513",
       "style": "IPY_MODEL_c045135b1d1848e79f0a99f6b2996293",
       "value": " 0/947 [00:00&lt;?, ?it/s]"
      }
     },
     "abda8415868e4fb698feb62c8556ec9c": {
      "model_module": "@jupyter-widgets/controls",
      "model_module_version": "1.5.0",
      "model_name": "HBoxModel",
      "state": {
       "children": [
        "IPY_MODEL_f140dec25a6242428d09571b996b0e3d",
        "IPY_MODEL_48312c69b3b6479994b8d78d306818fe",
        "IPY_MODEL_81a34240724348df83e07aa8151c010a"
       ],
       "layout": "IPY_MODEL_73e3282f35de44aaa360274538ce87dc"
      }
     },
     "abec03e63a864b20930f300eba1f7bef": {
      "model_module": "@jupyter-widgets/base",
      "model_module_version": "1.2.0",
      "model_name": "LayoutModel",
      "state": {}
     },
     "ac403329049a46eb88e6cceaa4923503": {
      "model_module": "@jupyter-widgets/base",
      "model_module_version": "1.2.0",
      "model_name": "LayoutModel",
      "state": {}
     },
     "ad1d9214e8d64bc2b576cbdcbe4d152b": {
      "model_module": "@jupyter-widgets/controls",
      "model_module_version": "1.5.0",
      "model_name": "ProgressStyleModel",
      "state": {
       "description_width": ""
      }
     },
     "ad94415dbc5d4dcc9eec3a854141efc0": {
      "model_module": "@jupyter-widgets/controls",
      "model_module_version": "1.5.0",
      "model_name": "ProgressStyleModel",
      "state": {
       "description_width": ""
      }
     },
     "ad9fc32f4b92426d81d9d7d4b689d3cd": {
      "model_module": "@jupyter-widgets/base",
      "model_module_version": "1.2.0",
      "model_name": "LayoutModel",
      "state": {}
     },
     "adf470d6561a46538e978c7c8f89cb88": {
      "model_module": "@jupyter-widgets/controls",
      "model_module_version": "1.5.0",
      "model_name": "DescriptionStyleModel",
      "state": {
       "description_width": ""
      }
     },
     "b369e5f6da534c6f8c777f884b2d3836": {
      "model_module": "@jupyter-widgets/controls",
      "model_module_version": "1.5.0",
      "model_name": "HTMLModel",
      "state": {
       "layout": "IPY_MODEL_2b1fe14e56e24678915e09a8f07e6f86",
       "style": "IPY_MODEL_517b064f5f7f4629a14817a7bfdc151c",
       "value": "  7%"
      }
     },
     "b3a22d1fad7e4563bfea92a3c859a78d": {
      "model_module": "@jupyter-widgets/base",
      "model_module_version": "1.2.0",
      "model_name": "LayoutModel",
      "state": {}
     },
     "b3ccfb37f3ce4d26814563201f73bd16": {
      "model_module": "@jupyter-widgets/controls",
      "model_module_version": "1.5.0",
      "model_name": "ProgressStyleModel",
      "state": {
       "description_width": ""
      }
     },
     "b3e6a4c1aab141d8b06eb8b54919e69b": {
      "model_module": "@jupyter-widgets/base",
      "model_module_version": "1.2.0",
      "model_name": "LayoutModel",
      "state": {}
     },
     "b4c9570f42be442bb7b2370fc16379c3": {
      "model_module": "@jupyter-widgets/controls",
      "model_module_version": "1.5.0",
      "model_name": "HBoxModel",
      "state": {
       "children": [
        "IPY_MODEL_ca35c5908dac46c39f03178b2143f8c0",
        "IPY_MODEL_9a78c1bf530e4ead99b52094a9a8f55d",
        "IPY_MODEL_41f276c4609f460e86911b836f0b3365"
       ],
       "layout": "IPY_MODEL_9ab8b3c0a6f94190b44abc868751bc9f"
      }
     },
     "b541c3d1d9694a469e89bca6fb4ebadf": {
      "model_module": "@jupyter-widgets/base",
      "model_module_version": "1.2.0",
      "model_name": "LayoutModel",
      "state": {}
     },
     "b55c90c94bc24d89be40fc20c747669c": {
      "model_module": "@jupyter-widgets/controls",
      "model_module_version": "1.5.0",
      "model_name": "ProgressStyleModel",
      "state": {
       "description_width": ""
      }
     },
     "b68a6d91544d4b30a448eb5bbca57f22": {
      "model_module": "@jupyter-widgets/base",
      "model_module_version": "1.2.0",
      "model_name": "LayoutModel",
      "state": {}
     },
     "b709e1bf9cd04a5a95d37e5c8fe106b1": {
      "model_module": "@jupyter-widgets/base",
      "model_module_version": "1.2.0",
      "model_name": "LayoutModel",
      "state": {}
     },
     "b86ea61739514cd28f7fe627c6f13e0b": {
      "model_module": "@jupyter-widgets/base",
      "model_module_version": "1.2.0",
      "model_name": "LayoutModel",
      "state": {}
     },
     "b95a95db8fe148c79d0eacec13bf07ee": {
      "model_module": "@jupyter-widgets/controls",
      "model_module_version": "1.5.0",
      "model_name": "DescriptionStyleModel",
      "state": {
       "description_width": ""
      }
     },
     "badd00b1dd9b49b4b44025dd5c629d00": {
      "model_module": "@jupyter-widgets/controls",
      "model_module_version": "1.5.0",
      "model_name": "HBoxModel",
      "state": {
       "children": [
        "IPY_MODEL_0410c7604a16494198d797c987051898",
        "IPY_MODEL_27cfb29a2aab4bd291fa0df89f9cbdf9",
        "IPY_MODEL_d475886a101a490ea9a385ffc990fcd2"
       ],
       "layout": "IPY_MODEL_91de723ee825400780652fd2e1ad027e"
      }
     },
     "bc1c17ba3f604499ad90421d5059a5db": {
      "model_module": "@jupyter-widgets/controls",
      "model_module_version": "1.5.0",
      "model_name": "HBoxModel",
      "state": {
       "children": [
        "IPY_MODEL_7d84174081cf42079d32f984f06f4cbd",
        "IPY_MODEL_252b3dff4c2a4a209d0710adcfef9f2f",
        "IPY_MODEL_0181498cb69b4c6cb5919bd004c50c50"
       ],
       "layout": "IPY_MODEL_a98dbb01eecc46cf89c608bafc6176e5"
      }
     },
     "bc6ca658ad624f168c59e64814be6124": {
      "model_module": "@jupyter-widgets/controls",
      "model_module_version": "1.5.0",
      "model_name": "FloatProgressModel",
      "state": {
       "bar_style": "success",
       "layout": "IPY_MODEL_166c8daefc264359ac7b652c8b3920e1",
       "max": 947,
       "style": "IPY_MODEL_a2145459be324707bc218053d32cb0ec",
       "value": 947
      }
     },
     "bd2c86bbca2c4fb38ecf72277bdfe423": {
      "model_module": "@jupyter-widgets/controls",
      "model_module_version": "1.5.0",
      "model_name": "DescriptionStyleModel",
      "state": {
       "description_width": ""
      }
     },
     "bd5569d82a9a4e69b1d4d98dec6f9793": {
      "model_module": "@jupyter-widgets/controls",
      "model_module_version": "1.5.0",
      "model_name": "HTMLModel",
      "state": {
       "layout": "IPY_MODEL_b541c3d1d9694a469e89bca6fb4ebadf",
       "style": "IPY_MODEL_07fe6fa2f788427db7ace3466df480cf",
       "value": "100%"
      }
     },
     "bde0ee408fe24d0387adb53b7da14f81": {
      "model_module": "@jupyter-widgets/controls",
      "model_module_version": "1.5.0",
      "model_name": "HTMLModel",
      "state": {
       "layout": "IPY_MODEL_6933288efba5448cb392800eb776ad87",
       "style": "IPY_MODEL_24809343f5aa48f59ce2e3858d0ec720",
       "value": "  0%"
      }
     },
     "bdf0b21f09594f74bdac1e67241c0b7d": {
      "model_module": "@jupyter-widgets/base",
      "model_module_version": "1.2.0",
      "model_name": "LayoutModel",
      "state": {}
     },
     "c045135b1d1848e79f0a99f6b2996293": {
      "model_module": "@jupyter-widgets/controls",
      "model_module_version": "1.5.0",
      "model_name": "DescriptionStyleModel",
      "state": {
       "description_width": ""
      }
     },
     "c267abbb56574424a59e2cfc76f3d74d": {
      "model_module": "@jupyter-widgets/base",
      "model_module_version": "1.2.0",
      "model_name": "LayoutModel",
      "state": {}
     },
     "c29c6bbebc354a0eb52943685e64da6c": {
      "model_module": "@jupyter-widgets/base",
      "model_module_version": "1.2.0",
      "model_name": "LayoutModel",
      "state": {}
     },
     "c3271a4a3339457fa4294e2c95da2e7a": {
      "model_module": "@jupyter-widgets/controls",
      "model_module_version": "1.5.0",
      "model_name": "DescriptionStyleModel",
      "state": {
       "description_width": ""
      }
     },
     "c497170c5de9416f83fd51ec4c62dd36": {
      "model_module": "@jupyter-widgets/controls",
      "model_module_version": "1.5.0",
      "model_name": "HTMLModel",
      "state": {
       "layout": "IPY_MODEL_ed19cedd8d024cde9449f00220bd39db",
       "style": "IPY_MODEL_99d71264f7374174b1ca5723bf3aafbc",
       "value": "  0%"
      }
     },
     "c4ba9cf93dcb402c84ac82be22bde876": {
      "model_module": "@jupyter-widgets/controls",
      "model_module_version": "1.5.0",
      "model_name": "ProgressStyleModel",
      "state": {
       "description_width": ""
      }
     },
     "c53da74931874e97a2aad294898794f0": {
      "model_module": "@jupyter-widgets/controls",
      "model_module_version": "1.5.0",
      "model_name": "DescriptionStyleModel",
      "state": {
       "description_width": ""
      }
     },
     "c5f4d292de2b402f91dea409960c1d3a": {
      "model_module": "@jupyter-widgets/controls",
      "model_module_version": "1.5.0",
      "model_name": "HTMLModel",
      "state": {
       "layout": "IPY_MODEL_517cb28ff57f4c5ca0c7e323257bf80b",
       "style": "IPY_MODEL_5e16e64b035a45f0ab649984bdf5b97c",
       "value": "  0%"
      }
     },
     "c61ec0d133894461a28bfa79b31b9402": {
      "model_module": "@jupyter-widgets/controls",
      "model_module_version": "1.5.0",
      "model_name": "HBoxModel",
      "state": {
       "children": [
        "IPY_MODEL_29801e61fd384133ac3559b58136e079",
        "IPY_MODEL_0a2c7be1d2214244ac154973c8425599",
        "IPY_MODEL_7a2c57fa69c044208c6fc693d2766e88"
       ],
       "layout": "IPY_MODEL_33d326e3a15342a5ad1db17b99082055"
      }
     },
     "ca1ff1dc564d462db4281ff1287b82ae": {
      "model_module": "@jupyter-widgets/base",
      "model_module_version": "1.2.0",
      "model_name": "LayoutModel",
      "state": {}
     },
     "ca35c5908dac46c39f03178b2143f8c0": {
      "model_module": "@jupyter-widgets/controls",
      "model_module_version": "1.5.0",
      "model_name": "HTMLModel",
      "state": {
       "layout": "IPY_MODEL_8cfc72b5005c41ce81808c42d62b2e5c",
       "style": "IPY_MODEL_c3271a4a3339457fa4294e2c95da2e7a",
       "value": "  0%"
      }
     },
     "cbf7135c52d94ae691eb48c91b3bf097": {
      "model_module": "@jupyter-widgets/base",
      "model_module_version": "1.2.0",
      "model_name": "LayoutModel",
      "state": {}
     },
     "d025cdd4a0ef4a18b1644b0cb8b7eeec": {
      "model_module": "@jupyter-widgets/base",
      "model_module_version": "1.2.0",
      "model_name": "LayoutModel",
      "state": {}
     },
     "d02f1d41fb2544aca2e0c67377aada21": {
      "model_module": "@jupyter-widgets/controls",
      "model_module_version": "1.5.0",
      "model_name": "FloatProgressModel",
      "state": {
       "bar_style": "danger",
       "layout": "IPY_MODEL_e0c9f1aa0bae4c48b954e9f5b809cf9f",
       "max": 947,
       "style": "IPY_MODEL_3a13a4f6de0e4e8b92e160eb592d47e1",
       "value": 2
      }
     },
     "d099b7146a2541b98545c7e3432e4d47": {
      "model_module": "@jupyter-widgets/controls",
      "model_module_version": "1.5.0",
      "model_name": "HBoxModel",
      "state": {
       "children": [
        "IPY_MODEL_4fadf2a9217e453a83e025f506b4dadc",
        "IPY_MODEL_491e97fc7b914cdab8e607f60d379968",
        "IPY_MODEL_02c021395828445eafdb752eec95b3af"
       ],
       "layout": "IPY_MODEL_75ceee1eaeaf47f58189504b0c65abfc"
      }
     },
     "d1052a104a4a41269ab3078d61360184": {
      "model_module": "@jupyter-widgets/base",
      "model_module_version": "1.2.0",
      "model_name": "LayoutModel",
      "state": {}
     },
     "d1770ffa15574d5fb578765636543bc4": {
      "model_module": "@jupyter-widgets/base",
      "model_module_version": "1.2.0",
      "model_name": "LayoutModel",
      "state": {}
     },
     "d303a639feed4697ba35a2124e601d09": {
      "model_module": "@jupyter-widgets/controls",
      "model_module_version": "1.5.0",
      "model_name": "HBoxModel",
      "state": {
       "children": [
        "IPY_MODEL_c5f4d292de2b402f91dea409960c1d3a",
        "IPY_MODEL_83a38fbbb3e242068b06f4c790a6b32a",
        "IPY_MODEL_911ea0b99a9d49e1b9b10bd46dde3c88"
       ],
       "layout": "IPY_MODEL_d025cdd4a0ef4a18b1644b0cb8b7eeec"
      }
     },
     "d319555b26894884818f4def53952775": {
      "model_module": "@jupyter-widgets/controls",
      "model_module_version": "1.5.0",
      "model_name": "FloatProgressModel",
      "state": {
       "bar_style": "danger",
       "layout": "IPY_MODEL_a8153c02bd2b4b4d85a10399b0830cef",
       "max": 947,
       "style": "IPY_MODEL_2ec92b86024b408883f6d7af641ae020",
       "value": 16
      }
     },
     "d3ea9e64b76a41bd8bebb7df510d87a8": {
      "model_module": "@jupyter-widgets/base",
      "model_module_version": "1.2.0",
      "model_name": "LayoutModel",
      "state": {}
     },
     "d475886a101a490ea9a385ffc990fcd2": {
      "model_module": "@jupyter-widgets/controls",
      "model_module_version": "1.5.0",
      "model_name": "HTMLModel",
      "state": {
       "layout": "IPY_MODEL_5b4e4f4a8209451f87b630b969b1efbf",
       "style": "IPY_MODEL_496a85fbaced4bc9a96b00f7aa128d59",
       "value": " 2/947 [00:00&lt;02:17,  6.89it/s]"
      }
     },
     "d541f5806b864312957eee029ff191fd": {
      "model_module": "@jupyter-widgets/base",
      "model_module_version": "1.2.0",
      "model_name": "LayoutModel",
      "state": {}
     },
     "d5438c1b6fb34aaaa39e7c5f956d10b9": {
      "model_module": "@jupyter-widgets/controls",
      "model_module_version": "1.5.0",
      "model_name": "FloatProgressModel",
      "state": {
       "bar_style": "danger",
       "layout": "IPY_MODEL_b709e1bf9cd04a5a95d37e5c8fe106b1",
       "max": 947,
       "style": "IPY_MODEL_b3ccfb37f3ce4d26814563201f73bd16",
       "value": 2
      }
     },
     "d6936733b2854da0a4ee0864e7aa1170": {
      "model_module": "@jupyter-widgets/base",
      "model_module_version": "1.2.0",
      "model_name": "LayoutModel",
      "state": {}
     },
     "d6d2c27ba4cd4a83acfaca891fb08174": {
      "model_module": "@jupyter-widgets/base",
      "model_module_version": "1.2.0",
      "model_name": "LayoutModel",
      "state": {}
     },
     "d88d5d9da93147fa982c7175c91afaea": {
      "model_module": "@jupyter-widgets/base",
      "model_module_version": "1.2.0",
      "model_name": "LayoutModel",
      "state": {}
     },
     "d96de0ea48424c818c48cad4792b6f34": {
      "model_module": "@jupyter-widgets/controls",
      "model_module_version": "1.5.0",
      "model_name": "HTMLModel",
      "state": {
       "layout": "IPY_MODEL_7de367176f2b4f18812f46917163a6c5",
       "style": "IPY_MODEL_286a24eb89fd4a56af01af3367b3361d",
       "value": "  0%"
      }
     },
     "da8a24ffbb6149d3b6e689a0caf4406a": {
      "model_module": "@jupyter-widgets/controls",
      "model_module_version": "1.5.0",
      "model_name": "DescriptionStyleModel",
      "state": {
       "description_width": ""
      }
     },
     "db911ddb2d9640db88a846ec3bcb9e5e": {
      "model_module": "@jupyter-widgets/controls",
      "model_module_version": "1.5.0",
      "model_name": "HTMLModel",
      "state": {
       "layout": "IPY_MODEL_ddd8e6b140df4e35a803c26220523ce0",
       "style": "IPY_MODEL_64510559c8b543b3b89b94ec64e93339",
       "value": " 0/947 [00:00&lt;?, ?it/s]"
      }
     },
     "dda8034b3fe8482698a0f1dd0163c033": {
      "model_module": "@jupyter-widgets/base",
      "model_module_version": "1.2.0",
      "model_name": "LayoutModel",
      "state": {}
     },
     "ddd8e6b140df4e35a803c26220523ce0": {
      "model_module": "@jupyter-widgets/base",
      "model_module_version": "1.2.0",
      "model_name": "LayoutModel",
      "state": {}
     },
     "de69d51b51dc47c8a626b766b414fa61": {
      "model_module": "@jupyter-widgets/controls",
      "model_module_version": "1.5.0",
      "model_name": "HTMLModel",
      "state": {
       "layout": "IPY_MODEL_7c73075e2b3e4d02a89a7aa8189e97e2",
       "style": "IPY_MODEL_6da813fe650c4cb19be62659b32a9b82",
       "value": "  0%"
      }
     },
     "e0c9f1aa0bae4c48b954e9f5b809cf9f": {
      "model_module": "@jupyter-widgets/base",
      "model_module_version": "1.2.0",
      "model_name": "LayoutModel",
      "state": {}
     },
     "e14f7428a161483a9586624496d17e81": {
      "model_module": "@jupyter-widgets/controls",
      "model_module_version": "1.5.0",
      "model_name": "ProgressStyleModel",
      "state": {
       "description_width": ""
      }
     },
     "e2549915ba8041908d8270c3b3d1e112": {
      "model_module": "@jupyter-widgets/controls",
      "model_module_version": "1.5.0",
      "model_name": "HTMLModel",
      "state": {
       "layout": "IPY_MODEL_b3a22d1fad7e4563bfea92a3c859a78d",
       "style": "IPY_MODEL_27a985ec879e4db5a95337f44985f7aa",
       "value": " 65/947 [00:15&lt;03:39,  4.01it/s]"
      }
     },
     "e40940b071f04703a6b438d433b777f6": {
      "model_module": "@jupyter-widgets/controls",
      "model_module_version": "1.5.0",
      "model_name": "HBoxModel",
      "state": {
       "children": [
        "IPY_MODEL_bde0ee408fe24d0387adb53b7da14f81",
        "IPY_MODEL_a17c5a9490ed4dd499554abaccfb2ba1",
        "IPY_MODEL_a7adea464a9a47e4a7fe660ac25971cc"
       ],
       "layout": "IPY_MODEL_84ceac88e9834a98ac3710688ee998af"
      }
     },
     "e4433f03af0049afa51c047afd2236c2": {
      "model_module": "@jupyter-widgets/controls",
      "model_module_version": "1.5.0",
      "model_name": "ProgressStyleModel",
      "state": {
       "description_width": ""
      }
     },
     "e45bde40771941d2b59e2e128c3a7d59": {
      "model_module": "@jupyter-widgets/base",
      "model_module_version": "1.2.0",
      "model_name": "LayoutModel",
      "state": {}
     },
     "e612c2c481a0401db233964192dba82e": {
      "model_module": "@jupyter-widgets/controls",
      "model_module_version": "1.5.0",
      "model_name": "HTMLModel",
      "state": {
       "layout": "IPY_MODEL_1fca2f9da56e4d919daf49dd6fc4365c",
       "style": "IPY_MODEL_1e93dad1519b4eaca9ac7b1e2330344c",
       "value": " 0/947 [00:00&lt;?, ?it/s]"
      }
     },
     "e6839b4c12dd4856905ecdb029bb7215": {
      "model_module": "@jupyter-widgets/base",
      "model_module_version": "1.2.0",
      "model_name": "LayoutModel",
      "state": {}
     },
     "ea17a9d48e4f44079a107afce201dde5": {
      "model_module": "@jupyter-widgets/controls",
      "model_module_version": "1.5.0",
      "model_name": "HTMLModel",
      "state": {
       "layout": "IPY_MODEL_5be250177ad64a86810a86036128469b",
       "style": "IPY_MODEL_4b2182949d7f4ba4a4bdc92ee1894028",
       "value": " 0/947 [00:00&lt;?, ?it/s]"
      }
     },
     "ea3b0c26688e44998b4c6555650a542c": {
      "model_module": "@jupyter-widgets/base",
      "model_module_version": "1.2.0",
      "model_name": "LayoutModel",
      "state": {}
     },
     "ecfd34b0815a4ec8a73ab4424aa92894": {
      "model_module": "@jupyter-widgets/controls",
      "model_module_version": "1.5.0",
      "model_name": "ProgressStyleModel",
      "state": {
       "description_width": ""
      }
     },
     "ed00119248b34d199c828d172a22f126": {
      "model_module": "@jupyter-widgets/controls",
      "model_module_version": "1.5.0",
      "model_name": "HTMLModel",
      "state": {
       "layout": "IPY_MODEL_b86ea61739514cd28f7fe627c6f13e0b",
       "style": "IPY_MODEL_28bb47d972e44ea4bcd1e1ae60b32026",
       "value": "  0%"
      }
     },
     "ed19cedd8d024cde9449f00220bd39db": {
      "model_module": "@jupyter-widgets/base",
      "model_module_version": "1.2.0",
      "model_name": "LayoutModel",
      "state": {}
     },
     "edd5d71797244e41aa992fbc2509ca3b": {
      "model_module": "@jupyter-widgets/controls",
      "model_module_version": "1.5.0",
      "model_name": "ProgressStyleModel",
      "state": {
       "description_width": ""
      }
     },
     "ef09f4455b7c4ac89c39caada5dd2be7": {
      "model_module": "@jupyter-widgets/controls",
      "model_module_version": "1.5.0",
      "model_name": "FloatProgressModel",
      "state": {
       "bar_style": "danger",
       "layout": "IPY_MODEL_d88d5d9da93147fa982c7175c91afaea",
       "max": 947,
       "style": "IPY_MODEL_ecfd34b0815a4ec8a73ab4424aa92894"
      }
     },
     "f140dec25a6242428d09571b996b0e3d": {
      "model_module": "@jupyter-widgets/controls",
      "model_module_version": "1.5.0",
      "model_name": "HTMLModel",
      "state": {
       "layout": "IPY_MODEL_bdf0b21f09594f74bdac1e67241c0b7d",
       "style": "IPY_MODEL_0e5e3d8f764b4faf8d9263ac34b4b912",
       "value": "  2%"
      }
     },
     "f25122fb49c747f28f4c0372fe2920be": {
      "model_module": "@jupyter-widgets/base",
      "model_module_version": "1.2.0",
      "model_name": "LayoutModel",
      "state": {}
     },
     "f368c639bbd34eadb9c2226d99f3d9e1": {
      "model_module": "@jupyter-widgets/controls",
      "model_module_version": "1.5.0",
      "model_name": "HBoxModel",
      "state": {
       "children": [
        "IPY_MODEL_4e84ba2f777c4958b60a4e1c3d2c9572",
        "IPY_MODEL_1a56c09abf484272bde95955a6031d3e",
        "IPY_MODEL_a3947453fc5a4c8f9c20fb4835de7751"
       ],
       "layout": "IPY_MODEL_a8456458f2974319bb355d9253f377bf"
      }
     },
     "f36ab642854c446d89bc48686b908e4e": {
      "model_module": "@jupyter-widgets/base",
      "model_module_version": "1.2.0",
      "model_name": "LayoutModel",
      "state": {}
     },
     "f37a3dde30ad4a3aa2f30ef26b8e5e71": {
      "model_module": "@jupyter-widgets/controls",
      "model_module_version": "1.5.0",
      "model_name": "FloatProgressModel",
      "state": {
       "bar_style": "danger",
       "layout": "IPY_MODEL_8413a0cf718f46288e06e72ae46796ff",
       "max": 947,
       "style": "IPY_MODEL_edd5d71797244e41aa992fbc2509ca3b",
       "value": 2
      }
     },
     "f43a35b487444ab29198abe50e7c727f": {
      "model_module": "@jupyter-widgets/base",
      "model_module_version": "1.2.0",
      "model_name": "LayoutModel",
      "state": {}
     },
     "f454d4bef8314e1a832edb996fe97044": {
      "model_module": "@jupyter-widgets/base",
      "model_module_version": "1.2.0",
      "model_name": "LayoutModel",
      "state": {}
     },
     "f6497a1f34254faf9a93abc5e42c3710": {
      "model_module": "@jupyter-widgets/base",
      "model_module_version": "1.2.0",
      "model_name": "LayoutModel",
      "state": {}
     },
     "f68121eb5ea5432783027943c5352b98": {
      "model_module": "@jupyter-widgets/controls",
      "model_module_version": "1.5.0",
      "model_name": "DescriptionStyleModel",
      "state": {
       "description_width": ""
      }
     },
     "f727be820af24e48828ca5c2fda62d80": {
      "model_module": "@jupyter-widgets/controls",
      "model_module_version": "1.5.0",
      "model_name": "ProgressStyleModel",
      "state": {
       "description_width": ""
      }
     },
     "f7757ffae3414287aa384cdf32322559": {
      "model_module": "@jupyter-widgets/controls",
      "model_module_version": "1.5.0",
      "model_name": "HBoxModel",
      "state": {
       "children": [
        "IPY_MODEL_183288d947014d27a78d1a1027048d8d",
        "IPY_MODEL_4d812ed435c34607a7cc22dd54638fc1",
        "IPY_MODEL_508ac581753b49cb8f1f1d6337480217"
       ],
       "layout": "IPY_MODEL_95472c81c6364c238fd029978826a3fa"
      }
     },
     "f978d1cfb2d24cb083d841f86a4d7aa0": {
      "model_module": "@jupyter-widgets/controls",
      "model_module_version": "1.5.0",
      "model_name": "HTMLModel",
      "state": {
       "layout": "IPY_MODEL_64ef59873a3246da90b788498267ecda",
       "style": "IPY_MODEL_ffa2ab891fdf4b26a1bf4f59f399a481",
       "value": " 2/947 [00:00&lt;02:10,  7.26it/s]"
      }
     },
     "f98741f15762466592594c30713667ca": {
      "model_module": "@jupyter-widgets/controls",
      "model_module_version": "1.5.0",
      "model_name": "HTMLModel",
      "state": {
       "layout": "IPY_MODEL_12f82d368fbe4a9293bf0115dffb3486",
       "style": "IPY_MODEL_aa54e59eba334034a5dc34aea2df66b8",
       "value": "  0%"
      }
     },
     "f9ff9dbeb7bb40bfad1464ba0a97d1d9": {
      "model_module": "@jupyter-widgets/base",
      "model_module_version": "1.2.0",
      "model_name": "LayoutModel",
      "state": {}
     },
     "fd63493f30c24a45b930548bfe5474ac": {
      "model_module": "@jupyter-widgets/base",
      "model_module_version": "1.2.0",
      "model_name": "LayoutModel",
      "state": {}
     },
     "fd9928b88d334e88beae49a7afacb46f": {
      "model_module": "@jupyter-widgets/controls",
      "model_module_version": "1.5.0",
      "model_name": "DescriptionStyleModel",
      "state": {
       "description_width": ""
      }
     },
     "fe55da4bc6aa4e27a68fdc12e7390464": {
      "model_module": "@jupyter-widgets/controls",
      "model_module_version": "1.5.0",
      "model_name": "HTMLModel",
      "state": {
       "layout": "IPY_MODEL_2948cdd5e8e34583a0611e3a8331d448",
       "style": "IPY_MODEL_2659307caae44adf8345e7bbd7672c66",
       "value": " 0/947 [00:00&lt;?, ?it/s]"
      }
     },
     "fe69b349aabe41ecb1af40d23eb21057": {
      "model_module": "@jupyter-widgets/controls",
      "model_module_version": "1.5.0",
      "model_name": "HTMLModel",
      "state": {
       "layout": "IPY_MODEL_f43a35b487444ab29198abe50e7c727f",
       "style": "IPY_MODEL_37eb2bd23c164e08ba9ec9b79de5c3d8",
       "value": " 0/947 [00:00&lt;?, ?it/s]"
      }
     },
     "ffa2ab891fdf4b26a1bf4f59f399a481": {
      "model_module": "@jupyter-widgets/controls",
      "model_module_version": "1.5.0",
      "model_name": "DescriptionStyleModel",
      "state": {
       "description_width": ""
      }
     }
    },
    "version_major": 2,
    "version_minor": 0
   }
  }
 },
 "nbformat": 4,
 "nbformat_minor": 5
}
