{
 "cells": [
  {
   "cell_type": "markdown",
   "id": "d11e405d-28d3-4d7b-b2fc-76e7fe973b25",
   "metadata": {},
   "source": [
    "# Compute Bert Embeddings\n",
    "There will be a lot of BERT embeddings to be computed. It's easier to pre-compute all of them, and them use what we ACTUALLY need."
   ]
  },
  {
   "cell_type": "markdown",
   "id": "c06738c0-39e3-4dd1-868d-bdb24ea4e75a",
   "metadata": {},
   "source": [
    "## Embeddings for Wikipedia pages\n",
    "Wikipedia pages can be too long. So we need a strategy for pooling such long documents.\n",
    "we are using the [`all-mpnet-base-v2`](https://huggingface.co/sentence-transformers/all-mpnet-base-v2) model as base, using a mean pooling strategy from `sentence-transformers` to compute embeddings.\n",
    "\n",
    "Each document is split into sentences, using NLTK. If a sentence is longer than the limit of the model (384 tokens in this case), we truncate it."
   ]
  },
  {
   "cell_type": "code",
   "execution_count": 71,
   "id": "3dd2da9e-3944-4b88-b201-29fdcf7881bc",
   "metadata": {},
   "outputs": [],
   "source": [
    "from transformers import AutoTokenizer, AutoModel\n",
    "from nltk.tokenize import sent_tokenize, word_tokenize\n",
    "from collections import defaultdict\n",
    "from sentence_transformers import SentenceTransformer\n",
    "import torch\n",
    "import pickle\n",
    "\n",
    "\n",
    "def normalize_vector(v):\n",
    "    return v / np.linalg.norm(v)"
   ]
  },
  {
   "cell_type": "code",
   "execution_count": 31,
   "id": "8ed19b4a-6c17-43a4-9f6e-495b56f637b0",
   "metadata": {},
   "outputs": [],
   "source": [
    "# Prepare model. May take a while without a GPU.\n",
    "device = \"cuda\" if torch.cuda.is_available() else \"cpu\"\n",
    "bert_model = SentenceTransformer(\"all-mpnet-base-v2\", device=device)"
   ]
  },
  {
   "cell_type": "code",
   "execution_count": 128,
   "id": "f81e0aca-2a11-4244-b032-eb265fb58f4c",
   "metadata": {},
   "outputs": [],
   "source": [
    "wikipedia_sum = {}\n",
    "wikipedia_mean = {}\n",
    "\n",
    "for l in open(\"../data/wikipedia_texts.tsv\"):\n",
    "    topic_title, text = l.strip().split(\"\\t\", maxsplit=1)\n",
    "    sentences = sent_tokenize(text)\n",
    "    embeddings = bert_model.encode(sentences, normalize_embeddings=True)\n",
    "    wikipedia_sum[topic_title] = normalize_vector(np.sum(embeddings, axis=0))\n",
    "    wikipedia_mean[topic_title] = normalize_vector(np.mean(embeddings, axis=0))\n",
    "    \n",
    "# dump to a pickle file\n",
    "pickle.dump(wikipedia_mean, open(\"wikipedia_mean_embeddings.pkl\", 'wb'))\n",
    "pickle.dump(wikipedia_sum, open(\"wikipedia_sum_embeddings.pkl\", 'wb'))"
   ]
  },
  {
   "cell_type": "code",
   "execution_count": 42,
   "id": "f3e859e6-642c-427c-8acf-5b9c2247e03b",
   "metadata": {},
   "outputs": [],
   "source": [
    "import numpy as np\n",
    "\n",
    "# sqrt(this.x*this.x + this.y*this.y);"
   ]
  }
 ],
 "metadata": {
  "kernelspec": {
   "display_name": "DESIRES",
   "language": "python",
   "name": "desires"
  },
  "language_info": {
   "codemirror_mode": {
    "name": "ipython",
    "version": 3
   },
   "file_extension": ".py",
   "mimetype": "text/x-python",
   "name": "python",
   "nbconvert_exporter": "python",
   "pygments_lexer": "ipython3",
   "version": "3.9.5"
  },
  "widgets": {
   "application/vnd.jupyter.widget-state+json": {
    "state": {
     "00f411a73c2343c2b1e191a9808fc819": {
      "model_module": "@jupyter-widgets/base",
      "model_module_version": "1.2.0",
      "model_name": "LayoutModel",
      "state": {}
     },
     "01ac28701d224f3ca4029598550522c3": {
      "model_module": "@jupyter-widgets/base",
      "model_module_version": "1.2.0",
      "model_name": "LayoutModel",
      "state": {}
     },
     "01adf263bf7f4409ac9123612aed012e": {
      "model_module": "@jupyter-widgets/controls",
      "model_module_version": "1.5.0",
      "model_name": "DescriptionStyleModel",
      "state": {
       "description_width": ""
      }
     },
     "03aa2ec07a9c481bbed538328c423fa3": {
      "model_module": "@jupyter-widgets/controls",
      "model_module_version": "1.5.0",
      "model_name": "HTMLModel",
      "state": {
       "layout": "IPY_MODEL_347dc1372c4345ed969450a857afa9e2",
       "style": "IPY_MODEL_4ce7739e83e54b43b2b0437adf88b0ce",
       "value": " 438M/438M [00:09&lt;00:00, 49.1MB/s]"
      }
     },
     "06df9b7c2fc14dd9938083b6aedba17d": {
      "model_module": "@jupyter-widgets/controls",
      "model_module_version": "1.5.0",
      "model_name": "DescriptionStyleModel",
      "state": {
       "description_width": ""
      }
     },
     "08b7051b66454411b235b3e0c607ace6": {
      "model_module": "@jupyter-widgets/controls",
      "model_module_version": "1.5.0",
      "model_name": "FloatProgressModel",
      "state": {
       "bar_style": "success",
       "layout": "IPY_MODEL_4a0b0c0095574056a9b467693b7b2412",
       "max": 363,
       "style": "IPY_MODEL_220e9721f4324149a7dbbabe00a2d8fb",
       "value": 363
      }
     },
     "0b4d2adbb0e448a6b3912e9cae06792f": {
      "model_module": "@jupyter-widgets/controls",
      "model_module_version": "1.5.0",
      "model_name": "HTMLModel",
      "state": {
       "layout": "IPY_MODEL_14281cc86b0b4961ac2eb996c4a2e314",
       "style": "IPY_MODEL_8b19e60cd4334c79a83e2f08d7e62de1",
       "value": " 363/363 [00:00&lt;00:00, 30.3kB/s]"
      }
     },
     "0b8106f4bf6040b1aa0e458e445de206": {
      "model_module": "@jupyter-widgets/base",
      "model_module_version": "1.2.0",
      "model_name": "LayoutModel",
      "state": {}
     },
     "0e120c885fad44a99884b171cc04c873": {
      "model_module": "@jupyter-widgets/controls",
      "model_module_version": "1.5.0",
      "model_name": "HTMLModel",
      "state": {
       "layout": "IPY_MODEL_00f411a73c2343c2b1e191a9808fc819",
       "style": "IPY_MODEL_d26a6159f5564cd2a006f1d534d200e5",
       "value": "Downloading: 100%"
      }
     },
     "0ebd6f27c8824a4795d254be2d048715": {
      "model_module": "@jupyter-widgets/base",
      "model_module_version": "1.2.0",
      "model_name": "LayoutModel",
      "state": {}
     },
     "14281cc86b0b4961ac2eb996c4a2e314": {
      "model_module": "@jupyter-widgets/base",
      "model_module_version": "1.2.0",
      "model_name": "LayoutModel",
      "state": {}
     },
     "14c8e72966f34e54b2b6fed78d14e68e": {
      "model_module": "@jupyter-widgets/controls",
      "model_module_version": "1.5.0",
      "model_name": "DescriptionStyleModel",
      "state": {
       "description_width": ""
      }
     },
     "16d4328e272242f380fa00adaebb3de1": {
      "model_module": "@jupyter-widgets/base",
      "model_module_version": "1.2.0",
      "model_name": "LayoutModel",
      "state": {}
     },
     "1b8c346758474d46a5964b384d7436f9": {
      "model_module": "@jupyter-widgets/controls",
      "model_module_version": "1.5.0",
      "model_name": "DescriptionStyleModel",
      "state": {
       "description_width": ""
      }
     },
     "1c1d29f2ce9b47aa887d079315495328": {
      "model_module": "@jupyter-widgets/base",
      "model_module_version": "1.2.0",
      "model_name": "LayoutModel",
      "state": {}
     },
     "1c73ece3855e4009834dcc26ae95e0a0": {
      "model_module": "@jupyter-widgets/controls",
      "model_module_version": "1.5.0",
      "model_name": "HTMLModel",
      "state": {
       "layout": "IPY_MODEL_b7bab5e1d3b448f18ff6973dcfc4751b",
       "style": "IPY_MODEL_61f773df86a64eca9a1cb2e0a6841d04",
       "value": " 571/571 [00:00&lt;00:00, 53.4kB/s]"
      }
     },
     "1d285b7f4dab437c88e38410da26d942": {
      "model_module": "@jupyter-widgets/base",
      "model_module_version": "1.2.0",
      "model_name": "LayoutModel",
      "state": {}
     },
     "1d963d5db7a94355ad3fa79e0b4c4017": {
      "model_module": "@jupyter-widgets/controls",
      "model_module_version": "1.5.0",
      "model_name": "HBoxModel",
      "state": {
       "children": [
        "IPY_MODEL_8333c5891a424f9190b6f38fd3327d83",
        "IPY_MODEL_95744bdf0faa46499477c787b3b075d7",
        "IPY_MODEL_9379bac8c1db4d16b2070d0e679b4f88"
       ],
       "layout": "IPY_MODEL_f0a0700c2d344e4c8db74e6f3901dae5"
      }
     },
     "1e5c79e1175c4572851dd8c98c55648e": {
      "model_module": "@jupyter-widgets/base",
      "model_module_version": "1.2.0",
      "model_name": "LayoutModel",
      "state": {}
     },
     "1e99c6393bbc4cfd91129eb3a2330975": {
      "model_module": "@jupyter-widgets/controls",
      "model_module_version": "1.5.0",
      "model_name": "HBoxModel",
      "state": {
       "children": [
        "IPY_MODEL_3b9b91f5d9c74560b7865ce0267c7715",
        "IPY_MODEL_36c710c2d9884fdba53c850fdb97eb98",
        "IPY_MODEL_bb2352d18191411085bd91946c47cc3b"
       ],
       "layout": "IPY_MODEL_c216b75ca28845e2b677a2ff9d57cf00"
      }
     },
     "1ed6e2b17b724ccab4742e54b4e90a91": {
      "model_module": "@jupyter-widgets/controls",
      "model_module_version": "1.5.0",
      "model_name": "HBoxModel",
      "state": {
       "children": [
        "IPY_MODEL_46596a1a078a4d7a8797d249646b14d7",
        "IPY_MODEL_286cb4c1273d47b4bdb025d30ec6e9a6",
        "IPY_MODEL_bf3aad775a9c4bbfb7c087e4e8fdb880"
       ],
       "layout": "IPY_MODEL_e1d130a354bd4803b27812e1ecda9dec"
      }
     },
     "1f8997ec3ca043759b248961adf9c276": {
      "model_module": "@jupyter-widgets/controls",
      "model_module_version": "1.5.0",
      "model_name": "FloatProgressModel",
      "state": {
       "bar_style": "success",
       "layout": "IPY_MODEL_c7662951363445de92ac598485c208f4",
       "max": 571,
       "style": "IPY_MODEL_8c53c334dac3449abc7ebcac41d84854",
       "value": 571
      }
     },
     "20f49633a9584fa0b4610869db01ecc9": {
      "model_module": "@jupyter-widgets/base",
      "model_module_version": "1.2.0",
      "model_name": "LayoutModel",
      "state": {}
     },
     "21f6efbee8884c9bb7ebd9ef64e85b3c": {
      "model_module": "@jupyter-widgets/controls",
      "model_module_version": "1.5.0",
      "model_name": "HBoxModel",
      "state": {
       "children": [
        "IPY_MODEL_7b9b04016a3648f98bc21942067a7f27",
        "IPY_MODEL_c1ef5ae248754f60967364a23d515f99",
        "IPY_MODEL_e48b61c13bcd4c26875c541673814807"
       ],
       "layout": "IPY_MODEL_37fe361863df485f84c0c140dad5797c"
      }
     },
     "220e9721f4324149a7dbbabe00a2d8fb": {
      "model_module": "@jupyter-widgets/controls",
      "model_module_version": "1.5.0",
      "model_name": "ProgressStyleModel",
      "state": {
       "description_width": ""
      }
     },
     "2286b1b6d30c4893ab7f484ebdef2e35": {
      "model_module": "@jupyter-widgets/base",
      "model_module_version": "1.2.0",
      "model_name": "LayoutModel",
      "state": {}
     },
     "2455ea3c8cb047f5a946a62b5d39c1a7": {
      "model_module": "@jupyter-widgets/base",
      "model_module_version": "1.2.0",
      "model_name": "LayoutModel",
      "state": {}
     },
     "286cb4c1273d47b4bdb025d30ec6e9a6": {
      "model_module": "@jupyter-widgets/controls",
      "model_module_version": "1.5.0",
      "model_name": "FloatProgressModel",
      "state": {
       "bar_style": "success",
       "layout": "IPY_MODEL_ed12886a08a94fb2b899de9cf73d9ea0",
       "max": 239,
       "style": "IPY_MODEL_656573a9aa504a2ca351f5424f57a7f1",
       "value": 239
      }
     },
     "2a61c4b06f114bdd96ae63fba3a58be9": {
      "model_module": "@jupyter-widgets/base",
      "model_module_version": "1.2.0",
      "model_name": "LayoutModel",
      "state": {}
     },
     "2db40d3890164fa1a8bec3c27ee18254": {
      "model_module": "@jupyter-widgets/controls",
      "model_module_version": "1.5.0",
      "model_name": "DescriptionStyleModel",
      "state": {
       "description_width": ""
      }
     },
     "2e0b31a9df234eb9b4032fc40bdf9a5e": {
      "model_module": "@jupyter-widgets/controls",
      "model_module_version": "1.5.0",
      "model_name": "DescriptionStyleModel",
      "state": {
       "description_width": ""
      }
     },
     "2ef31e3b99484c16977c9e855ef00ab7": {
      "model_module": "@jupyter-widgets/controls",
      "model_module_version": "1.5.0",
      "model_name": "DescriptionStyleModel",
      "state": {
       "description_width": ""
      }
     },
     "3435a6ffe62d48f58da5106793125621": {
      "model_module": "@jupyter-widgets/controls",
      "model_module_version": "1.5.0",
      "model_name": "DescriptionStyleModel",
      "state": {
       "description_width": ""
      }
     },
     "347dc1372c4345ed969450a857afa9e2": {
      "model_module": "@jupyter-widgets/base",
      "model_module_version": "1.2.0",
      "model_name": "LayoutModel",
      "state": {}
     },
     "36903e7fc08e453da1dc8a2a15fd8f67": {
      "model_module": "@jupyter-widgets/base",
      "model_module_version": "1.2.0",
      "model_name": "LayoutModel",
      "state": {}
     },
     "36c710c2d9884fdba53c850fdb97eb98": {
      "model_module": "@jupyter-widgets/controls",
      "model_module_version": "1.5.0",
      "model_name": "FloatProgressModel",
      "state": {
       "bar_style": "success",
       "layout": "IPY_MODEL_a5a314cd38804b1da5a9b374693c0a7f",
       "max": 116,
       "style": "IPY_MODEL_a07c99377cf44130a1751f649c0fed00",
       "value": 116
      }
     },
     "37d24adf009045cda54e7bbd8b11729e": {
      "model_module": "@jupyter-widgets/base",
      "model_module_version": "1.2.0",
      "model_name": "LayoutModel",
      "state": {}
     },
     "37fe361863df485f84c0c140dad5797c": {
      "model_module": "@jupyter-widgets/base",
      "model_module_version": "1.2.0",
      "model_name": "LayoutModel",
      "state": {}
     },
     "38994afe4ca743ea85017ef3ee005cb4": {
      "model_module": "@jupyter-widgets/base",
      "model_module_version": "1.2.0",
      "model_name": "LayoutModel",
      "state": {}
     },
     "3b9b91f5d9c74560b7865ce0267c7715": {
      "model_module": "@jupyter-widgets/controls",
      "model_module_version": "1.5.0",
      "model_name": "HTMLModel",
      "state": {
       "layout": "IPY_MODEL_4557793e27504f779a1956f3cda9827f",
       "style": "IPY_MODEL_a76cf11ed39f4e30a5bcede937730d58",
       "value": "Downloading: 100%"
      }
     },
     "3d1578abf8d6421a9d3957f7e7bd10b1": {
      "model_module": "@jupyter-widgets/base",
      "model_module_version": "1.2.0",
      "model_name": "LayoutModel",
      "state": {}
     },
     "3efdda6d4bce43d89951adbd9f04b62a": {
      "model_module": "@jupyter-widgets/controls",
      "model_module_version": "1.5.0",
      "model_name": "HTMLModel",
      "state": {
       "layout": "IPY_MODEL_db85919b54484018955e3f786dff921c",
       "style": "IPY_MODEL_2e0b31a9df234eb9b4032fc40bdf9a5e",
       "value": " 53.0/53.0 [00:00&lt;00:00, 5.08kB/s]"
      }
     },
     "4557793e27504f779a1956f3cda9827f": {
      "model_module": "@jupyter-widgets/base",
      "model_module_version": "1.2.0",
      "model_name": "LayoutModel",
      "state": {}
     },
     "46596a1a078a4d7a8797d249646b14d7": {
      "model_module": "@jupyter-widgets/controls",
      "model_module_version": "1.5.0",
      "model_name": "HTMLModel",
      "state": {
       "layout": "IPY_MODEL_75649a1ac3714c05b00638ad0d764270",
       "style": "IPY_MODEL_825665bb1a6148f99e8e32ee70baa11f",
       "value": "Downloading: 100%"
      }
     },
     "4684ff9da356417ca13f901ad4fb3faf": {
      "model_module": "@jupyter-widgets/base",
      "model_module_version": "1.2.0",
      "model_name": "LayoutModel",
      "state": {}
     },
     "4934f584eb664067b795830a4b7d30f8": {
      "model_module": "@jupyter-widgets/controls",
      "model_module_version": "1.5.0",
      "model_name": "HTMLModel",
      "state": {
       "layout": "IPY_MODEL_d061435f935a4b8faaa04c648404a127",
       "style": "IPY_MODEL_1b8c346758474d46a5964b384d7436f9",
       "value": " 1.18k/1.18k [00:00&lt;00:00, 113kB/s]"
      }
     },
     "493a520b9de34ca29323d737c566a928": {
      "model_module": "@jupyter-widgets/controls",
      "model_module_version": "1.5.0",
      "model_name": "HBoxModel",
      "state": {
       "children": [
        "IPY_MODEL_5cd5122849184da39791da726af7306f",
        "IPY_MODEL_fc1371e64ae54d6cbe08e6dd455d0e55",
        "IPY_MODEL_d97602559984485b842ce7b210125a1a"
       ],
       "layout": "IPY_MODEL_ea81bf5fe39149d7919f29870d1fb639"
      }
     },
     "4a0b0c0095574056a9b467693b7b2412": {
      "model_module": "@jupyter-widgets/base",
      "model_module_version": "1.2.0",
      "model_name": "LayoutModel",
      "state": {}
     },
     "4c0f1997e28a4791bf37a2b3d2148b0b": {
      "model_module": "@jupyter-widgets/controls",
      "model_module_version": "1.5.0",
      "model_name": "HTMLModel",
      "state": {
       "layout": "IPY_MODEL_1c1d29f2ce9b47aa887d079315495328",
       "style": "IPY_MODEL_831de8f7ce11430485b080e36a8eb13d",
       "value": "Downloading: 100%"
      }
     },
     "4c1aa879eb334e1e9d53702fb463c20d": {
      "model_module": "@jupyter-widgets/base",
      "model_module_version": "1.2.0",
      "model_name": "LayoutModel",
      "state": {}
     },
     "4c7d052b89e44808b63c602cf5dc87ba": {
      "model_module": "@jupyter-widgets/base",
      "model_module_version": "1.2.0",
      "model_name": "LayoutModel",
      "state": {}
     },
     "4c9a3418757d4ef4ab83d88539a76a98": {
      "model_module": "@jupyter-widgets/controls",
      "model_module_version": "1.5.0",
      "model_name": "ProgressStyleModel",
      "state": {
       "description_width": ""
      }
     },
     "4ce7739e83e54b43b2b0437adf88b0ce": {
      "model_module": "@jupyter-widgets/controls",
      "model_module_version": "1.5.0",
      "model_name": "DescriptionStyleModel",
      "state": {
       "description_width": ""
      }
     },
     "546238248a4245968b9687e6b9cfa744": {
      "model_module": "@jupyter-widgets/base",
      "model_module_version": "1.2.0",
      "model_name": "LayoutModel",
      "state": {}
     },
     "556d281d3bc04978a56954ff9b73df02": {
      "model_module": "@jupyter-widgets/base",
      "model_module_version": "1.2.0",
      "model_name": "LayoutModel",
      "state": {}
     },
     "59a0f36f29614fe0b0d6d0fcabb6afae": {
      "model_module": "@jupyter-widgets/controls",
      "model_module_version": "1.5.0",
      "model_name": "DescriptionStyleModel",
      "state": {
       "description_width": ""
      }
     },
     "5a9092a8a4804f079bc78f068c0b3b8c": {
      "model_module": "@jupyter-widgets/controls",
      "model_module_version": "1.5.0",
      "model_name": "HBoxModel",
      "state": {
       "children": [
        "IPY_MODEL_0e120c885fad44a99884b171cc04c873",
        "IPY_MODEL_08b7051b66454411b235b3e0c607ace6",
        "IPY_MODEL_0b4d2adbb0e448a6b3912e9cae06792f"
       ],
       "layout": "IPY_MODEL_37d24adf009045cda54e7bbd8b11729e"
      }
     },
     "5b756d2cb0c940e8907252a24e9280e6": {
      "model_module": "@jupyter-widgets/controls",
      "model_module_version": "1.5.0",
      "model_name": "ProgressStyleModel",
      "state": {
       "description_width": ""
      }
     },
     "5c42c12ad10447ed9b97a5498caae381": {
      "model_module": "@jupyter-widgets/controls",
      "model_module_version": "1.5.0",
      "model_name": "HBoxModel",
      "state": {
       "children": [
        "IPY_MODEL_dac731d9159b48329e4e07b6c3039a9c",
        "IPY_MODEL_d37b7fb1cca54c1d8771bd467afd834d",
        "IPY_MODEL_4934f584eb664067b795830a4b7d30f8"
       ],
       "layout": "IPY_MODEL_70b67a7680f74c33825acb57292fdf01"
      }
     },
     "5cd5122849184da39791da726af7306f": {
      "model_module": "@jupyter-widgets/controls",
      "model_module_version": "1.5.0",
      "model_name": "HTMLModel",
      "state": {
       "layout": "IPY_MODEL_cbcbcdaf457e49039b5973af93072070",
       "style": "IPY_MODEL_3435a6ffe62d48f58da5106793125621",
       "value": "Downloading: 100%"
      }
     },
     "5cebc85be42e400f92d69310b0ded668": {
      "model_module": "@jupyter-widgets/controls",
      "model_module_version": "1.5.0",
      "model_name": "ProgressStyleModel",
      "state": {
       "description_width": ""
      }
     },
     "5da93c5173164bc1ac0f1551049efcdb": {
      "model_module": "@jupyter-widgets/controls",
      "model_module_version": "1.5.0",
      "model_name": "DescriptionStyleModel",
      "state": {
       "description_width": ""
      }
     },
     "5db5c326b36845e6a843717a13515622": {
      "model_module": "@jupyter-widgets/controls",
      "model_module_version": "1.5.0",
      "model_name": "HTMLModel",
      "state": {
       "layout": "IPY_MODEL_792f481be87943e898edaa5a0c217ae1",
       "style": "IPY_MODEL_14c8e72966f34e54b2b6fed78d14e68e",
       "value": "Downloading: 100%"
      }
     },
     "5fc3e7464d8e4bf0a8affd2e003c9916": {
      "model_module": "@jupyter-widgets/controls",
      "model_module_version": "1.5.0",
      "model_name": "ProgressStyleModel",
      "state": {
       "description_width": ""
      }
     },
     "6097f8b1267942fe9a598a008871a678": {
      "model_module": "@jupyter-widgets/base",
      "model_module_version": "1.2.0",
      "model_name": "LayoutModel",
      "state": {}
     },
     "61f773df86a64eca9a1cb2e0a6841d04": {
      "model_module": "@jupyter-widgets/controls",
      "model_module_version": "1.5.0",
      "model_name": "DescriptionStyleModel",
      "state": {
       "description_width": ""
      }
     },
     "62c52e60f32449a79637b7825a1468e7": {
      "model_module": "@jupyter-widgets/controls",
      "model_module_version": "1.5.0",
      "model_name": "HTMLModel",
      "state": {
       "layout": "IPY_MODEL_6097f8b1267942fe9a598a008871a678",
       "style": "IPY_MODEL_2db40d3890164fa1a8bec3c27ee18254",
       "value": " 190/190 [00:00&lt;00:00, 17.6kB/s]"
      }
     },
     "63d912b503d74b2984e4c3de8caa138e": {
      "model_module": "@jupyter-widgets/controls",
      "model_module_version": "1.5.0",
      "model_name": "HTMLModel",
      "state": {
       "layout": "IPY_MODEL_d6411eceaa56426f9081e0f7315a3cd8",
       "style": "IPY_MODEL_59a0f36f29614fe0b0d6d0fcabb6afae",
       "value": "Downloading: 100%"
      }
     },
     "656573a9aa504a2ca351f5424f57a7f1": {
      "model_module": "@jupyter-widgets/controls",
      "model_module_version": "1.5.0",
      "model_name": "ProgressStyleModel",
      "state": {
       "description_width": ""
      }
     },
     "678ee733189a49208723daaaba89277f": {
      "model_module": "@jupyter-widgets/controls",
      "model_module_version": "1.5.0",
      "model_name": "DescriptionStyleModel",
      "state": {
       "description_width": ""
      }
     },
     "68f8441f69784c3b8d333e30ad9d857a": {
      "model_module": "@jupyter-widgets/controls",
      "model_module_version": "1.5.0",
      "model_name": "DescriptionStyleModel",
      "state": {
       "description_width": ""
      }
     },
     "6957fe5c5edd4f878466e2e73d182741": {
      "model_module": "@jupyter-widgets/controls",
      "model_module_version": "1.5.0",
      "model_name": "FloatProgressModel",
      "state": {
       "bar_style": "success",
       "layout": "IPY_MODEL_bd0f0e4637464686a22d0f8502c91b0e",
       "max": 13123,
       "style": "IPY_MODEL_ae627189099d49bb94cf9dcb1a079000",
       "value": 13123
      }
     },
     "6b73e037685b46bb9f760291b33fb422": {
      "model_module": "@jupyter-widgets/controls",
      "model_module_version": "1.5.0",
      "model_name": "FloatProgressModel",
      "state": {
       "bar_style": "success",
       "layout": "IPY_MODEL_964d8f48bddb4c89817d01439386f054",
       "max": 349,
       "style": "IPY_MODEL_8fbe314527414efaa144736622a3ee64",
       "value": 349
      }
     },
     "70b67a7680f74c33825acb57292fdf01": {
      "model_module": "@jupyter-widgets/base",
      "model_module_version": "1.2.0",
      "model_name": "LayoutModel",
      "state": {}
     },
     "75649a1ac3714c05b00638ad0d764270": {
      "model_module": "@jupyter-widgets/base",
      "model_module_version": "1.2.0",
      "model_name": "LayoutModel",
      "state": {}
     },
     "770be8549e104b3d8e251539097926a8": {
      "model_module": "@jupyter-widgets/controls",
      "model_module_version": "1.5.0",
      "model_name": "HTMLModel",
      "state": {
       "layout": "IPY_MODEL_4c1aa879eb334e1e9d53702fb463c20d",
       "style": "IPY_MODEL_dcfd10ae41114b00a33490554b99ff18",
       "value": "Downloading: 100%"
      }
     },
     "772e83bf7dce4e598522e18f06506967": {
      "model_module": "@jupyter-widgets/controls",
      "model_module_version": "1.5.0",
      "model_name": "ProgressStyleModel",
      "state": {
       "description_width": ""
      }
     },
     "792f481be87943e898edaa5a0c217ae1": {
      "model_module": "@jupyter-widgets/base",
      "model_module_version": "1.2.0",
      "model_name": "LayoutModel",
      "state": {}
     },
     "7af33d5d66924b4f82ad7d7ae1ac1d4a": {
      "model_module": "@jupyter-widgets/controls",
      "model_module_version": "1.5.0",
      "model_name": "HBoxModel",
      "state": {
       "children": [
        "IPY_MODEL_e10987933e744d7eaf70b1c3d5da57d2",
        "IPY_MODEL_6b73e037685b46bb9f760291b33fb422",
        "IPY_MODEL_a987f02ac91740d9ad845168aac896d5"
       ],
       "layout": "IPY_MODEL_d33c88b85f924c7bbb2716b9206d20ee"
      }
     },
     "7b9b04016a3648f98bc21942067a7f27": {
      "model_module": "@jupyter-widgets/controls",
      "model_module_version": "1.5.0",
      "model_name": "HTMLModel",
      "state": {
       "layout": "IPY_MODEL_0ebd6f27c8824a4795d254be2d048715",
       "style": "IPY_MODEL_fde14abeb393409cb968ab9819c6efb4",
       "value": "Downloading: 100%"
      }
     },
     "7e6adc4887d6458baf4582fa300a2fcc": {
      "model_module": "@jupyter-widgets/controls",
      "model_module_version": "1.5.0",
      "model_name": "HTMLModel",
      "state": {
       "layout": "IPY_MODEL_ce11a21d969c4ec6904142c7317bbd05",
       "style": "IPY_MODEL_ed85f27fc83e443080ad164b7afb1736",
       "value": "Downloading: 100%"
      }
     },
     "7f8b79b5a9734d4aa018af592be75f7f": {
      "model_module": "@jupyter-widgets/controls",
      "model_module_version": "1.5.0",
      "model_name": "DescriptionStyleModel",
      "state": {
       "description_width": ""
      }
     },
     "825665bb1a6148f99e8e32ee70baa11f": {
      "model_module": "@jupyter-widgets/controls",
      "model_module_version": "1.5.0",
      "model_name": "DescriptionStyleModel",
      "state": {
       "description_width": ""
      }
     },
     "831de8f7ce11430485b080e36a8eb13d": {
      "model_module": "@jupyter-widgets/controls",
      "model_module_version": "1.5.0",
      "model_name": "DescriptionStyleModel",
      "state": {
       "description_width": ""
      }
     },
     "8333c5891a424f9190b6f38fd3327d83": {
      "model_module": "@jupyter-widgets/controls",
      "model_module_version": "1.5.0",
      "model_name": "HTMLModel",
      "state": {
       "layout": "IPY_MODEL_2286b1b6d30c4893ab7f484ebdef2e35",
       "style": "IPY_MODEL_2ef31e3b99484c16977c9e855ef00ab7",
       "value": "Downloading: 100%"
      }
     },
     "83f382dd090a44348b0d6e4ad38cdfed": {
      "model_module": "@jupyter-widgets/controls",
      "model_module_version": "1.5.0",
      "model_name": "ProgressStyleModel",
      "state": {
       "description_width": ""
      }
     },
     "84d73a46269c451ba313c1f2c463d6e1": {
      "model_module": "@jupyter-widgets/controls",
      "model_module_version": "1.5.0",
      "model_name": "DescriptionStyleModel",
      "state": {
       "description_width": ""
      }
     },
     "87208ce147e84516bb10b491ad00882f": {
      "model_module": "@jupyter-widgets/base",
      "model_module_version": "1.2.0",
      "model_name": "LayoutModel",
      "state": {}
     },
     "8b19e60cd4334c79a83e2f08d7e62de1": {
      "model_module": "@jupyter-widgets/controls",
      "model_module_version": "1.5.0",
      "model_name": "DescriptionStyleModel",
      "state": {
       "description_width": ""
      }
     },
     "8c53c334dac3449abc7ebcac41d84854": {
      "model_module": "@jupyter-widgets/controls",
      "model_module_version": "1.5.0",
      "model_name": "ProgressStyleModel",
      "state": {
       "description_width": ""
      }
     },
     "8fbe314527414efaa144736622a3ee64": {
      "model_module": "@jupyter-widgets/controls",
      "model_module_version": "1.5.0",
      "model_name": "ProgressStyleModel",
      "state": {
       "description_width": ""
      }
     },
     "91a6593b0b4644a785d75e380f9a4462": {
      "model_module": "@jupyter-widgets/controls",
      "model_module_version": "1.5.0",
      "model_name": "FloatProgressModel",
      "state": {
       "bar_style": "success",
       "layout": "IPY_MODEL_0b8106f4bf6040b1aa0e458e445de206",
       "max": 53,
       "style": "IPY_MODEL_5cebc85be42e400f92d69310b0ded668",
       "value": 53
      }
     },
     "9379bac8c1db4d16b2070d0e679b4f88": {
      "model_module": "@jupyter-widgets/controls",
      "model_module_version": "1.5.0",
      "model_name": "HTMLModel",
      "state": {
       "layout": "IPY_MODEL_9bf0dc347aef473ea6f92267a4453b41",
       "style": "IPY_MODEL_7f8b79b5a9734d4aa018af592be75f7f",
       "value": " 466k/466k [00:00&lt;00:00, 681kB/s]"
      }
     },
     "93f861bb1508475e90a167fcd86dc9a5": {
      "model_module": "@jupyter-widgets/controls",
      "model_module_version": "1.5.0",
      "model_name": "HTMLModel",
      "state": {
       "layout": "IPY_MODEL_1d285b7f4dab437c88e38410da26d942",
       "style": "IPY_MODEL_84d73a46269c451ba313c1f2c463d6e1",
       "value": " 13.1k/13.1k [00:00&lt;00:00, 1.20MB/s]"
      }
     },
     "95744bdf0faa46499477c787b3b075d7": {
      "model_module": "@jupyter-widgets/controls",
      "model_module_version": "1.5.0",
      "model_name": "FloatProgressModel",
      "state": {
       "bar_style": "success",
       "layout": "IPY_MODEL_1e5c79e1175c4572851dd8c98c55648e",
       "max": 466021,
       "style": "IPY_MODEL_5fc3e7464d8e4bf0a8affd2e003c9916",
       "value": 466021
      }
     },
     "964d8f48bddb4c89817d01439386f054": {
      "model_module": "@jupyter-widgets/base",
      "model_module_version": "1.2.0",
      "model_name": "LayoutModel",
      "state": {}
     },
     "9bf0dc347aef473ea6f92267a4453b41": {
      "model_module": "@jupyter-widgets/base",
      "model_module_version": "1.2.0",
      "model_name": "LayoutModel",
      "state": {}
     },
     "9d9c5cc4d1c645bcabe5bdd69d0ba034": {
      "model_module": "@jupyter-widgets/controls",
      "model_module_version": "1.5.0",
      "model_name": "DescriptionStyleModel",
      "state": {
       "description_width": ""
      }
     },
     "9fd026f2d9af4e08bc46c1ac7a68d203": {
      "model_module": "@jupyter-widgets/controls",
      "model_module_version": "1.5.0",
      "model_name": "FloatProgressModel",
      "state": {
       "bar_style": "success",
       "layout": "IPY_MODEL_df9433e8dc424a12a168134b3531febe",
       "max": 190,
       "style": "IPY_MODEL_5b756d2cb0c940e8907252a24e9280e6",
       "value": 190
      }
     },
     "a07c99377cf44130a1751f649c0fed00": {
      "model_module": "@jupyter-widgets/controls",
      "model_module_version": "1.5.0",
      "model_name": "ProgressStyleModel",
      "state": {
       "description_width": ""
      }
     },
     "a39f3b12cdeb46fd8fa87ac2cf061457": {
      "model_module": "@jupyter-widgets/controls",
      "model_module_version": "1.5.0",
      "model_name": "ProgressStyleModel",
      "state": {
       "description_width": ""
      }
     },
     "a4ddd4bebaeb4c93a5528fb746e086ad": {
      "model_module": "@jupyter-widgets/controls",
      "model_module_version": "1.5.0",
      "model_name": "HBoxModel",
      "state": {
       "children": [
        "IPY_MODEL_770be8549e104b3d8e251539097926a8",
        "IPY_MODEL_6957fe5c5edd4f878466e2e73d182741",
        "IPY_MODEL_93f861bb1508475e90a167fcd86dc9a5"
       ],
       "layout": "IPY_MODEL_c6d667ee976c40e09909ea3d1f4e7a8a"
      }
     },
     "a5a314cd38804b1da5a9b374693c0a7f": {
      "model_module": "@jupyter-widgets/base",
      "model_module_version": "1.2.0",
      "model_name": "LayoutModel",
      "state": {}
     },
     "a5b839e6268c49a3b3bf27df186531cf": {
      "model_module": "@jupyter-widgets/controls",
      "model_module_version": "1.5.0",
      "model_name": "HTMLModel",
      "state": {
       "layout": "IPY_MODEL_4c7d052b89e44808b63c602cf5dc87ba",
       "style": "IPY_MODEL_678ee733189a49208723daaaba89277f",
       "value": " 232k/232k [00:00&lt;00:00, 392kB/s]"
      }
     },
     "a5fb8d53bd514038975778640b405c22": {
      "model_module": "@jupyter-widgets/controls",
      "model_module_version": "1.5.0",
      "model_name": "FloatProgressModel",
      "state": {
       "bar_style": "success",
       "layout": "IPY_MODEL_f9cf7634c4c54457b806851ab03df9a3",
       "max": 438011953,
       "style": "IPY_MODEL_83f382dd090a44348b0d6e4ad38cdfed",
       "value": 438011953
      }
     },
     "a76cf11ed39f4e30a5bcede937730d58": {
      "model_module": "@jupyter-widgets/controls",
      "model_module_version": "1.5.0",
      "model_name": "DescriptionStyleModel",
      "state": {
       "description_width": ""
      }
     },
     "a7dcefc7a18c4c65af725af4d481c298": {
      "model_module": "@jupyter-widgets/controls",
      "model_module_version": "1.5.0",
      "model_name": "HBoxModel",
      "state": {
       "children": [
        "IPY_MODEL_ab1f58afd3564c2792a7f5e70c8918f6",
        "IPY_MODEL_d5f738c3b18c4674bb5961ea279d408d",
        "IPY_MODEL_a5b839e6268c49a3b3bf27df186531cf"
       ],
       "layout": "IPY_MODEL_38994afe4ca743ea85017ef3ee005cb4"
      }
     },
     "a987f02ac91740d9ad845168aac896d5": {
      "model_module": "@jupyter-widgets/controls",
      "model_module_version": "1.5.0",
      "model_name": "HTMLModel",
      "state": {
       "layout": "IPY_MODEL_2455ea3c8cb047f5a946a62b5d39c1a7",
       "style": "IPY_MODEL_01adf263bf7f4409ac9123612aed012e",
       "value": " 349/349 [00:00&lt;00:00, 32.4kB/s]"
      }
     },
     "ab1f58afd3564c2792a7f5e70c8918f6": {
      "model_module": "@jupyter-widgets/controls",
      "model_module_version": "1.5.0",
      "model_name": "HTMLModel",
      "state": {
       "layout": "IPY_MODEL_2a61c4b06f114bdd96ae63fba3a58be9",
       "style": "IPY_MODEL_e4caa3bf0c384edf92864aa4b73b5ce1",
       "value": "Downloading: 100%"
      }
     },
     "ac40be248fde411e9f5c102b5929bd1f": {
      "model_module": "@jupyter-widgets/controls",
      "model_module_version": "1.5.0",
      "model_name": "HBoxModel",
      "state": {
       "children": [
        "IPY_MODEL_4c0f1997e28a4791bf37a2b3d2148b0b",
        "IPY_MODEL_91a6593b0b4644a785d75e380f9a4462",
        "IPY_MODEL_3efdda6d4bce43d89951adbd9f04b62a"
       ],
       "layout": "IPY_MODEL_36903e7fc08e453da1dc8a2a15fd8f67"
      }
     },
     "ae627189099d49bb94cf9dcb1a079000": {
      "model_module": "@jupyter-widgets/controls",
      "model_module_version": "1.5.0",
      "model_name": "ProgressStyleModel",
      "state": {
       "description_width": ""
      }
     },
     "b2875be6e5204064ae5647545d3a84c7": {
      "model_module": "@jupyter-widgets/controls",
      "model_module_version": "1.5.0",
      "model_name": "DescriptionStyleModel",
      "state": {
       "description_width": ""
      }
     },
     "b7bab5e1d3b448f18ff6973dcfc4751b": {
      "model_module": "@jupyter-widgets/base",
      "model_module_version": "1.2.0",
      "model_name": "LayoutModel",
      "state": {}
     },
     "b7f8547f07504963bd858d7a976c3315": {
      "model_module": "@jupyter-widgets/controls",
      "model_module_version": "1.5.0",
      "model_name": "HBoxModel",
      "state": {
       "children": [
        "IPY_MODEL_7e6adc4887d6458baf4582fa300a2fcc",
        "IPY_MODEL_a5fb8d53bd514038975778640b405c22",
        "IPY_MODEL_03aa2ec07a9c481bbed538328c423fa3"
       ],
       "layout": "IPY_MODEL_546238248a4245968b9687e6b9cfa744"
      }
     },
     "badee55dc02e492ca0632085a3cfbb25": {
      "model_module": "@jupyter-widgets/controls",
      "model_module_version": "1.5.0",
      "model_name": "ProgressStyleModel",
      "state": {
       "description_width": ""
      }
     },
     "bb2352d18191411085bd91946c47cc3b": {
      "model_module": "@jupyter-widgets/controls",
      "model_module_version": "1.5.0",
      "model_name": "HTMLModel",
      "state": {
       "layout": "IPY_MODEL_556d281d3bc04978a56954ff9b73df02",
       "style": "IPY_MODEL_5da93c5173164bc1ac0f1551049efcdb",
       "value": " 116/116 [00:00&lt;00:00, 10.9kB/s]"
      }
     },
     "bca1089c95a7497a9c345478102b31b1": {
      "model_module": "@jupyter-widgets/base",
      "model_module_version": "1.2.0",
      "model_name": "LayoutModel",
      "state": {}
     },
     "bd0f0e4637464686a22d0f8502c91b0e": {
      "model_module": "@jupyter-widgets/base",
      "model_module_version": "1.2.0",
      "model_name": "LayoutModel",
      "state": {}
     },
     "bf3aad775a9c4bbfb7c087e4e8fdb880": {
      "model_module": "@jupyter-widgets/controls",
      "model_module_version": "1.5.0",
      "model_name": "HTMLModel",
      "state": {
       "layout": "IPY_MODEL_3d1578abf8d6421a9d3957f7e7bd10b1",
       "style": "IPY_MODEL_9d9c5cc4d1c645bcabe5bdd69d0ba034",
       "value": " 239/239 [00:00&lt;00:00, 22.3kB/s]"
      }
     },
     "c1ef5ae248754f60967364a23d515f99": {
      "model_module": "@jupyter-widgets/controls",
      "model_module_version": "1.5.0",
      "model_name": "FloatProgressModel",
      "state": {
       "bar_style": "success",
       "layout": "IPY_MODEL_dcdede6786f546c3933e62bd498b4c50",
       "max": 10138,
       "style": "IPY_MODEL_772e83bf7dce4e598522e18f06506967",
       "value": 10138
      }
     },
     "c216b75ca28845e2b677a2ff9d57cf00": {
      "model_module": "@jupyter-widgets/base",
      "model_module_version": "1.2.0",
      "model_name": "LayoutModel",
      "state": {}
     },
     "c6d667ee976c40e09909ea3d1f4e7a8a": {
      "model_module": "@jupyter-widgets/base",
      "model_module_version": "1.2.0",
      "model_name": "LayoutModel",
      "state": {}
     },
     "c7662951363445de92ac598485c208f4": {
      "model_module": "@jupyter-widgets/base",
      "model_module_version": "1.2.0",
      "model_name": "LayoutModel",
      "state": {}
     },
     "ca8508ab340749fcaf6255bda394677d": {
      "model_module": "@jupyter-widgets/controls",
      "model_module_version": "1.5.0",
      "model_name": "HBoxModel",
      "state": {
       "children": [
        "IPY_MODEL_5db5c326b36845e6a843717a13515622",
        "IPY_MODEL_9fd026f2d9af4e08bc46c1ac7a68d203",
        "IPY_MODEL_62c52e60f32449a79637b7825a1468e7"
       ],
       "layout": "IPY_MODEL_87208ce147e84516bb10b491ad00882f"
      }
     },
     "ca93a636775a404f8d54b041cc83d650": {
      "model_module": "@jupyter-widgets/controls",
      "model_module_version": "1.5.0",
      "model_name": "HBoxModel",
      "state": {
       "children": [
        "IPY_MODEL_63d912b503d74b2984e4c3de8caa138e",
        "IPY_MODEL_1f8997ec3ca043759b248961adf9c276",
        "IPY_MODEL_1c73ece3855e4009834dcc26ae95e0a0"
       ],
       "layout": "IPY_MODEL_01ac28701d224f3ca4029598550522c3"
      }
     },
     "cbcbcdaf457e49039b5973af93072070": {
      "model_module": "@jupyter-widgets/base",
      "model_module_version": "1.2.0",
      "model_name": "LayoutModel",
      "state": {}
     },
     "ce11a21d969c4ec6904142c7317bbd05": {
      "model_module": "@jupyter-widgets/base",
      "model_module_version": "1.2.0",
      "model_name": "LayoutModel",
      "state": {}
     },
     "d061435f935a4b8faaa04c648404a127": {
      "model_module": "@jupyter-widgets/base",
      "model_module_version": "1.2.0",
      "model_name": "LayoutModel",
      "state": {}
     },
     "d26a6159f5564cd2a006f1d534d200e5": {
      "model_module": "@jupyter-widgets/controls",
      "model_module_version": "1.5.0",
      "model_name": "DescriptionStyleModel",
      "state": {
       "description_width": ""
      }
     },
     "d33c88b85f924c7bbb2716b9206d20ee": {
      "model_module": "@jupyter-widgets/base",
      "model_module_version": "1.2.0",
      "model_name": "LayoutModel",
      "state": {}
     },
     "d37b7fb1cca54c1d8771bd467afd834d": {
      "model_module": "@jupyter-widgets/controls",
      "model_module_version": "1.5.0",
      "model_name": "FloatProgressModel",
      "state": {
       "bar_style": "success",
       "layout": "IPY_MODEL_4684ff9da356417ca13f901ad4fb3faf",
       "max": 1175,
       "style": "IPY_MODEL_4c9a3418757d4ef4ab83d88539a76a98",
       "value": 1175
      }
     },
     "d5f738c3b18c4674bb5961ea279d408d": {
      "model_module": "@jupyter-widgets/controls",
      "model_module_version": "1.5.0",
      "model_name": "FloatProgressModel",
      "state": {
       "bar_style": "success",
       "layout": "IPY_MODEL_bca1089c95a7497a9c345478102b31b1",
       "max": 231536,
       "style": "IPY_MODEL_badee55dc02e492ca0632085a3cfbb25",
       "value": 231536
      }
     },
     "d6411eceaa56426f9081e0f7315a3cd8": {
      "model_module": "@jupyter-widgets/base",
      "model_module_version": "1.2.0",
      "model_name": "LayoutModel",
      "state": {}
     },
     "d97602559984485b842ce7b210125a1a": {
      "model_module": "@jupyter-widgets/controls",
      "model_module_version": "1.5.0",
      "model_name": "HTMLModel",
      "state": {
       "layout": "IPY_MODEL_de853a50adf44d6ca418af325d14cf2a",
       "style": "IPY_MODEL_68f8441f69784c3b8d333e30ad9d857a",
       "value": " 39.3k/39.3k [00:00&lt;00:00, 116kB/s]"
      }
     },
     "dac731d9159b48329e4e07b6c3039a9c": {
      "model_module": "@jupyter-widgets/controls",
      "model_module_version": "1.5.0",
      "model_name": "HTMLModel",
      "state": {
       "layout": "IPY_MODEL_fa7ce5ba9b224fa79900becbcac265e9",
       "style": "IPY_MODEL_ee2fc18568fc4bda831a6d616f987291",
       "value": "Downloading: 100%"
      }
     },
     "db85919b54484018955e3f786dff921c": {
      "model_module": "@jupyter-widgets/base",
      "model_module_version": "1.2.0",
      "model_name": "LayoutModel",
      "state": {}
     },
     "dcdede6786f546c3933e62bd498b4c50": {
      "model_module": "@jupyter-widgets/base",
      "model_module_version": "1.2.0",
      "model_name": "LayoutModel",
      "state": {}
     },
     "dcfd10ae41114b00a33490554b99ff18": {
      "model_module": "@jupyter-widgets/controls",
      "model_module_version": "1.5.0",
      "model_name": "DescriptionStyleModel",
      "state": {
       "description_width": ""
      }
     },
     "de853a50adf44d6ca418af325d14cf2a": {
      "model_module": "@jupyter-widgets/base",
      "model_module_version": "1.2.0",
      "model_name": "LayoutModel",
      "state": {}
     },
     "df9433e8dc424a12a168134b3531febe": {
      "model_module": "@jupyter-widgets/base",
      "model_module_version": "1.2.0",
      "model_name": "LayoutModel",
      "state": {}
     },
     "e10987933e744d7eaf70b1c3d5da57d2": {
      "model_module": "@jupyter-widgets/controls",
      "model_module_version": "1.5.0",
      "model_name": "HTMLModel",
      "state": {
       "layout": "IPY_MODEL_16d4328e272242f380fa00adaebb3de1",
       "style": "IPY_MODEL_b2875be6e5204064ae5647545d3a84c7",
       "value": "Downloading: 100%"
      }
     },
     "e1d130a354bd4803b27812e1ecda9dec": {
      "model_module": "@jupyter-widgets/base",
      "model_module_version": "1.2.0",
      "model_name": "LayoutModel",
      "state": {}
     },
     "e48b61c13bcd4c26875c541673814807": {
      "model_module": "@jupyter-widgets/controls",
      "model_module_version": "1.5.0",
      "model_name": "HTMLModel",
      "state": {
       "layout": "IPY_MODEL_fb1be53ca418427b9cf3f86889812093",
       "style": "IPY_MODEL_06df9b7c2fc14dd9938083b6aedba17d",
       "value": " 10.1k/10.1k [00:00&lt;00:00, 935kB/s]"
      }
     },
     "e4caa3bf0c384edf92864aa4b73b5ce1": {
      "model_module": "@jupyter-widgets/controls",
      "model_module_version": "1.5.0",
      "model_name": "DescriptionStyleModel",
      "state": {
       "description_width": ""
      }
     },
     "ea81bf5fe39149d7919f29870d1fb639": {
      "model_module": "@jupyter-widgets/base",
      "model_module_version": "1.2.0",
      "model_name": "LayoutModel",
      "state": {}
     },
     "ed12886a08a94fb2b899de9cf73d9ea0": {
      "model_module": "@jupyter-widgets/base",
      "model_module_version": "1.2.0",
      "model_name": "LayoutModel",
      "state": {}
     },
     "ed85f27fc83e443080ad164b7afb1736": {
      "model_module": "@jupyter-widgets/controls",
      "model_module_version": "1.5.0",
      "model_name": "DescriptionStyleModel",
      "state": {
       "description_width": ""
      }
     },
     "ee2fc18568fc4bda831a6d616f987291": {
      "model_module": "@jupyter-widgets/controls",
      "model_module_version": "1.5.0",
      "model_name": "DescriptionStyleModel",
      "state": {
       "description_width": ""
      }
     },
     "f0a0700c2d344e4c8db74e6f3901dae5": {
      "model_module": "@jupyter-widgets/base",
      "model_module_version": "1.2.0",
      "model_name": "LayoutModel",
      "state": {}
     },
     "f9cf7634c4c54457b806851ab03df9a3": {
      "model_module": "@jupyter-widgets/base",
      "model_module_version": "1.2.0",
      "model_name": "LayoutModel",
      "state": {}
     },
     "fa7ce5ba9b224fa79900becbcac265e9": {
      "model_module": "@jupyter-widgets/base",
      "model_module_version": "1.2.0",
      "model_name": "LayoutModel",
      "state": {}
     },
     "fb1be53ca418427b9cf3f86889812093": {
      "model_module": "@jupyter-widgets/base",
      "model_module_version": "1.2.0",
      "model_name": "LayoutModel",
      "state": {}
     },
     "fc1371e64ae54d6cbe08e6dd455d0e55": {
      "model_module": "@jupyter-widgets/controls",
      "model_module_version": "1.5.0",
      "model_name": "FloatProgressModel",
      "state": {
       "bar_style": "success",
       "layout": "IPY_MODEL_20f49633a9584fa0b4610869db01ecc9",
       "max": 39265,
       "style": "IPY_MODEL_a39f3b12cdeb46fd8fa87ac2cf061457",
       "value": 39265
      }
     },
     "fde14abeb393409cb968ab9819c6efb4": {
      "model_module": "@jupyter-widgets/controls",
      "model_module_version": "1.5.0",
      "model_name": "DescriptionStyleModel",
      "state": {
       "description_width": ""
      }
     }
    },
    "version_major": 2,
    "version_minor": 0
   }
  }
 },
 "nbformat": 4,
 "nbformat_minor": 5
}
