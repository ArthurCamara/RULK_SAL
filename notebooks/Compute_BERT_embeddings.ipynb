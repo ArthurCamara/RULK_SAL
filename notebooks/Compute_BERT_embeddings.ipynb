{
 "cells": [
  {
   "cell_type": "markdown",
   "id": "d11e405d-28d3-4d7b-b2fc-76e7fe973b25",
   "metadata": {},
   "source": [
    "# Compute Bert Embeddings\n",
    "There will be a lot of BERT embeddings to be computed. It's easier to pre-compute all of them, and them use what we ACTUALLY need."
   ]
  },
  {
   "cell_type": "markdown",
   "id": "c06738c0-39e3-4dd1-868d-bdb24ea4e75a",
   "metadata": {},
   "source": [
    "## Embeddings for Wikipedia pages\n",
    "Wikipedia pages can be too long. So we need a strategy for pooling such long documents.\n",
    "we are using the [`all-mpnet-base-v2`](https://huggingface.co/sentence-transformers/all-mpnet-base-v2) model as base, using a mean pooling strategy from `sentence-transformers` to compute embeddings.\n",
    "\n",
    "Each document is split into sentences, using NLTK. If a sentence is longer than the limit of the model (384 tokens in this case), we truncate it."
   ]
  },
  {
   "cell_type": "code",
   "execution_count": 33,
   "id": "3dd2da9e-3944-4b88-b201-29fdcf7881bc",
   "metadata": {
    "ExecuteTime": {
     "end_time": "2022-06-30T07:34:49.030846Z",
     "start_time": "2022-06-30T07:34:49.021171Z"
    },
    "execution": {
     "iopub.execute_input": "2022-06-30T08:54:03.488228Z",
     "iopub.status.busy": "2022-06-30T08:54:03.487628Z",
     "iopub.status.idle": "2022-06-30T08:54:03.498726Z",
     "shell.execute_reply": "2022-06-30T08:54:03.497275Z",
     "shell.execute_reply.started": "2022-06-30T08:54:03.488143Z"
    },
    "tags": []
   },
   "outputs": [],
   "source": [
    "import itertools\n",
    "import pickle\n",
    "import urllib.parse\n",
    "\n",
    "from collections import defaultdict\n",
    "\n",
    "import numpy as np\n",
    "import torch\n",
    "\n",
    "from nltk.tokenize import sent_tokenize, word_tokenize\n",
    "from scipy.spatial.distance import cdist\n",
    "from sentence_transformers import SentenceTransformer\n",
    "from sklearn.preprocessing import normalize\n",
    "from tqdm.auto import tqdm\n",
    "from transformers import AutoModel, AutoTokenizer\n",
    "from utils import rawcount"
   ]
  },
  {
   "cell_type": "code",
   "execution_count": 29,
   "id": "8ed19b4a-6c17-43a4-9f6e-495b56f637b0",
   "metadata": {
    "ExecuteTime": {
     "end_time": "2022-06-30T07:34:56.266154Z",
     "start_time": "2022-06-30T07:34:49.817470Z"
    },
    "execution": {
     "iopub.execute_input": "2022-06-30T08:53:01.491525Z",
     "iopub.status.busy": "2022-06-30T08:53:01.490959Z",
     "iopub.status.idle": "2022-06-30T08:53:07.787302Z",
     "shell.execute_reply": "2022-06-30T08:53:07.786533Z",
     "shell.execute_reply.started": "2022-06-30T08:53:01.491470Z"
    },
    "tags": []
   },
   "outputs": [],
   "source": [
    "# Prepare model. May take a while without a GPU.\n",
    "device = \"cuda\" if torch.cuda.is_available() else \"cpu\"\n",
    "base_model = \"msmarco-MiniLM-L6-cos-v5\"\n",
    "\n",
    "# These  don't work as well\n",
    "# base_model = \"all-MiniLM-L6-v2\"\n",
    "# base_model = \"all-mpnet-base-v2\"\n",
    "\n",
    "bert_model = SentenceTransformer(base_model, device=device)"
   ]
  },
  {
   "cell_type": "code",
   "execution_count": 3,
   "id": "f81e0aca-2a11-4244-b032-eb265fb58f4c",
   "metadata": {
    "execution": {
     "iopub.execute_input": "2022-06-24T13:55:51.023192Z",
     "iopub.status.busy": "2022-06-24T13:55:51.022503Z",
     "iopub.status.idle": "2022-06-24T13:55:55.146764Z",
     "shell.execute_reply": "2022-06-24T13:55:55.145417Z",
     "shell.execute_reply.started": "2022-06-24T13:55:51.023132Z"
    },
    "tags": []
   },
   "outputs": [],
   "source": [
    "wikipedia_sum = {}\n",
    "wikipedia_mean = {}\n",
    "wikipedia_all = {}\n",
    "wikipedia_trunc = {}\n",
    "\n",
    "wikipedia_sum_norm = {}\n",
    "wikipedia_mean_norm = {}\n",
    "wikipedia_all_norm = {}\n",
    "wikipedia_trunc_norm = {}\n",
    "\n",
    "for l in open(\"../data/wikipedia_texts.tsv\"):\n",
    "    topic_title, text = l.strip().split(\"\\t\", maxsplit=1)\n",
    "    sentences = sent_tokenize(text)\n",
    "    embeddings = bert_model.encode(sentences, normalize_embeddings=False)\n",
    "    embeddings_norm = normalize(embeddings)\n",
    "\n",
    "    wikipedia_trunc[topic_title] = bert_model.encode(text)\n",
    "    wikipedia_trunc_norm[topic_title] = normalize(wikipedia_trunc[topic_title].reshape(1, -1)).flatten()\n",
    "\n",
    "    wikipedia_sum[topic_title] = np.sum(embeddings, axis=0)\n",
    "    wikipedia_mean[topic_title] = np.mean(embeddings, axis=0)\n",
    "\n",
    "    wikipedia_sum_norm[topic_title] = normalize(np.sum(embeddings_norm, axis=0).reshape(1, -1)).flatten()\n",
    "    wikipedia_mean_norm[topic_title] = normalize(np.mean(embeddings_norm, axis=0).reshape(1, -1)).flatten()\n",
    "\n",
    "    wikipedia_all[topic_title] = embeddings\n",
    "    wikipedia_all_norm[topic_title] = embeddings_norm"
   ]
  },
  {
   "cell_type": "code",
   "execution_count": 16,
   "id": "85bade7e-9e93-4915-8314-2738de7a52b0",
   "metadata": {
    "execution": {
     "iopub.execute_input": "2022-06-24T14:40:27.121857Z",
     "iopub.status.busy": "2022-06-24T14:40:27.121316Z",
     "iopub.status.idle": "2022-06-24T14:40:27.142169Z",
     "shell.execute_reply": "2022-06-24T14:40:27.140572Z",
     "shell.execute_reply.started": "2022-06-24T14:40:27.121802Z"
    },
    "tags": []
   },
   "outputs": [],
   "source": [
    "# dump to a pickle file\n",
    "pickle.dump(wikipedia_mean, open(f\"../data/bert_embeddings/{base_model}_wikipedia_mean_embeddings.pkl\", \"wb\"))\n",
    "pickle.dump(wikipedia_sum, open(f\"../data/bert_embeddings/{base_model}_wikipedia_sum_embeddings.pkl\", \"wb\"))\n",
    "pickle.dump(wikipedia_all, open(f\"../data/bert_embeddings/{base_model}_wikipedia_all_embeddings.pkl\", \"wb\"))\n",
    "pickle.dump(wikipedia_trunc, open(f\"../data/bert_embeddings/{base_model}_wikipedia_trunc_embeddings.pkl\", \"wb\"))\n",
    "\n",
    "pickle.dump(wikipedia_mean_norm, open(f\"../data/bert_embeddings/{base_model}_wikipedia_mean_embeddings_norm.pkl\", \"wb\"))\n",
    "pickle.dump(wikipedia_sum_norm, open(f\"../data/bert_embeddings/{base_model}_wikipedia_sum_embeddings_norm.pkl\", \"wb\"))\n",
    "pickle.dump(wikipedia_all_norm, open(f\"../data/bert_embeddings/{base_model}_wikipedia_all_embeddings_norm.pkl\", \"wb\"))\n",
    "pickle.dump(wikipedia_trunc_norm, open(f\"../data/bert_embeddings/{base_model}_wikipedia_trunc_embeddings_norm.pkl\", \"wb\"))"
   ]
  },
  {
   "cell_type": "code",
   "execution_count": 46,
   "id": "2bf58167",
   "metadata": {
    "ExecuteTime": {
     "end_time": "2022-06-30T07:37:06.266806Z",
     "start_time": "2022-06-30T07:37:06.253906Z"
    },
    "execution": {
     "iopub.execute_input": "2022-06-30T09:58:36.893988Z",
     "iopub.status.busy": "2022-06-30T09:58:36.893358Z",
     "iopub.status.idle": "2022-06-30T09:58:36.909525Z",
     "shell.execute_reply": "2022-06-30T09:58:36.908465Z",
     "shell.execute_reply.started": "2022-06-30T09:58:36.893935Z"
    },
    "tags": []
   },
   "outputs": [],
   "source": [
    "# Just load the embeddings....\n",
    "\n",
    "wikipedia_mean = pickle.load(open(f\"../data/bert_embeddings/{base_model}_wikipedia_mean_embeddings.pkl\", \"rb\"))\n",
    "wikipedia_sum = pickle.load(open(f\"../data/bert_embeddings/{base_model}_wikipedia_sum_embeddings.pkl\", \"rb\"))\n",
    "wikipedia_all = pickle.load(open(f\"../data/bert_embeddings/{base_model}_wikipedia_all_embeddings.pkl\", \"rb\"))\n",
    "wikipedia_trunc = pickle.load(open(f\"../data/bert_embeddings/{base_model}_wikipedia_trunc_embeddings.pkl\", \"rb\"))\n",
    "\n",
    "\n",
    "wikipedia_mean_norm = pickle.load(\n",
    "    open(f\"../data/bert_embeddings/{base_model}_wikipedia_mean_embeddings_norm.pkl\", \"rb\")\n",
    ")\n",
    "wikipedia_sum_norm = pickle.load(open(f\"../data/bert_embeddings/{base_model}_wikipedia_sum_embeddings_norm.pkl\", \"rb\"))\n",
    "wikipedia_trunc_norm = pickle.load(\n",
    "    open(f\"../data/bert_embeddings/{base_model}_wikipedia_trunc_embeddings_norm.pkl\", \"rb\")\n",
    ")\n",
    "wikipedia_trunc_norm = pickle.load(\n",
    "    open(f\"../data/bert_embeddings/{base_model}_wikipedia_trunc_embeddings_norm.pkl\", \"rb\")\n",
    ")"
   ]
  },
  {
   "cell_type": "markdown",
   "id": "68a6f522-b024-4648-85f2-2fe7903c11a4",
   "metadata": {},
   "source": [
    "## Embeddings for clicked documents\n",
    "Clicked documents can also be too long. Here we use three different approaches. Pooling (with mean/sum) and a BIRCH-like one, where we only keep the sentence with higher similarity to the \"golden\" ALL of the embeddings, and, when computing similarity, we only keep the one with higher score to the golden  pages can be too long. So we need a strategy for pooling such long documents. We will try the following:\n",
    "\n",
    "- Mean of embeddings vs mean of wikipedia\n",
    "- Sum of embeddings vs mean of wikipedia\n",
    "- Truncate doc at maximum length (384)\n",
    "- BIRCH MaxP all vs all: Keep Best score (max) for each sentence vs each sentence from wikipedia\n",
    "- BIRCH MaxP all vs SUM: Keep Best score (max) for each sentence vs SUM of wikipedia\n",
    "- BIRCH MaxP all vs MEAN: Keep Best score (max) for each sentence vs MEAN of wikipedia\n",
    "\n",
    "we are using the [`msmarco-MiniLM-L6-cos-v5`](https://huggingface.co/sentence-transformers/msmarco-MiniLM-L6-cos-v5) model as base, using a mean pooling strategy from `sentence-transformers` to compute embeddings.\n",
    "\n",
    "Each document is split into sentences, using NLTK. If a sentence is longer than the limit of the model (384 tokens in this case), we truncate it. (does it actually happen?)"
   ]
  },
  {
   "cell_type": "code",
   "execution_count": 52,
   "id": "6f7da809-d4aa-46a9-873d-f800434a4854",
   "metadata": {
    "execution": {
     "iopub.execute_input": "2022-07-03T14:38:40.544549Z",
     "iopub.status.busy": "2022-07-03T14:38:40.543950Z",
     "iopub.status.idle": "2022-07-03T14:38:40.562093Z",
     "shell.execute_reply": "2022-07-03T14:38:40.561245Z",
     "shell.execute_reply.started": "2022-07-03T14:38:40.544492Z"
    },
    "tags": []
   },
   "outputs": [
    {
     "data": {
      "text/plain": [
       "SentenceTransformer(\n",
       "  (0): Transformer({'max_seq_length': 384, 'do_lower_case': False}) with Transformer model: BertModel \n",
       "  (1): Pooling({'word_embedding_dimension': 384, 'pooling_mode_cls_token': False, 'pooling_mode_mean_tokens': True, 'pooling_mode_max_tokens': False, 'pooling_mode_mean_sqrt_len_tokens': False})\n",
       "  (2): Normalize()\n",
       ")"
      ]
     },
     "execution_count": 52,
     "metadata": {},
     "output_type": "execute_result"
    }
   ],
   "source": [
    "bert_model"
   ]
  },
  {
   "cell_type": "code",
   "execution_count": 47,
   "id": "24f99f01-851c-4165-a74b-cc86f2fb5d47",
   "metadata": {
    "execution": {
     "iopub.execute_input": "2022-06-30T09:58:50.470527Z",
     "iopub.status.busy": "2022-06-30T09:58:50.469910Z",
     "iopub.status.idle": "2022-06-30T09:59:51.712097Z",
     "shell.execute_reply": "2022-06-30T09:59:51.710790Z",
     "shell.execute_reply.started": "2022-06-30T09:58:50.470470Z"
    },
    "tags": []
   },
   "outputs": [
    {
     "data": {
      "application/vnd.jupyter.widget-view+json": {
       "model_id": "e4d287a09ae24f5a91bbc29bb71d427e",
       "version_major": 2,
       "version_minor": 0
      },
      "text/plain": [
       "  0%|          | 0/1074 [00:00<?, ?it/s]"
      ]
     },
     "metadata": {},
     "output_type": "display_data"
    }
   ],
   "source": [
    "docs_sum = {}\n",
    "docs_mean = {}\n",
    "docs_trunc = {}\n",
    "\n",
    "docs_sum_norm = {}\n",
    "docs_mean_norm = {}\n",
    "docs_trunc_norm = {}\n",
    "\n",
    "docs_file = \"../data/clicked_docs.tsv\"\n",
    "\n",
    "for line in tqdm(open(docs_file), total=rawcount(docs_file)):\n",
    "    url, text = line.strip().split(\"\\t\", maxsplit=1)\n",
    "    sentences = sent_tokenize(text)\n",
    "\n",
    "    embeddings = bert_model.encode(sentences, normalize_embeddings=False)\n",
    "    embeddings_norm = normalize(embeddings)\n",
    "\n",
    "    # docs_trunc[url] = bert_model.encode(text, normalize_embeddings=False)\n",
    "    # docs_trunc_norm[url] = normalize(docs_trunc[url].reshape(1, -1)).flatten()\n",
    "\n",
    "    docs_sum[url] = np.sum(embeddings, axis=0)\n",
    "    docs_mean[url] = np.mean(embeddings, axis=0)\n",
    "\n",
    "    docs_sum_norm[url] = normalize(np.sum(embeddings, axis=0).reshape(1, -1)).flatten()\n",
    "    docs_mean_norm[url] = normalize(np.mean(embeddings, axis=0).reshape(1, -1)).flatten()"
   ]
  },
  {
   "cell_type": "code",
   "execution_count": 48,
   "id": "87a7f3f3-a886-4c16-b7fd-6617a582f02f",
   "metadata": {
    "execution": {
     "iopub.execute_input": "2022-06-30T09:59:51.714793Z",
     "iopub.status.busy": "2022-06-30T09:59:51.714480Z",
     "iopub.status.idle": "2022-06-30T09:59:51.760901Z",
     "shell.execute_reply": "2022-06-30T09:59:51.759966Z",
     "shell.execute_reply.started": "2022-06-30T09:59:51.714760Z"
    },
    "tags": []
   },
   "outputs": [],
   "source": [
    "pickle.dump(docs_mean, open(f\"../data/bert_embeddings/{base_model}_docs_mean_embeddings.pkl\", \"wb\"))\n",
    "pickle.dump(docs_sum, open(f\"../data/bert_embeddings/{base_model}_docs_sum_embeddings.pkl\", \"wb\"))\n",
    "pickle.dump(docs_trunc, open(f\"../data/bert_embeddings/{base_model}_docs_trunc_embeddings.pkl\", \"wb\"))\n",
    "\n",
    "pickle.dump(docs_mean_norm, open(f\"../data/bert_embeddings/{base_model}_docs_mean_embeddings_norm.pkl\", \"wb\"))\n",
    "pickle.dump(docs_sum_norm, open(f\"../data/bert_embeddings/{base_model}_docs_sum_embeddings_norm.pkl\", \"wb\"))\n",
    "pickle.dump(docs_trunc_norm, open(f\"../data/bert_embeddings/{base_model}_docs_trunc_embeddings_norm.pkl\", \"wb\"))"
   ]
  },
  {
   "cell_type": "code",
   "execution_count": null,
   "id": "08355af9-0f43-4942-bfcb-f01edf73ead3",
   "metadata": {},
   "outputs": [],
   "source": []
  }
 ],
 "metadata": {
  "kernelspec": {
   "display_name": "DESIRES",
   "language": "python",
   "name": "desires"
  },
  "language_info": {
   "codemirror_mode": {
    "name": "ipython",
    "version": 3
   },
   "file_extension": ".py",
   "mimetype": "text/x-python",
   "name": "python",
   "nbconvert_exporter": "python",
   "pygments_lexer": "ipython3",
   "version": "3.9.10"
  },
  "toc": {
   "base_numbering": 1,
   "nav_menu": {},
   "number_sections": true,
   "sideBar": true,
   "skip_h1_title": false,
   "title_cell": "Table of Contents",
   "title_sidebar": "Contents",
   "toc_cell": false,
   "toc_position": {},
   "toc_section_display": true,
   "toc_window_display": false
  },
  "widgets": {
   "application/vnd.jupyter.widget-state+json": {
    "state": {
     "0b217a5ac9dc4622b99373240079e5aa": {
      "model_module": "@jupyter-widgets/controls",
      "model_module_version": "1.5.0",
      "model_name": "FloatProgressModel",
      "state": {
       "bar_style": "success",
       "layout": "IPY_MODEL_100cf0c54e7d4c6490afaf67a65a5da4",
       "max": 1137,
       "style": "IPY_MODEL_c38af362e0e34292a160c24239b67ddd",
       "value": 1137
      }
     },
     "100cf0c54e7d4c6490afaf67a65a5da4": {
      "model_module": "@jupyter-widgets/base",
      "model_module_version": "1.2.0",
      "model_name": "LayoutModel",
      "state": {}
     },
     "2452707ba93240b4bbac1e0f2eeace62": {
      "model_module": "@jupyter-widgets/base",
      "model_module_version": "1.2.0",
      "model_name": "LayoutModel",
      "state": {}
     },
     "30fbbaab89b7493b9e7cf9e1e9b777dd": {
      "model_module": "@jupyter-widgets/controls",
      "model_module_version": "1.5.0",
      "model_name": "HTMLModel",
      "state": {
       "layout": "IPY_MODEL_2452707ba93240b4bbac1e0f2eeace62",
       "style": "IPY_MODEL_7cf376a719fe42eeaa888058f64efd73",
       "value": " 1137/1137 [01:03&lt;00:00, 12.35it/s]"
      }
     },
     "605070b476d54ef5b6ba53ab726a9ad7": {
      "model_module": "@jupyter-widgets/controls",
      "model_module_version": "1.5.0",
      "model_name": "HBoxModel",
      "state": {
       "children": [
        "IPY_MODEL_f18e315cd85a43649f129d7a07f087b8",
        "IPY_MODEL_0b217a5ac9dc4622b99373240079e5aa",
        "IPY_MODEL_30fbbaab89b7493b9e7cf9e1e9b777dd"
       ],
       "layout": "IPY_MODEL_f0ff15a62197477aabcd01dffaaf822b"
      }
     },
     "7cf376a719fe42eeaa888058f64efd73": {
      "model_module": "@jupyter-widgets/controls",
      "model_module_version": "1.5.0",
      "model_name": "DescriptionStyleModel",
      "state": {
       "description_width": ""
      }
     },
     "895d8db019e142a9b7e635118d7a210c": {
      "model_module": "@jupyter-widgets/controls",
      "model_module_version": "1.5.0",
      "model_name": "DescriptionStyleModel",
      "state": {
       "description_width": ""
      }
     },
     "98f1239b4a6c4c3592ab69f7ef448477": {
      "model_module": "@jupyter-widgets/base",
      "model_module_version": "1.2.0",
      "model_name": "LayoutModel",
      "state": {}
     },
     "c38af362e0e34292a160c24239b67ddd": {
      "model_module": "@jupyter-widgets/controls",
      "model_module_version": "1.5.0",
      "model_name": "ProgressStyleModel",
      "state": {
       "description_width": ""
      }
     },
     "f0ff15a62197477aabcd01dffaaf822b": {
      "model_module": "@jupyter-widgets/base",
      "model_module_version": "1.2.0",
      "model_name": "LayoutModel",
      "state": {}
     },
     "f18e315cd85a43649f129d7a07f087b8": {
      "model_module": "@jupyter-widgets/controls",
      "model_module_version": "1.5.0",
      "model_name": "HTMLModel",
      "state": {
       "layout": "IPY_MODEL_98f1239b4a6c4c3592ab69f7ef448477",
       "style": "IPY_MODEL_895d8db019e142a9b7e635118d7a210c",
       "value": "100%"
      }
     }
    },
    "version_major": 2,
    "version_minor": 0
   }
  }
 },
 "nbformat": 4,
 "nbformat_minor": 5
}
