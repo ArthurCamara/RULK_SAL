{
 "cells": [
  {
   "cell_type": "code",
   "execution_count": 44,
   "id": "b760821b-e312-4e67-be74-266b1724d9bf",
   "metadata": {
    "execution": {
     "iopub.execute_input": "2022-06-30T08:03:12.223847Z",
     "iopub.status.busy": "2022-06-30T08:03:12.223163Z",
     "iopub.status.idle": "2022-06-30T08:03:12.296774Z",
     "shell.execute_reply": "2022-06-30T08:03:12.295777Z",
     "shell.execute_reply.started": "2022-06-30T08:03:12.223763Z"
    },
    "tags": []
   },
   "outputs": [],
   "source": [
    "import codecs\n",
    "import os\n",
    "import pickle\n",
    "\n",
    "from tqdm.auto import tqdm\n",
    "from utils import g_path, rawcount"
   ]
  },
  {
   "cell_type": "code",
   "execution_count": 254,
   "id": "8a3d24f0-e0e2-4023-9019-6afe02cbdb44",
   "metadata": {
    "execution": {
     "iopub.execute_input": "2022-06-30T08:51:17.245901Z",
     "iopub.status.busy": "2022-06-30T08:51:17.245247Z",
     "iopub.status.idle": "2022-06-30T08:51:17.373672Z",
     "shell.execute_reply": "2022-06-30T08:51:17.372752Z",
     "shell.execute_reply.started": "2022-06-30T08:51:17.245842Z"
    },
    "tags": []
   },
   "outputs": [
    {
     "name": "stdout",
     "output_type": "stream",
     "text": [
      "set()\n",
      "{'https://www.telegraph.co.uk/finance/2815755/Timeline-The-sub-prime-mortgage-crisis.html', 'https://www.businesscycle.com/', 'https://www.ethics.net/', 'https://shop.grossdomesticproduct.com/'}\n"
     ]
    }
   ],
   "source": [
    "# Is this file clean? Yes. What is missing from the clean file then?\n",
    "\n",
    "texts_in_plain = {}\n",
    "texts_in_clean = {}\n",
    "\n",
    "for l in open(\"../data/clicked_docs.tsv\", encoding=\"utf-8\"):\n",
    "    url = (l.strip().split(\"\\t\", maxsplit=1))[0].strip()\n",
    "    try:\n",
    "        text = (l.strip().split(\"\\t\", maxsplit=1))[1].strip()\n",
    "    except:\n",
    "        continue\n",
    "    texts_in_plain[url] = text\n",
    "\n",
    "for l in open(\"../data/clicked_docs_clean.tsv\", encoding=\"utf-8\"):\n",
    "    url = (l.strip().split(\"\\t\", maxsplit=1))[0].strip()\n",
    "    try:\n",
    "        text = (l.strip().split(\"\\t\", maxsplit=1))[1].strip()\n",
    "    except:\n",
    "        continue\n",
    "    texts_in_clean[url] = text\n",
    "\n",
    "docs_in_plain = set(texts_in_plain)\n",
    "docs_in_clean = set(texts_in_clean)\n",
    "\n",
    "missing_docs = docs_in_plain.difference(docs_in_clean)\n",
    "print(missing_docs)\n",
    "\n",
    "# opposite? YUP.\n",
    "missing_docs = docs_in_clean.difference(docs_in_plain)\n",
    "print(missing_docs)\n",
    "\n",
    "all_doc_ids = docs_in_clean.union(docs_in_plain)\n",
    "both = docs_in_clean.intersection(docs_in_plain)"
   ]
  },
  {
   "cell_type": "code",
   "execution_count": 255,
   "id": "d7217040-d039-4289-b0ae-c7dce91c5c82",
   "metadata": {
    "execution": {
     "iopub.execute_input": "2022-06-30T08:51:21.643936Z",
     "iopub.status.busy": "2022-06-30T08:51:21.643358Z",
     "iopub.status.idle": "2022-06-30T08:51:21.657279Z",
     "shell.execute_reply": "2022-06-30T08:51:21.656427Z",
     "shell.execute_reply.started": "2022-06-30T08:51:21.643878Z"
    },
    "tags": []
   },
   "outputs": [],
   "source": [
    "prefer_clean = {\n",
    "    \"https://www.amboss.com/us/knowledge/Hearing_loss\",\n",
    "    \"https://www.medicaleconomics.com/medical\",\n",
    "    \"https://ethics.sc.gov/\",\n",
    "    \"https://worldview.stratfor.com/article/global-market-brief-subprime-crisis-goes-europe\",\n",
    "    \"https://commons.wikimedia.org/wiki/Category:Business_cycle\"\n",
    "}\n",
    "prefer_plain = {\n",
    "    \"https://www.webmd.com/ibs/guide/irritable-bowel-syndrome-treatment-care\",\n",
    "    \"https://www.dictionary.com/browse/biogenetic\",\n",
    "    \"https://www.starkey.com/blog/articles/2016/12/tinnitus-tied-to-hearing-loss\",\n",
    "    \"https://www.businesscycle.com/ecri-news-events/news\",\n",
    "    \"https://www.dictionary.com/browse/ethic\",\n",
    "    \"https://www.health.harvard.edu/newsletter_article/Noise-induced_hearing_loss\",\n",
    "    \"https://www.nhs.uk/conditions/irritable-bowel-syndrome-ibs/symptoms/\",\n",
    "    \"https://www.mdpi.com/1660-4601/17/4/1201/htm\",\n",
    "    \"http://www.moentcenter.com/library/4036/Noise-InducedHearingLossInChildren.html\",\n",
    "    \"https://ethicsunwrapped.utexas.edu/glossary\",\n",
    "    \"https://www.webmd.com/ibs/guide/irritable-bowel-syndrome-symptoms-types\",\n",
    "    \"https://www.khanacademy.org/economics-finance-domain/macroeconomics\",\n",
    "    \"https://www.dictionary.com/browse/gastroenterology\",\n",
    "    \"https://www.thoughtco.com/phases-of-the-business-cycle-1146345\",\n",
    "    \"https://www.learnreligions.com/virtue-ethics-morality-and-character-249866\",\n",
    "    \"https://www.webmd.com/ibs/qa/what-triggers-irritable-bowel-syndrome\",\n",
    "    \"https://www.economywatch.com/us-subprime/impact-europe.html\",\n",
    "    \"https://study.com/academy/practice/quiz-worksheet-the-business-cycle-in-economics.html\",\n",
    "    \"https://en.wiktionary.org/wiki/gastroenterology\",\n",
    "    \"http://www.nationalacademies.org/hmd/Activities/Veterans/MilitaryHearingLoss.aspx\",\n",
    "    \"https://www.wikem.org/wiki/Irritable_bowel_syndrome\",\n",
    "    \"https://megsmenopause.com/2020/01/29/ibs/\",\n",
    "    \"https://www.amazon.com/Austrian-School-Business-Cycle-Theory/dp/131222827X\",\n",
    "    \"https://www.uptodate.com/contents/etiology-of-hearing-loss-in-adults#!\",\n",
    "    \"https://www.managedcaremag.com/archives/2016/2/economic-evaluation-linaclotide-treatment-adult-patients-chronic-idiopathic\",\n",
    "    \"https://www.merriam-webster.com/dictionary/metaethics\"\n",
    "\n",
    "}\n",
    "prefer_clean_domains = {x.split(\"/\")[2] for x in prefer_clean}\n",
    "prefer_plain_domains = {x.split(\"/\")[2] for x in prefer_plain}"
   ]
  },
  {
   "cell_type": "code",
   "execution_count": 258,
   "id": "ff2846a3-5fea-412e-a88b-3d4d785a09d6",
   "metadata": {
    "execution": {
     "iopub.execute_input": "2022-06-30T08:52:51.733450Z",
     "iopub.status.busy": "2022-06-30T08:52:51.732782Z",
     "iopub.status.idle": "2022-06-30T08:52:51.963058Z",
     "shell.execute_reply": "2022-06-30T08:52:51.962162Z",
     "shell.execute_reply.started": "2022-06-30T08:52:51.733390Z"
    },
    "tags": []
   },
   "outputs": [
    {
     "data": {
      "application/vnd.jupyter.widget-view+json": {
       "model_id": "0dda500a34bf4fdea1248e0b87960b3d",
       "version_major": 2,
       "version_minor": 0
      },
      "text/plain": [
       "  0%|          | 0/1074 [00:00<?, ?it/s]"
      ]
     },
     "metadata": {},
     "output_type": "display_data"
    },
    {
     "name": "stderr",
     "output_type": "stream",
     "text": [
      "/tmp/ipykernel_4062838/2431515496.py:3: DeprecationWarning: invalid escape sequence '\\Ë'\n",
      "  return codecs.escape_decode(text)[0].decode(\"utf-8\")\n",
      "/tmp/ipykernel_4062838/2431515496.py:3: DeprecationWarning: invalid escape sequence '\\p'\n",
      "  return codecs.escape_decode(text)[0].decode(\"utf-8\")\n",
      "/tmp/ipykernel_4062838/2431515496.py:3: DeprecationWarning: invalid escape sequence '\\ '\n",
      "  return codecs.escape_decode(text)[0].decode(\"utf-8\")\n"
     ]
    }
   ],
   "source": [
    "def clean_messed_up_utf_text(text):\n",
    "    text = text.replace(\"\\m\", \"m\").replace(\"\\l\", \"l\").replace(\"\\,\", \",\").replace(\"\\c\", \"c\").replace(\"\\e\", \"e\").replace(\"\\i\", \"i\").replace(\"\\d\", \"d\").replace(\"\\M\", \"M\").replace(\"\\s\", \"s\")\n",
    "    return codecs.escape_decode(text)[0].decode(\"utf-8\")\n",
    "\n",
    "\n",
    "merged_texts = {}\n",
    "different = set()\n",
    "for idx, u in tqdm(enumerate(all_doc_ids), total=len(all_doc_ids)):\n",
    "    if u in both and texts_in_plain[u].strip() != texts_in_clean[u].strip():\n",
    "        domain = u.split(\"/\")[2]\n",
    "        if u in prefer_clean or domain in prefer_clean_domains:\n",
    "            merged_texts[u] = clean_messed_up_utf_text(texts_in_clean[u])\n",
    "            continue\n",
    "        elif u in prefer_plain or domain in prefer_plain_domains:\n",
    "            merged_texts[u] = clean_messed_up_utf_text(texts_in_plain[u])\n",
    "            continue\n",
    "        print(u)\n",
    "        print(\"clean version:\")\n",
    "        print(clean_messed_up_utf_text(texts_in_clean[u]))\n",
    "        print()\n",
    "        print()\n",
    "        print(\"plain version:\")\n",
    "        print(clean_messed_up_utf_text(texts_in_plain[u]))\n",
    "        print(\"*********************************************************\")\n",
    "        break\n",
    "    elif u in texts_in_clean:\n",
    "        merged_texts[u] = clean_messed_up_utf_text(texts_in_clean[u])\n",
    "    elif u in texts_in_plain:\n",
    "        merged_texts[u] = clean_messed_up_utf_text(texts_in_plain[u])"
   ]
  },
  {
   "cell_type": "code",
   "execution_count": 262,
   "id": "7c4dd98b-5e02-4702-ab0a-40c95826aada",
   "metadata": {
    "execution": {
     "iopub.execute_input": "2022-06-30T08:56:55.198230Z",
     "iopub.status.busy": "2022-06-30T08:56:55.197656Z",
     "iopub.status.idle": "2022-06-30T08:56:55.273712Z",
     "shell.execute_reply": "2022-06-30T08:56:55.272244Z",
     "shell.execute_reply.started": "2022-06-30T08:56:55.198172Z"
    },
    "tags": []
   },
   "outputs": [],
   "source": [
    "with open(\"../data/merged_texts.tsv\", 'w') as outf:\n",
    "    for u in merged_texts:\n",
    "        final_text = merged_texts[u].replace(\"\\n\", \" \").strip()\n",
    "        if \"\\n\" in final_text:\n",
    "            print(\"oops\")\n",
    "        outf.write(f\"{u}\\t{final_text}\\n\")\n",
    "assert rawcount(\"../data/merged_texts.tsv\") == len(metg"
   ]
  },
  {
   "cell_type": "code",
   "execution_count": null,
   "id": "19e55d7a-4c7f-4c27-a32c-394f8135926f",
   "metadata": {},
   "outputs": [],
   "source": []
  }
 ],
 "metadata": {
  "kernelspec": {
   "display_name": "DESIRES",
   "language": "python",
   "name": "desires"
  },
  "language_info": {
   "codemirror_mode": {
    "name": "ipython",
    "version": 3
   },
   "file_extension": ".py",
   "mimetype": "text/x-python",
   "name": "python",
   "nbconvert_exporter": "python",
   "pygments_lexer": "ipython3",
   "version": "3.9.10"
  }
 },
 "nbformat": 4,
 "nbformat_minor": 5
}
