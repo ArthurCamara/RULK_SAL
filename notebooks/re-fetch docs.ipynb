{
 "cells": [
  {
   "cell_type": "markdown",
   "id": "ae01dd2f-412b-4dc2-a6e9-f152e325b29e",
   "metadata": {},
   "source": [
    "Try to fetch missing documents"
   ]
  },
  {
   "cell_type": "code",
   "execution_count": null,
   "id": "9ecd6abe-9d38-4fe2-ba85-e9cf59044fb5",
   "metadata": {},
   "outputs": [],
   "source": [
    "import requests\n",
    "\n",
    "responses = {}\n",
    "\n",
    "\n",
    "def try_fetching_again(URL):\n",
    "    pass\n",
    "\n",
    "\n",
    "def try_fetching_past(URL):\n",
    "    wayback_endpoint = f\"http://archive.org/wayback/available?url={URL}\"\n",
    "    response = requests.get(wayback_endpoint).json()\n",
    "    if len(response[\"archived_snapshots\"]) == 0:\n",
    "        raise LookupError(\"URL not archived by WayBack machine\")\n",
    "    return response\n",
    "\n",
    "\n",
    "for url in tqdm(empty_docs):\n",
    "    try:\n",
    "        responses[url] = try_fetching_past(url)\n",
    "    except LookupError:\n",
    "        print(url)"
   ]
  },
  {
   "cell_type": "code",
   "execution_count": null,
   "id": "a48bd1e2-0c1b-4caa-8575-b2a1bc9eabb0",
   "metadata": {},
   "outputs": [],
   "source": [
    "for url, r in responses.items():\n",
    "    if len(r[\"archived_snapshots\"]) == 0:\n",
    "        print(f\"Not archived by WayBack machine: {url}\")\n",
    "        continue\n",
    "    if len(r[\"archived_snapshots\"]) > 1:\n",
    "        print(r[\"archived_snapshots\"])\n",
    "    # print(url, len(r['archived_snapshots']))"
   ]
  }
 ],
 "metadata": {
  "kernelspec": {
   "display_name": "DESIRES",
   "language": "python",
   "name": "desires"
  },
  "language_info": {
   "codemirror_mode": {
    "name": "ipython",
    "version": 3
   },
   "file_extension": ".py",
   "mimetype": "text/x-python",
   "name": "python",
   "nbconvert_exporter": "python",
   "pygments_lexer": "ipython3",
   "version": "3.9.5"
  },
  "widgets": {
   "application/vnd.jupyter.widget-state+json": {
    "state": {},
    "version_major": 2,
    "version_minor": 0
   }
  }
 },
 "nbformat": 4,
 "nbformat_minor": 5
}
